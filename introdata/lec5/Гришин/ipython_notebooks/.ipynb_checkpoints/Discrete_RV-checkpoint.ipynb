{
 "cells": [
  {
   "cell_type": "code",
   "execution_count": 1,
   "metadata": {
    "collapsed": false
   },
   "outputs": [],
   "source": [
    "%matplotlib inline"
   ]
  },
  {
   "cell_type": "code",
   "execution_count": 6,
   "metadata": {
    "collapsed": false
   },
   "outputs": [],
   "source": [
    "import numpy as np\n",
    "import scipy.stats as stats\n",
    "import matplotlib.pyplot as plt\n",
    "from common import plot_drv\n",
    "plt.style.use('ggplot')"
   ]
  },
  {
   "cell_type": "markdown",
   "metadata": {},
   "source": [
    "## Дискретные СВ"
   ]
  },
  {
   "cell_type": "markdown",
   "metadata": {},
   "source": [
    "### Распределение Бернулли"
   ]
  },
  {
   "cell_type": "markdown",
   "metadata": {},
   "source": [
    "Простое распределение - имеем всего 2 типа значений - **{0, 1}**. **1** трактуется как \"успех\" с вероятностью **p**, **0** - как \"неудача\" с вероятностью **q**."
   ]
  },
  {
   "cell_type": "markdown",
   "metadata": {},
   "source": [
    "$$\n",
    "F(x) = \\begin{cases}\n",
    "0,& \\text{для } x < 0\\\\\n",
    "1-p,              & \\text{для } 0 \\leq x < 1\\\\ \n",
    "1,                & \\text{для } x \\geq 1\n",
    "\\end{cases}\n",
    "$$"
   ]
  },
  {
   "cell_type": "markdown",
   "metadata": {},
   "source": [
    "$$\n",
    "p(x) = \\begin{cases}\n",
    "    1-p,& \\text{для } x = 0\\\\\n",
    "    p,                & \\text{для } x=1\n",
    "\\end{cases}\n",
    "$$"
   ]
  },
  {
   "cell_type": "markdown",
   "metadata": {},
   "source": [
    "$$ \n",
    "E( \\,X) = p \\\\\n",
    "V( \\,X) = p(1-p)=pq \n",
    "$$"
   ]
  },
  {
   "cell_type": "code",
   "execution_count": 3,
   "metadata": {
    "collapsed": true
   },
   "outputs": [],
   "source": [
    "p = 0.4 # вероятность успеха\n",
    "x = np.arange(0,2) # носитель F(x)"
   ]
  },
  {
   "cell_type": "code",
   "execution_count": 7,
   "metadata": {
    "collapsed": false
   },
   "outputs": [
    {
     "data": {
      "image/png": "[encoded data removed]",
      "text/plain": [
       "<matplotlib.figure.Figure at 0x1102dfe90>"
      ]
     },
     "metadata": {},
     "output_type": "display_data"
    }
   ],
   "source": [
    "plot_drv('Bernoulli', x, stats.bernoulli.cdf(x, p), stats.bernoulli.pmf(x, p))"
   ]
  },
  {
   "cell_type": "markdown",
   "metadata": {},
   "source": [
    "**Пример:**\n",
    "* Орел и решка. Для честной монеты - p = q = 0.5. \n",
    "* Выход из строя работающего сервера. Мы все надеемся, что q будет очень небольшой."
   ]
  },
  {
   "cell_type": "markdown",
   "metadata": {},
   "source": [
    "### Биномиальное распределение"
   ]
  },
  {
   "cell_type": "markdown",
   "metadata": {},
   "source": [
    "Описывает последовательность испытаний Бернулли. Всего испытаний n. Случайная величина является числом успехов k в серии из n испытаний."
   ]
  },
  {
   "cell_type": "markdown",
   "metadata": {},
   "source": [
    "$$\n",
    "F(x) = \\sum_{k=0}^{x} {\\frac {n!} {(n-k)!k!} p^k (1-p)^{n-k}}\n",
    "$$"
   ]
  },
  {
   "cell_type": "markdown",
   "metadata": {},
   "source": [
    "$$\n",
    "p(x) = \\frac {n!} {(n-x)!x!} p^x (1-p)^{n-x}\n",
    "$$"
   ]
  },
  {
   "cell_type": "markdown",
   "metadata": {},
   "source": [
    "$$ \n",
    "E( \\,X) = np \\\\\n",
    "V( \\,X) = npq \n",
    "$$"
   ]
  },
  {
   "cell_type": "code",
   "execution_count": 7,
   "metadata": {
    "collapsed": false
   },
   "outputs": [],
   "source": [
    "p = 0.3\n",
    "n = 20\n",
    "x = np.arange(stats.binom.ppf(0.01, n, p), stats.binom.ppf(0.99, n, p)) # персентили"
   ]
  },
  {
   "cell_type": "code",
   "execution_count": 8,
   "metadata": {
    "collapsed": false
   },
   "outputs": [
    {
     "data": {
      "image/png": "[encoded data removed]",
      "text/plain": [
       "<matplotlib.figure.Figure at 0x111122090>"
      ]
     },
     "metadata": {},
     "output_type": "display_data"
    }
   ],
   "source": [
    "plot_drv('Binomial', x, stats.binom.cdf(x, n, p), stats.binom.pmf(x, n, p))"
   ]
  },
  {
   "cell_type": "markdown",
   "metadata": {},
   "source": [
    "**Пример:**\n",
    "* Парк серверов. Если рассматривать выход одного отдельного сервера из строя как испытание Бернулли, то состояние парка серверов можно описать с помощью Биномиального распределения.\n",
    "* Передача информации. Допустим, мы передаем сигнал через \"шумный\" канал и каждый бит \"переворачивается\" (т.е. 0 меняется на 1, 1 меняется на 0) с вероятностью p. Для борьбы с \"шумом\" каждый бит передается n раз (n - четное). При приема сигнала декодер выбирает то значение, за которое \"проголосовало\" большинство. Тогда можем представить число ошибочных бит как Биномиальную СВ, с параметрами p = вероятность ошибки, n - число испытаний."
   ]
  },
  {
   "cell_type": "markdown",
   "metadata": {},
   "source": [
    "### Мультиномиальное распределение"
   ]
  },
  {
   "cell_type": "markdown",
   "metadata": {
    "collapsed": true
   },
   "source": [
    "Теперь рассмотрим более общий случай. Допустим, что СВ может принимать не только значения 0 и 1, а одно из $k$ возможных значений в серии из $n$ испытаний. Каждое из значений может быть принято с вероятностью $p_1, ..., p_k$ (Разумеется, $\\sum_{i=1}^{k}{p_i} = 1$)."
   ]
  },
  {
   "cell_type": "markdown",
   "metadata": {},
   "source": [
    "Тогда, можем неформально определить случайный вектор $\\mathbf{x} = (x_1, ... , x_k)$ и соответствующий ему вектор $\\mathbf{p} = (p_1, ... , p_k)$. Имея серию из n испытаний получим (если $\\sum_{i=1}^{k}{x_i} = n$ и $0$ в противном случае):\n",
    "$$ p(\\mathbf{x}, \\mathbf{p}, n) = \\frac{n!}{x_k!...x_k!} p_1^{x_1}...p_k^{x_k}$$\n"
   ]
  },
  {
   "cell_type": "markdown",
   "metadata": {},
   "source": [
    "$$ E(\\mathbf{X}) = n \\, \\mathbf{p} $$\n",
    "$$ V (\\mathbf{X}) = n \\, diag(\\mathbf{p}) \\, \\mathbf{p}\\mathbf{p}^{\\mathbf{T}}$$"
   ]
  },
  {
   "cell_type": "markdown",
   "metadata": {},
   "source": [
    "**Вопрос:** Какому закону подчиняется распределения каждого из исходов $x_i$ в отдельности?"
   ]
  },
  {
   "cell_type": "markdown",
   "metadata": {},
   "source": [
    "### Распределение Пуассона"
   ]
  },
  {
   "cell_type": "markdown",
   "metadata": {},
   "source": [
    "Будем рассматривать некоторый интервал времени, в течение которого могут произойти интересующие нас события. Событие происходит с частотой $\\lambda$. Событие может произойти $0$ и более раз. Каждое событие происходит независимо от всех остальных, с постоянной частотой, при этом в один момент времени может произойти только одно событие."
   ]
  },
  {
   "cell_type": "markdown",
   "metadata": {},
   "source": [
    "$$ p(x) = \\frac{\\lambda \\mathrm{e}^{-\\lambda}}{x!}$$"
   ]
  },
  {
   "cell_type": "markdown",
   "metadata": {},
   "source": [
    "$$ E(X) = \\lambda $$\n",
    "$$ V(X) = \\lambda $$"
   ]
  },
  {
   "cell_type": "code",
   "execution_count": 9,
   "metadata": {
    "collapsed": false
   },
   "outputs": [],
   "source": [
    "mu = 5\n",
    "x = np.arange(stats.poisson.ppf(0.01, mu), stats.poisson.ppf(0.99, mu))"
   ]
  },
  {
   "cell_type": "code",
   "execution_count": 12,
   "metadata": {
    "collapsed": false
   },
   "outputs": [
    {
     "data": {
      "image/png": "[encoded data removed]",
      "text/plain": [
       "<matplotlib.figure.Figure at 0x108361610>"
      ]
     },
     "metadata": {},
     "output_type": "display_data"
    }
   ],
   "source": [
    "plot_drv('Poisson', x, stats.poisson.cdf(x, mu), stats.poisson.pmf(x ,mu))"
   ]
  },
  {
   "cell_type": "markdown",
   "metadata": {},
   "source": [
    "**Пример:**\n",
    "* Закон редких событий. Для \"редкого\" ($p << 1$) события в серии из $n$ испытаний, где $n$, напротив, велико, биномиальное распределение $X$ приближается распределением Пуассона с параметром $\\lambda = np$;\n",
    "* Модели сетевого трафика. Число источников достаточно велико, поэтому можно считать их независмыми. Общее число обращений к серверу описывается распделением Пуассона (пример: http://www.cse.wustl.edu/~jain/cse567-06/ftp/traffic_models3.pdf) "
   ]
  },
  {
   "cell_type": "markdown",
   "metadata": {},
   "source": [
    "### Распределение Ципфа"
   ]
  },
  {
   "cell_type": "markdown",
   "metadata": {},
   "source": [
    "Известное эмпичрическое правило, которое приняло вид закона распределения в математической статистике. Был открыт лингвистом Дж. Ципфом. Неформально, выразить его можно так: \"Частота слова обратно пропорциональна рангу слова по частоте - т.е. самое часто число встречается в 2 раза чаще, чем второе по рангу итд.\""
   ]
  },
  {
   "cell_type": "markdown",
   "metadata": {},
   "source": [
    "Формально, $N$ - общее число элементов, $k$ - ранг элемента среди популяции. Тогда, фунция вероятности:"
   ]
  },
  {
   "cell_type": "markdown",
   "metadata": {},
   "source": [
    "$$ p(x) = \\frac{1}{x^{\\alpha}\\sum_{i=1}^{n} {H(\\alpha, n)}}, $$\n",
    "\n",
    "$$ H(\\alpha, n) = \\sum_{i=1}^{n} \\frac{1}{i^{\\alpha}}, $$\n",
    "\n",
    "$$ F(x) = \\frac{H(\\alpha, x)}{H(\\alpha, n)}.$$"
   ]
  },
  {
   "cell_type": "markdown",
   "metadata": {},
   "source": [
    "**Пример:**\n",
    "* Распределения веб-страниц по посещаемости. Много страниц с небольшим числом посещений, мало - с очень большим;\n",
    "* Распределение слов в языке - немного очень часто встречающихся, много относительно редких."
   ]
  },
  {
   "cell_type": "markdown",
   "metadata": {},
   "source": [
    "## Дополнительное задание"
   ]
  },
  {
   "cell_type": "markdown",
   "metadata": {},
   "source": [
    "Изучить дискретные ДСВ из scipy.stats:\n",
    "http://docs.scipy.org/doc/scipy/reference/stats.html"
   ]
  },
  {
   "cell_type": "code",
   "execution_count": null,
   "metadata": {
    "collapsed": true
   },
   "outputs": [],
   "source": []
  }
 ],
 "metadata": {
  "kernelspec": {
   "display_name": "Python 2",
   "language": "python",
   "name": "python2"
  },
  "language_info": {
   "codemirror_mode": {
    "name": "ipython",
    "version": 2
   },
   "file_extension": ".py",
   "mimetype": "text/x-python",
   "name": "python",
   "nbconvert_exporter": "python",
   "pygments_lexer": "ipython2",
   "version": "2.7.10"
  }
 },
 "nbformat": 4,
 "nbformat_minor": 0
}
