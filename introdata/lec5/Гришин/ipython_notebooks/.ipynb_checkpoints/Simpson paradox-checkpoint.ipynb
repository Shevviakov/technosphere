{
 "cells": [
  {
   "cell_type": "markdown",
   "metadata": {},
   "source": [
    "Парадокс Симпсона - явление, когда в совокупности, разбитой на группы, внутригрупповые особенности исчезают при объеденении групп. Об этом парадоксе известно давно, и \"парадоксом\" он является лишь с обывательской точки зрения."
   ]
  },
  {
   "cell_type": "markdown",
   "metadata": {},
   "source": [
    "Классический пример - данные о приеме студентов в университет Беркли. "
   ]
  },
  {
   "cell_type": "code",
   "execution_count": 1,
   "metadata": {
    "collapsed": true
   },
   "outputs": [],
   "source": [
    "%matplotlib inline"
   ]
  },
  {
   "cell_type": "code",
   "execution_count": 12,
   "metadata": {
    "collapsed": true
   },
   "outputs": [],
   "source": [
    "import pandas as pd\n",
    "import numpy as np"
   ]
  },
  {
   "cell_type": "code",
   "execution_count": 3,
   "metadata": {
    "collapsed": true
   },
   "outputs": [],
   "source": [
    "data = pd.read_csv('berkeley_case.csv', sep = ';')"
   ]
  },
  {
   "cell_type": "code",
   "execution_count": 5,
   "metadata": {
    "collapsed": false
   },
   "outputs": [],
   "source": [
    "total = pd.pivot_table(data, aggfunc = sum, index = 'gender', columns = 'param', values = 'number')"
   ]
  },
  {
   "cell_type": "code",
   "execution_count": 8,
   "metadata": {
    "collapsed": false
   },
   "outputs": [
    {
     "data": {
      "text/html": [
       "<div>\n",
       "<table border=\"1\" class=\"dataframe\">\n",
       "  <thead>\n",
       "    <tr style=\"text-align: right;\">\n",
       "      <th>param</th>\n",
       "      <th>accepted</th>\n",
       "      <th>applied</th>\n",
       "    </tr>\n",
       "    <tr>\n",
       "      <th>gender</th>\n",
       "      <th></th>\n",
       "      <th></th>\n",
       "    </tr>\n",
       "  </thead>\n",
       "  <tbody>\n",
       "    <tr>\n",
       "      <th>men</th>\n",
       "      <td>1192</td>\n",
       "      <td>2590</td>\n",
       "    </tr>\n",
       "    <tr>\n",
       "      <th>women</th>\n",
       "      <td>557</td>\n",
       "      <td>1835</td>\n",
       "    </tr>\n",
       "  </tbody>\n",
       "</table>\n",
       "</div>"
      ],
      "text/plain": [
       "param   accepted  applied\n",
       "gender                   \n",
       "men         1192     2590\n",
       "women        557     1835"
      ]
     },
     "execution_count": 8,
     "metadata": {},
     "output_type": "execute_result"
    }
   ],
   "source": [
    "total"
   ]
  },
  {
   "cell_type": "code",
   "execution_count": 7,
   "metadata": {
    "collapsed": false
   },
   "outputs": [
    {
     "data": {
      "text/plain": [
       "gender\n",
       "men      0.460232\n",
       "women    0.303542\n",
       "dtype: float64"
      ]
     },
     "execution_count": 7,
     "metadata": {},
     "output_type": "execute_result"
    }
   ],
   "source": [
    "total['accepted']/total['applied']"
   ]
  },
  {
   "cell_type": "markdown",
   "metadata": {},
   "source": [
    "Нетрудно заметить, что среди мужчин число принятых выше, нежели среди женщин. Можно ли утверждать, что руководство университета отдавало большее предпочтение мужчинам при поступлении?"
   ]
  },
  {
   "cell_type": "markdown",
   "metadata": {},
   "source": [
    "Последующие операции хорошо описаны в  https://habrahabr.ru/post/279665/ , откуда и был взят код."
   ]
  },
  {
   "cell_type": "code",
   "execution_count": 13,
   "metadata": {
    "collapsed": false
   },
   "outputs": [
    {
     "data": {
      "text/plain": [
       "<matplotlib.axes._subplots.AxesSubplot at 0x10d48a990>"
      ]
     },
     "execution_count": 13,
     "metadata": {},
     "output_type": "execute_result"
    },
    {
     "data": {
      "image/png": "[encoded data removed]",
      "text/plain": [
       "<matplotlib.figure.Figure at 0x10d4ee190>"
      ]
     },
     "metadata": {},
     "output_type": "display_data"
    }
   ],
   "source": [
    "df = pd.pivot_table(data, index = 'faculty', values = 'number', columns = ['gender', 'param'])\n",
    "df['men']['accepted'] # взять определенную колонку в df\n",
    "df['men'] # отфильтровать колонки на верхнем уровне (level = 0)\n",
    "# отфильтровать колонки на втором уровне, только accepted\n",
    "idx = pd.IndexSlice\n",
    "df.loc[idx[:], idx[:, 'accepted']]\n",
    "df_total = (df['men'] + df['women']).T # считаем суммарные показатели и сохраняем как отдельный dataframe\n",
    "df_total['gender'] = 'total'\n",
    "df_total.set_index('gender', append = True, inplace = True) # добавляем дополнительный уровень в индекс\n",
    "df_total = df_total.reorder_levels(['gender', 'param']).T # изменяем порядок уровней в индексе\n",
    "df = pd.concat([df, df_total], axis = 1) # объединяем с исходным df\n",
    "df_inv = df.reorder_levels(['param', 'gender'], axis = 1).sort_index(level = 0, axis = 1) # изменим порядок уровней в индексе для удобства расчетов\n",
    "admitted_perc = (100*df_inv.accepted/df_inv.applied)\n",
    "admitted_perc[['total', 'men', 'women']].plot(kind = 'bar', title = 'Percentage of admitted to UC Berkeley')"
   ]
  },
  {
   "cell_type": "markdown",
   "metadata": {},
   "source": [
    "Мы видим, что доля поступивших женщин даже выше, чем мужчин. Гипотеза о дискриминации не подтверждается. В чем же объяснение?"
   ]
  },
  {
   "cell_type": "code",
   "execution_count": 16,
   "metadata": {
    "collapsed": false
   },
   "outputs": [
    {
     "data": {
      "text/plain": [
       "<matplotlib.axes._subplots.AxesSubplot at 0x10d80c250>"
      ]
     },
     "execution_count": 16,
     "metadata": {},
     "output_type": "execute_result"
    },
    {
     "data": {
      "image/png": "[encoded data removed]",
      "text/plain": [
       "<matplotlib.figure.Figure at 0x10d68ba10>"
      ]
     },
     "metadata": {},
     "output_type": "display_data"
    }
   ],
   "source": [
    "gender_faculty_applications = pd.pivot_table(data[data.param == 'applied'], \n",
    "                                             index = 'faculty', values = 'number', columns = 'gender')\n",
    "gender_faculty_applications = gender_faculty_applications.apply(lambda x: 100*x/gender_faculty_applications.sum(), axis = 1)\n",
    "gender_faculty_applications.columns += '_faculty_share'\n",
    "faculty_stats = admitted_perc[['total']].join(gender_faculty_applications)\n",
    "faculty_stats.columns = ['total_perc_admitted', 'men_faculty_share', 'women_faculty_share']\n",
    "faculty_stats.plot(kind = 'bar', title = 'Statistics on UC Berkeley faculties')"
   ]
  },
  {
   "cell_type": "markdown",
   "metadata": {},
   "source": [
    "Оно очень простое - мужчины, в основном, подавали заявления на факультеты с низким проходным баллом, а женщины выбирали более сложные. "
   ]
  },
  {
   "cell_type": "code",
   "execution_count": null,
   "metadata": {
    "collapsed": true
   },
   "outputs": [],
   "source": []
  }
 ],
 "metadata": {
  "kernelspec": {
   "display_name": "Python 2",
   "language": "python",
   "name": "python2"
  },
  "language_info": {
   "codemirror_mode": {
    "name": "ipython",
    "version": 2
   },
   "file_extension": ".py",
   "mimetype": "text/x-python",
   "name": "python",
   "nbconvert_exporter": "python",
   "pygments_lexer": "ipython2",
   "version": "2.7.10"
  }
 },
 "nbformat": 4,
 "nbformat_minor": 0
}
