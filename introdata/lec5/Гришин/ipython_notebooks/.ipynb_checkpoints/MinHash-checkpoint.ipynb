{
 "cells": [
  {
   "cell_type": "markdown",
   "metadata": {},
   "source": [
    "Имея достаточно большую коллекцию элементов, зачастую важно уметь находить похожие. Существует ряд мер похожести, мы рассмотрим меру Жаккарда."
   ]
  },
  {
   "cell_type": "markdown",
   "metadata": {},
   "source": [
    "$$J(A,B) = \\frac{|A \\cap B|}{|A \\cup B|}.$$"
   ]
  },
  {
   "cell_type": "code",
   "execution_count": 20,
   "metadata": {
    "collapsed": true
   },
   "outputs": [],
   "source": [
    "def jaccard_similarity(x,y):\n",
    "    set_x = set(x)\n",
    "    set_y = set(y)\n",
    "    intersection_cardinality = len(set_x.intersection(set_y))\n",
    "    union_cardinality = len(set_x.union(set_y))\n",
    "    return intersection_cardinality/float(union_cardinality)"
   ]
  },
  {
   "cell_type": "markdown",
   "metadata": {},
   "source": [
    "Если мы хотим посчитать эту метрику для нашей коллекции документов, то мы столкнемся с трудностью - нам придется посчитать \"всех со всеми\", т.е. провести $O(n^2)$ сравнений. Обычно это обходят следующим образом: вводят некое условие для того, чтобы можно было отфильтровать список документов для сравнения."
   ]
  },
  {
   "cell_type": "markdown",
   "metadata": {},
   "source": [
    "Например рассмотрим два документа, $A$ и $B$. Вероятность того, что выбранный наудачу элемент из их объеденения совпадает:\n",
    "$$ P(x \\in A \\wedge x \\in B) = \\frac{|A \\cap B|}{|A \\cup B|}.$$"
   ]
  },
  {
   "cell_type": "markdown",
   "metadata": {},
   "source": [
    "Введем хэш-функцию $h(...)$, которая отображает объекты произвольной природы в конечное множество целых чисел на промежутке [0, ..M]. Для множества $A$ обозначим $H(A)$ - минимальное значение хэш-функции по всем элементам $A$: $$H(A) = min_{a \\in A}h(a).$$"
   ]
  },
  {
   "cell_type": "markdown",
   "metadata": {},
   "source": [
    "Нетрудно увидеть, что для двух множеств $A$ и $B$:\n",
    "$$ P(H(A)=H(B))= \\frac{|A \\cap B|}{|A \\cup B|}.$$\n",
    "Для того, чтобы это заметить можно провести аналогию - хэширование переводит элементы в пространство с равномерным распределением, а операция $min$ выступает как взятие элемента \"наудачу\"."
   ]
  },
  {
   "cell_type": "markdown",
   "metadata": {},
   "source": [
    "Оценка является несмещенной, однако со слишком большой дисперсией - всегда 0 или 1. Мы используем технику, похожую на которую мы будем использовать при изучении бутстрапа - построим $k$ независимых оценок (иными словами - используем $k$ различных и независимых хэш-функций), а потом усредним по ним. Такая оценка будет несмещенной и эффективной. На практике, $k=100$ уже достаточно для того, чтобы сделать вероятноть ошибки достаточно маленькой."
   ]
  },
  {
   "cell_type": "code",
   "execution_count": null,
   "metadata": {
    "collapsed": true
   },
   "outputs": [],
   "source": []
  }
 ],
 "metadata": {
  "kernelspec": {
   "display_name": "Python 2",
   "language": "python",
   "name": "python2"
  },
  "language_info": {
   "codemirror_mode": {
    "name": "ipython",
    "version": 2
   },
   "file_extension": ".py",
   "mimetype": "text/x-python",
   "name": "python",
   "nbconvert_exporter": "python",
   "pygments_lexer": "ipython2",
   "version": "2.7.10"
  }
 },
 "nbformat": 4,
 "nbformat_minor": 0
}
