{
 "cells": [
  {
   "cell_type": "markdown",
   "metadata": {},
   "source": [
    "## Простая проверка орфографии на основе формулы Байеса"
   ]
  },
  {
   "cell_type": "markdown",
   "metadata": {},
   "source": [
    "Вольный перевод - http://norvig.com/spell-correct.html"
   ]
  },
  {
   "cell_type": "code",
   "execution_count": 2,
   "metadata": {
    "collapsed": true
   },
   "outputs": [],
   "source": [
    "import re\n",
    "from collections import defaultdict\n",
    "import pickle"
   ]
  },
  {
   "cell_type": "markdown",
   "metadata": {},
   "source": [
    "Задача ставится так пользователь вводит слово, например \"титрадь\". Мы хотим предложить правильное написание. Очевидно, что исправление может быть не единственным - например, на запрос \"тоу\" можно предложить одинаковые корректировки \"ток\" и \"том\". Так как исправление не единственны, то нам следует ввести вероятностную модель, отражающую вероятность той или иной корректировки для данного запроса. Для простоты ограничимся русским алфавитом."
   ]
  },
  {
   "cell_type": "code",
   "execution_count": 25,
   "metadata": {
    "collapsed": true
   },
   "outputs": [],
   "source": [
    "alphabet = u'абвгдеёжзиклмнопрстуфхцчшщъыьэюя'"
   ]
  },
  {
   "cell_type": "markdown",
   "metadata": {},
   "source": [
    "Предположим, что \"статистика\" по коллекции документов известна - слова в документах подсчитаны, а любое неизвестное слово мы видим в первый раз.\n",
    "Документы могут быть произвольной природы. Например, для поискового движка - это все страницы в сети интернет."
   ]
  },
  {
   "cell_type": "code",
   "execution_count": 6,
   "metadata": {
    "collapsed": true
   },
   "outputs": [],
   "source": [
    "stored_dict = pickle.load( open( \"dictionary.p\", \"rb\" ) )"
   ]
  },
  {
   "cell_type": "code",
   "execution_count": 7,
   "metadata": {
    "collapsed": false
   },
   "outputs": [],
   "source": [
    "vocab = defaultdict(lambda: 1)\n",
    "for key, value in stored_dict.iteritems():\n",
    "    vocab[key] += value"
   ]
  },
  {
   "cell_type": "markdown",
   "metadata": {},
   "source": [
    "Если коллекция достаточно большая, в том смысле что она может представлять пространство элементарных исходов, то частоту, нормированную на величину коллекции, можно рассматривать как \"вероятность\"."
   ]
  },
  {
   "cell_type": "markdown",
   "metadata": {},
   "source": [
    "Введем некоторый формализм - будем обозначать введеное пользователем слово как $w$, корректировку как $c$.\n",
    "Имея на руках несколько корректировок, мы можем описать вероятность каждой как $P(c|w)$. Среди всех возможных корректировок мы выберем ту, вероятность которой максимальна.\n",
    "\n",
    "По теореме Байеса:\n",
    "$$P(c|w) = \\frac{P(w|c)P(c)}{P(w)}$$\n",
    "\n",
    "Так как корректировки мы рассматриваем для фиксированного слова, то $P(w)$ одинакова для всех. Тогда нас будет интересовать следующая величина:\n",
    "\n",
    "$$P(c_i|w) = P(w|c_i)P(c_i), c_i \\in c$$"
   ]
  },
  {
   "cell_type": "markdown",
   "metadata": {},
   "source": [
    "Эти величины имеют удобную интерпретацию:\n",
    "- $P(c_i)$ - априорная (безусловная) вероятность слова $c_i$ (\"языковая модель\");\n",
    "- $P(w|c_i)$ - вероятность того, что пользователь мог ошибиться и ввести $w$, когда на самом деле он имел в виду $c_i$ (\"модель ошибки\").\n",
    "\n",
    "$P(c_i)$ можем получить непосредственным обращением к словарю"
   ]
  },
  {
   "cell_type": "code",
   "execution_count": 48,
   "metadata": {
    "collapsed": false
   },
   "outputs": [
    {
     "data": {
      "text/plain": [
       "0.003907445571221612"
      ]
     },
     "execution_count": 48,
     "metadata": {},
     "output_type": "execute_result"
    }
   ],
   "source": [
    "vocab[u'время']/float(len(vocab.keys()))"
   ]
  },
  {
   "cell_type": "markdown",
   "metadata": {},
   "source": [
    "Перейдем к модели ошибок. Сделаем предположение о том, что $w$ тем менее вероятно, чем больше правок требуется для \"превращения\" $w$ в $c$. Какого рода правки рассматриваются? Перестановка букв, удаление буквы, добавление буквы из алфавита, замена буквы."
   ]
  },
  {
   "cell_type": "code",
   "execution_count": 66,
   "metadata": {
    "collapsed": true
   },
   "outputs": [],
   "source": [
    "# функция, возвращающая все слова, которые находятся на расстоянии одной правки от исходного слова\n",
    "def edits1(word):\n",
    "   splits     = [(word[:i], word[i:]) for i in range(len(word) + 1)]\n",
    "   deletes    = [a + b[1:] for a, b in splits if b]\n",
    "   transposes = [a + b[1] + b[0] + b[2:] for a, b in splits if len(b)>1]\n",
    "   replaces   = [a + c + b[1:] for a, b in splits for c in alphabet if b]\n",
    "   inserts    = [a + c + b     for a, b in splits for c in alphabet]\n",
    "   return list(set(deletes + transposes + replaces + inserts))"
   ]
  },
  {
   "cell_type": "code",
   "execution_count": 67,
   "metadata": {
    "collapsed": false
   },
   "outputs": [],
   "source": [
    "# на расстоянии 2 правок\n",
    "def edits2(word):\n",
    "    return list(set(e2 for e1 in edits1(word) for e2 in edits1(e1)))"
   ]
  },
  {
   "cell_type": "markdown",
   "metadata": {},
   "source": [
    "Число всех возможных правок может быть крайне велико. Для того, чтобы сократить число возможных проверок следует проверить их на наличие в словаре (напоминаем, что он представляет собой все возможное пространство исходов.)"
   ]
  },
  {
   "cell_type": "code",
   "execution_count": 68,
   "metadata": {
    "collapsed": false
   },
   "outputs": [],
   "source": [
    "def check_in_vocab(words):\n",
    "    if isinstance(words, unicode):\n",
    "        words = [words]\n",
    "    return filter(lambda x: x in vocab,words)"
   ]
  },
  {
   "cell_type": "markdown",
   "metadata": {},
   "source": [
    "Простейшая модель - считать, что правки длины один гораздо более вероятны, нежели правки длины два, правки длины два ... и так далее."
   ]
  },
  {
   "cell_type": "code",
   "execution_count": 84,
   "metadata": {
    "collapsed": true
   },
   "outputs": [],
   "source": [
    "def correct(word):\n",
    "    candidates = check_in_vocab([word]) or check_in_vocab(edits1(word)) or check_in_vocab(edits2(word)) or [word]\n",
    "    return max(candidates, key=vocab.get)"
   ]
  },
  {
   "cell_type": "markdown",
   "metadata": {},
   "source": [
    "Так как словарь маленький, то не все корректировки успешны. Однако чем более и более полным становится словарь, то тем выше становится качество модели."
   ]
  },
  {
   "cell_type": "code",
   "execution_count": 85,
   "metadata": {
    "collapsed": false
   },
   "outputs": [
    {
     "name": "stdout",
     "output_type": "stream",
     "text": [
      "лошадь\n"
     ]
    }
   ],
   "source": [
    "print correct(u'лошать')"
   ]
  },
  {
   "cell_type": "code",
   "execution_count": 87,
   "metadata": {
    "collapsed": false
   },
   "outputs": [
    {
     "name": "stdout",
     "output_type": "stream",
     "text": [
      "милый\n"
     ]
    }
   ],
   "source": [
    "print correct(u'силый')"
   ]
  },
  {
   "cell_type": "code",
   "execution_count": 91,
   "metadata": {
    "collapsed": false
   },
   "outputs": [
    {
     "name": "stdout",
     "output_type": "stream",
     "text": [
      "болото\n"
     ]
    }
   ],
   "source": [
    "print correct(u'балото')"
   ]
  },
  {
   "cell_type": "markdown",
   "metadata": {},
   "source": [
    "####  Предложение: попробовать использовать различные словари и посмотреть, как меняется результат работы алгоритма. "
   ]
  },
  {
   "cell_type": "code",
   "execution_count": null,
   "metadata": {
    "collapsed": true
   },
   "outputs": [],
   "source": []
  }
 ],
 "metadata": {
  "kernelspec": {
   "display_name": "Python 2",
   "language": "python",
   "name": "python2"
  },
  "language_info": {
   "codemirror_mode": {
    "name": "ipython",
    "version": 2
   },
   "file_extension": ".py",
   "mimetype": "text/x-python",
   "name": "python",
   "nbconvert_exporter": "python",
   "pygments_lexer": "ipython2",
   "version": "2.7.10"
  }
 },
 "nbformat": 4,
 "nbformat_minor": 0
}
