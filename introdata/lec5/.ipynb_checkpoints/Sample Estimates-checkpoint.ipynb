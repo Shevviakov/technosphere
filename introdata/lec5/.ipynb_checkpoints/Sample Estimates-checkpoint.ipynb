{
 "cells": [
  {
   "cell_type": "code",
   "execution_count": 1,
   "metadata": {
    "collapsed": true
   },
   "outputs": [],
   "source": [
    "import statsmodels.api as sm"
   ]
  },
  {
   "cell_type": "code",
   "execution_count": 2,
   "metadata": {
    "collapsed": true
   },
   "outputs": [],
   "source": [
    "import pandas as pd\n",
    "import numpy as np"
   ]
  },
  {
   "cell_type": "code",
   "execution_count": 3,
   "metadata": {
    "collapsed": true
   },
   "outputs": [],
   "source": [
    "from statsmodels.distributions.empirical_distribution import ECDF"
   ]
  },
  {
   "cell_type": "code",
   "execution_count": 4,
   "metadata": {
    "collapsed": true
   },
   "outputs": [],
   "source": [
    "import matplotlib.pyplot as plt"
   ]
  },
  {
   "cell_type": "code",
   "execution_count": 5,
   "metadata": {
    "collapsed": true
   },
   "outputs": [],
   "source": [
    "%matplotlib inline"
   ]
  },
  {
   "cell_type": "code",
   "execution_count": 6,
   "metadata": {
    "collapsed": true
   },
   "outputs": [],
   "source": [
    "data = sm.datasets.ccard.load_pandas()"
   ]
  },
  {
   "cell_type": "markdown",
   "metadata": {},
   "source": [
    "В statsmodels переменные делятся на 2 части: экзогенные и эндогенные. Мы рассмотрим встроенный набор данных по кредитному скорингу."
   ]
  },
  {
   "cell_type": "code",
   "execution_count": 7,
   "metadata": {
    "collapsed": false
   },
   "outputs": [
    {
     "data": {
      "text/plain": [
       "Index([u'AGE', u'INCOME', u'INCOMESQ', u'OWNRENT'], dtype='object')"
      ]
     },
     "execution_count": 7,
     "metadata": {},
     "output_type": "execute_result"
    }
   ],
   "source": [
    "data.exog.columns"
   ]
  },
  {
   "cell_type": "code",
   "execution_count": 8,
   "metadata": {
    "collapsed": false
   },
   "outputs": [
    {
     "data": {
      "text/plain": [
       "'AVGEXP'"
      ]
     },
     "execution_count": 8,
     "metadata": {},
     "output_type": "execute_result"
    }
   ],
   "source": [
    "data.endog.name"
   ]
  },
  {
   "cell_type": "markdown",
   "metadata": {},
   "source": [
    "Рассмотрим выборочные оценки по переменной 'INCOME'."
   ]
  },
  {
   "cell_type": "code",
   "execution_count": 9,
   "metadata": {
    "collapsed": true
   },
   "outputs": [],
   "source": [
    "income = data.exog['INCOME']"
   ]
  },
  {
   "cell_type": "code",
   "execution_count": 10,
   "metadata": {
    "collapsed": false
   },
   "outputs": [
    {
     "data": {
      "text/plain": [
       "72"
      ]
     },
     "execution_count": 10,
     "metadata": {},
     "output_type": "execute_result"
    }
   ],
   "source": [
    "income.count()"
   ]
  },
  {
   "cell_type": "markdown",
   "metadata": {},
   "source": [
    "В терминах, введенных ранее, мы наблюдаем реализацию iid, подчиняющихся одному закону распределеня $F_x$."
   ]
  },
  {
   "cell_type": "markdown",
   "metadata": {},
   "source": [
    "### Эмпирическая функция распределения"
   ]
  },
  {
   "cell_type": "markdown",
   "metadata": {},
   "source": [
    "**Эмпирическая функция распределения** - функция, которая апроксиммирует истинное распределение выборочным аналогом."
   ]
  },
  {
   "cell_type": "markdown",
   "metadata": {},
   "source": [
    "$$\\hat{F}_n (x) = \\frac{1}{n} \\sum_{i=1}^{n} I(x_i \\leq x).$$"
   ]
  },
  {
   "cell_type": "markdown",
   "metadata": {},
   "source": [
    "Свойства оценки: \n",
    "* несмещенность - $E(\\hat{F}_n (x)) = F(x)$. Заметить это легко - для фиксированного $x$ $I(x_i \\leq x)$ имеет распределение Бернулли с вероятностью успеха F(x);\n",
    "* $V(\\hat{F}_n (x)) = \\frac{F(x)(1-F(x))}{n}$;\n",
    "* Согласно теореме Гливенко-Кантелли, оценка является состоятельной."
   ]
  },
  {
   "cell_type": "code",
   "execution_count": 11,
   "metadata": {
    "collapsed": false
   },
   "outputs": [
    {
     "data": {
      "image/png": "[encoded data removed]",
      "text/plain": [
       "<matplotlib.figure.Figure at 0x7f7e3c893210>"
      ]
     },
     "metadata": {},
     "output_type": "display_data"
    }
   ],
   "source": [
    "sorted_income = np.sort(income)\n",
    "yvals=np.arange(len(sorted_income))/float(len(sorted_income))\n",
    "plt.plot(sorted_income,yvals)\n",
    "plt.show()"
   ]
  },
  {
   "cell_type": "markdown",
   "metadata": {},
   "source": [
    "Или, что обычно предпочтительнее, можно использовать готовую функцию из пакета statsmodels."
   ]
  },
  {
   "cell_type": "code",
   "execution_count": 12,
   "metadata": {
    "collapsed": true
   },
   "outputs": [],
   "source": [
    "ecdf = ECDF(income)"
   ]
  },
  {
   "cell_type": "markdown",
   "metadata": {},
   "source": [
    "### Выборочное среднее"
   ]
  },
  {
   "cell_type": "markdown",
   "metadata": {},
   "source": [
    "Формула следует из названия:\n",
    "$$ \\bar{X}_n = \\frac{1}{n} \\sum_{i=1}^{n} X_i.$$"
   ]
  },
  {
   "cell_type": "markdown",
   "metadata": {},
   "source": [
    "Свойства оценки: \n",
    "* несмещенность - $E(\\bar{X}_n) = \\mu$. Заметить это легко - в силу линейности математического ожидания;\n",
    "* $V(\\bar{X}_n) = n\\sigma^2$;\n",
    "* $se(\\bar{X}_n) = \\frac{\\sigma}{n}$."
   ]
  },
  {
   "cell_type": "code",
   "execution_count": 13,
   "metadata": {
    "collapsed": false
   },
   "outputs": [
    {
     "data": {
      "text/plain": [
       "3.4370833333333333"
      ]
     },
     "execution_count": 13,
     "metadata": {},
     "output_type": "execute_result"
    }
   ],
   "source": [
    "np.mean(income)"
   ]
  },
  {
   "cell_type": "markdown",
   "metadata": {},
   "source": [
    "Полезно вспомнить центральную предельную теорему. \n",
    "При расчете стандартной ошибки были использованы теоретические значения стандартного отклонения. Их можно заменить на несмещенные оценки при расчете стандартных ошибок."
   ]
  },
  {
   "cell_type": "markdown",
   "metadata": {},
   "source": [
    "### Выборочная дисперсия"
   ]
  },
  {
   "cell_type": "markdown",
   "metadata": {},
   "source": [
    "Среднеквадратичное отклонение точек в выборочной совокупности от среднего. Данная оценка является смещенной:"
   ]
  },
  {
   "cell_type": "markdown",
   "metadata": {},
   "source": [
    "$$ \\hat{\\sigma}_{biased}^2 = \\frac{1}{n} \\sum_{i=1}^{n} (X_i - \\bar{X}_n)^2.$$"
   ]
  },
  {
   "cell_type": "markdown",
   "metadata": {},
   "source": [
    "Найти источник смещения нетрудно - \n",
    "\n",
    "$$E(\\sigma^2 - \\hat{\\sigma}_{biased}^2 ) = \\frac{\\sigma}{n},$$\n",
    "(сравните со стандартной ошибкой среднего),\n",
    "\n",
    "впрочем, как и получить несмещенную оценку:\n",
    "\n",
    "$$ \n",
    "^2 = \\frac{n}{n-1} \\hat{\\sigma}_{biased}^2 =\\frac{1}{n-1} \\sum_{i=1}^{n} (X_i - \\bar{X}_n)^2.$$"
   ]
  },
  {
   "cell_type": "markdown",
   "metadata": {},
   "source": [
    "Данная поправка известна как корректировка Бесселя. Оценка является состоятельной."
   ]
  },
  {
   "cell_type": "markdown",
   "metadata": {},
   "source": [
    "Строго говоря, выборочное стандартное отклонение является смещенной оценкой. На практике, это не ведет к осложнениям."
   ]
  },
  {
   "cell_type": "code",
   "execution_count": 14,
   "metadata": {
    "collapsed": false
   },
   "outputs": [
    {
     "data": {
      "text/plain": [
       "1.6876087927893715"
      ]
     },
     "execution_count": 14,
     "metadata": {},
     "output_type": "execute_result"
    }
   ],
   "source": [
    "np.std(income)"
   ]
  },
  {
   "cell_type": "markdown",
   "metadata": {},
   "source": [
    "### Статистический функционал"
   ]
  },
  {
   "cell_type": "markdown",
   "metadata": {},
   "source": [
    "Под статистическим функционалом будем понимать любую функцию от $F$. Выборочной оценкой истинного параметра $\\theta = T(F)$ является $\\hat{\\theta} = T(\\hat{F})$."
   ]
  },
  {
   "cell_type": "markdown",
   "metadata": {},
   "source": [
    "В таком смысле все оценки все оценки, которые мы рассмотрели выше, являются оценками статистического функционала. Таким же способом можно получить оценки моментов более высоких порядков, а также выборочные квантили."
   ]
  },
  {
   "cell_type": "code",
   "execution_count": 15,
   "metadata": {
    "collapsed": false
   },
   "outputs": [
    {
     "data": {
      "text/plain": [
       "count    72.000000\n",
       "mean      3.437083\n",
       "std       1.699452\n",
       "min       1.500000\n",
       "25%       2.400000\n",
       "50%       3.000000\n",
       "75%       3.970000\n",
       "max      10.000000\n",
       "Name: INCOME, dtype: float64"
      ]
     },
     "execution_count": 15,
     "metadata": {},
     "output_type": "execute_result"
    }
   ],
   "source": [
    "income.describe()"
   ]
  },
  {
   "cell_type": "code",
   "execution_count": 16,
   "metadata": {
    "collapsed": false
   },
   "outputs": [
    {
     "data": {
      "text/plain": [
       "1.5699999999999998"
      ]
     },
     "execution_count": 16,
     "metadata": {},
     "output_type": "execute_result"
    }
   ],
   "source": [
    "income.quantile(0.75) - income.quantile(0.25)"
   ]
  },
  {
   "cell_type": "code",
   "execution_count": 17,
   "metadata": {
    "collapsed": false
   },
   "outputs": [
    {
     "data": {
      "text/html": [
       "<div>\n",
       "<table border=\"1\" class=\"dataframe\">\n",
       "  <thead>\n",
       "    <tr style=\"text-align: right;\">\n",
       "      <th></th>\n",
       "      <th>AGE</th>\n",
       "      <th>INCOME</th>\n",
       "      <th>INCOMESQ</th>\n",
       "      <th>OWNRENT</th>\n",
       "    </tr>\n",
       "  </thead>\n",
       "  <tbody>\n",
       "    <tr>\n",
       "      <th>count</th>\n",
       "      <td>72.000000</td>\n",
       "      <td>72.000000</td>\n",
       "      <td>72.000000</td>\n",
       "      <td>72.00000</td>\n",
       "    </tr>\n",
       "    <tr>\n",
       "      <th>mean</th>\n",
       "      <td>31.277778</td>\n",
       "      <td>3.437083</td>\n",
       "      <td>14.661565</td>\n",
       "      <td>0.37500</td>\n",
       "    </tr>\n",
       "    <tr>\n",
       "      <th>std</th>\n",
       "      <td>7.152705</td>\n",
       "      <td>1.699452</td>\n",
       "      <td>17.644929</td>\n",
       "      <td>0.48752</td>\n",
       "    </tr>\n",
       "    <tr>\n",
       "      <th>min</th>\n",
       "      <td>20.000000</td>\n",
       "      <td>1.500000</td>\n",
       "      <td>2.250000</td>\n",
       "      <td>0.00000</td>\n",
       "    </tr>\n",
       "    <tr>\n",
       "      <th>25%</th>\n",
       "      <td>26.000000</td>\n",
       "      <td>2.400000</td>\n",
       "      <td>5.760000</td>\n",
       "      <td>0.00000</td>\n",
       "    </tr>\n",
       "    <tr>\n",
       "      <th>50%</th>\n",
       "      <td>30.000000</td>\n",
       "      <td>3.000000</td>\n",
       "      <td>9.000000</td>\n",
       "      <td>0.00000</td>\n",
       "    </tr>\n",
       "    <tr>\n",
       "      <th>75%</th>\n",
       "      <td>36.000000</td>\n",
       "      <td>3.970000</td>\n",
       "      <td>15.761200</td>\n",
       "      <td>1.00000</td>\n",
       "    </tr>\n",
       "    <tr>\n",
       "      <th>max</th>\n",
       "      <td>55.000000</td>\n",
       "      <td>10.000000</td>\n",
       "      <td>100.000000</td>\n",
       "      <td>1.00000</td>\n",
       "    </tr>\n",
       "  </tbody>\n",
       "</table>\n",
       "</div>"
      ],
      "text/plain": [
       "             AGE     INCOME    INCOMESQ   OWNRENT\n",
       "count  72.000000  72.000000   72.000000  72.00000\n",
       "mean   31.277778   3.437083   14.661565   0.37500\n",
       "std     7.152705   1.699452   17.644929   0.48752\n",
       "min    20.000000   1.500000    2.250000   0.00000\n",
       "25%    26.000000   2.400000    5.760000   0.00000\n",
       "50%    30.000000   3.000000    9.000000   0.00000\n",
       "75%    36.000000   3.970000   15.761200   1.00000\n",
       "max    55.000000  10.000000  100.000000   1.00000"
      ]
     },
     "execution_count": 17,
     "metadata": {},
     "output_type": "execute_result"
    }
   ],
   "source": [
    "data.exog.describe()"
   ]
  }
 ],
 "metadata": {
  "kernelspec": {
   "display_name": "Python 2",
   "language": "python",
   "name": "python2"
  },
  "language_info": {
   "codemirror_mode": {
    "name": "ipython",
    "version": 2
   },
   "file_extension": ".py",
   "mimetype": "text/x-python",
   "name": "python",
   "nbconvert_exporter": "python",
   "pygments_lexer": "ipython2",
   "version": "2.7.11+"
  }
 },
 "nbformat": 4,
 "nbformat_minor": 0
}
