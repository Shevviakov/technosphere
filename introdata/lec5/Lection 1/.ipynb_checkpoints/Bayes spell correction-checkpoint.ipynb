{
 "cells": [
  {
   "cell_type": "markdown",
   "metadata": {},
   "source": [
    "## Простая проверка орфографии на основе формулы Байеса"
   ]
  },
  {
   "cell_type": "markdown",
   "metadata": {},
   "source": [
    "Вольный перевод - http://norvig.com/spell-correct.html"
   ]
  },
  {
   "cell_type": "code",
   "execution_count": 1,
   "metadata": {
    "collapsed": true
   },
   "outputs": [],
   "source": [
    "import re\n",
    "from collections import defaultdict\n",
    "import pickle"
   ]
  },
  {
   "cell_type": "markdown",
   "metadata": {},
   "source": [
    "Задача ставится так пользователь вводит слово, например \"титрадь\". Мы хотим предложить правильное написание. Очевидно, что исправление может быть не единственным - например, на запрос \"тоу\" можно предложить одинаковые корректировки \"ток\" и \"том\". Так как исправление не единственны, то нам следует ввести вероятностную модель, отражающую вероятность той или иной корректировки для данного запроса. Для простоты ограничимся русским алфавитом."
   ]
  },
  {
   "cell_type": "code",
   "execution_count": 2,
   "metadata": {
    "collapsed": true
   },
   "outputs": [],
   "source": [
    "alphabet = u'абвгдеёжзиклмнопрстуфхцчшщъыьэюя'"
   ]
  },
  {
   "cell_type": "markdown",
   "metadata": {},
   "source": [
    "Предположим, что \"статистика\" по коллекции документов известна - слова в документах подсчитаны, а любое неизвестное слово мы видим в первый раз.\n",
    "Документы могут быть произвольной природы. Например, для поискового движка - это все страницы в сети интернет."
   ]
  },
  {
   "cell_type": "code",
   "execution_count": 3,
   "metadata": {
    "collapsed": true
   },
   "outputs": [],
   "source": [
    "stored_dict = pickle.load( open( \"dicts/dictionary.p\", \"rb\" ) )"
   ]
  },
  {
   "cell_type": "code",
   "execution_count": 4,
   "metadata": {
    "collapsed": true
   },
   "outputs": [],
   "source": [
    "vocab = defaultdict(lambda: 1)\n",
    "for key, value in stored_dict.iteritems():\n",
    "    vocab[key] += value"
   ]
  },
  {
   "cell_type": "markdown",
   "metadata": {},
   "source": [
    "Если коллекция достаточно большая, в том смысле что она может представлять пространство элементарных исходов, то частоту, нормированную на величину коллекции, можно рассматривать как \"вероятность\"."
   ]
  },
  {
   "cell_type": "markdown",
   "metadata": {},
   "source": [
    "Введем некоторый формализм - будем обозначать введеное пользователем слово как $w$, корректировку как $c$.\n",
    "Имея на руках несколько корректировок, мы можем описать вероятность каждой как $P(c|w)$. Среди всех возможных корректировок мы выберем ту, вероятность которой максимальна.\n",
    "\n",
    "По теореме Байеса:\n",
    "$$P(c|w) = \\frac{P(w|c)P(c)}{P(w)}$$\n",
    "\n",
    "Так как корректировки мы рассматриваем для фиксированного слова, то $P(w)$ одинакова для всех. Тогда нас будет интересовать следующая величина:\n",
    "\n",
    "$$P(c_i|w) = P(w|c_i)P(c_i), c_i \\in c$$"
   ]
  },
  {
   "cell_type": "markdown",
   "metadata": {},
   "source": [
    "Эти величины имеют удобную интерпретацию:\n",
    "- $P(c_i)$ - априорная (безусловная) вероятность слова $c_i$ (\"языковая модель\");\n",
    "- $P(w|c_i)$ - вероятность того, что пользователь мог ошибиться и ввести $w$, когда на самом деле он имел в виду $c_i$ (\"модель ошибки\").\n",
    "\n",
    "$P(c_i)$ можем получить непосредственным обращением к словарю"
   ]
  },
  {
   "cell_type": "code",
   "execution_count": 5,
   "metadata": {
    "collapsed": false
   },
   "outputs": [
    {
     "data": {
      "text/plain": [
       "0.0006325433343195568"
      ]
     },
     "execution_count": 5,
     "metadata": {},
     "output_type": "execute_result"
    }
   ],
   "source": [
    "vocab[u'город']/float(len(vocab.keys()))"
   ]
  },
  {
   "cell_type": "markdown",
   "metadata": {},
   "source": [
    "Перейдем к модели ошибок. Сделаем предположение о том, что $w$ тем менее вероятно, чем больше правок требуется для \"превращения\" $w$ в $c$. Какого рода правки рассматриваются? Перестановка букв, удаление буквы, добавление буквы из алфавита, замена буквы."
   ]
  },
  {
   "cell_type": "code",
   "execution_count": 6,
   "metadata": {
    "collapsed": true
   },
   "outputs": [],
   "source": [
    "# функция, возвращающая все слова, которые находятся на расстоянии одной правки от исходного слова\n",
    "def edits1(word):\n",
    "   splits     = [(word[:i], word[i:]) for i in range(len(word) + 1)]\n",
    "   deletes    = [a + b[1:] for a, b in splits if b]\n",
    "   transposes = [a + b[1] + b[0] + b[2:] for a, b in splits if len(b)>1]\n",
    "   replaces   = [a + c + b[1:] for a, b in splits for c in alphabet if b]\n",
    "   inserts    = [a + c + b     for a, b in splits for c in alphabet]\n",
    "   return list(set(deletes + transposes + replaces + inserts))"
   ]
  },
  {
   "cell_type": "code",
   "execution_count": 7,
   "metadata": {
    "collapsed": false
   },
   "outputs": [
    {
     "name": "stdout",
     "output_type": "stream",
     "text": [
      "мыляо\n",
      "мыхло\n",
      "ёыло\n",
      "мычло\n",
      "мюло\n",
      "мылом\n",
      "мэло\n",
      "ныло\n",
      "мылео\n",
      "мыго\n",
      "мыфо\n",
      "мьло\n",
      "мысло\n",
      "мшло\n",
      "мрыло\n",
      "чыло\n",
      "мщло\n",
      "хыло\n",
      "мылж\n",
      "мылз\n",
      "мылд\n",
      "мыле\n",
      "мяло\n",
      "мылг\n",
      "мыла\n",
      "мылб\n",
      "мыло\n",
      "мыьо\n",
      "мылм\n",
      "мылн\n",
      "мылк\n",
      "мылл\n",
      "мыли\n",
      "мыюло\n",
      "пыло\n",
      "мкыло\n",
      "моыло\n",
      "мыуло\n",
      "мъло\n",
      "мцыло\n",
      "мхло\n",
      "мпыло\n",
      "мылоз\n",
      "мылё\n",
      "мыгло\n",
      "мкло\n",
      "мылио\n",
      "иыло\n",
      "мыщло\n",
      "мрло\n",
      "мло\n",
      "мылч\n",
      "мылф\n",
      "мылх\n",
      "мычо\n",
      "мылу\n",
      "мсло\n",
      "мыво\n",
      "ьыло\n",
      "мыля\n",
      "мыль\n",
      "мылэ\n",
      "мчло\n",
      "мылы\n",
      "мылш\n",
      "мылщ\n",
      "муло\n",
      "мыъло\n",
      "мхыло\n",
      "мтыло\n",
      "мылос\n",
      "зыло\n",
      "мвыло\n",
      "мыяо\n",
      "мыко\n",
      "мылъ\n",
      "мтло\n",
      "мьыло\n",
      "мылно\n",
      "амыло\n",
      "мылоо\n",
      "выло\n",
      "мылло\n",
      "мвло\n",
      "аыло\n",
      "лмыло\n",
      "мылор\n",
      "мылфо\n",
      "мыцо\n",
      "уыло\n",
      "ъмыло\n",
      "мыело\n",
      "ммло\n",
      "мызло\n",
      "моло\n",
      "мынло\n",
      "миыло\n",
      "мнло\n",
      "щыло\n",
      "мылёо\n",
      "мылоу\n",
      "мыыло\n",
      "мыео\n",
      "мыюо\n",
      "мытло\n",
      "мыбло\n",
      "мило\n",
      "муыло\n",
      "мылоц\n",
      "мёыло\n",
      "мыало\n",
      "мылэо\n",
      "мпло\n",
      "мыжло\n",
      "мылдо\n",
      "млло\n",
      "мывло\n",
      "мыно\n",
      "мфло\n",
      "мыяло\n",
      "мцло\n",
      "мылог\n",
      "мылто\n",
      "лыло\n",
      "змыло\n",
      "мдло\n",
      "мыпло\n",
      "мжло\n",
      "мысо\n",
      "мыфло\n",
      "мело\n",
      "сыло\n",
      "мыэло\n",
      "мылв\n",
      "юмыло\n",
      "мылао\n",
      "мбыло\n",
      "мало\n",
      "мыдо\n",
      "эмыло\n",
      "мбло\n",
      "мыило\n",
      "мшыло\n",
      "омыло\n",
      "мзло\n",
      "пмыло\n",
      "еыло\n",
      "мгло\n",
      "мыкло\n",
      "юыло\n",
      "цмыло\n",
      "ыыло\n",
      "ъыло\n",
      "мылп\n",
      "мымо\n",
      "жыло\n",
      "мылое\n",
      "мэыло\n",
      "мыёо\n",
      "мяыло\n",
      "тмыло\n",
      "мылц\n",
      "мышло\n",
      "мыро\n",
      "мылбо\n",
      "мсыло\n",
      "вмыло\n",
      "мылоч\n",
      "мылод\n",
      "мылюо\n",
      "кмыло\n",
      "мжыло\n",
      "было\n",
      "мызо\n",
      "мышо\n",
      "мылмо\n",
      "цыло\n",
      "мыто\n",
      "ьмыло\n",
      "тыло\n",
      "смыло\n",
      "маыло\n",
      "мылъо\n",
      "щмыло\n",
      "мыпо\n",
      "ымло\n",
      "мыуо\n",
      "фмыло\n",
      "мёло\n",
      "мылро\n",
      "мыёло\n",
      "мылхо\n",
      "шмыло\n",
      "мылощ\n",
      "дмыло\n",
      "мылжо\n",
      "мыыо\n",
      "мныло\n",
      "мыжо\n",
      "хмыло\n",
      "гыло\n",
      "имыло\n",
      "жмыло\n",
      "мыщо\n",
      "мымло\n",
      "мылчо\n",
      "емыло\n",
      "умыло\n",
      "мылыо\n",
      "мылоф\n",
      "мылко\n",
      "мыоо\n",
      "нмыло\n",
      "мыол\n",
      "мылзо\n",
      "шыло\n",
      "мылщо\n",
      "гмыло\n",
      "мыо\n",
      "бмыло\n",
      "мылсо\n",
      "мъыло\n",
      "мыл\n",
      "эыло\n",
      "ямыло\n",
      "мыоло\n",
      "мылго\n",
      "меыло\n",
      "мыьло\n",
      "мюыло\n",
      "мщыло\n",
      "мчыло\n",
      "мыцло\n",
      "мыбо\n",
      "мыъо\n",
      "ёмыло\n",
      "фыло\n",
      "мыдло\n",
      "мылуо\n",
      "мылол\n",
      "мылоб\n",
      "мылоа\n",
      "мылво\n",
      "мылов\n",
      "рыло\n",
      "мылшо\n",
      "мфыло\n",
      "мылож\n",
      "мырло\n",
      "мылои\n",
      "чмыло\n",
      "мылок\n",
      "мылр\n",
      "ммыло\n",
      "мылоп\n",
      "мдыло\n",
      "дыло\n",
      "млыло\n",
      "оыло\n",
      "мылот\n",
      "мылох\n",
      "ымыло\n",
      "кыло\n",
      "мылцо\n",
      "млыо\n",
      "мзыло\n",
      "мылоы\n",
      "мылоъ\n",
      "мылоэ\n",
      "мылоь\n",
      "мылоя\n",
      "мылою\n",
      "мылоё\n",
      "мыхо\n",
      "мгыло\n",
      "мылс\n",
      "мыао\n",
      "яыло\n",
      "рмыло\n",
      "мыэо\n",
      "мылон\n",
      "ыло\n",
      "мыио\n",
      "мылю\n",
      "мылт\n",
      "мыльо\n",
      "мылпо\n",
      "мылош\n"
     ]
    }
   ],
   "source": [
    "for el in edits1(u'мыло'):\n",
    "    print el"
   ]
  },
  {
   "cell_type": "code",
   "execution_count": 8,
   "metadata": {
    "collapsed": true
   },
   "outputs": [],
   "source": [
    "# на расстоянии 2 правок\n",
    "def edits2(word):\n",
    "    return list(set(e2 for e1 in edits1(word) for e2 in edits1(e1)))"
   ]
  },
  {
   "cell_type": "markdown",
   "metadata": {},
   "source": [
    "Число всех возможных правок может быть крайне велико. Для того, чтобы сократить число возможных проверок следует проверить их на наличие в словаре (напоминаем, что он представляет собой все возможное пространство исходов.)"
   ]
  },
  {
   "cell_type": "code",
   "execution_count": 9,
   "metadata": {
    "collapsed": true
   },
   "outputs": [],
   "source": [
    "def check_in_vocab(words):\n",
    "    if isinstance(words, unicode):\n",
    "        words = [words]\n",
    "    return filter(lambda x: x in vocab,words)"
   ]
  },
  {
   "cell_type": "markdown",
   "metadata": {},
   "source": [
    "Простейшая модель - считать, что правки длины один гораздо более вероятны, нежели правки длины два, правки длины два ... и так далее."
   ]
  },
  {
   "cell_type": "code",
   "execution_count": 10,
   "metadata": {
    "collapsed": true
   },
   "outputs": [],
   "source": [
    "def correct(word):\n",
    "    candidates = check_in_vocab([word]) or check_in_vocab(edits1(word)) or check_in_vocab(edits2(word)) or [word]\n",
    "    return max(candidates, key=vocab.get)"
   ]
  },
  {
   "cell_type": "markdown",
   "metadata": {},
   "source": [
    "Так как словарь маленький, то не все корректировки успешны. Однако чем более и более полным становится словарь, то тем выше становится качество модели."
   ]
  },
  {
   "cell_type": "code",
   "execution_count": 11,
   "metadata": {
    "collapsed": false
   },
   "outputs": [
    {
     "name": "stdout",
     "output_type": "stream",
     "text": [
      "лошадь\n"
     ]
    }
   ],
   "source": [
    "print correct(u'лошать')"
   ]
  },
  {
   "cell_type": "code",
   "execution_count": 12,
   "metadata": {
    "collapsed": false
   },
   "outputs": [
    {
     "name": "stdout",
     "output_type": "stream",
     "text": [
      "милый\n"
     ]
    }
   ],
   "source": [
    "print correct(u'силый')"
   ]
  },
  {
   "cell_type": "code",
   "execution_count": 13,
   "metadata": {
    "collapsed": false
   },
   "outputs": [
    {
     "name": "stdout",
     "output_type": "stream",
     "text": [
      "болото\n"
     ]
    }
   ],
   "source": [
    "print correct(u'балото')"
   ]
  },
  {
   "cell_type": "code",
   "execution_count": 14,
   "metadata": {
    "collapsed": false
   },
   "outputs": [
    {
     "name": "stdout",
     "output_type": "stream",
     "text": [
      "телефон\n"
     ]
    }
   ],
   "source": [
    "print correct(u'тилифон')"
   ]
  }
 ],
 "metadata": {
  "kernelspec": {
   "display_name": "Python 2",
   "language": "python",
   "name": "python2"
  },
  "language_info": {
   "codemirror_mode": {
    "name": "ipython",
    "version": 2
   },
   "file_extension": ".py",
   "mimetype": "text/x-python",
   "name": "python",
   "nbconvert_exporter": "python",
   "pygments_lexer": "ipython2",
   "version": "2.7.11+"
  }
 },
 "nbformat": 4,
 "nbformat_minor": 0
}
