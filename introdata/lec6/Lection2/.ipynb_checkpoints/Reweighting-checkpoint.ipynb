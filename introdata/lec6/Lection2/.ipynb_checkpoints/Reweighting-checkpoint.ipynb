{
 "cells": [
  {
   "cell_type": "markdown",
   "metadata": {},
   "source": [
    "### Перевзвешивание и эффективная база"
   ]
  },
  {
   "cell_type": "code",
   "execution_count": 1,
   "metadata": {
    "collapsed": true
   },
   "outputs": [],
   "source": [
    "import numpy as np\n",
    "import pandas as pd"
   ]
  },
  {
   "cell_type": "code",
   "execution_count": 2,
   "metadata": {
    "collapsed": true
   },
   "outputs": [],
   "source": [
    "data = pd.read_csv('adult.data' , sep=',')"
   ]
  },
  {
   "cell_type": "markdown",
   "metadata": {},
   "source": [
    "Превратим числовую переменную age в ординальную:"
   ]
  },
  {
   "cell_type": "code",
   "execution_count": 3,
   "metadata": {
    "collapsed": true
   },
   "outputs": [],
   "source": [
    "data[\"age_segm\"] = pd.cut(data[\"age\"], bins = 3)"
   ]
  },
  {
   "cell_type": "markdown",
   "metadata": {},
   "source": [
    "Имитируем выборку"
   ]
  },
  {
   "cell_type": "code",
   "execution_count": 4,
   "metadata": {
    "collapsed": true
   },
   "outputs": [],
   "source": [
    "sample = data[:200]\n",
    "pop = data[200:]"
   ]
  },
  {
   "cell_type": "markdown",
   "metadata": {},
   "source": [
    "Построим частнотные таблицы:"
   ]
  },
  {
   "cell_type": "code",
   "execution_count": 5,
   "metadata": {
    "collapsed": true
   },
   "outputs": [],
   "source": [
    "counts_sample = sample.groupby([\"sex\", \"age_segm\"], as_index=False).agg({'education-num': np.size})\n",
    "counts_sample.columns = [\"sex\", \"age_segm\", \"cnt_sample\"]"
   ]
  },
  {
   "cell_type": "code",
   "execution_count": 6,
   "metadata": {
    "collapsed": false
   },
   "outputs": [
    {
     "name": "stdout",
     "output_type": "stream",
     "text": [
      "      sex          age_segm  cnt_sample\n",
      "0  Female  (16.927, 41.333]          36\n",
      "1  Female  (41.333, 65.667]          22\n",
      "2  Female      (65.667, 90]           2\n",
      "3    Male  (16.927, 41.333]          89\n",
      "4    Male  (41.333, 65.667]          46\n",
      "5    Male      (65.667, 90]           5\n"
     ]
    }
   ],
   "source": [
    "print counts_sample"
   ]
  },
  {
   "cell_type": "code",
   "execution_count": 7,
   "metadata": {
    "collapsed": true
   },
   "outputs": [],
   "source": [
    "counts_pop = pop.groupby([\"sex\", \"age_segm\"], as_index=False).agg({'education-num': np.size})\n",
    "counts_pop.columns = [\"sex\", \"age_segm\", \"cnt_pop\"]"
   ]
  },
  {
   "cell_type": "code",
   "execution_count": 8,
   "metadata": {
    "collapsed": false
   },
   "outputs": [
    {
     "name": "stdout",
     "output_type": "stream",
     "text": [
      "      sex          age_segm  cnt_sample\n",
      "0  Female  (16.927, 41.333]          36\n",
      "1  Female  (41.333, 65.667]          22\n",
      "2  Female      (65.667, 90]           2\n",
      "3    Male  (16.927, 41.333]          89\n",
      "4    Male  (41.333, 65.667]          46\n",
      "5    Male      (65.667, 90]           5\n"
     ]
    }
   ],
   "source": [
    "print counts_sample"
   ]
  },
  {
   "cell_type": "code",
   "execution_count": 9,
   "metadata": {
    "collapsed": true
   },
   "outputs": [],
   "source": [
    "counts_sample[\"cnt_sample\"] = counts_sample[\"cnt_sample\"] / (sample.shape[0]*1.0 / pop.shape[0])"
   ]
  },
  {
   "cell_type": "markdown",
   "metadata": {},
   "source": [
    "Рассчитаем веса:"
   ]
  },
  {
   "cell_type": "code",
   "execution_count": 10,
   "metadata": {
    "collapsed": true
   },
   "outputs": [],
   "source": [
    "weights = counts_sample.merge(counts_pop, on= [\"sex\", \"age_segm\"])\n",
    "\n",
    "weights[\"weights\"] = 1.0 * weights[\"cnt_pop\"] / weights[\"cnt_sample\"]\n",
    "\n",
    "sample = sample.merge(weights, on = [\"sex\", \"age_segm\"])"
   ]
  },
  {
   "cell_type": "markdown",
   "metadata": {},
   "source": [
    "Удостоверимся, что сумма весов равна первоначальному размеру выборки:"
   ]
  },
  {
   "cell_type": "code",
   "execution_count": 11,
   "metadata": {
    "collapsed": false
   },
   "outputs": [
    {
     "data": {
      "text/plain": [
       "200.0"
      ]
     },
     "execution_count": 11,
     "metadata": {},
     "output_type": "execute_result"
    }
   ],
   "source": [
    "sample[\"weights\"].sum()"
   ]
  },
  {
   "cell_type": "markdown",
   "metadata": {},
   "source": [
    "Рассчитаем размер эффективной базы:"
   ]
  },
  {
   "cell_type": "code",
   "execution_count": 12,
   "metadata": {
    "collapsed": true
   },
   "outputs": [],
   "source": [
    "effective_base = np.square(np.sum(sample[\"weights\"])) / np.sum(np.square(sample[\"weights\"]))"
   ]
  },
  {
   "cell_type": "code",
   "execution_count": 13,
   "metadata": {
    "collapsed": false
   },
   "outputs": [
    {
     "name": "stdout",
     "output_type": "stream",
     "text": [
      "196.852674833\n"
     ]
    }
   ],
   "source": [
    "print effective_base"
   ]
  }
 ],
 "metadata": {
  "kernelspec": {
   "display_name": "Python 2",
   "language": "python",
   "name": "python2"
  },
  "language_info": {
   "codemirror_mode": {
    "name": "ipython",
    "version": 2
   },
   "file_extension": ".py",
   "mimetype": "text/x-python",
   "name": "python",
   "nbconvert_exporter": "python",
   "pygments_lexer": "ipython2",
   "version": "2.7.11+"
  }
 },
 "nbformat": 4,
 "nbformat_minor": 1
}
