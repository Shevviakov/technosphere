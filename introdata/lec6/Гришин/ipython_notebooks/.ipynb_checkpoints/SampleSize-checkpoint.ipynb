{
 "cells": [
  {
   "cell_type": "code",
   "execution_count": 1,
   "metadata": {
    "collapsed": true
   },
   "outputs": [],
   "source": [
    "import numpy as np"
   ]
  },
  {
   "cell_type": "markdown",
   "metadata": {},
   "source": [
    "### Оценка необходимого объема выборки для оценки среднего"
   ]
  },
  {
   "cell_type": "markdown",
   "metadata": {},
   "source": [
    "Вспомним вид доверительного интервала для среднего:\n",
    "$$ \\bar{X} \\pm t_{\\alpha/2, n-1} \\frac{S}{\\sqrt{n}}.$$"
   ]
  },
  {
   "cell_type": "markdown",
   "metadata": {},
   "source": [
    "У нас есть два параметра - размер предельной ошибки $\\epsilon$ и уровень доверия $1-\\alpha$. Очевидно, что предельная ошибка равна:\n",
    "$$ \\epsilon = t_{\\alpha/2, n-1} \\frac{S}{\\sqrt{n}}.$$\n",
    "Разрешая относительно $n$, получим:\n",
    "$$ n = \\frac{t_{\\alpha/2, n-1}^2S^2}{\\epsilon^2}.$$"
   ]
  },
  {
   "cell_type": "markdown",
   "metadata": {},
   "source": [
    "Чтобы избавиться от $n$ справа, придется воспользоваться нормальным приближением:\n",
    "$$ n \\approx \\frac{z_{\\alpha/2}^2S^2}{\\epsilon^2}.$$"
   ]
  },
  {
   "cell_type": "markdown",
   "metadata": {},
   "source": [
    "Для оценки S необходимо вопользоваться эмпирическими правилами, например, $\\hat{S}_{emp} = \\frac{Max-Min}{4}.$"
   ]
  },
  {
   "cell_type": "markdown",
   "metadata": {},
   "source": [
    "### Оценка необходимого объема выборки для оценки среднего"
   ]
  },
  {
   "cell_type": "markdown",
   "metadata": {},
   "source": [
    "Вспомним вид доверительного интервала для доли:\n",
    "$$ \\hat{p} \\pm z_{\\alpha/2} \\sqrt{\\frac{\\hat{p}(1-\\hat{p})}{n}.} $$"
   ]
  },
  {
   "cell_type": "markdown",
   "metadata": {},
   "source": [
    "Приравнивая $\\epsilon$ к отклонениям от оценки:\n",
    "$$ \\epsilon = z_{\\alpha/2} \\sqrt{\\frac{\\hat{p}(1-\\hat{p})}{n}} $$\n",
    "Получим:\n",
    "$$ n = \\frac{z_{\\alpha/2}^{2}(\\hat{p}(1-\\hat{p}))}{\\epsilon^2}.$$"
   ]
  },
  {
   "cell_type": "markdown",
   "metadata": {},
   "source": [
    "Максимальное значение $\\hat{p}(1-\\hat{p})$ достигается при $\\hat{p} = 1/2$, можно использовать это для консервативной оценки необходимого объема выборки."
   ]
  },
  {
   "cell_type": "markdown",
   "metadata": {},
   "source": [
    "Для маленьких генеральных совокупностей обычно применяется корректировка:\n",
    "\n",
    "$$ n = \\frac{m}{1+\\frac{m-1}{N}}, $$\n",
    "где $m$ определено как:\n",
    "\n",
    "$$ m = \\frac{z_{\\alpha/2}^{2}(\\hat{p}(1-\\hat{p}))}{\\epsilon^2}.$$"
   ]
  },
  {
   "cell_type": "code",
   "execution_count": null,
   "metadata": {
    "collapsed": true
   },
   "outputs": [],
   "source": []
  }
 ],
 "metadata": {
  "kernelspec": {
   "display_name": "Python 2",
   "language": "python",
   "name": "python2"
  },
  "language_info": {
   "codemirror_mode": {
    "name": "ipython",
    "version": 2
   },
   "file_extension": ".py",
   "mimetype": "text/x-python",
   "name": "python",
   "nbconvert_exporter": "python",
   "pygments_lexer": "ipython2",
   "version": "2.7.10"
  }
 },
 "nbformat": 4,
 "nbformat_minor": 0
}
