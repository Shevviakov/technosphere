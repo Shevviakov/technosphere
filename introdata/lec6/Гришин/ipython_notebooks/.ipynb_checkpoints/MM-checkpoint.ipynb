{
 "cells": [
  {
   "cell_type": "code",
   "execution_count": 4,
   "metadata": {
    "collapsed": true
   },
   "outputs": [],
   "source": [
    "import numpy as np\n",
    "import scipy.stats as stats"
   ]
  },
  {
   "cell_type": "markdown",
   "metadata": {},
   "source": [
    "## Метод моментов"
   ]
  },
  {
   "cell_type": "markdown",
   "metadata": {},
   "source": [
    "Из того, что мы обсудили в лекции, для получения оценки методом моментов достаточно:\n",
    "\n",
    "* Получить оценку первого выборочного момента $M_1 = \\frac{1}{n} \\sum_{i=1}^{n} X_{i}$ и приравнять ее к теоретическому значению $E(X) = \\frac{1}{n}\\sum_{i=1}^{n} X_{i}$;\n",
    "* Получить оценку второго выборочного момента $M_2 = \\frac{1}{n} \\sum_{i=1}^{n} X_{i}^{2}$ и приравнять ее к теоретическому значению $E(X^2) = \\frac{1}{n} \\sum_{i=1}^{n} X_{i}^{2}$;\n",
    "* Продолжить, пока число уравнений не станет равным числу параметров."
   ]
  },
  {
   "cell_type": "markdown",
   "metadata": {},
   "source": [
    "Далее будем считать, что $X_1, ..., X_n$ - независимые одинаково распределенные случайные величины."
   ]
  },
  {
   "cell_type": "markdown",
   "metadata": {},
   "source": [
    "### Распределение Бернулли"
   ]
  },
  {
   "cell_type": "markdown",
   "metadata": {},
   "source": [
    "Параметр у распределения один - $p$. Тогда, нам будет достаточно разрешить следующее уравнение:\n",
    "$$ E_p(X) = \\frac{1}{n}\\sum_{i=1}^{n} X_i,$$\n",
    "$$ p = \\frac{1}{n}\\sum_{i=1}^{n} X_i.$$\n",
    "откуда следует $ \\hat{p} = \\sum_{i=1}^{n} X_i $."
   ]
  },
  {
   "cell_type": "markdown",
   "metadata": {},
   "source": [
    "### Нормальное распределение"
   ]
  },
  {
   "cell_type": "markdown",
   "metadata": {},
   "source": [
    "Нормальное распределение определяется 2 параметрами - $\\mu$ и $\\sigma$. Соответственно, нам необходимо разрешить 2 уравнения."
   ]
  },
  {
   "cell_type": "markdown",
   "metadata": {},
   "source": [
    "Как и ранее, уравняем теоретические значения моментов и их выборочные аналоги:\n",
    "$$ E(X) = \\mu = \\frac{1}{n} \\sum_{i=1}^{n}X_i,$$\n",
    "$$ E(X^2)= V(X) + (E(X))^2 = \\sigma^2 + \\mu^2 = \\frac{1}{n} \\sum_{i=1}^{n}X_i^2.$$\n",
    "\n",
    "Отсюда получаем:\n",
    "$$ \\hat{\\mu} = \\bar{X} = \\frac{1}{n} \\sum_{i=1}^{n}X_i,$$\n",
    "$$ \\hat{\\sigma}^2 = \\frac{1}{n} \\sum_{i=1}^{n}X_i^2 - \\bar{X} = \\frac{1}{n} \\sum_{i=1}^{n}(X_i- \\bar{X})^2.  $$"
   ]
  },
  {
   "cell_type": "code",
   "execution_count": 36,
   "metadata": {
    "collapsed": false
   },
   "outputs": [],
   "source": [
    "mu, sigma = 3, 1\n",
    "s = np.random.normal(mu, sigma, 1000)"
   ]
  },
  {
   "cell_type": "code",
   "execution_count": 37,
   "metadata": {
    "collapsed": false
   },
   "outputs": [
    {
     "data": {
      "text/plain": [
       "3.0766117561345183"
      ]
     },
     "execution_count": 37,
     "metadata": {},
     "output_type": "execute_result"
    }
   ],
   "source": [
    "np.mean(s)"
   ]
  },
  {
   "cell_type": "markdown",
   "metadata": {},
   "source": [
    "Как мы можем заметить, выборочная оценка не всегда с точностью равна парметру распределения. Однако, как мы помним, выборочная оценка сама является случайной величиной - поэтому следует думать о ней в терминах вероятности. Ответ на вопрос - в каких пределах может находиться значение оценки с заданной точностью - призвано дать интервальное оценивание."
   ]
  },
  {
   "cell_type": "markdown",
   "metadata": {},
   "source": [
    "## Метод моментов - альтернативная формулировка"
   ]
  },
  {
   "cell_type": "markdown",
   "metadata": {},
   "source": [
    "Из того, что мы обсудили в лекции, для получения оценки методом моментов достаточно:\n",
    "\n",
    "* Получить оценку первого выборочного момента $M_1 = \\frac{1}{n} \\sum_{i=1}^{n} X_{i}$ и приравнять ее к теоретическому значению $E(X) = \\frac{1}{n}\\sum_{i=1}^{n} X_{i}$;\n",
    "* Получить оценку второго выборочного центрального момента $M_2 = \\frac{1}{n} \\sum_{i=1}^{n} (X_{i} - M_1)^{2}$ и приравнять ее к теоретическому значению $E((X-\\mu)^2)$.\n",
    "* Продолжить, пока число уравнений не станет равным числу параметров."
   ]
  },
  {
   "cell_type": "markdown",
   "metadata": {},
   "source": [
    "Можно показать, что данные методы эквивалентны. Для некоторых задач удобнее воспользоваться альтернативной формулировкой."
   ]
  },
  {
   "cell_type": "markdown",
   "metadata": {},
   "source": [
    "### Гамма распределение"
   ]
  },
  {
   "cell_type": "markdown",
   "metadata": {},
   "source": [
    "Напомним, что гамма- распределение является двупараметрическим с параметрами $\\alpha$ и $\\theta$."
   ]
  },
  {
   "cell_type": "markdown",
   "metadata": {},
   "source": [
    "Теоретические моменты опеределены как:\n",
    "$$ E(X) = \\alpha\\theta,$$\n",
    "$$ V(X) = \\alpha\\theta^2.$$"
   ]
  },
  {
   "cell_type": "markdown",
   "metadata": {},
   "source": [
    "Получим:\n",
    "$$\\alpha\\theta = \\frac{1}{n} \\sum_{i=1}^{n} X_i, $$\n",
    "$$\\alpha\\theta^2 = \\frac{1}{n} \\sum_{i=1}^{n} (X_i-\\bar{X})^2. $$"
   ]
  },
  {
   "cell_type": "markdown",
   "metadata": {},
   "source": [
    "Легко можно преобразовать:\n",
    "$$\\alpha = \\frac{\\bar{X}}{\\theta}, $$\n",
    "$$\\alpha\\theta^2 = \\frac{\\bar{X}}{\\theta}\\theta^2 = \\bar{X}\\theta = \\frac{1}{n} \\sum_{i=1}^{n} (X_i-\\bar{X})^2.$$"
   ]
  },
  {
   "cell_type": "markdown",
   "metadata": {},
   "source": [
    "Тогда:\n",
    "$$ \\hat{\\theta} = \\frac{1}{n\\bar{X}} \\sum_{i=1}^{n} (X_i-\\bar{X})^2,$$\n",
    "$$ \\hat{\\alpha} = \\frac{\\bar{X}}{\\hat{\\theta}} = \\frac{n\\bar{X}^2}{\\sum_{i=1}^{n} (X_i-\\bar{X})^2}. $$"
   ]
  },
  {
   "cell_type": "code",
   "execution_count": 53,
   "metadata": {
    "collapsed": true
   },
   "outputs": [],
   "source": [
    "shape, scale = 2.0, 2.5\n",
    "s = np.random.gamma(shape, scale, 1000)"
   ]
  },
  {
   "cell_type": "code",
   "execution_count": 64,
   "metadata": {
    "collapsed": false
   },
   "outputs": [],
   "source": [
    "mean = np.mean(s)\n",
    "theta = 1/(float(len(s))*mean) * np.sum(np.power(s - mean, 2))\n",
    "alpha = mean/theta"
   ]
  },
  {
   "cell_type": "code",
   "execution_count": 65,
   "metadata": {
    "collapsed": false
   },
   "outputs": [
    {
     "data": {
      "text/plain": [
       "2.0247819919070396"
      ]
     },
     "execution_count": 65,
     "metadata": {},
     "output_type": "execute_result"
    }
   ],
   "source": [
    "alpha"
   ]
  },
  {
   "cell_type": "code",
   "execution_count": 66,
   "metadata": {
    "collapsed": false
   },
   "outputs": [
    {
     "data": {
      "text/plain": [
       "2.5597654949274675"
      ]
     },
     "execution_count": 66,
     "metadata": {},
     "output_type": "execute_result"
    }
   ],
   "source": [
    "theta"
   ]
  },
  {
   "cell_type": "code",
   "execution_count": null,
   "metadata": {
    "collapsed": true
   },
   "outputs": [],
   "source": []
  }
 ],
 "metadata": {
  "kernelspec": {
   "display_name": "Python 2",
   "language": "python",
   "name": "python2"
  },
  "language_info": {
   "codemirror_mode": {
    "name": "ipython",
    "version": 2
   },
   "file_extension": ".py",
   "mimetype": "text/x-python",
   "name": "python",
   "nbconvert_exporter": "python",
   "pygments_lexer": "ipython2",
   "version": "2.7.10"
  }
 },
 "nbformat": 4,
 "nbformat_minor": 0
}
