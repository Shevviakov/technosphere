{
 "cells": [
  {
   "cell_type": "code",
   "execution_count": 3,
   "metadata": {
    "collapsed": true
   },
   "outputs": [],
   "source": [
    "import numpy as np\n",
    "import scipy.stats as stats"
   ]
  },
  {
   "cell_type": "markdown",
   "metadata": {},
   "source": [
    "## Доверительный интервал для оценки среднего"
   ]
  },
  {
   "cell_type": "markdown",
   "metadata": {},
   "source": [
    "Как мы установили ранее, $\\bar{X}$ является несмещенной оценкой среднего, которая распределена асимптотически нормально. Стандартная ошибка среднего в данном случае $\\frac{\\sigma}{\\sqrt{n}}$."
   ]
  },
  {
   "cell_type": "markdown",
   "metadata": {},
   "source": [
    "Так как истинное значение нам неизвестно, мы используем оценку:\n",
    "$$ S^2 = \\frac{1}{n-1}\\sum_{i=1}^{n} (X_i - \\bar{X})^2.$$"
   ]
  },
  {
   "cell_type": "markdown",
   "metadata": {},
   "source": [
    "Получается, что вместо статистики:\n",
    "$$ \\frac{\\bar{X} - \\mu}{\\sigma/\\sqrt{n}}, $$\n",
    "\n",
    "мы используем статистику:\n",
    "\n",
    "$$ \\frac{\\bar{X} - \\mu}{S/\\sqrt{n}}. $$"
   ]
  },
  {
   "cell_type": "markdown",
   "metadata": {},
   "source": [
    "Мы уже знаем, что асимптотически \\bar{X} все равно распределена нормально, однако на практике различия могут быть существенными. Поэтому, используется истинное распределение искомой статистики, а именно t-распределение Стьюдента."
   ]
  },
  {
   "cell_type": "markdown",
   "metadata": {},
   "source": [
    "Доверительным интервалом для оценки среднего $\\bar{X}$ по выборке размера $n$ называется интервал вида:\n",
    "$$ \\bar{X} \\pm t_{\\alpha/2, n-1} \\frac{S}{\\sqrt{n}}.$$\n",
    "\n"
   ]
  },
  {
   "cell_type": "code",
   "execution_count": 6,
   "metadata": {
    "collapsed": false
   },
   "outputs": [
    {
     "data": {
      "text/plain": [
       "(-2.131449545559323, 2.131449545559323)"
      ]
     },
     "execution_count": 6,
     "metadata": {},
     "output_type": "execute_result"
    }
   ],
   "source": [
    "stats.t.interval(0.95, 15)"
   ]
  },
  {
   "cell_type": "markdown",
   "metadata": {},
   "source": [
    "Асимптотически, распределение Стьдента сходится к нормальному распределению."
   ]
  },
  {
   "cell_type": "markdown",
   "metadata": {},
   "source": [
    "## Доверительный интервал для оценки дисперсии"
   ]
  },
  {
   "cell_type": "markdown",
   "metadata": {},
   "source": [
    "Для нормально распределенной выборки $X_1, ..., X_n$ доверительный интервал для дисперсии принимает вид:\n",
    "$$\\frac{(n-1)S^2}{b} \\leq \\sigma^2 \\leq \\frac{(n-1)S^2}{a},$$\n",
    "где $a = \\chi^{2}_{1-\\alpha/2, n-1}$ и $b = \\chi^{2}_{\\alpha/2, n-1}.$ "
   ]
  },
  {
   "cell_type": "code",
   "execution_count": 8,
   "metadata": {
    "collapsed": false
   },
   "outputs": [
    {
     "data": {
      "text/plain": [
       "(6.2621377950432526, 27.488392863442979)"
      ]
     },
     "execution_count": 8,
     "metadata": {},
     "output_type": "execute_result"
    }
   ],
   "source": [
    "stats.chi2.interval(0.95, 15)"
   ]
  },
  {
   "cell_type": "markdown",
   "metadata": {},
   "source": [
    "## Доверительный интервал для оценки доли"
   ]
  },
  {
   "cell_type": "markdown",
   "metadata": {},
   "source": [
    "Вспомним, что для распределения Бернулли $V(X) = p(1-p).$ Тогда, если мы хотим оценить долю, т.е. отношение суммы положительных ответов к общему числу ответов, $\\hat{p} = \\bar{X}.$"
   ]
  },
  {
   "cell_type": "markdown",
   "metadata": {},
   "source": [
    "Доверительный интервал для доли: \n",
    "$$ \\hat{p} \\pm z_{\\alpha/2} \\sqrt{\\frac{\\hat{p}(1-\\hat{p})}{n}.} $$"
   ]
  },
  {
   "cell_type": "code",
   "execution_count": 9,
   "metadata": {
    "collapsed": false
   },
   "outputs": [
    {
     "data": {
      "text/plain": [
       "(-1.959963984540054, 1.959963984540054)"
      ]
     },
     "execution_count": 9,
     "metadata": {},
     "output_type": "execute_result"
    }
   ],
   "source": [
    "stats.norm.interval(0.95)"
   ]
  },
  {
   "cell_type": "markdown",
   "metadata": {},
   "source": [
    "## Пример: A/B тесты"
   ]
  },
  {
   "cell_type": "markdown",
   "metadata": {},
   "source": [
    "Одним из самых распостраненных способов использования доверительных интервалов - тест на разность доли в 2 группах, особенно важный для A/B тестов."
   ]
  },
  {
   "cell_type": "markdown",
   "metadata": {},
   "source": [
    "Будем считать, что у нас есть 2 группы: контрольная и тестовая, причем нас интересует доля пользователей ,совершивших некоторое действие. Как мы уже знаем, доля является случайной величиной, а нам хотелось бы получить ответ на вопрос: можем ли мы считать разницу в долях случайной, или возникшей на некоторой регулярной основе?"
   ]
  },
  {
   "cell_type": "markdown",
   "metadata": {},
   "source": [
    "Доверительный интервал для разности двух долей $p_1$ и $p_2$:\n",
    "$$ (\\hat{p_1}-\\hat{p_2}) \\pm  z_{\\alpha/2} \\sqrt{\\frac{\\hat{p_1}(1-\\hat{p_1})}{n} \\frac{\\hat{p_2}(1-\\hat{p_2})}{n} }.$$"
   ]
  },
  {
   "cell_type": "markdown",
   "metadata": {},
   "source": [
    "Применение данной статистики для нахождения значимости изменений давно стало частью общераспостраненной методолгии, пример можно найти, например, тут: \n",
    "https://developer.amazon.com/public/apis/manage/ab-testing/doc/math-behind-ab-testing"
   ]
  },
  {
   "cell_type": "code",
   "execution_count": null,
   "metadata": {
    "collapsed": true
   },
   "outputs": [],
   "source": []
  }
 ],
 "metadata": {
  "kernelspec": {
   "display_name": "Python 2",
   "language": "python",
   "name": "python2"
  },
  "language_info": {
   "codemirror_mode": {
    "name": "ipython",
    "version": 2
   },
   "file_extension": ".py",
   "mimetype": "text/x-python",
   "name": "python",
   "nbconvert_exporter": "python",
   "pygments_lexer": "ipython2",
   "version": "2.7.10"
  }
 },
 "nbformat": 4,
 "nbformat_minor": 0
}
