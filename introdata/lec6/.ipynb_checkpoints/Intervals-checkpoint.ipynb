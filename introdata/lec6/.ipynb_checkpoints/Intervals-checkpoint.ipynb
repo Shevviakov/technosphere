{
 "cells": [
  {
   "cell_type": "markdown",
   "metadata": {},
   "source": [
    "### Построение доверительных интервалов"
   ]
  },
  {
   "cell_type": "code",
   "execution_count": 1,
   "metadata": {
    "collapsed": true
   },
   "outputs": [],
   "source": [
    "import numpy as np\n",
    "import scipy.stats as stats\n",
    "import matplotlib"
   ]
  },
  {
   "cell_type": "markdown",
   "metadata": {},
   "source": [
    "Сгенерируем случайную, нормально распределенную случайную величину, и построим доверительные интервалы для её математического ожидания"
   ]
  },
  {
   "cell_type": "code",
   "execution_count": 2,
   "metadata": {
    "collapsed": false
   },
   "outputs": [],
   "source": [
    "first_normal =  stats.norm.rvs(0,1,20)\n",
    "second_normal = stats.norm.rvs(0,1,20)\n",
    "\n",
    "sample_means = (first_normal+second_normal)/2\n",
    "\n",
    "sample_var = (np.square(sample_means-first_normal)+np.square(sample_means-second_normal))\n",
    "\n",
    "lower_bound = sample_means + stats.t.ppf(0.025, 1) * np.sqrt(sample_var/2)\n",
    "upper_bound = sample_means + stats.t.ppf(0.975, 1) * np.sqrt(sample_var/2)"
   ]
  },
  {
   "cell_type": "code",
   "execution_count": 3,
   "metadata": {
    "collapsed": false
   },
   "outputs": [
    {
     "data": {
      "text/plain": [
       "[(-4.2323413604686051, 3.6498022205593497),\n",
       " (-7.0749627971755196, 6.4234276370669026),\n",
       " (-18.211067604837819, 19.197046412240176),\n",
       " (-7.7433939002306413, 8.6752829032183545),\n",
       " (-23.192920355603526, 20.544556996206378),\n",
       " (-5.0032705676711977, 5.9657852725110043),\n",
       " (-23.581898106339377, 24.022486803857195),\n",
       " (-19.196635127907889, 17.771890934656714),\n",
       " (-13.187475451764854, 12.799636745159296),\n",
       " (-8.4176156984076709, 7.6333878578283088),\n",
       " (-4.8927227294096181, 6.3360319953942117),\n",
       " (-11.151277866389366, 12.619446465176056),\n",
       " (-1.1162932061096573, -0.16051634488688343),\n",
       " (-6.7882740770029724, 5.7750331717406027),\n",
       " (-3.2658222785571533, 2.7883568800800846),\n",
       " (-12.810004612274355, 11.070360056076755),\n",
       " (-8.3225594283332516, 6.7056771326073834),\n",
       " (-1.8251113092336722, 3.8166012256989528),\n",
       " (-5.294170622755658, 4.4361089343972724),\n",
       " (-7.965130081087695, 8.0634444246067059)]"
      ]
     },
     "execution_count": 3,
     "metadata": {},
     "output_type": "execute_result"
    }
   ],
   "source": [
    "zip(lower_bound, upper_bound)"
   ]
  },
  {
   "cell_type": "code",
   "execution_count": 4,
   "metadata": {
    "collapsed": false
   },
   "outputs": [
    {
     "data": {
      "text/plain": [
       "array([ 0.31016908,  0.53117318,  1.47204121,  0.64608894,  1.72110706,\n",
       "        0.43164171,  1.87327317,  1.45474305,  1.02261504,  0.63162069,\n",
       "        0.44186108,  0.93539829,  0.03761064,  0.49437686,  0.23823712,\n",
       "        0.93971273,  0.59137393,  0.2220062 ,  0.3828948 ,  0.63073809])"
      ]
     },
     "execution_count": 4,
     "metadata": {},
     "output_type": "execute_result"
    }
   ],
   "source": [
    "np.sqrt(sample_var/2)"
   ]
  },
  {
   "cell_type": "code",
   "execution_count": 5,
   "metadata": {
    "collapsed": false
   },
   "outputs": [
    {
     "data": {
      "text/plain": [
       "-12.706204736432102"
      ]
     },
     "execution_count": 5,
     "metadata": {},
     "output_type": "execute_result"
    }
   ],
   "source": [
    "stats.t.ppf(0.025, 1)"
   ]
  },
  {
   "cell_type": "code",
   "execution_count": 7,
   "metadata": {
    "collapsed": false
   },
   "outputs": [
    {
     "data": {
      "text/plain": [
       "12.706204736432095"
      ]
     },
     "execution_count": 7,
     "metadata": {},
     "output_type": "execute_result"
    }
   ],
   "source": [
    "stats.t.ppf(0.975, 1)"
   ]
  },
  {
   "cell_type": "code",
   "execution_count": null,
   "metadata": {
    "collapsed": true
   },
   "outputs": [],
   "source": []
  }
 ],
 "metadata": {
  "kernelspec": {
   "display_name": "Python 2",
   "language": "python",
   "name": "python2"
  },
  "language_info": {
   "codemirror_mode": {
    "name": "ipython",
    "version": 2
   },
   "file_extension": ".py",
   "mimetype": "text/x-python",
   "name": "python",
   "nbconvert_exporter": "python",
   "pygments_lexer": "ipython2",
   "version": "2.7.11+"
  }
 },
 "nbformat": 4,
 "nbformat_minor": 1
}
