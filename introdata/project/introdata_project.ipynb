{
 "cells": [
  {
   "cell_type": "markdown",
   "metadata": {},
   "source": [
    "Семестровый проект"
   ]
  },
  {
   "cell_type": "code",
   "execution_count": 2,
   "metadata": {
    "collapsed": true
   },
   "outputs": [],
   "source": [
    "import pandas as pd\n",
    "import numpy as np\n",
    "import seaborn as sns\n",
    "from matplotlib import pyplot as plt\n",
    "from scipy import stats\n",
    "from __future__ import division\n",
    "%matplotlib inline"
   ]
  },
  {
   "cell_type": "markdown",
   "metadata": {},
   "source": [
    "Импортируем наш датасет"
   ]
  },
  {
   "cell_type": "code",
   "execution_count": 3,
   "metadata": {
    "collapsed": false
   },
   "outputs": [
    {
     "name": "stdout",
     "output_type": "stream",
     "text": [
      "data_glossary.csv  data_stores.csv\t  introdata_project.ipynb\r\n",
      "data_products.csv  data_transactions.csv  store.xlsx\r\n"
     ]
    }
   ],
   "source": [
    "!ls"
   ]
  },
  {
   "cell_type": "code",
   "execution_count": 4,
   "metadata": {
    "collapsed": false
   },
   "outputs": [],
   "source": [
    "glossary = pd.read_csv('data_glossary.csv')\n",
    "products = pd.read_csv('data_products.csv')\n",
    "stores = pd.read_csv('data_stores.csv')\n",
    "transactions = pd.read_csv('data_transactions.csv')"
   ]
  },
  {
   "cell_type": "markdown",
   "metadata": {},
   "source": [
    "Посмотрим описание датасета"
   ]
  },
  {
   "cell_type": "code",
   "execution_count": 5,
   "metadata": {
    "collapsed": false
   },
   "outputs": [
    {
     "data": {
      "text/html": [
       "<div>\n",
       "<table border=\"1\" class=\"dataframe\">\n",
       "  <thead>\n",
       "    <tr style=\"text-align: right;\">\n",
       "      <th></th>\n",
       "      <th>VARIABLE NAME</th>\n",
       "      <th>TABLE</th>\n",
       "      <th>DESCRIPTION</th>\n",
       "    </tr>\n",
       "  </thead>\n",
       "  <tbody>\n",
       "    <tr>\n",
       "      <th>0</th>\n",
       "      <td>ADDRESS_CITY_NAME</td>\n",
       "      <td>store lookup</td>\n",
       "      <td>city</td>\n",
       "    </tr>\n",
       "    <tr>\n",
       "      <th>1</th>\n",
       "      <td>ADDRESS_STATE_PROV_CODE</td>\n",
       "      <td>store lookup</td>\n",
       "      <td>state</td>\n",
       "    </tr>\n",
       "    <tr>\n",
       "      <th>2</th>\n",
       "      <td>AVG_WEEKLY_BASKETS</td>\n",
       "      <td>store lookup</td>\n",
       "      <td>average weekly baskets sold in the store</td>\n",
       "    </tr>\n",
       "    <tr>\n",
       "      <th>3</th>\n",
       "      <td>BASE_PRICE</td>\n",
       "      <td>data</td>\n",
       "      <td>base price of item</td>\n",
       "    </tr>\n",
       "    <tr>\n",
       "      <th>4</th>\n",
       "      <td>MANUFACTURER</td>\n",
       "      <td>products lookup</td>\n",
       "      <td>manufacturer</td>\n",
       "    </tr>\n",
       "    <tr>\n",
       "      <th>5</th>\n",
       "      <td>CATEGORY</td>\n",
       "      <td>products lookup</td>\n",
       "      <td>category of product</td>\n",
       "    </tr>\n",
       "    <tr>\n",
       "      <th>6</th>\n",
       "      <td>DESCRIPTION</td>\n",
       "      <td>products lookup</td>\n",
       "      <td>prodcut description</td>\n",
       "    </tr>\n",
       "    <tr>\n",
       "      <th>7</th>\n",
       "      <td>DISPLAY</td>\n",
       "      <td>data</td>\n",
       "      <td>product was a part of in-store promotional dis...</td>\n",
       "    </tr>\n",
       "    <tr>\n",
       "      <th>8</th>\n",
       "      <td>FEATURE</td>\n",
       "      <td>data</td>\n",
       "      <td>product was in in-store circular</td>\n",
       "    </tr>\n",
       "    <tr>\n",
       "      <th>9</th>\n",
       "      <td>HHS</td>\n",
       "      <td>data</td>\n",
       "      <td># of purchasing households</td>\n",
       "    </tr>\n",
       "    <tr>\n",
       "      <th>10</th>\n",
       "      <td>MSA_CODE</td>\n",
       "      <td>store lookup</td>\n",
       "      <td>(Metropolitan Statistical Area) geographic reg...</td>\n",
       "    </tr>\n",
       "    <tr>\n",
       "      <th>11</th>\n",
       "      <td>PARKING_SPACE_QTY</td>\n",
       "      <td>store lookup</td>\n",
       "      <td>number of parking spaces in the store parking lot</td>\n",
       "    </tr>\n",
       "    <tr>\n",
       "      <th>12</th>\n",
       "      <td>PRICE</td>\n",
       "      <td>data</td>\n",
       "      <td>actual amount charged for the product at shelf</td>\n",
       "    </tr>\n",
       "    <tr>\n",
       "      <th>13</th>\n",
       "      <td>WEEK_END_DATE</td>\n",
       "      <td>data</td>\n",
       "      <td>week ending date</td>\n",
       "    </tr>\n",
       "    <tr>\n",
       "      <th>14</th>\n",
       "      <td>SALES_AREA_SIZE_NUM</td>\n",
       "      <td>store lookup</td>\n",
       "      <td>square footage of store</td>\n",
       "    </tr>\n",
       "    <tr>\n",
       "      <th>15</th>\n",
       "      <td>STORE_APPEAL</td>\n",
       "      <td>store lookup</td>\n",
       "      <td>Retailer's designated store appeal</td>\n",
       "    </tr>\n",
       "    <tr>\n",
       "      <th>16</th>\n",
       "      <td>SPEND</td>\n",
       "      <td>data</td>\n",
       "      <td>total spend (i.e., $ sales)</td>\n",
       "    </tr>\n",
       "    <tr>\n",
       "      <th>17</th>\n",
       "      <td>STORE_NUM</td>\n",
       "      <td>data, store lookup</td>\n",
       "      <td>store number</td>\n",
       "    </tr>\n",
       "    <tr>\n",
       "      <th>18</th>\n",
       "      <td>SUB_CATEGORY</td>\n",
       "      <td>products lookup</td>\n",
       "      <td>sub-category of product</td>\n",
       "    </tr>\n",
       "    <tr>\n",
       "      <th>19</th>\n",
       "      <td>TPR_ONLY</td>\n",
       "      <td>data</td>\n",
       "      <td>temporary price reduction only (i.e., shelf ta...</td>\n",
       "    </tr>\n",
       "    <tr>\n",
       "      <th>20</th>\n",
       "      <td>UNITS</td>\n",
       "      <td>data</td>\n",
       "      <td>units sold</td>\n",
       "    </tr>\n",
       "    <tr>\n",
       "      <th>21</th>\n",
       "      <td>UPC</td>\n",
       "      <td>data, products lookup</td>\n",
       "      <td>(Universal Product Code) product specific iden...</td>\n",
       "    </tr>\n",
       "    <tr>\n",
       "      <th>22</th>\n",
       "      <td>VISITS</td>\n",
       "      <td>data</td>\n",
       "      <td>number of unique purchases (baskets) that incl...</td>\n",
       "    </tr>\n",
       "    <tr>\n",
       "      <th>23</th>\n",
       "      <td>PRODUCT_SIZE</td>\n",
       "      <td>products lookup</td>\n",
       "      <td>package size or quantity of product</td>\n",
       "    </tr>\n",
       "  </tbody>\n",
       "</table>\n",
       "</div>"
      ],
      "text/plain": [
       "              VARIABLE NAME                  TABLE  \\\n",
       "0         ADDRESS_CITY_NAME           store lookup   \n",
       "1   ADDRESS_STATE_PROV_CODE           store lookup   \n",
       "2        AVG_WEEKLY_BASKETS           store lookup   \n",
       "3                BASE_PRICE                   data   \n",
       "4              MANUFACTURER        products lookup   \n",
       "5                  CATEGORY        products lookup   \n",
       "6               DESCRIPTION        products lookup   \n",
       "7                   DISPLAY                   data   \n",
       "8                   FEATURE                   data   \n",
       "9                       HHS                   data   \n",
       "10                 MSA_CODE           store lookup   \n",
       "11        PARKING_SPACE_QTY           store lookup   \n",
       "12                    PRICE                   data   \n",
       "13            WEEK_END_DATE                   data   \n",
       "14      SALES_AREA_SIZE_NUM           store lookup   \n",
       "15             STORE_APPEAL           store lookup   \n",
       "16                    SPEND                   data   \n",
       "17                STORE_NUM     data, store lookup   \n",
       "18             SUB_CATEGORY        products lookup   \n",
       "19                 TPR_ONLY                   data   \n",
       "20                    UNITS                   data   \n",
       "21                      UPC  data, products lookup   \n",
       "22                   VISITS                   data   \n",
       "23             PRODUCT_SIZE        products lookup   \n",
       "\n",
       "                                          DESCRIPTION  \n",
       "0                                                city  \n",
       "1                                               state  \n",
       "2            average weekly baskets sold in the store  \n",
       "3                                  base price of item  \n",
       "4                                        manufacturer  \n",
       "5                                 category of product  \n",
       "6                                 prodcut description  \n",
       "7   product was a part of in-store promotional dis...  \n",
       "8                    product was in in-store circular  \n",
       "9                          # of purchasing households  \n",
       "10  (Metropolitan Statistical Area) geographic reg...  \n",
       "11  number of parking spaces in the store parking lot  \n",
       "12     actual amount charged for the product at shelf  \n",
       "13                                   week ending date  \n",
       "14                            square footage of store  \n",
       "15                 Retailer's designated store appeal  \n",
       "16                        total spend (i.e., $ sales)  \n",
       "17                                       store number  \n",
       "18                            sub-category of product  \n",
       "19  temporary price reduction only (i.e., shelf ta...  \n",
       "20                                         units sold  \n",
       "21  (Universal Product Code) product specific iden...  \n",
       "22  number of unique purchases (baskets) that incl...  \n",
       "23                package size or quantity of product  "
      ]
     },
     "execution_count": 5,
     "metadata": {},
     "output_type": "execute_result"
    }
   ],
   "source": [
    "glossary"
   ]
  },
  {
   "cell_type": "markdown",
   "metadata": {},
   "source": [
    "Теперь попробуем выделить что-то интересное из таблицы с магазинами"
   ]
  },
  {
   "cell_type": "code",
   "execution_count": 6,
   "metadata": {
    "collapsed": false
   },
   "outputs": [
    {
     "data": {
      "text/html": [
       "<div>\n",
       "<table border=\"1\" class=\"dataframe\">\n",
       "  <thead>\n",
       "    <tr style=\"text-align: right;\">\n",
       "      <th></th>\n",
       "      <th>STORE_ID</th>\n",
       "      <th>STORE_NAME</th>\n",
       "      <th>ADDRESS_CITY_NAME</th>\n",
       "      <th>ADDRESS_STATE_PROV_CODE</th>\n",
       "      <th>MSA_CODE</th>\n",
       "      <th>SEG_VALUE_NAME</th>\n",
       "      <th>PARKING_SPACE_QTY</th>\n",
       "      <th>SALES_AREA_SIZE_NUM</th>\n",
       "      <th>AVG_WEEKLY_BASKETS</th>\n",
       "    </tr>\n",
       "  </thead>\n",
       "  <tbody>\n",
       "    <tr>\n",
       "      <th>0</th>\n",
       "      <td>389</td>\n",
       "      <td>SILVERLAKE</td>\n",
       "      <td>ERLANGER</td>\n",
       "      <td>KY</td>\n",
       "      <td>17140</td>\n",
       "      <td>MAINSTREAM</td>\n",
       "      <td>408.0</td>\n",
       "      <td>46073</td>\n",
       "      <td>24766.807692</td>\n",
       "    </tr>\n",
       "    <tr>\n",
       "      <th>1</th>\n",
       "      <td>2277</td>\n",
       "      <td>ANDERSON TOWNE CTR</td>\n",
       "      <td>CINCINNATI</td>\n",
       "      <td>OH</td>\n",
       "      <td>17140</td>\n",
       "      <td>UPSCALE</td>\n",
       "      <td>NaN</td>\n",
       "      <td>81958</td>\n",
       "      <td>54052.519231</td>\n",
       "    </tr>\n",
       "    <tr>\n",
       "      <th>2</th>\n",
       "      <td>4259</td>\n",
       "      <td>WARSAW AVENUE</td>\n",
       "      <td>CINCINNATI</td>\n",
       "      <td>OH</td>\n",
       "      <td>17140</td>\n",
       "      <td>VALUE</td>\n",
       "      <td>NaN</td>\n",
       "      <td>48813</td>\n",
       "      <td>31177.333333</td>\n",
       "    </tr>\n",
       "    <tr>\n",
       "      <th>3</th>\n",
       "      <td>6379</td>\n",
       "      <td>KINGWOOD</td>\n",
       "      <td>KINGWOOD</td>\n",
       "      <td>TX</td>\n",
       "      <td>26420</td>\n",
       "      <td>MAINSTREAM</td>\n",
       "      <td>NaN</td>\n",
       "      <td>50237</td>\n",
       "      <td>20620.423077</td>\n",
       "    </tr>\n",
       "    <tr>\n",
       "      <th>4</th>\n",
       "      <td>6431</td>\n",
       "      <td>AT WARD ROAD</td>\n",
       "      <td>BAYTOWN</td>\n",
       "      <td>TX</td>\n",
       "      <td>26420</td>\n",
       "      <td>VALUE</td>\n",
       "      <td>350.0</td>\n",
       "      <td>43698</td>\n",
       "      <td>24321.942308</td>\n",
       "    </tr>\n",
       "  </tbody>\n",
       "</table>\n",
       "</div>"
      ],
      "text/plain": [
       "   STORE_ID          STORE_NAME ADDRESS_CITY_NAME ADDRESS_STATE_PROV_CODE  \\\n",
       "0       389          SILVERLAKE          ERLANGER                      KY   \n",
       "1      2277  ANDERSON TOWNE CTR        CINCINNATI                      OH   \n",
       "2      4259       WARSAW AVENUE        CINCINNATI                      OH   \n",
       "3      6379            KINGWOOD          KINGWOOD                      TX   \n",
       "4      6431        AT WARD ROAD           BAYTOWN                      TX   \n",
       "\n",
       "   MSA_CODE SEG_VALUE_NAME  PARKING_SPACE_QTY  SALES_AREA_SIZE_NUM  \\\n",
       "0     17140     MAINSTREAM              408.0                46073   \n",
       "1     17140        UPSCALE                NaN                81958   \n",
       "2     17140          VALUE                NaN                48813   \n",
       "3     26420     MAINSTREAM                NaN                50237   \n",
       "4     26420          VALUE              350.0                43698   \n",
       "\n",
       "   AVG_WEEKLY_BASKETS  \n",
       "0        24766.807692  \n",
       "1        54052.519231  \n",
       "2        31177.333333  \n",
       "3        20620.423077  \n",
       "4        24321.942308  "
      ]
     },
     "execution_count": 6,
     "metadata": {},
     "output_type": "execute_result"
    }
   ],
   "source": [
    "stores.head()"
   ]
  },
  {
   "cell_type": "code",
   "execution_count": 7,
   "metadata": {
    "collapsed": false
   },
   "outputs": [
    {
     "name": "stderr",
     "output_type": "stream",
     "text": [
      "/home/dima/anaconda2/lib/python2.7/site-packages/numpy/lib/function_base.py:3834: RuntimeWarning: Invalid value encountered in percentile\n",
      "  RuntimeWarning)\n"
     ]
    },
    {
     "data": {
      "text/html": [
       "<div>\n",
       "<table border=\"1\" class=\"dataframe\">\n",
       "  <thead>\n",
       "    <tr style=\"text-align: right;\">\n",
       "      <th></th>\n",
       "      <th>STORE_ID</th>\n",
       "      <th>MSA_CODE</th>\n",
       "      <th>PARKING_SPACE_QTY</th>\n",
       "      <th>SALES_AREA_SIZE_NUM</th>\n",
       "      <th>AVG_WEEKLY_BASKETS</th>\n",
       "    </tr>\n",
       "  </thead>\n",
       "  <tbody>\n",
       "    <tr>\n",
       "      <th>count</th>\n",
       "      <td>79.000000</td>\n",
       "      <td>79.000000</td>\n",
       "      <td>27.000000</td>\n",
       "      <td>79.000000</td>\n",
       "      <td>79.000000</td>\n",
       "    </tr>\n",
       "    <tr>\n",
       "      <th>mean</th>\n",
       "      <td>14502.468354</td>\n",
       "      <td>21236.202532</td>\n",
       "      <td>480.518519</td>\n",
       "      <td>49145.164557</td>\n",
       "      <td>24146.806232</td>\n",
       "    </tr>\n",
       "    <tr>\n",
       "      <th>std</th>\n",
       "      <td>8868.762031</td>\n",
       "      <td>6138.649376</td>\n",
       "      <td>403.659641</td>\n",
       "      <td>13512.452153</td>\n",
       "      <td>8720.396844</td>\n",
       "    </tr>\n",
       "    <tr>\n",
       "      <th>min</th>\n",
       "      <td>367.000000</td>\n",
       "      <td>13140.000000</td>\n",
       "      <td>17.000000</td>\n",
       "      <td>10788.000000</td>\n",
       "      <td>10434.705128</td>\n",
       "    </tr>\n",
       "    <tr>\n",
       "      <th>25%</th>\n",
       "      <td>6183.000000</td>\n",
       "      <td>17140.000000</td>\n",
       "      <td>NaN</td>\n",
       "      <td>43067.500000</td>\n",
       "      <td>17522.432693</td>\n",
       "    </tr>\n",
       "    <tr>\n",
       "      <th>50%</th>\n",
       "      <td>15541.000000</td>\n",
       "      <td>19100.000000</td>\n",
       "      <td>NaN</td>\n",
       "      <td>48594.000000</td>\n",
       "      <td>24567.750000</td>\n",
       "    </tr>\n",
       "    <tr>\n",
       "      <th>75%</th>\n",
       "      <td>23058.000000</td>\n",
       "      <td>26420.000000</td>\n",
       "      <td>NaN</td>\n",
       "      <td>55200.500000</td>\n",
       "      <td>29186.262821</td>\n",
       "    </tr>\n",
       "    <tr>\n",
       "      <th>max</th>\n",
       "      <td>29159.000000</td>\n",
       "      <td>47540.000000</td>\n",
       "      <td>1859.000000</td>\n",
       "      <td>86517.000000</td>\n",
       "      <td>54052.519231</td>\n",
       "    </tr>\n",
       "  </tbody>\n",
       "</table>\n",
       "</div>"
      ],
      "text/plain": [
       "           STORE_ID      MSA_CODE  PARKING_SPACE_QTY  SALES_AREA_SIZE_NUM  \\\n",
       "count     79.000000     79.000000          27.000000            79.000000   \n",
       "mean   14502.468354  21236.202532         480.518519         49145.164557   \n",
       "std     8868.762031   6138.649376         403.659641         13512.452153   \n",
       "min      367.000000  13140.000000          17.000000         10788.000000   \n",
       "25%     6183.000000  17140.000000                NaN         43067.500000   \n",
       "50%    15541.000000  19100.000000                NaN         48594.000000   \n",
       "75%    23058.000000  26420.000000                NaN         55200.500000   \n",
       "max    29159.000000  47540.000000        1859.000000         86517.000000   \n",
       "\n",
       "       AVG_WEEKLY_BASKETS  \n",
       "count           79.000000  \n",
       "mean         24146.806232  \n",
       "std           8720.396844  \n",
       "min          10434.705128  \n",
       "25%          17522.432693  \n",
       "50%          24567.750000  \n",
       "75%          29186.262821  \n",
       "max          54052.519231  "
      ]
     },
     "execution_count": 7,
     "metadata": {},
     "output_type": "execute_result"
    }
   ],
   "source": [
    "stores.describe()"
   ]
  },
  {
   "cell_type": "markdown",
   "metadata": {},
   "source": [
    "Видно, что в столбце с количеством машиномест на парковке магазина есть пропущенные данные, заменим их на 0"
   ]
  },
  {
   "cell_type": "code",
   "execution_count": 8,
   "metadata": {
    "collapsed": false
   },
   "outputs": [],
   "source": [
    "stores['PARKING_SPACE_QTY'] = stores['PARKING_SPACE_QTY'].fillna(0)"
   ]
  },
  {
   "cell_type": "markdown",
   "metadata": {},
   "source": [
    "Посмотрим распределение магазинов по MSA (Metropolitan Statistical Area)"
   ]
  },
  {
   "cell_type": "code",
   "execution_count": 9,
   "metadata": {
    "collapsed": false
   },
   "outputs": [
    {
     "data": {
      "text/plain": [
       "17140    29\n",
       "26420    21\n",
       "19100    19\n",
       "19380     5\n",
       "13140     1\n",
       "47540     1\n",
       "44220     1\n",
       "43300     1\n",
       "17780     1\n",
       "Name: MSA_CODE, dtype: int64"
      ]
     },
     "execution_count": 9,
     "metadata": {},
     "output_type": "execute_result"
    }
   ],
   "source": [
    "stores['MSA_CODE'].value_counts()"
   ]
  },
  {
   "cell_type": "markdown",
   "metadata": {},
   "source": [
    "Видно, что только в трех регионах "
   ]
  },
  {
   "cell_type": "code",
   "execution_count": 10,
   "metadata": {
    "collapsed": false
   },
   "outputs": [
    {
     "name": "stdout",
     "output_type": "stream",
     "text": [
      "MSA 17140 median weekly baskets 24766.807692 and mean 26145.5382405\n",
      "MSA 26420 median weekly baskets 25350.858974 and mean 25080.1489621\n",
      "MSA 19100 median weekly baskets 21946.846154 and mean 20769.3927125\n"
     ]
    },
    {
     "data": {
      "image/png": "[encoded data removed]",
      "text/plain": [
       "<matplotlib.figure.Figure at 0x7fa8bd2f1650>"
      ]
     },
     "metadata": {},
     "output_type": "display_data"
    }
   ],
   "source": [
    "sns.distplot(stores[stores['MSA_CODE'] == 17140]['AVG_WEEKLY_BASKETS'], rug=True, label='17140')\n",
    "sns.distplot(stores[stores['MSA_CODE'] == 26420]['AVG_WEEKLY_BASKETS'], rug=True, label='26420')\n",
    "sns.distplot(stores[stores['MSA_CODE'] == 19100]['AVG_WEEKLY_BASKETS'], rug=True, label='19100')\n",
    "plt.axes().legend()\n",
    "print \"MSA 17140 median weekly baskets\", stores[stores['MSA_CODE'] == 17140]['AVG_WEEKLY_BASKETS'].median(), \"and mean\", stores[stores['MSA_CODE'] == 17140]['AVG_WEEKLY_BASKETS'].mean()\n",
    "print \"MSA 26420 median weekly baskets\", stores[stores['MSA_CODE'] == 26420]['AVG_WEEKLY_BASKETS'].median(), \"and mean\", stores[stores['MSA_CODE'] == 26420]['AVG_WEEKLY_BASKETS'].mean()\n",
    "print \"MSA 19100 median weekly baskets\", stores[stores['MSA_CODE'] == 19100]['AVG_WEEKLY_BASKETS'].median(), \"and mean\", stores[stores['MSA_CODE'] == 19100]['AVG_WEEKLY_BASKETS'].mean()"
   ]
  },
  {
   "cell_type": "code",
   "execution_count": null,
   "metadata": {
    "collapsed": true
   },
   "outputs": [],
   "source": []
  },
  {
   "cell_type": "code",
   "execution_count": 11,
   "metadata": {
    "collapsed": false
   },
   "outputs": [
    {
     "data": {
      "text/plain": [
       "[389,\n",
       " 2277,\n",
       " 4259,\n",
       " 15531,\n",
       " 19265,\n",
       " 25021,\n",
       " 367,\n",
       " 8035,\n",
       " 8041,\n",
       " 25027,\n",
       " 11757,\n",
       " 21227,\n",
       " 21237,\n",
       " 23075,\n",
       " 26973,\n",
       " 4245,\n",
       " 21221,\n",
       " 23055,\n",
       " 24991,\n",
       " 2281,\n",
       " 9825,\n",
       " 15547,\n",
       " 2279,\n",
       " 6179,\n",
       " 11761,\n",
       " 15541,\n",
       " 21213,\n",
       " 23061,\n",
       " 28909]"
      ]
     },
     "execution_count": 11,
     "metadata": {},
     "output_type": "execute_result"
    }
   ],
   "source": [
    "stores[stores['MSA_CODE'] == 17140]['STORE_ID'].tolist()"
   ]
  },
  {
   "cell_type": "code",
   "execution_count": 12,
   "metadata": {
    "collapsed": false
   },
   "outputs": [
    {
     "data": {
      "text/html": [
       "<div>\n",
       "<table border=\"1\" class=\"dataframe\">\n",
       "  <thead>\n",
       "    <tr style=\"text-align: right;\">\n",
       "      <th></th>\n",
       "      <th>VARIABLE NAME</th>\n",
       "      <th>TABLE</th>\n",
       "      <th>DESCRIPTION</th>\n",
       "    </tr>\n",
       "  </thead>\n",
       "  <tbody>\n",
       "    <tr>\n",
       "      <th>0</th>\n",
       "      <td>ADDRESS_CITY_NAME</td>\n",
       "      <td>store lookup</td>\n",
       "      <td>city</td>\n",
       "    </tr>\n",
       "    <tr>\n",
       "      <th>1</th>\n",
       "      <td>ADDRESS_STATE_PROV_CODE</td>\n",
       "      <td>store lookup</td>\n",
       "      <td>state</td>\n",
       "    </tr>\n",
       "    <tr>\n",
       "      <th>2</th>\n",
       "      <td>AVG_WEEKLY_BASKETS</td>\n",
       "      <td>store lookup</td>\n",
       "      <td>average weekly baskets sold in the store</td>\n",
       "    </tr>\n",
       "    <tr>\n",
       "      <th>3</th>\n",
       "      <td>BASE_PRICE</td>\n",
       "      <td>data</td>\n",
       "      <td>base price of item</td>\n",
       "    </tr>\n",
       "    <tr>\n",
       "      <th>4</th>\n",
       "      <td>MANUFACTURER</td>\n",
       "      <td>products lookup</td>\n",
       "      <td>manufacturer</td>\n",
       "    </tr>\n",
       "    <tr>\n",
       "      <th>5</th>\n",
       "      <td>CATEGORY</td>\n",
       "      <td>products lookup</td>\n",
       "      <td>category of product</td>\n",
       "    </tr>\n",
       "    <tr>\n",
       "      <th>6</th>\n",
       "      <td>DESCRIPTION</td>\n",
       "      <td>products lookup</td>\n",
       "      <td>prodcut description</td>\n",
       "    </tr>\n",
       "    <tr>\n",
       "      <th>7</th>\n",
       "      <td>DISPLAY</td>\n",
       "      <td>data</td>\n",
       "      <td>product was a part of in-store promotional dis...</td>\n",
       "    </tr>\n",
       "    <tr>\n",
       "      <th>8</th>\n",
       "      <td>FEATURE</td>\n",
       "      <td>data</td>\n",
       "      <td>product was in in-store circular</td>\n",
       "    </tr>\n",
       "    <tr>\n",
       "      <th>9</th>\n",
       "      <td>HHS</td>\n",
       "      <td>data</td>\n",
       "      <td># of purchasing households</td>\n",
       "    </tr>\n",
       "    <tr>\n",
       "      <th>10</th>\n",
       "      <td>MSA_CODE</td>\n",
       "      <td>store lookup</td>\n",
       "      <td>(Metropolitan Statistical Area) geographic reg...</td>\n",
       "    </tr>\n",
       "    <tr>\n",
       "      <th>11</th>\n",
       "      <td>PARKING_SPACE_QTY</td>\n",
       "      <td>store lookup</td>\n",
       "      <td>number of parking spaces in the store parking lot</td>\n",
       "    </tr>\n",
       "    <tr>\n",
       "      <th>12</th>\n",
       "      <td>PRICE</td>\n",
       "      <td>data</td>\n",
       "      <td>actual amount charged for the product at shelf</td>\n",
       "    </tr>\n",
       "    <tr>\n",
       "      <th>13</th>\n",
       "      <td>WEEK_END_DATE</td>\n",
       "      <td>data</td>\n",
       "      <td>week ending date</td>\n",
       "    </tr>\n",
       "    <tr>\n",
       "      <th>14</th>\n",
       "      <td>SALES_AREA_SIZE_NUM</td>\n",
       "      <td>store lookup</td>\n",
       "      <td>square footage of store</td>\n",
       "    </tr>\n",
       "    <tr>\n",
       "      <th>15</th>\n",
       "      <td>STORE_APPEAL</td>\n",
       "      <td>store lookup</td>\n",
       "      <td>Retailer's designated store appeal</td>\n",
       "    </tr>\n",
       "    <tr>\n",
       "      <th>16</th>\n",
       "      <td>SPEND</td>\n",
       "      <td>data</td>\n",
       "      <td>total spend (i.e., $ sales)</td>\n",
       "    </tr>\n",
       "    <tr>\n",
       "      <th>17</th>\n",
       "      <td>STORE_NUM</td>\n",
       "      <td>data, store lookup</td>\n",
       "      <td>store number</td>\n",
       "    </tr>\n",
       "    <tr>\n",
       "      <th>18</th>\n",
       "      <td>SUB_CATEGORY</td>\n",
       "      <td>products lookup</td>\n",
       "      <td>sub-category of product</td>\n",
       "    </tr>\n",
       "    <tr>\n",
       "      <th>19</th>\n",
       "      <td>TPR_ONLY</td>\n",
       "      <td>data</td>\n",
       "      <td>temporary price reduction only (i.e., shelf ta...</td>\n",
       "    </tr>\n",
       "    <tr>\n",
       "      <th>20</th>\n",
       "      <td>UNITS</td>\n",
       "      <td>data</td>\n",
       "      <td>units sold</td>\n",
       "    </tr>\n",
       "    <tr>\n",
       "      <th>21</th>\n",
       "      <td>UPC</td>\n",
       "      <td>data, products lookup</td>\n",
       "      <td>(Universal Product Code) product specific iden...</td>\n",
       "    </tr>\n",
       "    <tr>\n",
       "      <th>22</th>\n",
       "      <td>VISITS</td>\n",
       "      <td>data</td>\n",
       "      <td>number of unique purchases (baskets) that incl...</td>\n",
       "    </tr>\n",
       "    <tr>\n",
       "      <th>23</th>\n",
       "      <td>PRODUCT_SIZE</td>\n",
       "      <td>products lookup</td>\n",
       "      <td>package size or quantity of product</td>\n",
       "    </tr>\n",
       "  </tbody>\n",
       "</table>\n",
       "</div>"
      ],
      "text/plain": [
       "              VARIABLE NAME                  TABLE  \\\n",
       "0         ADDRESS_CITY_NAME           store lookup   \n",
       "1   ADDRESS_STATE_PROV_CODE           store lookup   \n",
       "2        AVG_WEEKLY_BASKETS           store lookup   \n",
       "3                BASE_PRICE                   data   \n",
       "4              MANUFACTURER        products lookup   \n",
       "5                  CATEGORY        products lookup   \n",
       "6               DESCRIPTION        products lookup   \n",
       "7                   DISPLAY                   data   \n",
       "8                   FEATURE                   data   \n",
       "9                       HHS                   data   \n",
       "10                 MSA_CODE           store lookup   \n",
       "11        PARKING_SPACE_QTY           store lookup   \n",
       "12                    PRICE                   data   \n",
       "13            WEEK_END_DATE                   data   \n",
       "14      SALES_AREA_SIZE_NUM           store lookup   \n",
       "15             STORE_APPEAL           store lookup   \n",
       "16                    SPEND                   data   \n",
       "17                STORE_NUM     data, store lookup   \n",
       "18             SUB_CATEGORY        products lookup   \n",
       "19                 TPR_ONLY                   data   \n",
       "20                    UNITS                   data   \n",
       "21                      UPC  data, products lookup   \n",
       "22                   VISITS                   data   \n",
       "23             PRODUCT_SIZE        products lookup   \n",
       "\n",
       "                                          DESCRIPTION  \n",
       "0                                                city  \n",
       "1                                               state  \n",
       "2            average weekly baskets sold in the store  \n",
       "3                                  base price of item  \n",
       "4                                        manufacturer  \n",
       "5                                 category of product  \n",
       "6                                 prodcut description  \n",
       "7   product was a part of in-store promotional dis...  \n",
       "8                    product was in in-store circular  \n",
       "9                          # of purchasing households  \n",
       "10  (Metropolitan Statistical Area) geographic reg...  \n",
       "11  number of parking spaces in the store parking lot  \n",
       "12     actual amount charged for the product at shelf  \n",
       "13                                   week ending date  \n",
       "14                            square footage of store  \n",
       "15                 Retailer's designated store appeal  \n",
       "16                        total spend (i.e., $ sales)  \n",
       "17                                       store number  \n",
       "18                            sub-category of product  \n",
       "19  temporary price reduction only (i.e., shelf ta...  \n",
       "20                                         units sold  \n",
       "21  (Universal Product Code) product specific iden...  \n",
       "22  number of unique purchases (baskets) that incl...  \n",
       "23                package size or quantity of product  "
      ]
     },
     "execution_count": 12,
     "metadata": {},
     "output_type": "execute_result"
    }
   ],
   "source": [
    "glossary"
   ]
  },
  {
   "cell_type": "code",
   "execution_count": 13,
   "metadata": {
    "collapsed": false
   },
   "outputs": [],
   "source": [
    "whole_data = transactions.join(stores.set_index('STORE_ID'), on='STORE_NUM')\n",
    "whole_data = whole_data.join(products.set_index('UPC'), on='UPC')"
   ]
  },
  {
   "cell_type": "code",
   "execution_count": 13,
   "metadata": {
    "collapsed": false
   },
   "outputs": [
    {
     "data": {
      "text/plain": [
       "Index([u'WEEK_END_DATE', u'STORE_NUM', u'UPC', u'UNITS', u'VISITS', u'HHS',\n",
       "       u'SPEND', u'PRICE', u'BASE_PRICE', u'FEATURE', u'DISPLAY', u'TPR_ONLY',\n",
       "       u'STORE_NAME', u'ADDRESS_CITY_NAME', u'ADDRESS_STATE_PROV_CODE',\n",
       "       u'MSA_CODE', u'SEG_VALUE_NAME', u'PARKING_SPACE_QTY',\n",
       "       u'SALES_AREA_SIZE_NUM', u'AVG_WEEKLY_BASKETS', u'DESCRIPTION',\n",
       "       u'MANUFACTURER', u'CATEGORY', u'SUB_CATEGORY', u'PRODUCT_SIZE'],\n",
       "      dtype='object')"
      ]
     },
     "execution_count": 13,
     "metadata": {},
     "output_type": "execute_result"
    }
   ],
   "source": [
    "whole_data.columns"
   ]
  },
  {
   "cell_type": "code",
   "execution_count": 36,
   "metadata": {
    "collapsed": false
   },
   "outputs": [
    {
     "name": "stdout",
     "output_type": "stream",
     "text": [
      "TOMBSTONE 0.223757886974\n",
      "SNYDER S 0.164399509804\n",
      "QUAKER 0.151111111111\n",
      "TONYS 0.143648821119\n",
      "P & G 0.131049766972\n",
      "WARNER 0.119977833195\n",
      "KELLOGG 0.114610530896\n",
      "PRIVATE LABEL 0.111061596356\n",
      "GENERAL MI 0.093834725084\n",
      "FRITO LAY 0.0696527945802\n",
      "POST FOODS 0.058386844166\n",
      "MKSL 0.0403319743739\n",
      "KING 0.038624470471\n",
      "SHULTZ 0.0193777292576\n",
      "CHATTEM 0.0026734452382\n",
      "COLGATE 0.0\n"
     ]
    }
   ],
   "source": [
    "def disp_manuf_perc ():\n",
    "    manuf = whole_data.MANUFACTURER.unique()\n",
    "    displ = {}\n",
    "    for m in manuf:\n",
    "         displ[m] = whole_data[whole_data['MANUFACTURER'] == m]['DISPLAY'].sum() / len(whole_data[whole_data['MANUFACTURER'] == m])\n",
    "    for w in sorted(displ, key=displ.get, reverse=True):\n",
    "        print w, displ[w]\n",
    "disp_manuf_perc()"
   ]
  },
  {
   "cell_type": "code",
   "execution_count": 37,
   "metadata": {
    "collapsed": false
   },
   "outputs": [
    {
     "name": "stdout",
     "output_type": "stream",
     "text": [
      "TOMBSTONE 0.282538035017\n",
      "TONYS 0.195203869148\n",
      "QUAKER 0.137840819543\n",
      "KELLOGG 0.13315926893\n",
      "GENERAL MI 0.0997722589741\n",
      "P & G 0.0961770361438\n",
      "POST FOODS 0.0670007830854\n",
      "WARNER 0.0623749268803\n",
      "PRIVATE LABEL 0.0497198879552\n",
      "FRITO LAY 0.0425235906121\n",
      "SNYDER S 0.0214767156863\n",
      "KING 0.0117119362073\n",
      "COLGATE 0.0\n",
      "CHATTEM 0.0\n",
      "MKSL 0.0\n",
      "SHULTZ 0.0\n"
     ]
    }
   ],
   "source": [
    "def disp_manuf_perc ():\n",
    "    manuf = whole_data.MANUFACTURER.unique()\n",
    "    displ = {}\n",
    "    for m in manuf:\n",
    "         displ[m] = whole_data[whole_data['MANUFACTURER'] == m]['FEATURE'].sum() / len(whole_data[whole_data['MANUFACTURER'] == m])\n",
    "    for w in sorted(displ, key=displ.get, reverse=True):\n",
    "        print w, displ[w]\n",
    "disp_manuf_perc()"
   ]
  },
  {
   "cell_type": "code",
   "execution_count": 42,
   "metadata": {
    "collapsed": false
   },
   "outputs": [
    {
     "data": {
      "text/plain": [
       "1071     -0.04\n",
       "1072     -0.03\n",
       "1073     -0.07\n",
       "1193      0.04\n",
       "1194      0.02\n",
       "1947     -0.12\n",
       "1948     -0.03\n",
       "1949      0.09\n",
       "2789      0.03\n",
       "2790      0.02\n",
       "2791     -0.07\n",
       "3161      1.50\n",
       "3162      1.61\n",
       "3197      1.54\n",
       "3198      1.55\n",
       "3242      1.61\n",
       "3243      1.61\n",
       "3284      0.24\n",
       "3285      0.25\n",
       "3286      0.21\n",
       "3288      1.57\n",
       "3289      1.34\n",
       "3326      0.14\n",
       "3327      0.21\n",
       "3328      0.20\n",
       "3330      1.59\n",
       "3331      1.57\n",
       "3371      3.50\n",
       "3372      1.61\n",
       "3419      1.43\n",
       "          ... \n",
       "524523    0.04\n",
       "524524    0.02\n",
       "524525    0.16\n",
       "524568    0.32\n",
       "524569    0.51\n",
       "524570    0.52\n",
       "524606    0.22\n",
       "524607    0.31\n",
       "524608    0.19\n",
       "524643    0.13\n",
       "524644    0.21\n",
       "524645    0.21\n",
       "524688    0.64\n",
       "524689    0.67\n",
       "524690    0.54\n",
       "524736    0.51\n",
       "524737    0.62\n",
       "524738    0.62\n",
       "524781    0.66\n",
       "524782    0.53\n",
       "524783    0.55\n",
       "524822    0.17\n",
       "524823    0.25\n",
       "524824    0.29\n",
       "524866    0.60\n",
       "524867    0.52\n",
       "524868    0.59\n",
       "524916    0.35\n",
       "524917    0.16\n",
       "524918    0.35\n",
       "dtype: float64"
      ]
     },
     "execution_count": 42,
     "metadata": {},
     "output_type": "execute_result"
    }
   ],
   "source": [
    "def feature_price ():\n",
    "    for m in whole_data.MANUFACTURER.unique():\n",
    "        df = whole_data[whole_data['MANUFACTURER'] == m]\n",
    "        disp = df[df['FEATURE'] == 1]\n",
    "        \n",
    "        return disp['BASE_PRICE'] - disp['PRICE']\n",
    "feature_price()\n",
    "        "
   ]
  },
  {
   "cell_type": "code",
   "execution_count": 20,
   "metadata": {
    "collapsed": false
   },
   "outputs": [
    {
     "name": "stdout",
     "output_type": "stream",
     "text": [
      "PIZZA/PREMIUM 0.147314600358\n",
      "KIDS CEREAL 0.139344262295\n",
      "PRETZELS 0.130293509905\n",
      "MOUTHWASHES (ANTISEPTIC) 0.106066625733\n",
      "ALL FAMILY CEREAL 0.0759651603551\n",
      "MOUTHWASH/RINSES AND SPRAYS 0.041770708935\n",
      "ADULT CEREAL 0.0317455630039\n"
     ]
    }
   ],
   "source": [
    "sb_cat = whole_data.SUB_CATEGORY.unique()\n",
    "dis = {}\n",
    "for m in sb_cat:\n",
    "     dis[m] = whole_data[whole_data['SUB_CATEGORY'] == m]['DISPLAY'].sum() / len(whole_data[whole_data['SUB_CATEGORY'] == m])\n",
    "for w in sorted(dis, key=dis.get, reverse=True):\n",
    "    print w, dis[w]"
   ]
  },
  {
   "cell_type": "code",
   "execution_count": 26,
   "metadata": {
    "collapsed": false
   },
   "outputs": [
    {
     "data": {
      "text/plain": [
       "array(['PRIVATE LABEL', 'TOMBSTONE', 'TONYS', 'KING'], dtype=object)"
      ]
     },
     "execution_count": 26,
     "metadata": {},
     "output_type": "execute_result"
    }
   ],
   "source": [
    "whole_data[whole_data['SUB_CATEGORY'] == 'PIZZA/PREMIUM']['MANUFACTURER'].unique()"
   ]
  },
  {
   "cell_type": "code",
   "execution_count": 31,
   "metadata": {
    "collapsed": false
   },
   "outputs": [
    {
     "data": {
      "text/plain": [
       "array([ 6.29,  6.42,  6.37,  6.43,  6.3 ,  6.32,  6.34,  6.69,  6.35,\n",
       "        7.49,  6.46,  6.24,  6.28,  6.41,  6.27,  4.99,  6.36,  6.31,\n",
       "        6.53,  6.33,  6.49,  6.38,  6.39,  6.52,  6.22,  6.26,  6.21,\n",
       "        6.25,  6.63,  6.23,  6.44,  6.4 ,  6.56,  6.2 ,  5.93,  6.13,\n",
       "        6.51,  6.16,  6.17,  6.14,  6.19,  6.1 ,  6.12,  6.03,  6.07,\n",
       "        5.99,  5.9 ,  6.05,  5.82,  6.  ,  6.02,  6.01,  6.06,  6.09,\n",
       "        5.94,  5.95,  6.08,  5.05,  5.19,  5.96,  5.87,  5.97,  5.76,\n",
       "        6.04,  6.18,  5.89,  6.11,  5.86,  5.74,  6.59,  6.5 ,  6.47,\n",
       "        6.89,  6.45,  6.48,  6.62,  6.66,  6.15,  6.72,  6.77,  6.99,\n",
       "        7.13,  7.26,  7.07,  7.18,  7.36,  7.35,  7.24,  7.31,  6.87,\n",
       "        7.28,  6.55,  7.38,  7.4 ,  7.34,  7.3 ,  7.42,  7.05,  7.02,\n",
       "        7.04,  6.76,  5.98,  6.68,  6.71,  6.78,  6.86,  6.8 ,  6.84,\n",
       "        6.9 ,  7.11,  6.57,  6.54,  6.85,  6.74,  6.88,  6.82,  6.75,\n",
       "        6.94,  6.79,  6.91,  6.92,  6.83,  6.7 ,  6.81,  6.73,  6.93,\n",
       "        6.67,  6.61,  6.96,  6.95,  7.19,  7.17,  7.16,  7.14,  7.09,\n",
       "        7.03,  7.  ,  6.64,  6.65,  6.6 ,  5.65,  5.61,  5.27,  5.49,\n",
       "        5.64,  5.62,  5.6 ,  5.39,  5.36,  5.55,  5.5 ,  5.31,  5.28,\n",
       "        5.63,  5.3 ,  5.37,  5.33,  5.29,  5.11,  5.38,  5.58,  5.34,\n",
       "        5.45,  5.4 ,  5.54,  5.32,  5.43,  5.42,  5.35,  5.59,  5.56,\n",
       "        5.8 ,  5.79,  5.78,  5.77,  5.67,  5.68,  5.75,  5.7 ,  5.72,\n",
       "        5.71,  5.73,  5.69,  5.24,  5.25,  5.22])"
      ]
     },
     "execution_count": 31,
     "metadata": {},
     "output_type": "execute_result"
    }
   ],
   "source": [
    "whole_data[whole_data['MANUFACTURER'] == 'TOMBSTONE']['BASE_PRICE'].unique()"
   ]
  },
  {
   "cell_type": "code",
   "execution_count": 38,
   "metadata": {
    "collapsed": false
   },
   "outputs": [
    {
     "data": {
      "text/html": [
       "<div>\n",
       "<table border=\"1\" class=\"dataframe\">\n",
       "  <thead>\n",
       "    <tr style=\"text-align: right;\">\n",
       "      <th></th>\n",
       "      <th>PRICE</th>\n",
       "      <th>BASE_PRICE</th>\n",
       "      <th>FEATURE</th>\n",
       "      <th>DISPLAY</th>\n",
       "      <th>TPR_ONLY</th>\n",
       "    </tr>\n",
       "  </thead>\n",
       "  <tbody>\n",
       "    <tr>\n",
       "      <th>0</th>\n",
       "      <td>1.39</td>\n",
       "      <td>1.57</td>\n",
       "      <td>0</td>\n",
       "      <td>0</td>\n",
       "      <td>1</td>\n",
       "    </tr>\n",
       "    <tr>\n",
       "      <th>1</th>\n",
       "      <td>1.39</td>\n",
       "      <td>1.39</td>\n",
       "      <td>0</td>\n",
       "      <td>0</td>\n",
       "      <td>0</td>\n",
       "    </tr>\n",
       "    <tr>\n",
       "      <th>2</th>\n",
       "      <td>1.38</td>\n",
       "      <td>1.38</td>\n",
       "      <td>0</td>\n",
       "      <td>0</td>\n",
       "      <td>0</td>\n",
       "    </tr>\n",
       "    <tr>\n",
       "      <th>3</th>\n",
       "      <td>3.50</td>\n",
       "      <td>4.49</td>\n",
       "      <td>0</td>\n",
       "      <td>0</td>\n",
       "      <td>1</td>\n",
       "    </tr>\n",
       "    <tr>\n",
       "      <th>4</th>\n",
       "      <td>2.50</td>\n",
       "      <td>2.50</td>\n",
       "      <td>0</td>\n",
       "      <td>0</td>\n",
       "      <td>0</td>\n",
       "    </tr>\n",
       "  </tbody>\n",
       "</table>\n",
       "</div>"
      ],
      "text/plain": [
       "   PRICE  BASE_PRICE  FEATURE  DISPLAY  TPR_ONLY\n",
       "0   1.39        1.57        0        0         1\n",
       "1   1.39        1.39        0        0         0\n",
       "2   1.38        1.38        0        0         0\n",
       "3   3.50        4.49        0        0         1\n",
       "4   2.50        2.50        0        0         0"
      ]
     },
     "execution_count": 38,
     "metadata": {},
     "output_type": "execute_result"
    }
   ],
   "source": [
    "whole_data[['PRICE', 'BASE_PRICE', 'FEATURE', 'DISPLAY', 'TPR_ONLY']].head()"
   ]
  },
  {
   "cell_type": "code",
   "execution_count": null,
   "metadata": {
    "collapsed": true
   },
   "outputs": [],
   "source": []
  }
 ],
 "metadata": {
  "anaconda-cloud": {},
  "kernelspec": {
   "display_name": "Python [conda root]",
   "language": "python",
   "name": "conda-root-py"
  },
  "language_info": {
   "codemirror_mode": {
    "name": "ipython",
    "version": 2
   },
   "file_extension": ".py",
   "mimetype": "text/x-python",
   "name": "python",
   "nbconvert_exporter": "python",
   "pygments_lexer": "ipython2",
   "version": "2.7.12"
  }
 },
 "nbformat": 4,
 "nbformat_minor": 1
}
