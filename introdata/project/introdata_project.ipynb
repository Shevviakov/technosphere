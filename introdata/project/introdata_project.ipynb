{
 "cells": [
  {
   "cell_type": "markdown",
   "metadata": {},
   "source": [
    "Семестровый проект"
   ]
  },
  {
   "cell_type": "code",
   "execution_count": 1,
   "metadata": {
    "collapsed": true
   },
   "outputs": [],
   "source": [
    "import pandas as pd\n",
    "import numpy as np\n",
    "from matplotlib import pyplot as plt\n",
    "from scipy import stats\n",
    "from __future__ import division\n",
    "%matplotlib inline"
   ]
  },
  {
   "cell_type": "markdown",
   "metadata": {},
   "source": [
    "Импортируем наш датасет"
   ]
  },
  {
   "cell_type": "code",
   "execution_count": 4,
   "metadata": {
    "collapsed": false
   },
   "outputs": [],
   "source": [
    "whole_data = pd.read_excel('store.xlsx', sheetname=None)"
   ]
  },
  {
   "cell_type": "markdown",
   "metadata": {},
   "source": [
    "Посмотрим какие таблицы в нем есть"
   ]
  },
  {
   "cell_type": "code",
   "execution_count": 6,
   "metadata": {
    "collapsed": false
   },
   "outputs": [
    {
     "data": {
      "text/plain": [
       "[u'Glossary',\n",
       " u'dh Products Lookup',\n",
       " u'dh Store Lookup',\n",
       " u'dh Transaction Data']"
      ]
     },
     "execution_count": 6,
     "metadata": {},
     "output_type": "execute_result"
    }
   ],
   "source": [
    "whole_data.keys()"
   ]
  },
  {
   "cell_type": "markdown",
   "metadata": {},
   "source": [
    "Очевидно, что таблица Glossary содержит описание датасета, поэтому надо взглянуть на нее"
   ]
  },
  {
   "cell_type": "code",
   "execution_count": 8,
   "metadata": {
    "collapsed": false
   },
   "outputs": [
    {
     "data": {
      "text/html": [
       "<div>\n",
       "<table border=\"1\" class=\"dataframe\">\n",
       "  <thead>\n",
       "    <tr style=\"text-align: right;\">\n",
       "      <th></th>\n",
       "      <th></th>\n",
       "      <th></th>\n",
       "      <th>Breakfast at the Frat: A Time Series Analysis</th>\n",
       "      <th>Unnamed: 1</th>\n",
       "      <th>Unnamed: 2</th>\n",
       "      <th>Unnamed: 3</th>\n",
       "      <th>Unnamed: 4</th>\n",
       "      <th>Unnamed: 5</th>\n",
       "      <th>Unnamed: 6</th>\n",
       "      <th>Unnamed: 7</th>\n",
       "      <th>Unnamed: 8</th>\n",
       "      <th>Unnamed: 9</th>\n",
       "      <th>Unnamed: 10</th>\n",
       "      <th>Unnamed: 11</th>\n",
       "    </tr>\n",
       "  </thead>\n",
       "  <tbody>\n",
       "    <tr>\n",
       "      <th>UPC</th>\n",
       "      <th>DESCRIPTION</th>\n",
       "      <th>MANUFACTURER</th>\n",
       "      <td>CATEGORY</td>\n",
       "      <td>SUB_CATEGORY</td>\n",
       "      <td>PRODUCT_SIZE</td>\n",
       "      <td>NaN</td>\n",
       "      <td>NaN</td>\n",
       "      <td>NaN</td>\n",
       "      <td>NaN</td>\n",
       "      <td>NaN</td>\n",
       "      <td>NaN</td>\n",
       "      <td>NaN</td>\n",
       "      <td>NaN</td>\n",
       "      <td>NaN</td>\n",
       "    </tr>\n",
       "    <tr>\n",
       "      <th>1111009477</th>\n",
       "      <th>PL MINI TWIST PRETZELS</th>\n",
       "      <th>PRIVATE LABEL</th>\n",
       "      <td>BAG SNACKS</td>\n",
       "      <td>PRETZELS</td>\n",
       "      <td>15 OZ</td>\n",
       "      <td>NaN</td>\n",
       "      <td>NaN</td>\n",
       "      <td>NaN</td>\n",
       "      <td>NaN</td>\n",
       "      <td>NaN</td>\n",
       "      <td>NaN</td>\n",
       "      <td>NaN</td>\n",
       "      <td>NaN</td>\n",
       "      <td>NaN</td>\n",
       "    </tr>\n",
       "    <tr>\n",
       "      <th>1111009497</th>\n",
       "      <th>PL PRETZEL STICKS</th>\n",
       "      <th>PRIVATE LABEL</th>\n",
       "      <td>BAG SNACKS</td>\n",
       "      <td>PRETZELS</td>\n",
       "      <td>15 OZ</td>\n",
       "      <td>NaN</td>\n",
       "      <td>NaN</td>\n",
       "      <td>NaN</td>\n",
       "      <td>NaN</td>\n",
       "      <td>NaN</td>\n",
       "      <td>NaN</td>\n",
       "      <td>NaN</td>\n",
       "      <td>NaN</td>\n",
       "      <td>NaN</td>\n",
       "    </tr>\n",
       "    <tr>\n",
       "      <th>1111009507</th>\n",
       "      <th>PL TWIST PRETZELS</th>\n",
       "      <th>PRIVATE LABEL</th>\n",
       "      <td>BAG SNACKS</td>\n",
       "      <td>PRETZELS</td>\n",
       "      <td>15 OZ</td>\n",
       "      <td>NaN</td>\n",
       "      <td>NaN</td>\n",
       "      <td>NaN</td>\n",
       "      <td>NaN</td>\n",
       "      <td>NaN</td>\n",
       "      <td>NaN</td>\n",
       "      <td>NaN</td>\n",
       "      <td>NaN</td>\n",
       "      <td>NaN</td>\n",
       "    </tr>\n",
       "    <tr>\n",
       "      <th>1111035398</th>\n",
       "      <th>PL BL MINT ANTSPTC RINSE</th>\n",
       "      <th>PRIVATE LABEL</th>\n",
       "      <td>ORAL HYGIENE PRODUCTS</td>\n",
       "      <td>MOUTHWASHES (ANTISEPTIC)</td>\n",
       "      <td>1.5 LT</td>\n",
       "      <td>NaN</td>\n",
       "      <td>NaN</td>\n",
       "      <td>NaN</td>\n",
       "      <td>NaN</td>\n",
       "      <td>NaN</td>\n",
       "      <td>NaN</td>\n",
       "      <td>NaN</td>\n",
       "      <td>NaN</td>\n",
       "      <td>NaN</td>\n",
       "    </tr>\n",
       "  </tbody>\n",
       "</table>\n",
       "</div>"
      ],
      "text/plain": [
       "                                                  Breakfast at the Frat: A Time Series Analysis  \\\n",
       "UPC        DESCRIPTION              MANUFACTURER                                       CATEGORY   \n",
       "1111009477 PL MINI TWIST PRETZELS   PRIVATE LABEL                                    BAG SNACKS   \n",
       "1111009497 PL PRETZEL STICKS        PRIVATE LABEL                                    BAG SNACKS   \n",
       "1111009507 PL TWIST PRETZELS        PRIVATE LABEL                                    BAG SNACKS   \n",
       "1111035398 PL BL MINT ANTSPTC RINSE PRIVATE LABEL                         ORAL HYGIENE PRODUCTS   \n",
       "\n",
       "                                                                 Unnamed: 1  \\\n",
       "UPC        DESCRIPTION              MANUFACTURER               SUB_CATEGORY   \n",
       "1111009477 PL MINI TWIST PRETZELS   PRIVATE LABEL                  PRETZELS   \n",
       "1111009497 PL PRETZEL STICKS        PRIVATE LABEL                  PRETZELS   \n",
       "1111009507 PL TWIST PRETZELS        PRIVATE LABEL                  PRETZELS   \n",
       "1111035398 PL BL MINT ANTSPTC RINSE PRIVATE LABEL  MOUTHWASHES (ANTISEPTIC)   \n",
       "\n",
       "                                                     Unnamed: 2  Unnamed: 3  \\\n",
       "UPC        DESCRIPTION              MANUFACTURER   PRODUCT_SIZE         NaN   \n",
       "1111009477 PL MINI TWIST PRETZELS   PRIVATE LABEL         15 OZ         NaN   \n",
       "1111009497 PL PRETZEL STICKS        PRIVATE LABEL         15 OZ         NaN   \n",
       "1111009507 PL TWIST PRETZELS        PRIVATE LABEL         15 OZ         NaN   \n",
       "1111035398 PL BL MINT ANTSPTC RINSE PRIVATE LABEL        1.5 LT         NaN   \n",
       "\n",
       "                                                   Unnamed: 4  Unnamed: 5  \\\n",
       "UPC        DESCRIPTION              MANUFACTURER          NaN         NaN   \n",
       "1111009477 PL MINI TWIST PRETZELS   PRIVATE LABEL         NaN         NaN   \n",
       "1111009497 PL PRETZEL STICKS        PRIVATE LABEL         NaN         NaN   \n",
       "1111009507 PL TWIST PRETZELS        PRIVATE LABEL         NaN         NaN   \n",
       "1111035398 PL BL MINT ANTSPTC RINSE PRIVATE LABEL         NaN         NaN   \n",
       "\n",
       "                                                   Unnamed: 6  Unnamed: 7  \\\n",
       "UPC        DESCRIPTION              MANUFACTURER          NaN         NaN   \n",
       "1111009477 PL MINI TWIST PRETZELS   PRIVATE LABEL         NaN         NaN   \n",
       "1111009497 PL PRETZEL STICKS        PRIVATE LABEL         NaN         NaN   \n",
       "1111009507 PL TWIST PRETZELS        PRIVATE LABEL         NaN         NaN   \n",
       "1111035398 PL BL MINT ANTSPTC RINSE PRIVATE LABEL         NaN         NaN   \n",
       "\n",
       "                                                   Unnamed: 8  Unnamed: 9  \\\n",
       "UPC        DESCRIPTION              MANUFACTURER          NaN         NaN   \n",
       "1111009477 PL MINI TWIST PRETZELS   PRIVATE LABEL         NaN         NaN   \n",
       "1111009497 PL PRETZEL STICKS        PRIVATE LABEL         NaN         NaN   \n",
       "1111009507 PL TWIST PRETZELS        PRIVATE LABEL         NaN         NaN   \n",
       "1111035398 PL BL MINT ANTSPTC RINSE PRIVATE LABEL         NaN         NaN   \n",
       "\n",
       "                                                   Unnamed: 10  Unnamed: 11  \n",
       "UPC        DESCRIPTION              MANUFACTURER           NaN          NaN  \n",
       "1111009477 PL MINI TWIST PRETZELS   PRIVATE LABEL          NaN          NaN  \n",
       "1111009497 PL PRETZEL STICKS        PRIVATE LABEL          NaN          NaN  \n",
       "1111009507 PL TWIST PRETZELS        PRIVATE LABEL          NaN          NaN  \n",
       "1111035398 PL BL MINT ANTSPTC RINSE PRIVATE LABEL          NaN          NaN  "
      ]
     },
     "execution_count": 8,
     "metadata": {},
     "output_type": "execute_result"
    }
   ],
   "source": [
    "    whole_data['dh Products Lookup'].head()"
   ]
  },
  {
   "cell_type": "code",
   "execution_count": null,
   "metadata": {
    "collapsed": true
   },
   "outputs": [],
   "source": []
  }
 ],
 "metadata": {
  "kernelspec": {
   "display_name": "Python [conda root]",
   "language": "python",
   "name": "conda-root-py"
  },
  "language_info": {
   "codemirror_mode": {
    "name": "ipython",
    "version": 2
   },
   "file_extension": ".py",
   "mimetype": "text/x-python",
   "name": "python",
   "nbconvert_exporter": "python",
   "pygments_lexer": "ipython2",
   "version": "2.7.12"
  }
 },
 "nbformat": 4,
 "nbformat_minor": 1
}
