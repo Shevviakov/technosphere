{
 "cells": [
  {
   "cell_type": "code",
   "execution_count": 3,
   "metadata": {
    "collapsed": true
   },
   "outputs": [],
   "source": [
    "%matplotlib inline"
   ]
  },
  {
   "cell_type": "markdown",
   "metadata": {},
   "source": [
    "## ANOVA"
   ]
  },
  {
   "cell_type": "markdown",
   "metadata": {},
   "source": [
    "ANOVA, или дисперсионный анализ - методы, которые применяются для установления влияния категориальных переменных (или группировочных признаков) на непрерывную эндогенную переменную."
   ]
  },
  {
   "cell_type": "markdown",
   "metadata": {},
   "source": [
    "### One-way ANOVA"
   ]
  },
  {
   "cell_type": "markdown",
   "metadata": {},
   "source": [
    "Используется в случае, если у нас есть одна зависимая переменная и мы хотим изучить влияние категориальных предикторов (или факторов) на ее величину."
   ]
  },
  {
   "cell_type": "markdown",
   "metadata": {},
   "source": [
    "Предположения, лежащие в основе теста:\n",
    "- Нормальное распределение остатков эндогенной переменной;\n",
    "- Равенство дисперсий в исследуемых совокупностях;\n",
    "- Наблюдения на эндогенной переменной в группе - iid."
   ]
  },
  {
   "cell_type": "markdown",
   "metadata": {},
   "source": [
    "Нулевая гипотеза:\n",
    "$$H_0: \\mu_1 = \\mu_2 = \\mu_3. $$\n"
   ]
  },
  {
   "cell_type": "markdown",
   "metadata": {},
   "source": [
    "Тест, по сути, сводится к сравнению доли дисперсии, объясненной группировкой, к общей изменчивости признака:\n",
    "$$ F = \\frac{Var_{between}}{Var_{within}}.$$"
   ]
  },
  {
   "cell_type": "markdown",
   "metadata": {},
   "source": [
    "Традциионная форма представления - таблица ANOVA, из которой понятна суть расчета:"
   ]
  },
  {
   "cell_type": "markdown",
   "metadata": {},
   "source": [
    "|Источник      |SS                                      |df    |MS                 |F                  |p|\n",
    "|--------------|----------------------------------------|------|-------------------|-------------------|-|\n",
    "|Между группами|$\\sum_{k}n_k(\\bar{X}_k-\\bar{X}_{.})^2$  |$k-1$|$\\frac{SS_b}{df_b}$|$\\frac{MS_b}{MS_w}$|$F_{cr}$|\n",
    "|Внутри групп  |$\\sum_{k}\\sum_{i}(x_{ik}-\\bar{X}_k)^2$  |$n-k$|$\\frac{SS_w}{df_w}$|                   | |\n",
    "|Общая         |$\\sum_{k}\\sum_{i}(x_{ik}-\\bar{X}_{.})^2$|$n-1$|                   |                   | |"
   ]
  },
  {
   "cell_type": "markdown",
   "metadata": {},
   "source": [
    "где:\n",
    "- $k$ - число групп;\n",
    "- $n$ - объем выборки;\n",
    "- $\\bar{X}_k$ - среднее внутри группы;\n",
    "- $\\bar{X}_.$ - среднее без группировки."
   ]
  },
  {
   "cell_type": "markdown",
   "metadata": {},
   "source": [
    "Наблюдаемое значение сравнивается с значениями $F-распределения$ с $df_1$ и $df_2$."
   ]
  },
  {
   "cell_type": "code",
   "execution_count": 6,
   "metadata": {
    "collapsed": false
   },
   "outputs": [],
   "source": [
    "import pandas as pd\n",
    "from scipy import stats\n",
    "data = pd.read_csv('PlantGrowth.csv')"
   ]
  },
  {
   "cell_type": "code",
   "execution_count": 7,
   "metadata": {
    "collapsed": false
   },
   "outputs": [
    {
     "data": {
      "text/plain": [
       "<matplotlib.axes._subplots.AxesSubplot at 0x7ff7d4eeced0>"
      ]
     },
     "execution_count": 7,
     "metadata": {},
     "output_type": "execute_result"
    },
    {
     "data": {
      "image/png": "[encoded data removed]",
      "text/plain": [
       "<matplotlib.figure.Figure at 0x7ff7de5a8890>"
      ]
     },
     "metadata": {},
     "output_type": "display_data"
    }
   ],
   "source": [
    "data.boxplot('weight', by='group', figsize=(12, 8))"
   ]
  },
  {
   "cell_type": "code",
   "execution_count": 8,
   "metadata": {
    "collapsed": true
   },
   "outputs": [],
   "source": [
    "ctrl = data['weight'][data.group == 'ctrl']\n",
    "grps = pd.unique(data.group.values)\n",
    "d_data = {grp:data['weight'][data.group == grp] \\\n",
    "    for grp in pd.unique(data.group.values)}"
   ]
  },
  {
   "cell_type": "code",
   "execution_count": 9,
   "metadata": {
    "collapsed": true
   },
   "outputs": [],
   "source": [
    "F, p = stats.f_oneway(d_data['ctrl'], d_data['trt1'], d_data['trt2'])"
   ]
  },
  {
   "cell_type": "code",
   "execution_count": 10,
   "metadata": {
    "collapsed": false
   },
   "outputs": [
    {
     "data": {
      "text/plain": [
       "4.846087862380136"
      ]
     },
     "execution_count": 10,
     "metadata": {},
     "output_type": "execute_result"
    }
   ],
   "source": [
    "F"
   ]
  },
  {
   "cell_type": "code",
   "execution_count": 11,
   "metadata": {
    "collapsed": false
   },
   "outputs": [
    {
     "data": {
      "text/plain": [
       "0.015909958325622899"
      ]
     },
     "execution_count": 11,
     "metadata": {},
     "output_type": "execute_result"
    }
   ],
   "source": [
    "p"
   ]
  },
  {
   "cell_type": "code",
   "execution_count": 12,
   "metadata": {
    "collapsed": false
   },
   "outputs": [
    {
     "name": "stdout",
     "output_type": "stream",
     "text": [
      "            sum_sq    df         F   PR(>F)\n",
      "group      3.76634   2.0  4.846088  0.01591\n",
      "Residual  10.49209  27.0       NaN      NaN\n"
     ]
    }
   ],
   "source": [
    "import statsmodels.api as sm\n",
    "from statsmodels.formula.api import ols\n",
    "\n",
    "mod = ols('weight ~ group',\n",
    "                data=data).fit()\n",
    "                \n",
    "aov_table = sm.stats.anova_lm(mod, typ=2)\n",
    "print aov_table"
   ]
  },
  {
   "cell_type": "markdown",
   "metadata": {},
   "source": [
    "После проведения ANOVA часто используется тест Турки (Turkey's range test)."
   ]
  },
  {
   "cell_type": "code",
   "execution_count": 13,
   "metadata": {
    "collapsed": true
   },
   "outputs": [],
   "source": [
    "from statsmodels.stats.multicomp import pairwise_tukeyhsd\n",
    "from statsmodels.stats.multicomp import MultiComparison"
   ]
  },
  {
   "cell_type": "markdown",
   "metadata": {},
   "source": [
    "Тест Турки - один из способов уже знакомой нам множественной проверки гипотез, при которой значимость между каждой парой средних проверяется на значимость:\n",
    "$$ \\mu_i - \\mu_j = 0.$$"
   ]
  },
  {
   "cell_type": "markdown",
   "metadata": {},
   "source": [
    "Говоря неформально, это t-тест для средних, использующий не уровень значимости, а FWER (то есть корректировку на то, что у нас гипотеза не одна, а множество)."
   ]
  },
  {
   "cell_type": "markdown",
   "metadata": {},
   "source": [
    "http://webspace.ship.edu/pgmarr/Geo441/Readings/Tukey%201949%20-%20Comparing%20Individual%20Means%20in%20the%20Analysis%20of%20Variance.pdf"
   ]
  },
  {
   "cell_type": "code",
   "execution_count": 14,
   "metadata": {
    "collapsed": false
   },
   "outputs": [
    {
     "name": "stdout",
     "output_type": "stream",
     "text": [
      "Multiple Comparison of Means - Tukey HSD,FWER=0.05\n",
      "============================================\n",
      "group1 group2 meandiff  lower  upper  reject\n",
      "--------------------------------------------\n",
      "  0      1     -0.371  -1.0621 0.3201 False \n",
      "  0      2     0.494   -0.1971 1.1851 False \n",
      "  1      2     0.865    0.1739 1.5561  True \n",
      "--------------------------------------------\n",
      "['ctrl' 'trt1' 'trt2']\n"
     ]
    }
   ],
   "source": [
    "mc = MultiComparison(data['weight'], data['group'])\n",
    "result = mc.tukeyhsd()\n",
    "print(result)\n",
    "print(mc.groupsunique)"
   ]
  },
  {
   "cell_type": "markdown",
   "metadata": {
    "collapsed": true
   },
   "source": [
    "### Two-way ANOVA"
   ]
  },
  {
   "cell_type": "markdown",
   "metadata": {
    "collapsed": true
   },
   "source": [
    "Иногда нужно проверить влияние не одного эффекта, а сразу нескольких, и оценить их влияние взаимодействий этих эффектов. Для этого применяется two-way ANOVA. Формально, можно увеличивать размерность ANOVA сколько угодно, но тесты более высоких порядков имеют не очень хорошую мощность и интерпретируемость"
   ]
  },
  {
   "cell_type": "markdown",
   "metadata": {},
   "source": [
    "В случае two-way ANOVA сумма квадратов разбивается следующим образом:"
   ]
  },
  {
   "cell_type": "markdown",
   "metadata": {},
   "source": [
    "|Источник      |SS                                      |df    |MS                 |F                  |p|\n",
    "|--------------|----------------------------------------|------|-------------------|-------------------|-|\n",
    "|Между группами по признаку A|$rb\\sum_{a}(\\bar{X}_a-\\bar{X}_{.})^2$  |$a-1$|$\\frac{SS_a}{df_a}$|$\\frac{MS_a}{MS_w}$|$F_{cr_a}$|\n",
    "|Между группами по признаку B|$ra\\sum_{b}(\\bar{X}_b-\\bar{X}_{.})^2$  |$b-1$|$\\frac{SS_b}{df_b}$|$\\frac{MS_b}{MS_w}$|$F_{cr_b}$|\n",
    "|Между группами по взаимодействию признаков А и B|$r\\sum_{a}\\sum_{b}(\\bar{X_{ik}}-\\bar{X}_b-\\bar{X}_a-\\bar{X}_{.})^2$  |$(a-1)(b-1)$|$\\frac{SS_{ab}}{df_{ab}}$|$\\frac{MS_{ab}}{MS_w}$|$F_{cr_b}$|\n",
    "|Внутри групп  |$\\sum_{k}\\sum_{i}(X_{ik}-\\bar{X}_k)^2$  |$ab(r-1)$|$\\frac{SS_w}{df_w}$|                   | |\n",
    "|Общая         |$\\sum_{k}\\sum_{i}(X_{ik}-\\bar{X}_{.})^2$|$abr-1$|                   |                   | |"
   ]
  },
  {
   "cell_type": "markdown",
   "metadata": {},
   "source": [
    "где:\n",
    "- $r$ - объем выборки в каждой ячейке\n",
    "- $a$ - число категорий признака A\n",
    "- $b$ - число категорий признака B\n",
    "- $\\bar{X}_i$ - среднее внутри группы a\n",
    "- $\\bar{X}_.$ - среднее без группировки."
   ]
  },
  {
   "cell_type": "markdown",
   "metadata": {},
   "source": [
    "Таким образом, two-way Anova - это сразу три теста в одном - на каждый из основных факторов и их взаимодействие. Так как теста 3, то нужно учитывать дополнительную ошибку за счет множественной проверки гипотез:"
   ]
  },
  {
   "cell_type": "code",
   "execution_count": 24,
   "metadata": {
    "collapsed": false
   },
   "outputs": [],
   "source": [
    "import numpy as np\n",
    "p1=[]\n",
    "p2=[]\n",
    "p3=[]\n",
    "times=1000\n",
    "for j in range(times):\n",
    "    box = pd.DataFrame()\n",
    "    box[\"value\"] = np.random.normal(0, 1 , 60)\n",
    "    box[\"group1\"] = box.index.values % 3\n",
    "    box[\"group2\"] = box.index.values % 5\n",
    "    #box.loc[(box['group1'] == 1) & (box['group2'] == 1), \"value\"] += 0\n",
    "    #box.loc[(box['group1'] == 1), \"value\"] += 0\n",
    "    #box.loc[(box['group1'] == 2) & (box['group2'] == 2), \"value\"] += 0\n",
    "    \n",
    "    box[\"mean1\"] =box[\"value\"].groupby(box[\"group1\"]).transform(\"mean\")\n",
    "    box[\"mean2\"] =box[\"value\"].groupby(box[\"group2\"]).transform(\"mean\")\n",
    "    box[\"mean_cross\"] = box[\"value\"].groupby([box.group1, box.group2]).transform(\"mean\")\n",
    "        \n",
    "    \n",
    "    \n",
    "    ss_within = np.sum(np.square(box[\"value\"] - box[\"mean_cross\"]))\n",
    "    ss_grp1 = np.sum(np.square(box[\"mean1\"] - box[\"value\"].mean()))\n",
    "    ss_grp2 = np.sum(np.square(box[\"mean2\"] - box[\"value\"].mean()))\n",
    "    ss_cross = np.sum(np.square(box[\"mean_cross\"] - box[\"mean2\"] - box[\"mean1\"] +  box[\"value\"].mean()))\n",
    "    \n",
    "    \n",
    "    \n",
    "    df1 = 2\n",
    "    df2 = 4\n",
    "    df_cross = df1*df2\n",
    "    df_within = 3*5*(4-1)\n",
    "    \n",
    "    ms_within = ss_within / df_within\n",
    "    ms_grp1 = ss_grp1 / df1\n",
    "    ms_grp2 = ss_grp2 / df2\n",
    "    ms_cross = ss_cross / df_cross\n",
    "    \n",
    "    F_grp1 = ms_grp1 / ms_within\n",
    "    F_grp2 = ms_grp2 / ms_within\n",
    "    F_cross = ms_cross / ms_within\n",
    "    \n",
    "    p_grp1 = stats.f.cdf(F_grp1, df1, df_within)\n",
    "    p_grp2 = stats.f.cdf(F_grp2, df2, df_within)\n",
    "    p_cross = stats.f.cdf(F_cross, df_cross, df_within)\n",
    "    \n",
    "    p1.append(p_grp1)\n",
    "    p2.append(p_grp2)\n",
    "    p3.append(p_cross)\n",
    "    \n",
    "    \n",
    "np.mean(p1)\n",
    "np.mean(p2)\n",
    "np.mean(p3)\n",
    "\n",
    "p1c=[i>0.95 for i in p1]\n",
    "p2c=[i>0.95 for i in p2]\n",
    "p3c=[i>0.95 for i in p3]\n",
    "\n",
    "p_total=[any(t) for t in zip(p1c, p2c, p3c)]"
   ]
  },
  {
   "cell_type": "code",
   "execution_count": 25,
   "metadata": {
    "collapsed": false
   },
   "outputs": [
    {
     "data": {
      "text/plain": [
       "0.154"
      ]
     },
     "execution_count": 25,
     "metadata": {},
     "output_type": "execute_result"
    }
   ],
   "source": [
    "np.mean(p_total)"
   ]
  },
  {
   "cell_type": "code",
   "execution_count": null,
   "metadata": {
    "collapsed": true
   },
   "outputs": [],
   "source": []
  }
 ],
 "metadata": {
  "kernelspec": {
   "display_name": "Python 2",
   "language": "python",
   "name": "python2"
  },
  "language_info": {
   "codemirror_mode": {
    "name": "ipython",
    "version": 2
   },
   "file_extension": ".py",
   "mimetype": "text/x-python",
   "name": "python",
   "nbconvert_exporter": "python",
   "pygments_lexer": "ipython2",
   "version": "2.7.10"
  }
 },
 "nbformat": 4,
 "nbformat_minor": 0
}
