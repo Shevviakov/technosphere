{
 "cells": [
  {
   "cell_type": "markdown",
   "metadata": {},
   "source": [
    "## OLS fit"
   ]
  },
  {
   "cell_type": "code",
   "execution_count": 1,
   "metadata": {
    "collapsed": true
   },
   "outputs": [],
   "source": [
    "%matplotlib inline"
   ]
  },
  {
   "cell_type": "code",
   "execution_count": 2,
   "metadata": {
    "collapsed": true
   },
   "outputs": [],
   "source": [
    "import pandas as pd\n",
    "import numpy as np\n",
    "import seaborn as sns"
   ]
  },
  {
   "cell_type": "code",
   "execution_count": 3,
   "metadata": {
    "collapsed": true
   },
   "outputs": [],
   "source": [
    "tips = sns.load_dataset(\"tips\")"
   ]
  },
  {
   "cell_type": "code",
   "execution_count": 4,
   "metadata": {
    "collapsed": false
   },
   "outputs": [
    {
     "data": {
      "text/html": [
       "<div style=\"max-height:1000px;max-width:1500px;overflow:auto;\">\n",
       "<table border=\"1\" class=\"dataframe\">\n",
       "  <thead>\n",
       "    <tr style=\"text-align: right;\">\n",
       "      <th></th>\n",
       "      <th>total_bill</th>\n",
       "      <th>tip</th>\n",
       "      <th>sex</th>\n",
       "      <th>smoker</th>\n",
       "      <th>day</th>\n",
       "      <th>time</th>\n",
       "      <th>size</th>\n",
       "    </tr>\n",
       "  </thead>\n",
       "  <tbody>\n",
       "    <tr>\n",
       "      <th>0</th>\n",
       "      <td> 16.99</td>\n",
       "      <td> 1.01</td>\n",
       "      <td> Female</td>\n",
       "      <td> No</td>\n",
       "      <td> Sun</td>\n",
       "      <td> Dinner</td>\n",
       "      <td> 2</td>\n",
       "    </tr>\n",
       "    <tr>\n",
       "      <th>1</th>\n",
       "      <td> 10.34</td>\n",
       "      <td> 1.66</td>\n",
       "      <td>   Male</td>\n",
       "      <td> No</td>\n",
       "      <td> Sun</td>\n",
       "      <td> Dinner</td>\n",
       "      <td> 3</td>\n",
       "    </tr>\n",
       "    <tr>\n",
       "      <th>2</th>\n",
       "      <td> 21.01</td>\n",
       "      <td> 3.50</td>\n",
       "      <td>   Male</td>\n",
       "      <td> No</td>\n",
       "      <td> Sun</td>\n",
       "      <td> Dinner</td>\n",
       "      <td> 3</td>\n",
       "    </tr>\n",
       "    <tr>\n",
       "      <th>3</th>\n",
       "      <td> 23.68</td>\n",
       "      <td> 3.31</td>\n",
       "      <td>   Male</td>\n",
       "      <td> No</td>\n",
       "      <td> Sun</td>\n",
       "      <td> Dinner</td>\n",
       "      <td> 2</td>\n",
       "    </tr>\n",
       "    <tr>\n",
       "      <th>4</th>\n",
       "      <td> 24.59</td>\n",
       "      <td> 3.61</td>\n",
       "      <td> Female</td>\n",
       "      <td> No</td>\n",
       "      <td> Sun</td>\n",
       "      <td> Dinner</td>\n",
       "      <td> 4</td>\n",
       "    </tr>\n",
       "  </tbody>\n",
       "</table>\n",
       "</div>"
      ],
      "text/plain": [
       "   total_bill   tip     sex smoker  day    time  size\n",
       "0       16.99  1.01  Female     No  Sun  Dinner     2\n",
       "1       10.34  1.66    Male     No  Sun  Dinner     3\n",
       "2       21.01  3.50    Male     No  Sun  Dinner     3\n",
       "3       23.68  3.31    Male     No  Sun  Dinner     2\n",
       "4       24.59  3.61  Female     No  Sun  Dinner     4"
      ]
     },
     "execution_count": 4,
     "metadata": {},
     "output_type": "execute_result"
    }
   ],
   "source": [
    "tips.head()"
   ]
  },
  {
   "cell_type": "code",
   "execution_count": 5,
   "metadata": {
    "collapsed": false
   },
   "outputs": [
    {
     "name": "stderr",
     "output_type": "stream",
     "text": [
      "/usr/lib/python2.7/dist-packages/matplotlib/collections.py:571: FutureWarning: elementwise comparison failed; returning scalar instead, but in the future will perform elementwise comparison\n",
      "  if self._edgecolors == str('face'):\n"
     ]
    },
    {
     "data": {
      "image/png": "[encoded data removed]",
      "text/plain": [
       "<matplotlib.figure.Figure at 0x7fe7d76abc50>"
      ]
     },
     "metadata": {},
     "output_type": "display_data"
    }
   ],
   "source": [
    "ax = sns.regplot(x=\"total_bill\", y=\"tip\", data=tips, ci=None)"
   ]
  },
  {
   "cell_type": "code",
   "execution_count": 6,
   "metadata": {
    "collapsed": false
   },
   "outputs": [],
   "source": [
    "X = tips.total_bill.reshape(244,1)\n",
    "y = tips.tip.reshape(244,1)"
   ]
  },
  {
   "cell_type": "code",
   "execution_count": 7,
   "metadata": {
    "collapsed": false
   },
   "outputs": [
    {
     "data": {
      "text/plain": [
       "LinearRegression(copy_X=True, fit_intercept=True, n_jobs=1, normalize=False)"
      ]
     },
     "execution_count": 7,
     "metadata": {},
     "output_type": "execute_result"
    }
   ],
   "source": [
    "from sklearn.linear_model import LinearRegression\n",
    "lm = LinearRegression()\n",
    "lm.fit(X, y)"
   ]
  },
  {
   "cell_type": "code",
   "execution_count": 8,
   "metadata": {
    "collapsed": false
   },
   "outputs": [
    {
     "name": "stdout",
     "output_type": "stream",
     "text": [
      "[ 0.92026961]\n",
      "[[ 0.10502452]]\n"
     ]
    }
   ],
   "source": [
    "print lm.intercept_\n",
    "print lm.coef_"
   ]
  },
  {
   "cell_type": "code",
   "execution_count": 9,
   "metadata": {
    "collapsed": false
   },
   "outputs": [],
   "source": [
    "X = tips[['total_bill', 'size']]"
   ]
  },
  {
   "cell_type": "code",
   "execution_count": 10,
   "metadata": {
    "collapsed": false
   },
   "outputs": [
    {
     "data": {
      "text/plain": [
       "LinearRegression(copy_X=True, fit_intercept=True, n_jobs=1, normalize=False)"
      ]
     },
     "execution_count": 10,
     "metadata": {},
     "output_type": "execute_result"
    }
   ],
   "source": [
    "lm.fit(X, y)"
   ]
  },
  {
   "cell_type": "code",
   "execution_count": 11,
   "metadata": {
    "collapsed": false
   },
   "outputs": [
    {
     "name": "stdout",
     "output_type": "stream",
     "text": [
      "[ 0.66894474]\n",
      "[[ 0.09271334  0.19259779]]\n"
     ]
    }
   ],
   "source": [
    "print lm.intercept_\n",
    "print lm.coef_"
   ]
  },
  {
   "cell_type": "markdown",
   "metadata": {},
   "source": [
    "### Регрессия и её показатели"
   ]
  },
  {
   "cell_type": "code",
   "execution_count": 27,
   "metadata": {
    "collapsed": false
   },
   "outputs": [],
   "source": [
    "from sklearn.datasets import load_boston\n",
    "import pandas as pd\n",
    "from statsmodels.formula.api import ols\n",
    "import statsmodels.formula.api as smf\n",
    "import numpy as np\n",
    "\n",
    "boston = load_boston()\n",
    "\n",
    "\n",
    "boston_data=pd.DataFrame(boston.data)\n",
    "boston_data.columns = boston.feature_names\n",
    "boston_data[\"PRICE\"]=boston.target"
   ]
  },
  {
   "cell_type": "code",
   "execution_count": 28,
   "metadata": {
    "collapsed": false
   },
   "outputs": [
    {
     "data": {
      "text/html": [
       "<div style=\"max-height:1000px;max-width:1500px;overflow:auto;\">\n",
       "<table border=\"1\" class=\"dataframe\">\n",
       "  <thead>\n",
       "    <tr style=\"text-align: right;\">\n",
       "      <th></th>\n",
       "      <th>CRIM</th>\n",
       "      <th>ZN</th>\n",
       "      <th>INDUS</th>\n",
       "      <th>CHAS</th>\n",
       "      <th>NOX</th>\n",
       "      <th>RM</th>\n",
       "      <th>AGE</th>\n",
       "      <th>DIS</th>\n",
       "      <th>RAD</th>\n",
       "      <th>TAX</th>\n",
       "      <th>PTRATIO</th>\n",
       "      <th>B</th>\n",
       "      <th>LSTAT</th>\n",
       "      <th>PRICE</th>\n",
       "    </tr>\n",
       "  </thead>\n",
       "  <tbody>\n",
       "    <tr>\n",
       "      <th>count</th>\n",
       "      <td> 506.000000</td>\n",
       "      <td> 506.000000</td>\n",
       "      <td> 506.000000</td>\n",
       "      <td> 506.000000</td>\n",
       "      <td> 506.000000</td>\n",
       "      <td> 506.000000</td>\n",
       "      <td> 506.000000</td>\n",
       "      <td> 506.000000</td>\n",
       "      <td> 506.000000</td>\n",
       "      <td> 506.000000</td>\n",
       "      <td> 506.000000</td>\n",
       "      <td> 506.000000</td>\n",
       "      <td> 506.000000</td>\n",
       "      <td> 506.000000</td>\n",
       "    </tr>\n",
       "    <tr>\n",
       "      <th>mean</th>\n",
       "      <td>   3.593761</td>\n",
       "      <td>  11.363636</td>\n",
       "      <td>  11.136779</td>\n",
       "      <td>   0.069170</td>\n",
       "      <td>   0.554695</td>\n",
       "      <td>   6.284634</td>\n",
       "      <td>  68.574901</td>\n",
       "      <td>   3.795043</td>\n",
       "      <td>   9.549407</td>\n",
       "      <td> 408.237154</td>\n",
       "      <td>  18.455534</td>\n",
       "      <td> 356.674032</td>\n",
       "      <td>  12.653063</td>\n",
       "      <td>  22.532806</td>\n",
       "    </tr>\n",
       "    <tr>\n",
       "      <th>std</th>\n",
       "      <td>   8.596783</td>\n",
       "      <td>  23.322453</td>\n",
       "      <td>   6.860353</td>\n",
       "      <td>   0.253994</td>\n",
       "      <td>   0.115878</td>\n",
       "      <td>   0.702617</td>\n",
       "      <td>  28.148861</td>\n",
       "      <td>   2.105710</td>\n",
       "      <td>   8.707259</td>\n",
       "      <td> 168.537116</td>\n",
       "      <td>   2.164946</td>\n",
       "      <td>  91.294864</td>\n",
       "      <td>   7.141062</td>\n",
       "      <td>   9.197104</td>\n",
       "    </tr>\n",
       "    <tr>\n",
       "      <th>min</th>\n",
       "      <td>   0.006320</td>\n",
       "      <td>   0.000000</td>\n",
       "      <td>   0.460000</td>\n",
       "      <td>   0.000000</td>\n",
       "      <td>   0.385000</td>\n",
       "      <td>   3.561000</td>\n",
       "      <td>   2.900000</td>\n",
       "      <td>   1.129600</td>\n",
       "      <td>   1.000000</td>\n",
       "      <td> 187.000000</td>\n",
       "      <td>  12.600000</td>\n",
       "      <td>   0.320000</td>\n",
       "      <td>   1.730000</td>\n",
       "      <td>   5.000000</td>\n",
       "    </tr>\n",
       "    <tr>\n",
       "      <th>25%</th>\n",
       "      <td>   0.082045</td>\n",
       "      <td>   0.000000</td>\n",
       "      <td>   5.190000</td>\n",
       "      <td>   0.000000</td>\n",
       "      <td>   0.449000</td>\n",
       "      <td>   5.885500</td>\n",
       "      <td>  45.025000</td>\n",
       "      <td>   2.100175</td>\n",
       "      <td>   4.000000</td>\n",
       "      <td> 279.000000</td>\n",
       "      <td>  17.400000</td>\n",
       "      <td> 375.377500</td>\n",
       "      <td>   6.950000</td>\n",
       "      <td>  17.025000</td>\n",
       "    </tr>\n",
       "    <tr>\n",
       "      <th>50%</th>\n",
       "      <td>   0.256510</td>\n",
       "      <td>   0.000000</td>\n",
       "      <td>   9.690000</td>\n",
       "      <td>   0.000000</td>\n",
       "      <td>   0.538000</td>\n",
       "      <td>   6.208500</td>\n",
       "      <td>  77.500000</td>\n",
       "      <td>   3.207450</td>\n",
       "      <td>   5.000000</td>\n",
       "      <td> 330.000000</td>\n",
       "      <td>  19.050000</td>\n",
       "      <td> 391.440000</td>\n",
       "      <td>  11.360000</td>\n",
       "      <td>  21.200000</td>\n",
       "    </tr>\n",
       "    <tr>\n",
       "      <th>75%</th>\n",
       "      <td>   3.647423</td>\n",
       "      <td>  12.500000</td>\n",
       "      <td>  18.100000</td>\n",
       "      <td>   0.000000</td>\n",
       "      <td>   0.624000</td>\n",
       "      <td>   6.623500</td>\n",
       "      <td>  94.075000</td>\n",
       "      <td>   5.188425</td>\n",
       "      <td>  24.000000</td>\n",
       "      <td> 666.000000</td>\n",
       "      <td>  20.200000</td>\n",
       "      <td> 396.225000</td>\n",
       "      <td>  16.955000</td>\n",
       "      <td>  25.000000</td>\n",
       "    </tr>\n",
       "    <tr>\n",
       "      <th>max</th>\n",
       "      <td>  88.976200</td>\n",
       "      <td> 100.000000</td>\n",
       "      <td>  27.740000</td>\n",
       "      <td>   1.000000</td>\n",
       "      <td>   0.871000</td>\n",
       "      <td>   8.780000</td>\n",
       "      <td> 100.000000</td>\n",
       "      <td>  12.126500</td>\n",
       "      <td>  24.000000</td>\n",
       "      <td> 711.000000</td>\n",
       "      <td>  22.000000</td>\n",
       "      <td> 396.900000</td>\n",
       "      <td>  37.970000</td>\n",
       "      <td>  50.000000</td>\n",
       "    </tr>\n",
       "  </tbody>\n",
       "</table>\n",
       "</div>"
      ],
      "text/plain": [
       "             CRIM          ZN       INDUS        CHAS         NOX          RM  \\\n",
       "count  506.000000  506.000000  506.000000  506.000000  506.000000  506.000000   \n",
       "mean     3.593761   11.363636   11.136779    0.069170    0.554695    6.284634   \n",
       "std      8.596783   23.322453    6.860353    0.253994    0.115878    0.702617   \n",
       "min      0.006320    0.000000    0.460000    0.000000    0.385000    3.561000   \n",
       "25%      0.082045    0.000000    5.190000    0.000000    0.449000    5.885500   \n",
       "50%      0.256510    0.000000    9.690000    0.000000    0.538000    6.208500   \n",
       "75%      3.647423   12.500000   18.100000    0.000000    0.624000    6.623500   \n",
       "max     88.976200  100.000000   27.740000    1.000000    0.871000    8.780000   \n",
       "\n",
       "              AGE         DIS         RAD         TAX     PTRATIO           B  \\\n",
       "count  506.000000  506.000000  506.000000  506.000000  506.000000  506.000000   \n",
       "mean    68.574901    3.795043    9.549407  408.237154   18.455534  356.674032   \n",
       "std     28.148861    2.105710    8.707259  168.537116    2.164946   91.294864   \n",
       "min      2.900000    1.129600    1.000000  187.000000   12.600000    0.320000   \n",
       "25%     45.025000    2.100175    4.000000  279.000000   17.400000  375.377500   \n",
       "50%     77.500000    3.207450    5.000000  330.000000   19.050000  391.440000   \n",
       "75%     94.075000    5.188425   24.000000  666.000000   20.200000  396.225000   \n",
       "max    100.000000   12.126500   24.000000  711.000000   22.000000  396.900000   \n",
       "\n",
       "            LSTAT       PRICE  \n",
       "count  506.000000  506.000000  \n",
       "mean    12.653063   22.532806  \n",
       "std      7.141062    9.197104  \n",
       "min      1.730000    5.000000  \n",
       "25%      6.950000   17.025000  \n",
       "50%     11.360000   21.200000  \n",
       "75%     16.955000   25.000000  \n",
       "max     37.970000   50.000000  "
      ]
     },
     "execution_count": 28,
     "metadata": {},
     "output_type": "execute_result"
    }
   ],
   "source": [
    "boston_data.describe()"
   ]
  },
  {
   "cell_type": "code",
   "execution_count": 29,
   "metadata": {
    "collapsed": false
   },
   "outputs": [
    {
     "data": {
      "text/html": [
       "<div style=\"max-height:1000px;max-width:1500px;overflow:auto;\">\n",
       "<table border=\"1\" class=\"dataframe\">\n",
       "  <thead>\n",
       "    <tr style=\"text-align: right;\">\n",
       "      <th></th>\n",
       "      <th>CRIM</th>\n",
       "      <th>ZN</th>\n",
       "      <th>INDUS</th>\n",
       "      <th>CHAS</th>\n",
       "      <th>NOX</th>\n",
       "      <th>RM</th>\n",
       "      <th>AGE</th>\n",
       "      <th>DIS</th>\n",
       "      <th>RAD</th>\n",
       "      <th>TAX</th>\n",
       "      <th>PTRATIO</th>\n",
       "      <th>B</th>\n",
       "      <th>LSTAT</th>\n",
       "      <th>PRICE</th>\n",
       "    </tr>\n",
       "  </thead>\n",
       "  <tbody>\n",
       "    <tr>\n",
       "      <th>0</th>\n",
       "      <td> 0.00632</td>\n",
       "      <td> 18</td>\n",
       "      <td> 2.31</td>\n",
       "      <td> 0</td>\n",
       "      <td> 0.538</td>\n",
       "      <td> 6.575</td>\n",
       "      <td> 65.2</td>\n",
       "      <td> 4.0900</td>\n",
       "      <td> 1</td>\n",
       "      <td> 296</td>\n",
       "      <td> 15.3</td>\n",
       "      <td> 396.90</td>\n",
       "      <td> 4.98</td>\n",
       "      <td> 24.0</td>\n",
       "    </tr>\n",
       "    <tr>\n",
       "      <th>1</th>\n",
       "      <td> 0.02731</td>\n",
       "      <td>  0</td>\n",
       "      <td> 7.07</td>\n",
       "      <td> 0</td>\n",
       "      <td> 0.469</td>\n",
       "      <td> 6.421</td>\n",
       "      <td> 78.9</td>\n",
       "      <td> 4.9671</td>\n",
       "      <td> 2</td>\n",
       "      <td> 242</td>\n",
       "      <td> 17.8</td>\n",
       "      <td> 396.90</td>\n",
       "      <td> 9.14</td>\n",
       "      <td> 21.6</td>\n",
       "    </tr>\n",
       "    <tr>\n",
       "      <th>2</th>\n",
       "      <td> 0.02729</td>\n",
       "      <td>  0</td>\n",
       "      <td> 7.07</td>\n",
       "      <td> 0</td>\n",
       "      <td> 0.469</td>\n",
       "      <td> 7.185</td>\n",
       "      <td> 61.1</td>\n",
       "      <td> 4.9671</td>\n",
       "      <td> 2</td>\n",
       "      <td> 242</td>\n",
       "      <td> 17.8</td>\n",
       "      <td> 392.83</td>\n",
       "      <td> 4.03</td>\n",
       "      <td> 34.7</td>\n",
       "    </tr>\n",
       "    <tr>\n",
       "      <th>3</th>\n",
       "      <td> 0.03237</td>\n",
       "      <td>  0</td>\n",
       "      <td> 2.18</td>\n",
       "      <td> 0</td>\n",
       "      <td> 0.458</td>\n",
       "      <td> 6.998</td>\n",
       "      <td> 45.8</td>\n",
       "      <td> 6.0622</td>\n",
       "      <td> 3</td>\n",
       "      <td> 222</td>\n",
       "      <td> 18.7</td>\n",
       "      <td> 394.63</td>\n",
       "      <td> 2.94</td>\n",
       "      <td> 33.4</td>\n",
       "    </tr>\n",
       "    <tr>\n",
       "      <th>4</th>\n",
       "      <td> 0.06905</td>\n",
       "      <td>  0</td>\n",
       "      <td> 2.18</td>\n",
       "      <td> 0</td>\n",
       "      <td> 0.458</td>\n",
       "      <td> 7.147</td>\n",
       "      <td> 54.2</td>\n",
       "      <td> 6.0622</td>\n",
       "      <td> 3</td>\n",
       "      <td> 222</td>\n",
       "      <td> 18.7</td>\n",
       "      <td> 396.90</td>\n",
       "      <td> 5.33</td>\n",
       "      <td> 36.2</td>\n",
       "    </tr>\n",
       "  </tbody>\n",
       "</table>\n",
       "</div>"
      ],
      "text/plain": [
       "      CRIM  ZN  INDUS  CHAS    NOX     RM   AGE     DIS  RAD  TAX  PTRATIO  \\\n",
       "0  0.00632  18   2.31     0  0.538  6.575  65.2  4.0900    1  296     15.3   \n",
       "1  0.02731   0   7.07     0  0.469  6.421  78.9  4.9671    2  242     17.8   \n",
       "2  0.02729   0   7.07     0  0.469  7.185  61.1  4.9671    2  242     17.8   \n",
       "3  0.03237   0   2.18     0  0.458  6.998  45.8  6.0622    3  222     18.7   \n",
       "4  0.06905   0   2.18     0  0.458  7.147  54.2  6.0622    3  222     18.7   \n",
       "\n",
       "        B  LSTAT  PRICE  \n",
       "0  396.90   4.98   24.0  \n",
       "1  396.90   9.14   21.6  \n",
       "2  392.83   4.03   34.7  \n",
       "3  394.63   2.94   33.4  \n",
       "4  396.90   5.33   36.2  "
      ]
     },
     "execution_count": 29,
     "metadata": {},
     "output_type": "execute_result"
    }
   ],
   "source": [
    "boston_data.head()"
   ]
  },
  {
   "cell_type": "code",
   "execution_count": 35,
   "metadata": {
    "collapsed": false
   },
   "outputs": [],
   "source": [
    "formula = 'PRICE ~ CRIM + ZN + INDUS + CHAS + NOX + RM + AGE + DIS + RAD + TAX + LSTAT'\n",
    "\n",
    "lm = smf.ols(formula=formula, data=boston_data).fit()"
   ]
  },
  {
   "cell_type": "code",
   "execution_count": 36,
   "metadata": {
    "collapsed": false
   },
   "outputs": [
    {
     "data": {
      "text/html": [
       "<table class=\"simpletable\">\n",
       "<caption>OLS Regression Results</caption>\n",
       "<tr>\n",
       "  <th>Dep. Variable:</th>          <td>PRICE</td>      <th>  R-squared:         </th> <td>   0.707</td> \n",
       "</tr>\n",
       "<tr>\n",
       "  <th>Model:</th>                   <td>OLS</td>       <th>  Adj. R-squared:    </th> <td>   0.700</td> \n",
       "</tr>\n",
       "<tr>\n",
       "  <th>Method:</th>             <td>Least Squares</td>  <th>  F-statistic:       </th> <td>   108.4</td> \n",
       "</tr>\n",
       "<tr>\n",
       "  <th>Date:</th>             <td>Thu, 10 Nov 2016</td> <th>  Prob (F-statistic):</th> <td>5.08e-124</td>\n",
       "</tr>\n",
       "<tr>\n",
       "  <th>Time:</th>                 <td>23:07:40</td>     <th>  Log-Likelihood:    </th> <td> -1529.6</td> \n",
       "</tr>\n",
       "<tr>\n",
       "  <th>No. Observations:</th>      <td>   506</td>      <th>  AIC:               </th> <td>   3083.</td> \n",
       "</tr>\n",
       "<tr>\n",
       "  <th>Df Residuals:</th>          <td>   494</td>      <th>  BIC:               </th> <td>   3134.</td> \n",
       "</tr>\n",
       "<tr>\n",
       "  <th>Df Model:</th>              <td>    11</td>      <th>                     </th>     <td> </td>    \n",
       "</tr>\n",
       "</table>\n",
       "<table class=\"simpletable\">\n",
       "<tr>\n",
       "      <td></td>         <th>coef</th>     <th>std err</th>      <th>t</th>      <th>P>|t|</th> <th>[95.0% Conf. Int.]</th> \n",
       "</tr>\n",
       "<tr>\n",
       "  <th>Intercept</th> <td>   19.3629</td> <td>    3.990</td> <td>    4.853</td> <td> 0.000</td> <td>   11.524    27.202</td>\n",
       "</tr>\n",
       "<tr>\n",
       "  <th>CRIM</th>      <td>   -0.1134</td> <td>    0.034</td> <td>   -3.290</td> <td> 0.001</td> <td>   -0.181    -0.046</td>\n",
       "</tr>\n",
       "<tr>\n",
       "  <th>ZN</th>        <td>    0.0775</td> <td>    0.014</td> <td>    5.602</td> <td> 0.000</td> <td>    0.050     0.105</td>\n",
       "</tr>\n",
       "<tr>\n",
       "  <th>INDUS</th>     <td>   -0.0430</td> <td>    0.065</td> <td>   -0.666</td> <td> 0.506</td> <td>   -0.170     0.084</td>\n",
       "</tr>\n",
       "<tr>\n",
       "  <th>CHAS</th>      <td>    3.4139</td> <td>    0.909</td> <td>    3.757</td> <td> 0.000</td> <td>    1.628     5.199</td>\n",
       "</tr>\n",
       "<tr>\n",
       "  <th>NOX</th>       <td>   -9.6839</td> <td>    3.810</td> <td>   -2.542</td> <td> 0.011</td> <td>  -17.169    -2.199</td>\n",
       "</tr>\n",
       "<tr>\n",
       "  <th>RM</th>        <td>    4.1405</td> <td>    0.435</td> <td>    9.520</td> <td> 0.000</td> <td>    3.286     4.995</td>\n",
       "</tr>\n",
       "<tr>\n",
       "  <th>AGE</th>       <td>   -0.0039</td> <td>    0.014</td> <td>   -0.281</td> <td> 0.779</td> <td>   -0.031     0.023</td>\n",
       "</tr>\n",
       "<tr>\n",
       "  <th>DIS</th>       <td>   -1.6231</td> <td>    0.211</td> <td>   -7.707</td> <td> 0.000</td> <td>   -2.037    -1.209</td>\n",
       "</tr>\n",
       "<tr>\n",
       "  <th>RAD</th>       <td>    0.1993</td> <td>    0.069</td> <td>    2.892</td> <td> 0.004</td> <td>    0.064     0.335</td>\n",
       "</tr>\n",
       "<tr>\n",
       "  <th>TAX</th>       <td>   -0.0147</td> <td>    0.004</td> <td>   -3.695</td> <td> 0.000</td> <td>   -0.023    -0.007</td>\n",
       "</tr>\n",
       "<tr>\n",
       "  <th>LSTAT</th>     <td>   -0.5680</td> <td>    0.053</td> <td>  -10.707</td> <td> 0.000</td> <td>   -0.672    -0.464</td>\n",
       "</tr>\n",
       "</table>\n",
       "<table class=\"simpletable\">\n",
       "<tr>\n",
       "  <th>Omnibus:</th>       <td>155.650</td> <th>  Durbin-Watson:     </th> <td>   0.986</td> \n",
       "</tr>\n",
       "<tr>\n",
       "  <th>Prob(Omnibus):</th> <td> 0.000</td>  <th>  Jarque-Bera (JB):  </th> <td> 566.055</td> \n",
       "</tr>\n",
       "<tr>\n",
       "  <th>Skew:</th>          <td> 1.380</td>  <th>  Prob(JB):          </th> <td>1.21e-123</td>\n",
       "</tr>\n",
       "<tr>\n",
       "  <th>Kurtosis:</th>      <td> 7.385</td>  <th>  Cond. No.          </th> <td>9.46e+03</td> \n",
       "</tr>\n",
       "</table>"
      ],
      "text/plain": [
       "<class 'statsmodels.iolib.summary.Summary'>\n",
       "\"\"\"\n",
       "                            OLS Regression Results                            \n",
       "==============================================================================\n",
       "Dep. Variable:                  PRICE   R-squared:                       0.707\n",
       "Model:                            OLS   Adj. R-squared:                  0.700\n",
       "Method:                 Least Squares   F-statistic:                     108.4\n",
       "Date:                Thu, 10 Nov 2016   Prob (F-statistic):          5.08e-124\n",
       "Time:                        23:07:40   Log-Likelihood:                -1529.6\n",
       "No. Observations:                 506   AIC:                             3083.\n",
       "Df Residuals:                     494   BIC:                             3134.\n",
       "Df Model:                          11                                         \n",
       "==============================================================================\n",
       "                 coef    std err          t      P>|t|      [95.0% Conf. Int.]\n",
       "------------------------------------------------------------------------------\n",
       "Intercept     19.3629      3.990      4.853      0.000        11.524    27.202\n",
       "CRIM          -0.1134      0.034     -3.290      0.001        -0.181    -0.046\n",
       "ZN             0.0775      0.014      5.602      0.000         0.050     0.105\n",
       "INDUS         -0.0430      0.065     -0.666      0.506        -0.170     0.084\n",
       "CHAS           3.4139      0.909      3.757      0.000         1.628     5.199\n",
       "NOX           -9.6839      3.810     -2.542      0.011       -17.169    -2.199\n",
       "RM             4.1405      0.435      9.520      0.000         3.286     4.995\n",
       "AGE           -0.0039      0.014     -0.281      0.779        -0.031     0.023\n",
       "DIS           -1.6231      0.211     -7.707      0.000        -2.037    -1.209\n",
       "RAD            0.1993      0.069      2.892      0.004         0.064     0.335\n",
       "TAX           -0.0147      0.004     -3.695      0.000        -0.023    -0.007\n",
       "LSTAT         -0.5680      0.053    -10.707      0.000        -0.672    -0.464\n",
       "==============================================================================\n",
       "Omnibus:                      155.650   Durbin-Watson:                   0.986\n",
       "Prob(Omnibus):                  0.000   Jarque-Bera (JB):              566.055\n",
       "Skew:                           1.380   Prob(JB):                    1.21e-123\n",
       "Kurtosis:                       7.385   Cond. No.                     9.46e+03\n",
       "==============================================================================\n",
       "\n",
       "Warnings:\n",
       "[1] The condition number is large, 9.46e+03. This might indicate that there are\n",
       "strong multicollinearity or other numerical problems.\n",
       "\"\"\""
      ]
     },
     "execution_count": 36,
     "metadata": {},
     "output_type": "execute_result"
    }
   ],
   "source": [
    "lm.summary()"
   ]
  },
  {
   "cell_type": "markdown",
   "metadata": {},
   "source": [
    "Давайте разберем некоторые выведенные показатели"
   ]
  },
  {
   "cell_type": "markdown",
   "metadata": {},
   "source": [
    "### R квадрат"
   ]
  },
  {
   "cell_type": "markdown",
   "metadata": {},
   "source": [
    " В общем случае, статистика  $R^2$ (её еще называют коэффициентом детерминации) имеет вид:"
   ]
  },
  {
   "cell_type": "markdown",
   "metadata": {},
   "source": [
    "$$ R^2 = 1- \\frac{SS_{res}}{SS_{tot}} $$"
   ]
  },
  {
   "cell_type": "markdown",
   "metadata": {},
   "source": [
    ", где:"
   ]
  },
  {
   "cell_type": "markdown",
   "metadata": {},
   "source": [
    "$SS_{tot}=\\sum_{i}(y_i-\\bar{y})^2$"
   ]
  },
  {
   "cell_type": "markdown",
   "metadata": {},
   "source": [
    "$SS_{res}=\\sum_{i}(f_i-\\bar{y})^2$"
   ]
  },
  {
   "cell_type": "markdown",
   "metadata": {},
   "source": [
    "![title](CoD1.png)"
   ]
  },
  {
   "cell_type": "markdown",
   "metadata": {},
   "source": [
    "$R^2$ демонстрирует объясняющую способность модели"
   ]
  },
  {
   "cell_type": "markdown",
   "metadata": {},
   "source": [
    " Для моделей полученных методом OLS выполняется правило: $$R^2 = \\frac{SS_{explained}}{SS_{total}}$$"
   ]
  },
  {
   "cell_type": "markdown",
   "metadata": {},
   "source": [
    "Для модели, удовлетворяющей следующим требованиям:"
   ]
  },
  {
   "cell_type": "markdown",
   "metadata": {},
   "source": [
    "1. Получена методом OLS\n",
    "2. Включает свободный член\n",
    "\n",
    "$R^2$ равен квадрату коэффициента корреляции $r$ между $Y$ и $Y_{pred}$. Если в регрессии одна объясняющая переменная $X$, $R^2$ равен квадрату коэффициента корреляции между $Y$ и $X$"
   ]
  },
  {
   "cell_type": "markdown",
   "metadata": {},
   "source": [
    "## F-test на значимость регрессии"
   ]
  },
  {
   "cell_type": "markdown",
   "metadata": {},
   "source": [
    "Как и для других выборочных показателей, для проверки значений $R^2$ существуют статистические тесты. В данном случае мы будем использовать F-test, со следующей нулевой гипотезой"
   ]
  },
  {
   "cell_type": "markdown",
   "metadata": {},
   "source": [
    "$$H_0: b_1=b_2=...=b_n=0$$"
   ]
  },
  {
   "cell_type": "markdown",
   "metadata": {},
   "source": [
    "F-статистика рассчитывается следующим образом:"
   ]
  },
  {
   "cell_type": "markdown",
   "metadata": {},
   "source": [
    "$$ F=\\frac{(SS_{tot}-SS_{res})/(k-1)}{SS_{res}/(n-k)}$$"
   ]
  },
  {
   "cell_type": "markdown",
   "metadata": {},
   "source": [
    "где n-число наблюдений, k-число объясняющих переменных в модели"
   ]
  },
  {
   "cell_type": "markdown",
   "metadata": {},
   "source": [
    "С увеличением количества регрессоров $R^2$ не убывает. Поэтому для оценки качества модели используется коэффициенты $R^2_{adj}$ и $R^2_{pred}$"
   ]
  },
  {
   "cell_type": "markdown",
   "metadata": {},
   "source": [
    "### $R^2_{adj}$"
   ]
  },
  {
   "cell_type": "markdown",
   "metadata": {},
   "source": [
    "Общая идея состоит в том, чтобы править значение коэффициента $R^2$ на количество регрессоров. Существует большое количестов вариантов исправления. Один из наиболее часто использующихся выглядит так:"
   ]
  },
  {
   "cell_type": "markdown",
   "metadata": {},
   "source": [
    "$$R^2_{adj}= 1- (1-R^2)\\frac{n-1}{n-k}$$"
   ]
  },
  {
   "cell_type": "markdown",
   "metadata": {},
   "source": [
    "где $n$ - объем выборки, $k$ - количество объясняющих переменных"
   ]
  },
  {
   "cell_type": "markdown",
   "metadata": {},
   "source": [
    "## $R^2_{pred}$"
   ]
  },
  {
   "cell_type": "markdown",
   "metadata": {},
   "source": [
    "Предсказательное значение $R^2$ получается за счет leave-one-out кросс-валидации:"
   ]
  },
  {
   "cell_type": "markdown",
   "metadata": {},
   "source": [
    "## Тесты на значимость коэффициентов регрессии"
   ]
  },
  {
   "cell_type": "markdown",
   "metadata": {},
   "source": [
    "Кроме одновременной проверки значимости всех коэффициентов, можно проверять на значимость и отдельные коэффициенты. Для этого используется t-test. При проверке нескольких коэффициентов возникает проблема множественных сравнений. T-статистика выглядит следующим образом:"
   ]
  },
  {
   "cell_type": "markdown",
   "metadata": {},
   "source": [
    "$$ T_{n-k-1}= \\frac{b}{s_b},$$"
   ]
  },
  {
   "cell_type": "markdown",
   "metadata": {},
   "source": [
    "$$ s_b= \\sqrt{\\frac{1-R^2_{YH}}{(1-R^2_{X_kG_k})(N-K-1)}}*\\frac{s_y}{s_{X_k}}$$"
   ]
  },
  {
   "cell_type": "markdown",
   "metadata": {},
   "source": [
    ", где $R^2_{X_kG_k}$ - $R^2$ для регрессии $X_k$ на все остальные объясняющие переменные"
   ]
  },
  {
   "cell_type": "markdown",
   "metadata": {},
   "source": [
    "С ростом $R^2_{X_kG_k}$ стандартные ошибки растут, и мощность теста падает. Этот эффект является следствием мультиколлинеарности"
   ]
  },
  {
   "cell_type": "markdown",
   "metadata": {},
   "source": [
    "Для каждой переменной можно рассчитать Variance Inflation Factor:  $$VIF=\\frac{1}{1-R^2_{X_kG_k}}$$"
   ]
  },
  {
   "cell_type": "markdown",
   "metadata": {},
   "source": [
    "Для случая с одной объясняющей переменной $T^2=F$"
   ]
  },
  {
   "cell_type": "code",
   "execution_count": null,
   "metadata": {
    "collapsed": true
   },
   "outputs": [],
   "source": []
  },
  {
   "cell_type": "code",
   "execution_count": null,
   "metadata": {
    "collapsed": true
   },
   "outputs": [],
   "source": []
  }
 ],
 "metadata": {
  "kernelspec": {
   "display_name": "Python 2",
   "language": "python",
   "name": "python2"
  },
  "language_info": {
   "codemirror_mode": {
    "name": "ipython",
    "version": 2
   },
   "file_extension": ".py",
   "mimetype": "text/x-python",
   "name": "python",
   "nbconvert_exporter": "python",
   "pygments_lexer": "ipython2",
   "version": "2.7.10"
  }
 },
 "nbformat": 4,
 "nbformat_minor": 0
}
