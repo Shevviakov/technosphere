{
 "cells": [
  {
   "cell_type": "code",
   "execution_count": 2,
   "metadata": {
    "collapsed": true
   },
   "outputs": [],
   "source": [
    "import pandas as pd\n",
    "import numpy as np\n",
    "from scipy import stats"
   ]
  },
  {
   "cell_type": "markdown",
   "metadata": {},
   "source": [
    "Как вы помните, коэффициент корреляции Пирсона измеряет силу линейной связи между двумя переменными, и является достаточной статистикой для описания взаимосвязи между переменными, описываемыми двумерным нормальным распределением."
   ]
  },
  {
   "cell_type": "markdown",
   "metadata": {},
   "source": [
    "Из формулы коэффцииента Пирсона следует, что он не является робастным - то есть чувствителен к выбросам."
   ]
  },
  {
   "cell_type": "markdown",
   "metadata": {},
   "source": [
    "### Коэффициент ранговой корреляции Спирмена"
   ]
  },
  {
   "cell_type": "markdown",
   "metadata": {},
   "source": [
    "Неформально, можно его описать как коэффициент корреляции Пирсона между рангами вместо абсолютных значений. **Он позволяет описать степень монотонности отношения между переменными.** Меньший ранг соответствует меньшему значению. Если нет повторяющихся рангов, то формула имеет вид:\n",
    "$$ r_s = 1 - \\frac{6\\sum_i d_i^2}{n(n^2-1)}.$$"
   ]
  },
  {
   "cell_type": "markdown",
   "metadata": {},
   "source": [
    "Сам расчет уже сделан в scipy.stats:"
   ]
  },
  {
   "cell_type": "code",
   "execution_count": 4,
   "metadata": {
    "collapsed": false
   },
   "outputs": [
    {
     "data": {
      "text/plain": [
       "SpearmanrResult(correlation=-0.073099309930993103, pvalue=0.46982091571549556)"
      ]
     },
     "execution_count": 4,
     "metadata": {},
     "output_type": "execute_result"
    }
   ],
   "source": [
    "x2n = np.random.randn(100, 2)\n",
    "y2n = np.random.randn(100, 2)\n",
    "stats.spearmanr(x2n)"
   ]
  },
  {
   "cell_type": "markdown",
   "metadata": {},
   "source": [
    "Доверять оценкам p-values стоит при наличии наблюдений в выборке от 500 (установлено эмпирически)."
   ]
  },
  {
   "cell_type": "markdown",
   "metadata": {},
   "source": [
    "### Тау Кенделла"
   ]
  },
  {
   "cell_type": "markdown",
   "metadata": {},
   "source": [
    "Данный коэффициент используется для нахождения ассоциации между переменными, измеренным на ординальной шкале. Проще всего описать его следующим образом:\n",
    "$$\\tau = \\frac{n_{concordant}-n_{discordant}}{n(n-1)/2} .$$"
   ]
  },
  {
   "cell_type": "markdown",
   "metadata": {},
   "source": [
    "Пара наблюдений $(x_i, y_i)$ и $(x_j, y_j)$, где $i \\ne j$, является конкордантной, если  ранги обоих элементов одного наблюдения больше или меньше соответствующих рангов элементов второго наблюдения, т.е: "
   ]
  },
  {
   "cell_type": "markdown",
   "metadata": {},
   "source": [
    "$$ sign(Rank(x_i)-Rank(x_j)) = sign(Rank(y_i)-Rank(y_j)) $$"
   ]
  },
  {
   "cell_type": "code",
   "execution_count": 5,
   "metadata": {
    "collapsed": true
   },
   "outputs": [],
   "source": [
    "x1 = [12, 2, 1, 12, 2]\n",
    "x2 = [1, 4, 7, 1, 0]\n",
    "tau, p_value = stats.kendalltau(x1, x2) "
   ]
  },
  {
   "cell_type": "code",
   "execution_count": 6,
   "metadata": {
    "collapsed": false
   },
   "outputs": [
    {
     "data": {
      "text/plain": [
       "-0.47140452079103173"
      ]
     },
     "execution_count": 6,
     "metadata": {},
     "output_type": "execute_result"
    }
   ],
   "source": [
    "tau"
   ]
  },
  {
   "cell_type": "code",
   "execution_count": 7,
   "metadata": {
    "collapsed": false
   },
   "outputs": [
    {
     "data": {
      "text/plain": [
       "0.24821309157521476"
      ]
     },
     "execution_count": 7,
     "metadata": {},
     "output_type": "execute_result"
    }
   ],
   "source": [
    "p_value"
   ]
  },
  {
   "cell_type": "markdown",
   "metadata": {},
   "source": [
    "p-values аппроксимируются с помощью нормального распределения."
   ]
  },
  {
   "cell_type": "code",
   "execution_count": null,
   "metadata": {
    "collapsed": true
   },
   "outputs": [],
   "source": []
  }
 ],
 "metadata": {
  "kernelspec": {
   "display_name": "Python 2",
   "language": "python",
   "name": "python2"
  },
  "language_info": {
   "codemirror_mode": {
    "name": "ipython",
    "version": 2
   },
   "file_extension": ".py",
   "mimetype": "text/x-python",
   "name": "python",
   "nbconvert_exporter": "python",
   "pygments_lexer": "ipython2",
   "version": "2.7.10"
  }
 },
 "nbformat": 4,
 "nbformat_minor": 0
}
