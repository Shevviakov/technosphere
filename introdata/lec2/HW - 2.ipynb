{
 "cells": [
  {
   "cell_type": "markdown",
   "metadata": {},
   "source": [
    "** (2 балла). Напишите векторизованную версию следующих функций: **\n",
    "$$   f_1(x) =\n",
    "\\begin{cases}\n",
    "x,  & \\text{if $x > 0$} \\\\\n",
    "0.01x, & \\text{otherwise.}\n",
    "\\end{cases} $$\n",
    "\n",
    "\n",
    "$$   f_2(x, \\sigma) = max(0, x+Y), Y \\sim N(0,\\sigma). $$"
   ]
  },
  {
   "cell_type": "markdown",
   "metadata": {},
   "source": [
    "** (4 балла). Напишите свою версию hashing trick. Данная функция должна принимать: **\n",
    "\n",
    "* input_dict, произвольный словарь (python object);\n",
    "* bits, размерность пространства (целое число от 1 до 32).\n",
    "\n",
    "В качестве ответа должен возвращаться словарь вида: {индекс: значение}. Для хэш-функции используйте готовое решение: murmurhash, crc32 итд.\n",
    "\n",
    "http://alex.smola.org/papers/2009/Weinbergeretal09.pdf\n",
    "\n",
    "По сути, вы должны рассчитать хэш от пары (склеив ее в текст) \"ключ:значение\". Используйте упрощенный способ:"
   ]
  },
  {
   "cell_type": "code",
   "execution_count": 2,
   "metadata": {
    "collapsed": false
   },
   "outputs": [],
   "source": [
    "'''\n",
    "for f in features:\n",
    "     h = hash(f)\n",
    "     x[h mod bits] += 1\n",
    " return x\n",
    "''';"
   ]
  },
  {
   "cell_type": "markdown",
   "metadata": {},
   "source": [
    "** (6 баллов). Напишите свою версию TfIdf transformer  (https://en.wikipedia.org/wiki/Tf%E2%80%93idf). **\n",
    "\n",
    "Входные параметры:\n",
    "\n",
    "- iterable, элементы которого представляют строки.\n",
    "- stop_words, может быть пустым списком.\n",
    "\n",
    "Возвращаемое значение: \n",
    "\n",
    "матрица TF - IDF. "
   ]
  },
  {
   "cell_type": "code",
   "execution_count": 3,
   "metadata": {
    "collapsed": true
   },
   "outputs": [],
   "source": [
    "def f1(x):\n",
    "    return (x*(x>0))+(0.01*x*(x<=0))"
   ]
  },
  {
   "cell_type": "code",
   "execution_count": 54,
   "metadata": {
    "collapsed": false
   },
   "outputs": [
    {
     "name": "stdout",
     "output_type": "stream",
     "text": [
      "[-4.1 -3.  -2.  -1.   0.   1.1  2.   3.   4. ]\n",
      "[-0.041 -0.03  -0.02  -0.01   0.     1.1    2.     3.     4.   ]\n",
      "4.0\n"
     ]
    }
   ],
   "source": [
    "import numpy as np\n",
    "a = np.array([-4.1,-3,-2,-1,-0,1.1,2,3,4])\n",
    "print a\n",
    "print f1(a)\n",
    "print f1(4)"
   ]
  },
  {
   "cell_type": "code",
   "execution_count": 59,
   "metadata": {
    "collapsed": false
   },
   "outputs": [],
   "source": [
    "def f2(x, sigma):\n",
    "    try:\n",
    "        y = np.random.normal(loc=0.0, scale=sigma, size=len(x))\n",
    "    except TypeError:\n",
    "        y = np.random.normal(loc=0.0, scale=sigma)\n",
    "    print y\n",
    "    return (x+y)*((x+y)>0)"
   ]
  },
  {
   "cell_type": "code",
   "execution_count": 74,
   "metadata": {
    "collapsed": false
   },
   "outputs": [
    {
     "name": "stdout",
     "output_type": "stream",
     "text": [
      "1.04166034458\n"
     ]
    },
    {
     "data": {
      "text/plain": [
       "0.04166034457625045"
      ]
     },
     "execution_count": 74,
     "metadata": {},
     "output_type": "execute_result"
    }
   ],
   "source": [
    "f2(-1, 1.0)"
   ]
  },
  {
   "cell_type": "code",
   "execution_count": 111,
   "metadata": {
    "collapsed": false
   },
   "outputs": [],
   "source": [
    "import mmh3\n",
    "\n",
    "def hashing_trick(input_dict, bits):\n",
    "    x = {}\n",
    "    for f in input_dict:\n",
    "        s = ''\n",
    "        s = s.join((str(f),':',str(input_dict[f])))\n",
    "        h = mmh3.hash(s) % (2**bits)\n",
    "        print ('hash: '+str(h))\n",
    "        try:\n",
    "            x[h] += 1\n",
    "        except KeyError:\n",
    "            x[h] = 1\n",
    "    return x"
   ]
  },
  {
   "cell_type": "code",
   "execution_count": 88,
   "metadata": {
    "collapsed": false
   },
   "outputs": [],
   "source": [
    "d = {'A':{'abc':[[12, 0.001], [22, 0.120]]}, \n",
    "                 'B':{'tex':[[34, 0.002], [78, 0.005]]}, \n",
    "                 'E':{'yet':[[88, 0.090]]}}"
   ]
  },
  {
   "cell_type": "code",
   "execution_count": 114,
   "metadata": {
    "collapsed": false
   },
   "outputs": [
    {
     "name": "stdout",
     "output_type": "stream",
     "text": [
      "hash: 1\n",
      "hash: 3\n",
      "hash: 3\n",
      "{1: 1, 3: 2}\n"
     ]
    }
   ],
   "source": [
    "x = hashing_trick(d, 2)\n",
    "print x"
   ]
  },
  {
   "cell_type": "code",
   "execution_count": null,
   "metadata": {
    "collapsed": true
   },
   "outputs": [],
   "source": []
  }
 ],
 "metadata": {
  "kernelspec": {
   "display_name": "Python [Root]",
   "language": "python",
   "name": "Python [Root]"
  },
  "language_info": {
   "codemirror_mode": {
    "name": "ipython",
    "version": 2
   },
   "file_extension": ".py",
   "mimetype": "text/x-python",
   "name": "python",
   "nbconvert_exporter": "python",
   "pygments_lexer": "ipython2",
   "version": "2.7.12"
  }
 },
 "nbformat": 4,
 "nbformat_minor": 0
}
