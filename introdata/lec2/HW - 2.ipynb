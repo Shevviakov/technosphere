{
 "cells": [
  {
   "cell_type": "markdown",
   "metadata": {},
   "source": [
    "** (2 балла). Напишите векторизованную версию следующих функций: **\n",
    "$$   f_1(x) =\n",
    "\\begin{cases}\n",
    "x,  & \\text{if $x > 0$} \\\\\n",
    "0.01x, & \\text{otherwise.}\n",
    "\\end{cases} $$\n",
    "\n",
    "\n",
    "$$   f_2(x, \\sigma) = max(0, x+Y), Y \\sim N(0,\\sigma). $$"
   ]
  },
  {
   "cell_type": "markdown",
   "metadata": {},
   "source": [
    "** (4 балла). Напишите свою версию hashing trick. Данная функция должна принимать: **\n",
    "\n",
    "* input_dict, произвольный словарь (python object);\n",
    "* bits, размерность пространства (целое число от 1 до 32).\n",
    "\n",
    "В качестве ответа должен возвращаться словарь вида: {индекс: значение}. Для хэш-функции используйте готовое решение: murmurhash, crc32 итд.\n",
    "\n",
    "http://alex.smola.org/papers/2009/Weinbergeretal09.pdf\n",
    "\n",
    "По сути, вы должны рассчитать хэш от пары (склеив ее в текст) \"ключ:значение\". Используйте упрощенный способ:"
   ]
  },
  {
   "cell_type": "code",
   "execution_count": 2,
   "metadata": {
    "collapsed": false
   },
   "outputs": [],
   "source": [
    "'''\n",
    "for f in features:\n",
    "     h = hash(f)\n",
    "     x[h mod bits] += 1\n",
    " return x\n",
    "''';"
   ]
  },
  {
   "cell_type": "markdown",
   "metadata": {},
   "source": [
    "** (6 баллов). Напишите свою версию TfIdf transformer  (https://en.wikipedia.org/wiki/Tf%E2%80%93idf). **\n",
    "\n",
    "Входные параметры:\n",
    "\n",
    "- iterable, элементы которого представляют строки.\n",
    "- stop_words, может быть пустым списком.\n",
    "\n",
    "Возвращаемое значение: \n",
    "\n",
    "матрица TF - IDF. "
   ]
  },
  {
   "cell_type": "code",
   "execution_count": null,
   "metadata": {
    "collapsed": true
   },
   "outputs": [],
   "source": []
  }
 ],
 "metadata": {
  "kernelspec": {
   "display_name": "Python [Root]",
   "language": "python",
   "name": "Python [Root]"
  },
  "language_info": {
   "codemirror_mode": {
    "name": "ipython",
    "version": 2
   },
   "file_extension": ".py",
   "mimetype": "text/x-python",
   "name": "python",
   "nbconvert_exporter": "python",
   "pygments_lexer": "ipython2",
   "version": "2.7.12"
  }
 },
 "nbformat": 4,
 "nbformat_minor": 0
}
