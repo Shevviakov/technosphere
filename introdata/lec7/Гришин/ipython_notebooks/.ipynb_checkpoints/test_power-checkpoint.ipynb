{
 "cells": [
  {
   "cell_type": "markdown",
   "metadata": {},
   "source": [
    "### Мощность критерия"
   ]
  },
  {
   "cell_type": "markdown",
   "metadata": {},
   "source": [
    "Представим, что мы провели статитстический тест, и по его результатам не смогли отвергнуть нулевую гипотезу $H_0$. Произойти это могла по 2 причинам:\n",
    "* нулевая гипотеза действительно верна;\n",
    "* размер выборки оказался недостаточным для того, чтобы получить по ней оценки параметров генеральной совокупности."
   ]
  },
  {
   "cell_type": "markdown",
   "metadata": {},
   "source": [
    "### Пример"
   ]
  },
  {
   "cell_type": "code",
   "execution_count": 4,
   "metadata": {
    "collapsed": true
   },
   "outputs": [],
   "source": [
    "import scipy.stats as stats\n",
    "import numpy as np"
   ]
  },
  {
   "cell_type": "markdown",
   "metadata": {},
   "source": [
    "Допустим, у нас есть выборка из генеральной совокупности, которая описывается следующими параметрами:\n",
    "* $\\mu$, которое мы хотим оценить;\n",
    "* $\\sigma$, которая нам известна, например, 9."
   ]
  },
  {
   "cell_type": "markdown",
   "metadata": {},
   "source": [
    "Уровень значимости установлен на уровне $\\alpha = 0.05.$ Допустим, что мы извлекли выборку из 25 единиц и рассчитали выборочные моменты. Теперь мы хотим проверить гипотезу вида:\n",
    "$$ H_0: \\mu = 170,$$\n",
    "$$ H_1: \\mu < 170.$$"
   ]
  },
  {
   "cell_type": "markdown",
   "metadata": {},
   "source": [
    "Чтобы осуществить дальнейшие расчеты, предположим, что истинный параметр генеральной совокупности $\\mu = 175$. "
   ]
  },
  {
   "cell_type": "markdown",
   "metadata": {},
   "source": [
    "$$z = \\frac{\\bar{X}-\\mu}{\\sigma / \\sqrt{n}},$$\n",
    "$$\\bar{X} = \\mu + z\\left(\\frac{\\sigma}{\\sqrt{n}}\\right)$$,"
   ]
  },
  {
   "cell_type": "code",
   "execution_count": 6,
   "metadata": {
    "collapsed": false
   },
   "outputs": [],
   "source": [
    "bar_x = 170+stats.norm.ppf(0.95)*(9/np.sqrt(25))"
   ]
  },
  {
   "cell_type": "code",
   "execution_count": 7,
   "metadata": {
    "collapsed": false
   },
   "outputs": [
    {
     "data": {
      "text/plain": [
       "172.96073652851265"
      ]
     },
     "execution_count": 7,
     "metadata": {},
     "output_type": "execute_result"
    }
   ],
   "source": [
    "bar_x"
   ]
  },
  {
   "cell_type": "markdown",
   "metadata": {},
   "source": [
    "Иными словами, если мы наблюдаем выборочное среднее около 173 и выше, то нулевую гипотезу следует отклонить в пользу альтернативной. Какова будет мощность критерия в данном случае?"
   ]
  },
  {
   "cell_type": "markdown",
   "metadata": {},
   "source": [
    "$$P(\\bar{X}>173|\\,\\mu=175) = P\\left(z \\geq \\frac{173-\\mu}{\\sigma / \\sqrt(n)} \\right).$$"
   ]
  },
  {
   "cell_type": "code",
   "execution_count": 36,
   "metadata": {
    "collapsed": false
   },
   "outputs": [],
   "source": [
    "power = 1 - stats.norm.cdf((bar_x-175)/(9/np.sqrt(25)))"
   ]
  },
  {
   "cell_type": "code",
   "execution_count": 37,
   "metadata": {
    "collapsed": false
   },
   "outputs": [
    {
     "data": {
      "text/plain": [
       "0.87137694648697916"
      ]
     },
     "execution_count": 37,
     "metadata": {},
     "output_type": "execute_result"
    }
   ],
   "source": [
    "power"
   ]
  },
  {
   "cell_type": "markdown",
   "metadata": {},
   "source": [
    "Мы получили следующее: вероятность отклонить нулевую гипотезу $H_0: \\mu = 170$, если на самом деле $\\mu = 175$, равна 0.87."
   ]
  },
  {
   "cell_type": "markdown",
   "metadata": {},
   "source": [
    "На практике, критерии с мощностью выше, чем 0.8, считаются в достаточной степени мощными."
   ]
  },
  {
   "cell_type": "markdown",
   "metadata": {
    "collapsed": true
   },
   "source": [
    "### Расчет необходимого объема выборки"
   ]
  },
  {
   "cell_type": "markdown",
   "metadata": {},
   "source": [
    "Воспользуемся данынми примера, приведенного выше. Тогда, формула для одностроннего теста примет вид:"
   ]
  },
  {
   "cell_type": "markdown",
   "metadata": {},
   "source": [
    "$$n = \\frac{\\sigma^2(Z_{\\alpha} + Z_{\\beta})^2}{(\\mu_0-\\mu_a)^2},$$"
   ]
  },
  {
   "cell_type": "markdown",
   "metadata": {},
   "source": [
    "для двустроннего:"
   ]
  },
  {
   "cell_type": "markdown",
   "metadata": {},
   "source": [
    "$$n = \\frac{\\sigma^2(Z_{\\alpha/2} + Z_{\\beta})^2}{(\\mu_0-\\mu_a)^2},$$"
   ]
  },
  {
   "cell_type": "markdown",
   "metadata": {},
   "source": [
    "где $\\alpha, \\beta$ - соответствующие параметры теста, $\\mu_a$ - теоретическое среднее, против которого мы рассчитываем мощность критерия."
   ]
  },
  {
   "cell_type": "code",
   "execution_count": 48,
   "metadata": {
    "collapsed": false
   },
   "outputs": [],
   "source": [
    "n = (81 * np.power(stats.norm.ppf(0.95)+stats.norm.ppf(0.87), 2))/float(25)"
   ]
  },
  {
   "cell_type": "code",
   "execution_count": 44,
   "metadata": {
    "collapsed": false
   },
   "outputs": [
    {
     "data": {
      "text/plain": [
       "24.882543892235621"
      ]
     },
     "execution_count": 44,
     "metadata": {},
     "output_type": "execute_result"
    }
   ],
   "source": [
    "n"
   ]
  },
  {
   "cell_type": "markdown",
   "metadata": {},
   "source": [
    "Иными словами, минимальный объем выборки необходимый для того, чтобы тест смог \"увидеть\" различия между данными, порожденными генеральной совокупностью с параметром $\\mu=175$, и данными, порожденными генеральной совокупностью с параметром $\\mu=170$, имея на руках фиксированную реализацию выборки - 25 единиц."
   ]
  },
  {
   "cell_type": "code",
   "execution_count": null,
   "metadata": {
    "collapsed": true
   },
   "outputs": [],
   "source": []
  }
 ],
 "metadata": {
  "kernelspec": {
   "display_name": "Python 2",
   "language": "python",
   "name": "python2"
  },
  "language_info": {
   "codemirror_mode": {
    "name": "ipython",
    "version": 2
   },
   "file_extension": ".py",
   "mimetype": "text/x-python",
   "name": "python",
   "nbconvert_exporter": "python",
   "pygments_lexer": "ipython2",
   "version": "2.7.10"
  }
 },
 "nbformat": 4,
 "nbformat_minor": 0
}
