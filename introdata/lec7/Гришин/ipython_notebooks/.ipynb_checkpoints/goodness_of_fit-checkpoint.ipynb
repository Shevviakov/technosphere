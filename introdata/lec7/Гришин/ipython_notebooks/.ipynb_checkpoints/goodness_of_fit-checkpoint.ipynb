{
 "cells": [
  {
   "cell_type": "code",
   "execution_count": 1,
   "metadata": {
    "collapsed": true
   },
   "outputs": [],
   "source": [
    "import scipy.stats as stats\n",
    "import numpy as np\n",
    "import pandas as pd"
   ]
  },
  {
   "cell_type": "code",
   "execution_count": 31,
   "metadata": {
    "collapsed": true
   },
   "outputs": [],
   "source": [
    "%matplotlib inline"
   ]
  },
  {
   "cell_type": "code",
   "execution_count": 33,
   "metadata": {
    "collapsed": true
   },
   "outputs": [],
   "source": [
    "import seaborn as sns\n",
    "sns.set(color_codes=True)"
   ]
  },
  {
   "cell_type": "markdown",
   "metadata": {},
   "source": [
    "### Критерий хи-квадрат (критерий Пирсона)"
   ]
  },
  {
   "cell_type": "markdown",
   "metadata": {},
   "source": [
    "$$ \\chi^2_{obs} = \\sum_{i=1}^{n}\\frac{(O_i - E_i)^2}{E_i},$$"
   ]
  },
  {
   "cell_type": "markdown",
   "metadata": {},
   "source": [
    "где $O_i$ - наблюдаемая частота наблюдения $i$,  $E_i$ - ожидаемая (т.е. в соответствии с распределением, принадлежность к которому мы тестируем) частота наблюдения $i$"
   ]
  },
  {
   "cell_type": "markdown",
   "metadata": {},
   "source": [
    "$$ H_0: F_{obs} = F_{exp},$$\n",
    "$$ H_1: F_{obs} \\neq F_{exp}.$$"
   ]
  },
  {
   "cell_type": "markdown",
   "metadata": {},
   "source": [
    "**Пример: задача о бомбардировках Лондона**"
   ]
  },
  {
   "cell_type": "markdown",
   "metadata": {},
   "source": [
    "Во время второй мировой войны карту Лондона разделили на 576 участков (24 на 24), для лучшей организации оборонительных мероприятий. Были получены сведения о числе участков, в котоые попали снаряды. Распределение было следующим:"
   ]
  },
  {
   "cell_type": "code",
   "execution_count": null,
   "metadata": {
    "collapsed": true
   },
   "outputs": [],
   "source": [
    "observed = [229, 211, 93, 35,7, 0, 0, 1]"
   ]
  },
  {
   "cell_type": "markdown",
   "metadata": {},
   "source": [
    "Военные предположили, что стрельба ведется по площадной цели - без прицела на определенные здания. Если эта гипотеза верна, то вероятность попадания на один конкретный участок должна описываться как Пуассоновская СВ."
   ]
  },
  {
   "cell_type": "code",
   "execution_count": null,
   "metadata": {
    "collapsed": true
   },
   "outputs": [],
   "source": [
    "lambda_est = 0.924"
   ]
  },
  {
   "cell_type": "code",
   "execution_count": null,
   "metadata": {
    "collapsed": false
   },
   "outputs": [],
   "source": [
    "expected = []\n",
    "for i in xrange(len(observed)):\n",
    "    expected.append(stats.poisson.pmf(i, lambda_est)*576)"
   ]
  },
  {
   "cell_type": "markdown",
   "metadata": {},
   "source": [
    "Последние 4 группы объеденим в одну - \"от 4 до 7 попаданий\"."
   ]
  },
  {
   "cell_type": "code",
   "execution_count": null,
   "metadata": {
    "collapsed": true
   },
   "outputs": [],
   "source": [
    "observed_g = observed[0:4]+[sum(observed[4:])]"
   ]
  },
  {
   "cell_type": "code",
   "execution_count": null,
   "metadata": {
    "collapsed": false
   },
   "outputs": [],
   "source": [
    "expected_g = expected[0:4]+[sum(expected[4:])]"
   ]
  },
  {
   "cell_type": "code",
   "execution_count": null,
   "metadata": {
    "collapsed": false
   },
   "outputs": [],
   "source": [
    "stats.chisquare(observed_g, f_exp=expected_g)"
   ]
  },
  {
   "cell_type": "markdown",
   "metadata": {},
   "source": [
    "У нас нет оснований отклонить нулевую гипотезу: данные свидетельствуют о том, что стрельба велась по площадной цели."
   ]
  },
  {
   "cell_type": "markdown",
   "metadata": {},
   "source": [
    "### Критерий Шапиро-Уилка"
   ]
  },
  {
   "cell_type": "markdown",
   "metadata": {},
   "source": [
    "Данный тест позволяет проверить гипотезу о нормальном распределении распределении генеральной совокупности."
   ]
  },
  {
   "cell_type": "markdown",
   "metadata": {},
   "source": [
    "$$H_0: X_1, ..., X_n \\sim \\mathbb{N} ,$$\n",
    "$$H_1: X_1, ..., X_n \\, \\, \\text{not} \\, \\, \\mathbb{N}.$$"
   ]
  },
  {
   "cell_type": "markdown",
   "metadata": {},
   "source": [
    "$$ W = \\frac{(\\sum_{i=1}^{n}a_i x_{(i)})^2}{\\sum_{i=1}^{n}(x_{(i)} - \\bar{x})^2}.$$"
   ]
  },
  {
   "cell_type": "markdown",
   "metadata": {},
   "source": [
    "где $x_{(i)}$ - поряковая статистика, $a_{i}$ - затабулированные константы."
   ]
  },
  {
   "cell_type": "code",
   "execution_count": 28,
   "metadata": {
    "collapsed": false
   },
   "outputs": [],
   "source": [
    "data = pd.read_csv('data/euro_weights', sep='\\t', header=None,index_col=0, names=['weight', 'group'])"
   ]
  },
  {
   "cell_type": "code",
   "execution_count": 29,
   "metadata": {
    "collapsed": false
   },
   "outputs": [
    {
     "data": {
      "text/html": [
       "<div>\n",
       "<table border=\"1\" class=\"dataframe\">\n",
       "  <thead>\n",
       "    <tr style=\"text-align: right;\">\n",
       "      <th></th>\n",
       "      <th>weight</th>\n",
       "      <th>group</th>\n",
       "    </tr>\n",
       "  </thead>\n",
       "  <tbody>\n",
       "    <tr>\n",
       "      <th>1</th>\n",
       "      <td>7.512</td>\n",
       "      <td>1</td>\n",
       "    </tr>\n",
       "    <tr>\n",
       "      <th>2</th>\n",
       "      <td>7.502</td>\n",
       "      <td>1</td>\n",
       "    </tr>\n",
       "    <tr>\n",
       "      <th>3</th>\n",
       "      <td>7.461</td>\n",
       "      <td>1</td>\n",
       "    </tr>\n",
       "    <tr>\n",
       "      <th>4</th>\n",
       "      <td>7.562</td>\n",
       "      <td>1</td>\n",
       "    </tr>\n",
       "    <tr>\n",
       "      <th>5</th>\n",
       "      <td>7.528</td>\n",
       "      <td>1</td>\n",
       "    </tr>\n",
       "    <tr>\n",
       "      <th>6</th>\n",
       "      <td>7.459</td>\n",
       "      <td>1</td>\n",
       "    </tr>\n",
       "    <tr>\n",
       "      <th>7</th>\n",
       "      <td>7.518</td>\n",
       "      <td>1</td>\n",
       "    </tr>\n",
       "    <tr>\n",
       "      <th>8</th>\n",
       "      <td>7.537</td>\n",
       "      <td>1</td>\n",
       "    </tr>\n",
       "    <tr>\n",
       "      <th>9</th>\n",
       "      <td>7.517</td>\n",
       "      <td>1</td>\n",
       "    </tr>\n",
       "    <tr>\n",
       "      <th>10</th>\n",
       "      <td>7.605</td>\n",
       "      <td>1</td>\n",
       "    </tr>\n",
       "    <tr>\n",
       "      <th>11</th>\n",
       "      <td>7.567</td>\n",
       "      <td>1</td>\n",
       "    </tr>\n",
       "    <tr>\n",
       "      <th>12</th>\n",
       "      <td>7.551</td>\n",
       "      <td>1</td>\n",
       "    </tr>\n",
       "    <tr>\n",
       "      <th>13</th>\n",
       "      <td>7.486</td>\n",
       "      <td>1</td>\n",
       "    </tr>\n",
       "    <tr>\n",
       "      <th>14</th>\n",
       "      <td>7.528</td>\n",
       "      <td>1</td>\n",
       "    </tr>\n",
       "    <tr>\n",
       "      <th>15</th>\n",
       "      <td>7.525</td>\n",
       "      <td>1</td>\n",
       "    </tr>\n",
       "    <tr>\n",
       "      <th>16</th>\n",
       "      <td>7.581</td>\n",
       "      <td>1</td>\n",
       "    </tr>\n",
       "    <tr>\n",
       "      <th>17</th>\n",
       "      <td>7.497</td>\n",
       "      <td>1</td>\n",
       "    </tr>\n",
       "    <tr>\n",
       "      <th>18</th>\n",
       "      <td>7.548</td>\n",
       "      <td>1</td>\n",
       "    </tr>\n",
       "    <tr>\n",
       "      <th>19</th>\n",
       "      <td>7.553</td>\n",
       "      <td>1</td>\n",
       "    </tr>\n",
       "    <tr>\n",
       "      <th>20</th>\n",
       "      <td>7.544</td>\n",
       "      <td>1</td>\n",
       "    </tr>\n",
       "    <tr>\n",
       "      <th>21</th>\n",
       "      <td>7.468</td>\n",
       "      <td>1</td>\n",
       "    </tr>\n",
       "    <tr>\n",
       "      <th>22</th>\n",
       "      <td>7.539</td>\n",
       "      <td>1</td>\n",
       "    </tr>\n",
       "    <tr>\n",
       "      <th>23</th>\n",
       "      <td>7.537</td>\n",
       "      <td>1</td>\n",
       "    </tr>\n",
       "    <tr>\n",
       "      <th>24</th>\n",
       "      <td>7.554</td>\n",
       "      <td>1</td>\n",
       "    </tr>\n",
       "    <tr>\n",
       "      <th>25</th>\n",
       "      <td>7.455</td>\n",
       "      <td>1</td>\n",
       "    </tr>\n",
       "    <tr>\n",
       "      <th>26</th>\n",
       "      <td>7.459</td>\n",
       "      <td>1</td>\n",
       "    </tr>\n",
       "    <tr>\n",
       "      <th>27</th>\n",
       "      <td>7.534</td>\n",
       "      <td>1</td>\n",
       "    </tr>\n",
       "    <tr>\n",
       "      <th>28</th>\n",
       "      <td>7.467</td>\n",
       "      <td>1</td>\n",
       "    </tr>\n",
       "    <tr>\n",
       "      <th>29</th>\n",
       "      <td>7.504</td>\n",
       "      <td>1</td>\n",
       "    </tr>\n",
       "    <tr>\n",
       "      <th>30</th>\n",
       "      <td>7.508</td>\n",
       "      <td>1</td>\n",
       "    </tr>\n",
       "    <tr>\n",
       "      <th>...</th>\n",
       "      <td>...</td>\n",
       "      <td>...</td>\n",
       "    </tr>\n",
       "    <tr>\n",
       "      <th>1971</th>\n",
       "      <td>7.496</td>\n",
       "      <td>8</td>\n",
       "    </tr>\n",
       "    <tr>\n",
       "      <th>1972</th>\n",
       "      <td>7.485</td>\n",
       "      <td>8</td>\n",
       "    </tr>\n",
       "    <tr>\n",
       "      <th>1973</th>\n",
       "      <td>7.452</td>\n",
       "      <td>8</td>\n",
       "    </tr>\n",
       "    <tr>\n",
       "      <th>1974</th>\n",
       "      <td>7.543</td>\n",
       "      <td>8</td>\n",
       "    </tr>\n",
       "    <tr>\n",
       "      <th>1975</th>\n",
       "      <td>7.459</td>\n",
       "      <td>8</td>\n",
       "    </tr>\n",
       "    <tr>\n",
       "      <th>1976</th>\n",
       "      <td>7.537</td>\n",
       "      <td>8</td>\n",
       "    </tr>\n",
       "    <tr>\n",
       "      <th>1977</th>\n",
       "      <td>7.490</td>\n",
       "      <td>8</td>\n",
       "    </tr>\n",
       "    <tr>\n",
       "      <th>1978</th>\n",
       "      <td>7.541</td>\n",
       "      <td>8</td>\n",
       "    </tr>\n",
       "    <tr>\n",
       "      <th>1979</th>\n",
       "      <td>7.580</td>\n",
       "      <td>8</td>\n",
       "    </tr>\n",
       "    <tr>\n",
       "      <th>1980</th>\n",
       "      <td>7.511</td>\n",
       "      <td>8</td>\n",
       "    </tr>\n",
       "    <tr>\n",
       "      <th>1981</th>\n",
       "      <td>7.515</td>\n",
       "      <td>8</td>\n",
       "    </tr>\n",
       "    <tr>\n",
       "      <th>1982</th>\n",
       "      <td>7.551</td>\n",
       "      <td>8</td>\n",
       "    </tr>\n",
       "    <tr>\n",
       "      <th>1983</th>\n",
       "      <td>7.544</td>\n",
       "      <td>8</td>\n",
       "    </tr>\n",
       "    <tr>\n",
       "      <th>1984</th>\n",
       "      <td>7.474</td>\n",
       "      <td>8</td>\n",
       "    </tr>\n",
       "    <tr>\n",
       "      <th>1985</th>\n",
       "      <td>7.556</td>\n",
       "      <td>8</td>\n",
       "    </tr>\n",
       "    <tr>\n",
       "      <th>1986</th>\n",
       "      <td>7.582</td>\n",
       "      <td>8</td>\n",
       "    </tr>\n",
       "    <tr>\n",
       "      <th>1987</th>\n",
       "      <td>7.539</td>\n",
       "      <td>8</td>\n",
       "    </tr>\n",
       "    <tr>\n",
       "      <th>1988</th>\n",
       "      <td>7.537</td>\n",
       "      <td>8</td>\n",
       "    </tr>\n",
       "    <tr>\n",
       "      <th>1989</th>\n",
       "      <td>7.571</td>\n",
       "      <td>8</td>\n",
       "    </tr>\n",
       "    <tr>\n",
       "      <th>1990</th>\n",
       "      <td>7.524</td>\n",
       "      <td>8</td>\n",
       "    </tr>\n",
       "    <tr>\n",
       "      <th>1991</th>\n",
       "      <td>7.529</td>\n",
       "      <td>8</td>\n",
       "    </tr>\n",
       "    <tr>\n",
       "      <th>1992</th>\n",
       "      <td>7.528</td>\n",
       "      <td>8</td>\n",
       "    </tr>\n",
       "    <tr>\n",
       "      <th>1993</th>\n",
       "      <td>7.492</td>\n",
       "      <td>8</td>\n",
       "    </tr>\n",
       "    <tr>\n",
       "      <th>1994</th>\n",
       "      <td>7.557</td>\n",
       "      <td>8</td>\n",
       "    </tr>\n",
       "    <tr>\n",
       "      <th>1995</th>\n",
       "      <td>7.559</td>\n",
       "      <td>8</td>\n",
       "    </tr>\n",
       "    <tr>\n",
       "      <th>1996</th>\n",
       "      <td>7.514</td>\n",
       "      <td>8</td>\n",
       "    </tr>\n",
       "    <tr>\n",
       "      <th>1997</th>\n",
       "      <td>7.519</td>\n",
       "      <td>8</td>\n",
       "    </tr>\n",
       "    <tr>\n",
       "      <th>1998</th>\n",
       "      <td>7.606</td>\n",
       "      <td>8</td>\n",
       "    </tr>\n",
       "    <tr>\n",
       "      <th>1999</th>\n",
       "      <td>7.547</td>\n",
       "      <td>8</td>\n",
       "    </tr>\n",
       "    <tr>\n",
       "      <th>2000</th>\n",
       "      <td>7.494</td>\n",
       "      <td>8</td>\n",
       "    </tr>\n",
       "  </tbody>\n",
       "</table>\n",
       "<p>2000 rows × 2 columns</p>\n",
       "</div>"
      ],
      "text/plain": [
       "      weight  group\n",
       "1      7.512      1\n",
       "2      7.502      1\n",
       "3      7.461      1\n",
       "4      7.562      1\n",
       "5      7.528      1\n",
       "6      7.459      1\n",
       "7      7.518      1\n",
       "8      7.537      1\n",
       "9      7.517      1\n",
       "10     7.605      1\n",
       "11     7.567      1\n",
       "12     7.551      1\n",
       "13     7.486      1\n",
       "14     7.528      1\n",
       "15     7.525      1\n",
       "16     7.581      1\n",
       "17     7.497      1\n",
       "18     7.548      1\n",
       "19     7.553      1\n",
       "20     7.544      1\n",
       "21     7.468      1\n",
       "22     7.539      1\n",
       "23     7.537      1\n",
       "24     7.554      1\n",
       "25     7.455      1\n",
       "26     7.459      1\n",
       "27     7.534      1\n",
       "28     7.467      1\n",
       "29     7.504      1\n",
       "30     7.508      1\n",
       "...      ...    ...\n",
       "1971   7.496      8\n",
       "1972   7.485      8\n",
       "1973   7.452      8\n",
       "1974   7.543      8\n",
       "1975   7.459      8\n",
       "1976   7.537      8\n",
       "1977   7.490      8\n",
       "1978   7.541      8\n",
       "1979   7.580      8\n",
       "1980   7.511      8\n",
       "1981   7.515      8\n",
       "1982   7.551      8\n",
       "1983   7.544      8\n",
       "1984   7.474      8\n",
       "1985   7.556      8\n",
       "1986   7.582      8\n",
       "1987   7.539      8\n",
       "1988   7.537      8\n",
       "1989   7.571      8\n",
       "1990   7.524      8\n",
       "1991   7.529      8\n",
       "1992   7.528      8\n",
       "1993   7.492      8\n",
       "1994   7.557      8\n",
       "1995   7.559      8\n",
       "1996   7.514      8\n",
       "1997   7.519      8\n",
       "1998   7.606      8\n",
       "1999   7.547      8\n",
       "2000   7.494      8\n",
       "\n",
       "[2000 rows x 2 columns]"
      ]
     },
     "execution_count": 29,
     "metadata": {},
     "output_type": "execute_result"
    }
   ],
   "source": [
    "data"
   ]
  },
  {
   "cell_type": "code",
   "execution_count": 35,
   "metadata": {
    "collapsed": false
   },
   "outputs": [
    {
     "data": {
      "text/plain": [
       "<matplotlib.axes._subplots.AxesSubplot at 0x10b4ffa90>"
      ]
     },
     "execution_count": 35,
     "metadata": {},
     "output_type": "execute_result"
    },
    {
     "data": {
      "image/png": "[encoded data removed]",
      "text/plain": [
       "<matplotlib.figure.Figure at 0x10afdc790>"
      ]
     },
     "metadata": {},
     "output_type": "display_data"
    }
   ],
   "source": [
    "sns.distplot(data['weight'], kde=False, rug=True)"
   ]
  },
  {
   "cell_type": "code",
   "execution_count": 36,
   "metadata": {
    "collapsed": false
   },
   "outputs": [
    {
     "data": {
      "text/plain": [
       "(0.9754709601402283, 5.014394515895443e-18)"
      ]
     },
     "execution_count": 36,
     "metadata": {},
     "output_type": "execute_result"
    }
   ],
   "source": [
    "stats.shapiro(data['weight'])"
   ]
  },
  {
   "cell_type": "markdown",
   "metadata": {},
   "source": [
    "Несмотря на форму, напоминающую нормальное распределение, гипотезу о \"нормальности\" данных необходимо отклонить. Возможно, это связано с \"выбросами\"."
   ]
  },
  {
   "cell_type": "code",
   "execution_count": 47,
   "metadata": {
    "collapsed": false
   },
   "outputs": [
    {
     "data": {
      "text/html": [
       "<div>\n",
       "<table border=\"1\" class=\"dataframe\">\n",
       "  <thead>\n",
       "    <tr style=\"text-align: right;\">\n",
       "      <th></th>\n",
       "      <th>weight</th>\n",
       "      <th>group</th>\n",
       "      <th>x-Mean</th>\n",
       "      <th>1.96*std</th>\n",
       "      <th>Outlier</th>\n",
       "    </tr>\n",
       "  </thead>\n",
       "  <tbody>\n",
       "    <tr>\n",
       "      <th>1</th>\n",
       "      <td>7.512</td>\n",
       "      <td>1</td>\n",
       "      <td>0.009232</td>\n",
       "      <td>0.067383</td>\n",
       "      <td>False</td>\n",
       "    </tr>\n",
       "    <tr>\n",
       "      <th>2</th>\n",
       "      <td>7.502</td>\n",
       "      <td>1</td>\n",
       "      <td>0.019232</td>\n",
       "      <td>0.067383</td>\n",
       "      <td>False</td>\n",
       "    </tr>\n",
       "    <tr>\n",
       "      <th>3</th>\n",
       "      <td>7.461</td>\n",
       "      <td>1</td>\n",
       "      <td>0.060232</td>\n",
       "      <td>0.067383</td>\n",
       "      <td>False</td>\n",
       "    </tr>\n",
       "    <tr>\n",
       "      <th>4</th>\n",
       "      <td>7.562</td>\n",
       "      <td>1</td>\n",
       "      <td>0.040768</td>\n",
       "      <td>0.067383</td>\n",
       "      <td>False</td>\n",
       "    </tr>\n",
       "    <tr>\n",
       "      <th>5</th>\n",
       "      <td>7.528</td>\n",
       "      <td>1</td>\n",
       "      <td>0.006767</td>\n",
       "      <td>0.067383</td>\n",
       "      <td>False</td>\n",
       "    </tr>\n",
       "    <tr>\n",
       "      <th>6</th>\n",
       "      <td>7.459</td>\n",
       "      <td>1</td>\n",
       "      <td>0.062233</td>\n",
       "      <td>0.067383</td>\n",
       "      <td>False</td>\n",
       "    </tr>\n",
       "    <tr>\n",
       "      <th>7</th>\n",
       "      <td>7.518</td>\n",
       "      <td>1</td>\n",
       "      <td>0.003233</td>\n",
       "      <td>0.067383</td>\n",
       "      <td>False</td>\n",
       "    </tr>\n",
       "    <tr>\n",
       "      <th>8</th>\n",
       "      <td>7.537</td>\n",
       "      <td>1</td>\n",
       "      <td>0.015768</td>\n",
       "      <td>0.067383</td>\n",
       "      <td>False</td>\n",
       "    </tr>\n",
       "    <tr>\n",
       "      <th>9</th>\n",
       "      <td>7.517</td>\n",
       "      <td>1</td>\n",
       "      <td>0.004232</td>\n",
       "      <td>0.067383</td>\n",
       "      <td>False</td>\n",
       "    </tr>\n",
       "    <tr>\n",
       "      <th>10</th>\n",
       "      <td>7.605</td>\n",
       "      <td>1</td>\n",
       "      <td>0.083768</td>\n",
       "      <td>0.067383</td>\n",
       "      <td>True</td>\n",
       "    </tr>\n",
       "    <tr>\n",
       "      <th>11</th>\n",
       "      <td>7.567</td>\n",
       "      <td>1</td>\n",
       "      <td>0.045768</td>\n",
       "      <td>0.067383</td>\n",
       "      <td>False</td>\n",
       "    </tr>\n",
       "    <tr>\n",
       "      <th>12</th>\n",
       "      <td>7.551</td>\n",
       "      <td>1</td>\n",
       "      <td>0.029768</td>\n",
       "      <td>0.067383</td>\n",
       "      <td>False</td>\n",
       "    </tr>\n",
       "    <tr>\n",
       "      <th>13</th>\n",
       "      <td>7.486</td>\n",
       "      <td>1</td>\n",
       "      <td>0.035232</td>\n",
       "      <td>0.067383</td>\n",
       "      <td>False</td>\n",
       "    </tr>\n",
       "    <tr>\n",
       "      <th>14</th>\n",
       "      <td>7.528</td>\n",
       "      <td>1</td>\n",
       "      <td>0.006767</td>\n",
       "      <td>0.067383</td>\n",
       "      <td>False</td>\n",
       "    </tr>\n",
       "    <tr>\n",
       "      <th>15</th>\n",
       "      <td>7.525</td>\n",
       "      <td>1</td>\n",
       "      <td>0.003768</td>\n",
       "      <td>0.067383</td>\n",
       "      <td>False</td>\n",
       "    </tr>\n",
       "    <tr>\n",
       "      <th>16</th>\n",
       "      <td>7.581</td>\n",
       "      <td>1</td>\n",
       "      <td>0.059768</td>\n",
       "      <td>0.067383</td>\n",
       "      <td>False</td>\n",
       "    </tr>\n",
       "    <tr>\n",
       "      <th>17</th>\n",
       "      <td>7.497</td>\n",
       "      <td>1</td>\n",
       "      <td>0.024232</td>\n",
       "      <td>0.067383</td>\n",
       "      <td>False</td>\n",
       "    </tr>\n",
       "    <tr>\n",
       "      <th>18</th>\n",
       "      <td>7.548</td>\n",
       "      <td>1</td>\n",
       "      <td>0.026767</td>\n",
       "      <td>0.067383</td>\n",
       "      <td>False</td>\n",
       "    </tr>\n",
       "    <tr>\n",
       "      <th>19</th>\n",
       "      <td>7.553</td>\n",
       "      <td>1</td>\n",
       "      <td>0.031767</td>\n",
       "      <td>0.067383</td>\n",
       "      <td>False</td>\n",
       "    </tr>\n",
       "    <tr>\n",
       "      <th>20</th>\n",
       "      <td>7.544</td>\n",
       "      <td>1</td>\n",
       "      <td>0.022767</td>\n",
       "      <td>0.067383</td>\n",
       "      <td>False</td>\n",
       "    </tr>\n",
       "    <tr>\n",
       "      <th>21</th>\n",
       "      <td>7.468</td>\n",
       "      <td>1</td>\n",
       "      <td>0.053233</td>\n",
       "      <td>0.067383</td>\n",
       "      <td>False</td>\n",
       "    </tr>\n",
       "    <tr>\n",
       "      <th>22</th>\n",
       "      <td>7.539</td>\n",
       "      <td>1</td>\n",
       "      <td>0.017767</td>\n",
       "      <td>0.067383</td>\n",
       "      <td>False</td>\n",
       "    </tr>\n",
       "    <tr>\n",
       "      <th>23</th>\n",
       "      <td>7.537</td>\n",
       "      <td>1</td>\n",
       "      <td>0.015768</td>\n",
       "      <td>0.067383</td>\n",
       "      <td>False</td>\n",
       "    </tr>\n",
       "    <tr>\n",
       "      <th>24</th>\n",
       "      <td>7.554</td>\n",
       "      <td>1</td>\n",
       "      <td>0.032767</td>\n",
       "      <td>0.067383</td>\n",
       "      <td>False</td>\n",
       "    </tr>\n",
       "    <tr>\n",
       "      <th>25</th>\n",
       "      <td>7.455</td>\n",
       "      <td>1</td>\n",
       "      <td>0.066232</td>\n",
       "      <td>0.067383</td>\n",
       "      <td>False</td>\n",
       "    </tr>\n",
       "    <tr>\n",
       "      <th>26</th>\n",
       "      <td>7.459</td>\n",
       "      <td>1</td>\n",
       "      <td>0.062233</td>\n",
       "      <td>0.067383</td>\n",
       "      <td>False</td>\n",
       "    </tr>\n",
       "    <tr>\n",
       "      <th>27</th>\n",
       "      <td>7.534</td>\n",
       "      <td>1</td>\n",
       "      <td>0.012767</td>\n",
       "      <td>0.067383</td>\n",
       "      <td>False</td>\n",
       "    </tr>\n",
       "    <tr>\n",
       "      <th>28</th>\n",
       "      <td>7.467</td>\n",
       "      <td>1</td>\n",
       "      <td>0.054232</td>\n",
       "      <td>0.067383</td>\n",
       "      <td>False</td>\n",
       "    </tr>\n",
       "    <tr>\n",
       "      <th>29</th>\n",
       "      <td>7.504</td>\n",
       "      <td>1</td>\n",
       "      <td>0.017233</td>\n",
       "      <td>0.067383</td>\n",
       "      <td>False</td>\n",
       "    </tr>\n",
       "    <tr>\n",
       "      <th>30</th>\n",
       "      <td>7.508</td>\n",
       "      <td>1</td>\n",
       "      <td>0.013233</td>\n",
       "      <td>0.067383</td>\n",
       "      <td>False</td>\n",
       "    </tr>\n",
       "    <tr>\n",
       "      <th>...</th>\n",
       "      <td>...</td>\n",
       "      <td>...</td>\n",
       "      <td>...</td>\n",
       "      <td>...</td>\n",
       "      <td>...</td>\n",
       "    </tr>\n",
       "    <tr>\n",
       "      <th>1971</th>\n",
       "      <td>7.496</td>\n",
       "      <td>8</td>\n",
       "      <td>0.025232</td>\n",
       "      <td>0.067383</td>\n",
       "      <td>False</td>\n",
       "    </tr>\n",
       "    <tr>\n",
       "      <th>1972</th>\n",
       "      <td>7.485</td>\n",
       "      <td>8</td>\n",
       "      <td>0.036232</td>\n",
       "      <td>0.067383</td>\n",
       "      <td>False</td>\n",
       "    </tr>\n",
       "    <tr>\n",
       "      <th>1973</th>\n",
       "      <td>7.452</td>\n",
       "      <td>8</td>\n",
       "      <td>0.069232</td>\n",
       "      <td>0.067383</td>\n",
       "      <td>True</td>\n",
       "    </tr>\n",
       "    <tr>\n",
       "      <th>1974</th>\n",
       "      <td>7.543</td>\n",
       "      <td>8</td>\n",
       "      <td>0.021767</td>\n",
       "      <td>0.067383</td>\n",
       "      <td>False</td>\n",
       "    </tr>\n",
       "    <tr>\n",
       "      <th>1975</th>\n",
       "      <td>7.459</td>\n",
       "      <td>8</td>\n",
       "      <td>0.062233</td>\n",
       "      <td>0.067383</td>\n",
       "      <td>False</td>\n",
       "    </tr>\n",
       "    <tr>\n",
       "      <th>1976</th>\n",
       "      <td>7.537</td>\n",
       "      <td>8</td>\n",
       "      <td>0.015768</td>\n",
       "      <td>0.067383</td>\n",
       "      <td>False</td>\n",
       "    </tr>\n",
       "    <tr>\n",
       "      <th>1977</th>\n",
       "      <td>7.490</td>\n",
       "      <td>8</td>\n",
       "      <td>0.031232</td>\n",
       "      <td>0.067383</td>\n",
       "      <td>False</td>\n",
       "    </tr>\n",
       "    <tr>\n",
       "      <th>1978</th>\n",
       "      <td>7.541</td>\n",
       "      <td>8</td>\n",
       "      <td>0.019768</td>\n",
       "      <td>0.067383</td>\n",
       "      <td>False</td>\n",
       "    </tr>\n",
       "    <tr>\n",
       "      <th>1979</th>\n",
       "      <td>7.580</td>\n",
       "      <td>8</td>\n",
       "      <td>0.058768</td>\n",
       "      <td>0.067383</td>\n",
       "      <td>False</td>\n",
       "    </tr>\n",
       "    <tr>\n",
       "      <th>1980</th>\n",
       "      <td>7.511</td>\n",
       "      <td>8</td>\n",
       "      <td>0.010232</td>\n",
       "      <td>0.067383</td>\n",
       "      <td>False</td>\n",
       "    </tr>\n",
       "    <tr>\n",
       "      <th>1981</th>\n",
       "      <td>7.515</td>\n",
       "      <td>8</td>\n",
       "      <td>0.006233</td>\n",
       "      <td>0.067383</td>\n",
       "      <td>False</td>\n",
       "    </tr>\n",
       "    <tr>\n",
       "      <th>1982</th>\n",
       "      <td>7.551</td>\n",
       "      <td>8</td>\n",
       "      <td>0.029768</td>\n",
       "      <td>0.067383</td>\n",
       "      <td>False</td>\n",
       "    </tr>\n",
       "    <tr>\n",
       "      <th>1983</th>\n",
       "      <td>7.544</td>\n",
       "      <td>8</td>\n",
       "      <td>0.022767</td>\n",
       "      <td>0.067383</td>\n",
       "      <td>False</td>\n",
       "    </tr>\n",
       "    <tr>\n",
       "      <th>1984</th>\n",
       "      <td>7.474</td>\n",
       "      <td>8</td>\n",
       "      <td>0.047232</td>\n",
       "      <td>0.067383</td>\n",
       "      <td>False</td>\n",
       "    </tr>\n",
       "    <tr>\n",
       "      <th>1985</th>\n",
       "      <td>7.556</td>\n",
       "      <td>8</td>\n",
       "      <td>0.034768</td>\n",
       "      <td>0.067383</td>\n",
       "      <td>False</td>\n",
       "    </tr>\n",
       "    <tr>\n",
       "      <th>1986</th>\n",
       "      <td>7.582</td>\n",
       "      <td>8</td>\n",
       "      <td>0.060768</td>\n",
       "      <td>0.067383</td>\n",
       "      <td>False</td>\n",
       "    </tr>\n",
       "    <tr>\n",
       "      <th>1987</th>\n",
       "      <td>7.539</td>\n",
       "      <td>8</td>\n",
       "      <td>0.017767</td>\n",
       "      <td>0.067383</td>\n",
       "      <td>False</td>\n",
       "    </tr>\n",
       "    <tr>\n",
       "      <th>1988</th>\n",
       "      <td>7.537</td>\n",
       "      <td>8</td>\n",
       "      <td>0.015768</td>\n",
       "      <td>0.067383</td>\n",
       "      <td>False</td>\n",
       "    </tr>\n",
       "    <tr>\n",
       "      <th>1989</th>\n",
       "      <td>7.571</td>\n",
       "      <td>8</td>\n",
       "      <td>0.049768</td>\n",
       "      <td>0.067383</td>\n",
       "      <td>False</td>\n",
       "    </tr>\n",
       "    <tr>\n",
       "      <th>1990</th>\n",
       "      <td>7.524</td>\n",
       "      <td>8</td>\n",
       "      <td>0.002768</td>\n",
       "      <td>0.067383</td>\n",
       "      <td>False</td>\n",
       "    </tr>\n",
       "    <tr>\n",
       "      <th>1991</th>\n",
       "      <td>7.529</td>\n",
       "      <td>8</td>\n",
       "      <td>0.007767</td>\n",
       "      <td>0.067383</td>\n",
       "      <td>False</td>\n",
       "    </tr>\n",
       "    <tr>\n",
       "      <th>1992</th>\n",
       "      <td>7.528</td>\n",
       "      <td>8</td>\n",
       "      <td>0.006767</td>\n",
       "      <td>0.067383</td>\n",
       "      <td>False</td>\n",
       "    </tr>\n",
       "    <tr>\n",
       "      <th>1993</th>\n",
       "      <td>7.492</td>\n",
       "      <td>8</td>\n",
       "      <td>0.029232</td>\n",
       "      <td>0.067383</td>\n",
       "      <td>False</td>\n",
       "    </tr>\n",
       "    <tr>\n",
       "      <th>1994</th>\n",
       "      <td>7.557</td>\n",
       "      <td>8</td>\n",
       "      <td>0.035768</td>\n",
       "      <td>0.067383</td>\n",
       "      <td>False</td>\n",
       "    </tr>\n",
       "    <tr>\n",
       "      <th>1995</th>\n",
       "      <td>7.559</td>\n",
       "      <td>8</td>\n",
       "      <td>0.037768</td>\n",
       "      <td>0.067383</td>\n",
       "      <td>False</td>\n",
       "    </tr>\n",
       "    <tr>\n",
       "      <th>1996</th>\n",
       "      <td>7.514</td>\n",
       "      <td>8</td>\n",
       "      <td>0.007233</td>\n",
       "      <td>0.067383</td>\n",
       "      <td>False</td>\n",
       "    </tr>\n",
       "    <tr>\n",
       "      <th>1997</th>\n",
       "      <td>7.519</td>\n",
       "      <td>8</td>\n",
       "      <td>0.002232</td>\n",
       "      <td>0.067383</td>\n",
       "      <td>False</td>\n",
       "    </tr>\n",
       "    <tr>\n",
       "      <th>1998</th>\n",
       "      <td>7.606</td>\n",
       "      <td>8</td>\n",
       "      <td>0.084767</td>\n",
       "      <td>0.067383</td>\n",
       "      <td>True</td>\n",
       "    </tr>\n",
       "    <tr>\n",
       "      <th>1999</th>\n",
       "      <td>7.547</td>\n",
       "      <td>8</td>\n",
       "      <td>0.025768</td>\n",
       "      <td>0.067383</td>\n",
       "      <td>False</td>\n",
       "    </tr>\n",
       "    <tr>\n",
       "      <th>2000</th>\n",
       "      <td>7.494</td>\n",
       "      <td>8</td>\n",
       "      <td>0.027233</td>\n",
       "      <td>0.067383</td>\n",
       "      <td>False</td>\n",
       "    </tr>\n",
       "  </tbody>\n",
       "</table>\n",
       "<p>2000 rows × 5 columns</p>\n",
       "</div>"
      ],
      "text/plain": [
       "      weight  group    x-Mean  1.96*std Outlier\n",
       "1      7.512      1  0.009232  0.067383   False\n",
       "2      7.502      1  0.019232  0.067383   False\n",
       "3      7.461      1  0.060232  0.067383   False\n",
       "4      7.562      1  0.040768  0.067383   False\n",
       "5      7.528      1  0.006767  0.067383   False\n",
       "6      7.459      1  0.062233  0.067383   False\n",
       "7      7.518      1  0.003233  0.067383   False\n",
       "8      7.537      1  0.015768  0.067383   False\n",
       "9      7.517      1  0.004232  0.067383   False\n",
       "10     7.605      1  0.083768  0.067383    True\n",
       "11     7.567      1  0.045768  0.067383   False\n",
       "12     7.551      1  0.029768  0.067383   False\n",
       "13     7.486      1  0.035232  0.067383   False\n",
       "14     7.528      1  0.006767  0.067383   False\n",
       "15     7.525      1  0.003768  0.067383   False\n",
       "16     7.581      1  0.059768  0.067383   False\n",
       "17     7.497      1  0.024232  0.067383   False\n",
       "18     7.548      1  0.026767  0.067383   False\n",
       "19     7.553      1  0.031767  0.067383   False\n",
       "20     7.544      1  0.022767  0.067383   False\n",
       "21     7.468      1  0.053233  0.067383   False\n",
       "22     7.539      1  0.017767  0.067383   False\n",
       "23     7.537      1  0.015768  0.067383   False\n",
       "24     7.554      1  0.032767  0.067383   False\n",
       "25     7.455      1  0.066232  0.067383   False\n",
       "26     7.459      1  0.062233  0.067383   False\n",
       "27     7.534      1  0.012767  0.067383   False\n",
       "28     7.467      1  0.054232  0.067383   False\n",
       "29     7.504      1  0.017233  0.067383   False\n",
       "30     7.508      1  0.013233  0.067383   False\n",
       "...      ...    ...       ...       ...     ...\n",
       "1971   7.496      8  0.025232  0.067383   False\n",
       "1972   7.485      8  0.036232  0.067383   False\n",
       "1973   7.452      8  0.069232  0.067383    True\n",
       "1974   7.543      8  0.021767  0.067383   False\n",
       "1975   7.459      8  0.062233  0.067383   False\n",
       "1976   7.537      8  0.015768  0.067383   False\n",
       "1977   7.490      8  0.031232  0.067383   False\n",
       "1978   7.541      8  0.019768  0.067383   False\n",
       "1979   7.580      8  0.058768  0.067383   False\n",
       "1980   7.511      8  0.010232  0.067383   False\n",
       "1981   7.515      8  0.006233  0.067383   False\n",
       "1982   7.551      8  0.029768  0.067383   False\n",
       "1983   7.544      8  0.022767  0.067383   False\n",
       "1984   7.474      8  0.047232  0.067383   False\n",
       "1985   7.556      8  0.034768  0.067383   False\n",
       "1986   7.582      8  0.060768  0.067383   False\n",
       "1987   7.539      8  0.017767  0.067383   False\n",
       "1988   7.537      8  0.015768  0.067383   False\n",
       "1989   7.571      8  0.049768  0.067383   False\n",
       "1990   7.524      8  0.002768  0.067383   False\n",
       "1991   7.529      8  0.007767  0.067383   False\n",
       "1992   7.528      8  0.006767  0.067383   False\n",
       "1993   7.492      8  0.029232  0.067383   False\n",
       "1994   7.557      8  0.035768  0.067383   False\n",
       "1995   7.559      8  0.037768  0.067383   False\n",
       "1996   7.514      8  0.007233  0.067383   False\n",
       "1997   7.519      8  0.002232  0.067383   False\n",
       "1998   7.606      8  0.084767  0.067383    True\n",
       "1999   7.547      8  0.025768  0.067383   False\n",
       "2000   7.494      8  0.027233  0.067383   False\n",
       "\n",
       "[2000 rows x 5 columns]"
      ]
     },
     "execution_count": 47,
     "metadata": {},
     "output_type": "execute_result"
    }
   ],
   "source": [
    "newdf = data.copy()\n",
    "\n",
    "newdf['x-Mean'] = abs(newdf['weight'] - newdf['weight'].mean())\n",
    "newdf['1.96*std'] = 1.96*newdf['weight'].std()  \n",
    "newdf['Outlier'] = abs(newdf['weight'] - newdf['weight'].mean()) > 1.96*newdf['weight'].std()\n",
    "newdf"
   ]
  },
  {
   "cell_type": "code",
   "execution_count": 50,
   "metadata": {
    "collapsed": false
   },
   "outputs": [
    {
     "data": {
      "text/plain": [
       "(0.9873573184013367, 5.26868869712982e-12)"
      ]
     },
     "execution_count": 50,
     "metadata": {},
     "output_type": "execute_result"
    }
   ],
   "source": [
    "stats.shapiro(newdf[newdf['Outlier'] == False]['weight'])"
   ]
  },
  {
   "cell_type": "code",
   "execution_count": 52,
   "metadata": {
    "collapsed": false
   },
   "outputs": [
    {
     "data": {
      "text/plain": [
       "<matplotlib.axes._subplots.AxesSubplot at 0x10f5eb5d0>"
      ]
     },
     "execution_count": 52,
     "metadata": {},
     "output_type": "execute_result"
    },
    {
     "data": {
      "image/png": "[encoded data removed]",
      "text/plain": [
       "<matplotlib.figure.Figure at 0x10f3c7cd0>"
      ]
     },
     "metadata": {},
     "output_type": "display_data"
    }
   ],
   "source": [
    "sns.distplot(newdf[newdf['Outlier'] == False]['weight'],  kde=False, rug=True)"
   ]
  },
  {
   "cell_type": "code",
   "execution_count": 38,
   "metadata": {
    "collapsed": true
   },
   "outputs": [],
   "source": [
    "x = stats.norm.rvs(loc=5, scale=3, size=1000)"
   ]
  },
  {
   "cell_type": "code",
   "execution_count": 40,
   "metadata": {
    "collapsed": false
   },
   "outputs": [
    {
     "data": {
      "text/plain": [
       "(0.9985441565513611, 0.5836848616600037)"
      ]
     },
     "execution_count": 40,
     "metadata": {},
     "output_type": "execute_result"
    }
   ],
   "source": [
    "stats.shapiro(x)"
   ]
  },
  {
   "cell_type": "code",
   "execution_count": 41,
   "metadata": {
    "collapsed": false
   },
   "outputs": [
    {
     "data": {
      "text/plain": [
       "<matplotlib.axes._subplots.AxesSubplot at 0x10de784d0>"
      ]
     },
     "execution_count": 41,
     "metadata": {},
     "output_type": "execute_result"
    },
    {
     "data": {
      "image/png": "[encoded data removed]",
      "text/plain": [
       "<matplotlib.figure.Figure at 0x10a63a610>"
      ]
     },
     "metadata": {},
     "output_type": "display_data"
    }
   ],
   "source": [
    "sns.distplot(x, kde=False, rug=True)"
   ]
  },
  {
   "cell_type": "markdown",
   "metadata": {},
   "source": [
    "### Q-Q график"
   ]
  },
  {
   "cell_type": "code",
   "execution_count": 67,
   "metadata": {
    "collapsed": true
   },
   "outputs": [],
   "source": [
    "import matplotlib as mpl\n",
    "import matplotlib.pyplot as plt"
   ]
  },
  {
   "cell_type": "markdown",
   "metadata": {},
   "source": [
    "Для быстрого визуального анализа \"нормальности\" рассматриваемой выборки может быть удобно построить Q-Q график - выборочных моментов против \"теоретических\". "
   ]
  },
  {
   "cell_type": "code",
   "execution_count": 73,
   "metadata": {
    "collapsed": true
   },
   "outputs": [],
   "source": [
    "(quantiles, values), (slope, intercept, r) = stats.probplot(data['weight'], dist='norm')"
   ]
  },
  {
   "cell_type": "code",
   "execution_count": 75,
   "metadata": {
    "collapsed": false
   },
   "outputs": [
    {
     "data": {
      "image/png": "[encoded data removed]",
      "text/plain": [
       "<matplotlib.figure.Figure at 0x114a93310>"
      ]
     },
     "metadata": {},
     "output_type": "display_data"
    }
   ],
   "source": [
    "plt.plot(values, quantiles,'ob')\n",
    "plt.plot(quantiles * slope + intercept, quantiles, 'r')\n",
    "ticks_perc=[1, 5, 10, 20, 50, 80, 90, 95, 99]\n",
    "ticks_quan=[stats.norm.ppf(i/100.) for i in ticks_perc]\n",
    "plt.yticks(ticks_quan,ticks_perc)\n",
    "plt.show()"
   ]
  },
  {
   "cell_type": "code",
   "execution_count": 72,
   "metadata": {
    "collapsed": false
   },
   "outputs": [
    {
     "data": {
      "image/png": "[encoded data removed]",
      "text/plain": [
       "<matplotlib.figure.Figure at 0x11427ce10>"
      ]
     },
     "metadata": {},
     "output_type": "display_data"
    }
   ],
   "source": [
    "def quantile_plot(x, **kwargs):\n",
    "    qntls, xr = stats.probplot(x, fit=False)\n",
    "    plt.scatter(xr, qntls, **kwargs)\n",
    "\n",
    "g = sns.FacetGrid(data, col=\"group\", size=4)\n",
    "g.map(quantile_plot, \"weight\");"
   ]
  },
  {
   "cell_type": "code",
   "execution_count": null,
   "metadata": {
    "collapsed": true
   },
   "outputs": [],
   "source": []
  }
 ],
 "metadata": {
  "kernelspec": {
   "display_name": "Python 2",
   "language": "python",
   "name": "python2"
  },
  "language_info": {
   "codemirror_mode": {
    "name": "ipython",
    "version": 2
   },
   "file_extension": ".py",
   "mimetype": "text/x-python",
   "name": "python",
   "nbconvert_exporter": "python",
   "pygments_lexer": "ipython2",
   "version": "2.7.10"
  }
 },
 "nbformat": 4,
 "nbformat_minor": 0
}
