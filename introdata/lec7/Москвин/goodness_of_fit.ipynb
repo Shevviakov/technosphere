{
 "cells": [
  {
   "cell_type": "code",
   "execution_count": 1,
   "metadata": {
    "collapsed": true
   },
   "outputs": [],
   "source": [
    "import scipy.stats as stats\n",
    "import numpy as np\n",
    "import pandas as pd"
   ]
  },
  {
   "cell_type": "code",
   "execution_count": 2,
   "metadata": {
    "collapsed": true
   },
   "outputs": [],
   "source": [
    "%matplotlib inline"
   ]
  },
  {
   "cell_type": "code",
   "execution_count": 3,
   "metadata": {
    "collapsed": false
   },
   "outputs": [],
   "source": [
    "import seaborn as sns\n",
    "sns.set(color_codes=True)"
   ]
  },
  {
   "cell_type": "markdown",
   "metadata": {},
   "source": [
    "### Критерий хи-квадрат (критерий Пирсона)"
   ]
  },
  {
   "cell_type": "markdown",
   "metadata": {},
   "source": [
    "$$ \\chi^2_{obs} = \\sum_{i=1}^{n}\\frac{(O_i - E_i)^2}{E_i},$$"
   ]
  },
  {
   "cell_type": "markdown",
   "metadata": {},
   "source": [
    "где $O_i$ - наблюдаемая частота наблюдения $i$,  $E_i$ - ожидаемая (т.е. в соответствии с распределением, принадлежность к которому мы тестируем) частота наблюдения $i$"
   ]
  },
  {
   "cell_type": "markdown",
   "metadata": {},
   "source": [
    "$$ H_0: F_{obs} = F_{exp},$$\n",
    "$$ H_1: F_{obs} \\neq F_{exp}.$$"
   ]
  },
  {
   "cell_type": "markdown",
   "metadata": {},
   "source": [
    "**Пример**"
   ]
  },
  {
   "cell_type": "markdown",
   "metadata": {},
   "source": [
    "Попробуем оценить, соответсвует ли наше распределение теоретическому"
   ]
  },
  {
   "cell_type": "code",
   "execution_count": 4,
   "metadata": {
    "collapsed": false
   },
   "outputs": [],
   "source": [
    "observed_data = np.loadtxt(\"x2.csv\")\n",
    "labels, observed = np.unique(observed_data, return_counts=True)\n",
    "observed = list(observed)"
   ]
  },
  {
   "cell_type": "code",
   "execution_count": 5,
   "metadata": {
    "collapsed": false
   },
   "outputs": [
    {
     "data": {
      "text/plain": [
       "[229, 211, 93, 35, 7, 1]"
      ]
     },
     "execution_count": 5,
     "metadata": {},
     "output_type": "execute_result"
    }
   ],
   "source": [
    "observed"
   ]
  },
  {
   "cell_type": "markdown",
   "metadata": {},
   "source": [
    "Будем проверять гипотезу о распределенности случайной величины по закону Пуассона"
   ]
  },
  {
   "cell_type": "code",
   "execution_count": 6,
   "metadata": {
    "collapsed": true
   },
   "outputs": [],
   "source": [
    "lambda_est = 1"
   ]
  },
  {
   "cell_type": "code",
   "execution_count": 7,
   "metadata": {
    "collapsed": false
   },
   "outputs": [
    {
     "data": {
      "text/plain": [
       "7.0"
      ]
     },
     "execution_count": 7,
     "metadata": {},
     "output_type": "execute_result"
    }
   ],
   "source": [
    "max(labels)"
   ]
  },
  {
   "cell_type": "code",
   "execution_count": 8,
   "metadata": {
    "collapsed": false
   },
   "outputs": [],
   "source": [
    "expected = []\n",
    "for i in range(int(max(labels))):\n",
    "    expected.append(stats.poisson.pmf(i, lambda_est)*576)"
   ]
  },
  {
   "cell_type": "markdown",
   "metadata": {},
   "source": [
    "Объеденим в одну группу все реализации случайной величины больше или равные 4:"
   ]
  },
  {
   "cell_type": "code",
   "execution_count": 9,
   "metadata": {
    "collapsed": true
   },
   "outputs": [],
   "source": [
    "observed_g = observed[0:4] + [sum(observed[4:])]"
   ]
  },
  {
   "cell_type": "code",
   "execution_count": 10,
   "metadata": {
    "collapsed": false
   },
   "outputs": [
    {
     "data": {
      "text/plain": [
       "[229, 211, 93, 35, 8]"
      ]
     },
     "execution_count": 10,
     "metadata": {},
     "output_type": "execute_result"
    }
   ],
   "source": [
    "observed_g"
   ]
  },
  {
   "cell_type": "code",
   "execution_count": 11,
   "metadata": {
    "collapsed": false
   },
   "outputs": [],
   "source": [
    "expected_g = expected[0:4] + [sum(expected[4:])]"
   ]
  },
  {
   "cell_type": "code",
   "execution_count": 12,
   "metadata": {
    "collapsed": false
   },
   "outputs": [
    {
     "data": {
      "text/plain": [
       "[211.89855811475078,\n",
       " 211.89855811475078,\n",
       " 105.94927905737538,\n",
       " 35.316426352458464,\n",
       " 10.889231458674695]"
      ]
     },
     "execution_count": 12,
     "metadata": {},
     "output_type": "execute_result"
    }
   ],
   "source": [
    "expected_g"
   ]
  },
  {
   "cell_type": "code",
   "execution_count": 13,
   "metadata": {
    "collapsed": false
   },
   "outputs": [
    {
     "data": {
      "text/plain": [
       "(3.7361087255841845, 0.44289591770634085)"
      ]
     },
     "execution_count": 13,
     "metadata": {},
     "output_type": "execute_result"
    }
   ],
   "source": [
    "stats.chisquare(observed_g, f_exp=expected_g)"
   ]
  },
  {
   "cell_type": "markdown",
   "metadata": {},
   "source": [
    "У нас нет оснований отклонить нулевую гипотезу о принадлежности данных к распределению Пуассона"
   ]
  },
  {
   "cell_type": "markdown",
   "metadata": {},
   "source": [
    "### Критерий Шапиро-Уилка"
   ]
  },
  {
   "cell_type": "markdown",
   "metadata": {},
   "source": [
    "Данный тест позволяет проверить гипотезу о нормальном распределении распределении генеральной совокупности."
   ]
  },
  {
   "cell_type": "markdown",
   "metadata": {},
   "source": [
    "$$H_0: X_1, ..., X_n \\sim \\mathbb{N} ,$$\n",
    "$$H_1: X_1, ..., X_n \\, \\, \\text{not} \\, \\, \\mathbb{N}.$$"
   ]
  },
  {
   "cell_type": "markdown",
   "metadata": {},
   "source": [
    "$$ W = \\frac{(\\sum_{i=1}^{n}a_i x_{(i)})^2}{\\sum_{i=1}^{n}(x_{(i)} - \\bar{x})^2}.$$"
   ]
  },
  {
   "cell_type": "markdown",
   "metadata": {},
   "source": [
    "где $x_{(i)}$ - поряковая статистика, $a_{i}$ - затабулированные константы."
   ]
  },
  {
   "cell_type": "code",
   "execution_count": 14,
   "metadata": {
    "collapsed": false
   },
   "outputs": [],
   "source": [
    "data = pd.read_csv('euro_weights', sep='\\t', header=None,index_col=0, names=['weight', 'group'])"
   ]
  },
  {
   "cell_type": "code",
   "execution_count": 15,
   "metadata": {
    "collapsed": false
   },
   "outputs": [
    {
     "data": {
      "text/html": [
       "<div style=\"max-height:1000px;max-width:1500px;overflow:auto;\">\n",
       "<table border=\"1\" class=\"dataframe\">\n",
       "  <thead>\n",
       "    <tr style=\"text-align: right;\">\n",
       "      <th></th>\n",
       "      <th>weight</th>\n",
       "      <th>group</th>\n",
       "    </tr>\n",
       "  </thead>\n",
       "  <tbody>\n",
       "    <tr>\n",
       "      <th>1   </th>\n",
       "      <td> 7.512</td>\n",
       "      <td> 1</td>\n",
       "    </tr>\n",
       "    <tr>\n",
       "      <th>2   </th>\n",
       "      <td> 7.502</td>\n",
       "      <td> 1</td>\n",
       "    </tr>\n",
       "    <tr>\n",
       "      <th>3   </th>\n",
       "      <td> 7.461</td>\n",
       "      <td> 1</td>\n",
       "    </tr>\n",
       "    <tr>\n",
       "      <th>4   </th>\n",
       "      <td> 7.562</td>\n",
       "      <td> 1</td>\n",
       "    </tr>\n",
       "    <tr>\n",
       "      <th>5   </th>\n",
       "      <td> 7.528</td>\n",
       "      <td> 1</td>\n",
       "    </tr>\n",
       "    <tr>\n",
       "      <th>6   </th>\n",
       "      <td> 7.459</td>\n",
       "      <td> 1</td>\n",
       "    </tr>\n",
       "    <tr>\n",
       "      <th>7   </th>\n",
       "      <td> 7.518</td>\n",
       "      <td> 1</td>\n",
       "    </tr>\n",
       "    <tr>\n",
       "      <th>8   </th>\n",
       "      <td> 7.537</td>\n",
       "      <td> 1</td>\n",
       "    </tr>\n",
       "    <tr>\n",
       "      <th>9   </th>\n",
       "      <td> 7.517</td>\n",
       "      <td> 1</td>\n",
       "    </tr>\n",
       "    <tr>\n",
       "      <th>10  </th>\n",
       "      <td> 7.605</td>\n",
       "      <td> 1</td>\n",
       "    </tr>\n",
       "    <tr>\n",
       "      <th>11  </th>\n",
       "      <td> 7.567</td>\n",
       "      <td> 1</td>\n",
       "    </tr>\n",
       "    <tr>\n",
       "      <th>12  </th>\n",
       "      <td> 7.551</td>\n",
       "      <td> 1</td>\n",
       "    </tr>\n",
       "    <tr>\n",
       "      <th>13  </th>\n",
       "      <td> 7.486</td>\n",
       "      <td> 1</td>\n",
       "    </tr>\n",
       "    <tr>\n",
       "      <th>14  </th>\n",
       "      <td> 7.528</td>\n",
       "      <td> 1</td>\n",
       "    </tr>\n",
       "    <tr>\n",
       "      <th>15  </th>\n",
       "      <td> 7.525</td>\n",
       "      <td> 1</td>\n",
       "    </tr>\n",
       "    <tr>\n",
       "      <th>16  </th>\n",
       "      <td> 7.581</td>\n",
       "      <td> 1</td>\n",
       "    </tr>\n",
       "    <tr>\n",
       "      <th>17  </th>\n",
       "      <td> 7.497</td>\n",
       "      <td> 1</td>\n",
       "    </tr>\n",
       "    <tr>\n",
       "      <th>18  </th>\n",
       "      <td> 7.548</td>\n",
       "      <td> 1</td>\n",
       "    </tr>\n",
       "    <tr>\n",
       "      <th>19  </th>\n",
       "      <td> 7.553</td>\n",
       "      <td> 1</td>\n",
       "    </tr>\n",
       "    <tr>\n",
       "      <th>20  </th>\n",
       "      <td> 7.544</td>\n",
       "      <td> 1</td>\n",
       "    </tr>\n",
       "    <tr>\n",
       "      <th>21  </th>\n",
       "      <td> 7.468</td>\n",
       "      <td> 1</td>\n",
       "    </tr>\n",
       "    <tr>\n",
       "      <th>22  </th>\n",
       "      <td> 7.539</td>\n",
       "      <td> 1</td>\n",
       "    </tr>\n",
       "    <tr>\n",
       "      <th>23  </th>\n",
       "      <td> 7.537</td>\n",
       "      <td> 1</td>\n",
       "    </tr>\n",
       "    <tr>\n",
       "      <th>24  </th>\n",
       "      <td> 7.554</td>\n",
       "      <td> 1</td>\n",
       "    </tr>\n",
       "    <tr>\n",
       "      <th>25  </th>\n",
       "      <td> 7.455</td>\n",
       "      <td> 1</td>\n",
       "    </tr>\n",
       "    <tr>\n",
       "      <th>26  </th>\n",
       "      <td> 7.459</td>\n",
       "      <td> 1</td>\n",
       "    </tr>\n",
       "    <tr>\n",
       "      <th>27  </th>\n",
       "      <td> 7.534</td>\n",
       "      <td> 1</td>\n",
       "    </tr>\n",
       "    <tr>\n",
       "      <th>28  </th>\n",
       "      <td> 7.467</td>\n",
       "      <td> 1</td>\n",
       "    </tr>\n",
       "    <tr>\n",
       "      <th>29  </th>\n",
       "      <td> 7.504</td>\n",
       "      <td> 1</td>\n",
       "    </tr>\n",
       "    <tr>\n",
       "      <th>30  </th>\n",
       "      <td> 7.508</td>\n",
       "      <td> 1</td>\n",
       "    </tr>\n",
       "    <tr>\n",
       "      <th>...</th>\n",
       "      <td>...</td>\n",
       "      <td>...</td>\n",
       "    </tr>\n",
       "    <tr>\n",
       "      <th>1971</th>\n",
       "      <td> 7.496</td>\n",
       "      <td> 8</td>\n",
       "    </tr>\n",
       "    <tr>\n",
       "      <th>1972</th>\n",
       "      <td> 7.485</td>\n",
       "      <td> 8</td>\n",
       "    </tr>\n",
       "    <tr>\n",
       "      <th>1973</th>\n",
       "      <td> 7.452</td>\n",
       "      <td> 8</td>\n",
       "    </tr>\n",
       "    <tr>\n",
       "      <th>1974</th>\n",
       "      <td> 7.543</td>\n",
       "      <td> 8</td>\n",
       "    </tr>\n",
       "    <tr>\n",
       "      <th>1975</th>\n",
       "      <td> 7.459</td>\n",
       "      <td> 8</td>\n",
       "    </tr>\n",
       "    <tr>\n",
       "      <th>1976</th>\n",
       "      <td> 7.537</td>\n",
       "      <td> 8</td>\n",
       "    </tr>\n",
       "    <tr>\n",
       "      <th>1977</th>\n",
       "      <td> 7.490</td>\n",
       "      <td> 8</td>\n",
       "    </tr>\n",
       "    <tr>\n",
       "      <th>1978</th>\n",
       "      <td> 7.541</td>\n",
       "      <td> 8</td>\n",
       "    </tr>\n",
       "    <tr>\n",
       "      <th>1979</th>\n",
       "      <td> 7.580</td>\n",
       "      <td> 8</td>\n",
       "    </tr>\n",
       "    <tr>\n",
       "      <th>1980</th>\n",
       "      <td> 7.511</td>\n",
       "      <td> 8</td>\n",
       "    </tr>\n",
       "    <tr>\n",
       "      <th>1981</th>\n",
       "      <td> 7.515</td>\n",
       "      <td> 8</td>\n",
       "    </tr>\n",
       "    <tr>\n",
       "      <th>1982</th>\n",
       "      <td> 7.551</td>\n",
       "      <td> 8</td>\n",
       "    </tr>\n",
       "    <tr>\n",
       "      <th>1983</th>\n",
       "      <td> 7.544</td>\n",
       "      <td> 8</td>\n",
       "    </tr>\n",
       "    <tr>\n",
       "      <th>1984</th>\n",
       "      <td> 7.474</td>\n",
       "      <td> 8</td>\n",
       "    </tr>\n",
       "    <tr>\n",
       "      <th>1985</th>\n",
       "      <td> 7.556</td>\n",
       "      <td> 8</td>\n",
       "    </tr>\n",
       "    <tr>\n",
       "      <th>1986</th>\n",
       "      <td> 7.582</td>\n",
       "      <td> 8</td>\n",
       "    </tr>\n",
       "    <tr>\n",
       "      <th>1987</th>\n",
       "      <td> 7.539</td>\n",
       "      <td> 8</td>\n",
       "    </tr>\n",
       "    <tr>\n",
       "      <th>1988</th>\n",
       "      <td> 7.537</td>\n",
       "      <td> 8</td>\n",
       "    </tr>\n",
       "    <tr>\n",
       "      <th>1989</th>\n",
       "      <td> 7.571</td>\n",
       "      <td> 8</td>\n",
       "    </tr>\n",
       "    <tr>\n",
       "      <th>1990</th>\n",
       "      <td> 7.524</td>\n",
       "      <td> 8</td>\n",
       "    </tr>\n",
       "    <tr>\n",
       "      <th>1991</th>\n",
       "      <td> 7.529</td>\n",
       "      <td> 8</td>\n",
       "    </tr>\n",
       "    <tr>\n",
       "      <th>1992</th>\n",
       "      <td> 7.528</td>\n",
       "      <td> 8</td>\n",
       "    </tr>\n",
       "    <tr>\n",
       "      <th>1993</th>\n",
       "      <td> 7.492</td>\n",
       "      <td> 8</td>\n",
       "    </tr>\n",
       "    <tr>\n",
       "      <th>1994</th>\n",
       "      <td> 7.557</td>\n",
       "      <td> 8</td>\n",
       "    </tr>\n",
       "    <tr>\n",
       "      <th>1995</th>\n",
       "      <td> 7.559</td>\n",
       "      <td> 8</td>\n",
       "    </tr>\n",
       "    <tr>\n",
       "      <th>1996</th>\n",
       "      <td> 7.514</td>\n",
       "      <td> 8</td>\n",
       "    </tr>\n",
       "    <tr>\n",
       "      <th>1997</th>\n",
       "      <td> 7.519</td>\n",
       "      <td> 8</td>\n",
       "    </tr>\n",
       "    <tr>\n",
       "      <th>1998</th>\n",
       "      <td> 7.606</td>\n",
       "      <td> 8</td>\n",
       "    </tr>\n",
       "    <tr>\n",
       "      <th>1999</th>\n",
       "      <td> 7.547</td>\n",
       "      <td> 8</td>\n",
       "    </tr>\n",
       "    <tr>\n",
       "      <th>2000</th>\n",
       "      <td> 7.494</td>\n",
       "      <td> 8</td>\n",
       "    </tr>\n",
       "  </tbody>\n",
       "</table>\n",
       "<p>2000 rows × 2 columns</p>\n",
       "</div>"
      ],
      "text/plain": [
       "      weight  group\n",
       "1      7.512      1\n",
       "2      7.502      1\n",
       "3      7.461      1\n",
       "4      7.562      1\n",
       "5      7.528      1\n",
       "6      7.459      1\n",
       "7      7.518      1\n",
       "8      7.537      1\n",
       "9      7.517      1\n",
       "10     7.605      1\n",
       "11     7.567      1\n",
       "12     7.551      1\n",
       "13     7.486      1\n",
       "14     7.528      1\n",
       "15     7.525      1\n",
       "16     7.581      1\n",
       "17     7.497      1\n",
       "18     7.548      1\n",
       "19     7.553      1\n",
       "20     7.544      1\n",
       "21     7.468      1\n",
       "22     7.539      1\n",
       "23     7.537      1\n",
       "24     7.554      1\n",
       "25     7.455      1\n",
       "26     7.459      1\n",
       "27     7.534      1\n",
       "28     7.467      1\n",
       "29     7.504      1\n",
       "30     7.508      1\n",
       "...      ...    ...\n",
       "1971   7.496      8\n",
       "1972   7.485      8\n",
       "1973   7.452      8\n",
       "1974   7.543      8\n",
       "1975   7.459      8\n",
       "1976   7.537      8\n",
       "1977   7.490      8\n",
       "1978   7.541      8\n",
       "1979   7.580      8\n",
       "1980   7.511      8\n",
       "1981   7.515      8\n",
       "1982   7.551      8\n",
       "1983   7.544      8\n",
       "1984   7.474      8\n",
       "1985   7.556      8\n",
       "1986   7.582      8\n",
       "1987   7.539      8\n",
       "1988   7.537      8\n",
       "1989   7.571      8\n",
       "1990   7.524      8\n",
       "1991   7.529      8\n",
       "1992   7.528      8\n",
       "1993   7.492      8\n",
       "1994   7.557      8\n",
       "1995   7.559      8\n",
       "1996   7.514      8\n",
       "1997   7.519      8\n",
       "1998   7.606      8\n",
       "1999   7.547      8\n",
       "2000   7.494      8\n",
       "\n",
       "[2000 rows x 2 columns]"
      ]
     },
     "execution_count": 15,
     "metadata": {},
     "output_type": "execute_result"
    }
   ],
   "source": [
    "data"
   ]
  },
  {
   "cell_type": "code",
   "execution_count": 16,
   "metadata": {
    "collapsed": false
   },
   "outputs": [
    {
     "data": {
      "text/plain": [
       "<matplotlib.axes._subplots.AxesSubplot at 0x7f53a3092a50>"
      ]
     },
     "execution_count": 16,
     "metadata": {},
     "output_type": "execute_result"
    },
    {
     "data": {
      "image/png": "[encoded data removed]",
      "text/plain": [
       "<matplotlib.figure.Figure at 0x7f53a3080ed0>"
      ]
     },
     "metadata": {},
     "output_type": "display_data"
    }
   ],
   "source": [
    "sns.distplot(data['weight'], kde=False, rug=True)"
   ]
  },
  {
   "cell_type": "code",
   "execution_count": 17,
   "metadata": {
    "collapsed": false
   },
   "outputs": [
    {
     "data": {
      "text/plain": [
       "(0.9754709601402283, 5.014394515895443e-18)"
      ]
     },
     "execution_count": 17,
     "metadata": {},
     "output_type": "execute_result"
    }
   ],
   "source": [
    "stats.shapiro(data['weight'])"
   ]
  },
  {
   "cell_type": "markdown",
   "metadata": {},
   "source": [
    "Несмотря на форму, напоминающую нормальное распределение, гипотезу о \"нормальности\" данных необходимо отклонить. Возможно, это связано с \"выбросами\"."
   ]
  },
  {
   "cell_type": "code",
   "execution_count": 18,
   "metadata": {
    "collapsed": false
   },
   "outputs": [
    {
     "data": {
      "text/html": [
       "<div style=\"max-height:1000px;max-width:1500px;overflow:auto;\">\n",
       "<table border=\"1\" class=\"dataframe\">\n",
       "  <thead>\n",
       "    <tr style=\"text-align: right;\">\n",
       "      <th></th>\n",
       "      <th>weight</th>\n",
       "      <th>group</th>\n",
       "      <th>x-Mean</th>\n",
       "      <th>1.96*std</th>\n",
       "      <th>Outlier</th>\n",
       "    </tr>\n",
       "  </thead>\n",
       "  <tbody>\n",
       "    <tr>\n",
       "      <th>1   </th>\n",
       "      <td> 7.512</td>\n",
       "      <td> 1</td>\n",
       "      <td> 0.009232</td>\n",
       "      <td> 0.067383</td>\n",
       "      <td> False</td>\n",
       "    </tr>\n",
       "    <tr>\n",
       "      <th>2   </th>\n",
       "      <td> 7.502</td>\n",
       "      <td> 1</td>\n",
       "      <td> 0.019232</td>\n",
       "      <td> 0.067383</td>\n",
       "      <td> False</td>\n",
       "    </tr>\n",
       "    <tr>\n",
       "      <th>3   </th>\n",
       "      <td> 7.461</td>\n",
       "      <td> 1</td>\n",
       "      <td> 0.060232</td>\n",
       "      <td> 0.067383</td>\n",
       "      <td> False</td>\n",
       "    </tr>\n",
       "    <tr>\n",
       "      <th>4   </th>\n",
       "      <td> 7.562</td>\n",
       "      <td> 1</td>\n",
       "      <td> 0.040768</td>\n",
       "      <td> 0.067383</td>\n",
       "      <td> False</td>\n",
       "    </tr>\n",
       "    <tr>\n",
       "      <th>5   </th>\n",
       "      <td> 7.528</td>\n",
       "      <td> 1</td>\n",
       "      <td> 0.006767</td>\n",
       "      <td> 0.067383</td>\n",
       "      <td> False</td>\n",
       "    </tr>\n",
       "    <tr>\n",
       "      <th>6   </th>\n",
       "      <td> 7.459</td>\n",
       "      <td> 1</td>\n",
       "      <td> 0.062233</td>\n",
       "      <td> 0.067383</td>\n",
       "      <td> False</td>\n",
       "    </tr>\n",
       "    <tr>\n",
       "      <th>7   </th>\n",
       "      <td> 7.518</td>\n",
       "      <td> 1</td>\n",
       "      <td> 0.003233</td>\n",
       "      <td> 0.067383</td>\n",
       "      <td> False</td>\n",
       "    </tr>\n",
       "    <tr>\n",
       "      <th>8   </th>\n",
       "      <td> 7.537</td>\n",
       "      <td> 1</td>\n",
       "      <td> 0.015768</td>\n",
       "      <td> 0.067383</td>\n",
       "      <td> False</td>\n",
       "    </tr>\n",
       "    <tr>\n",
       "      <th>9   </th>\n",
       "      <td> 7.517</td>\n",
       "      <td> 1</td>\n",
       "      <td> 0.004232</td>\n",
       "      <td> 0.067383</td>\n",
       "      <td> False</td>\n",
       "    </tr>\n",
       "    <tr>\n",
       "      <th>10  </th>\n",
       "      <td> 7.605</td>\n",
       "      <td> 1</td>\n",
       "      <td> 0.083768</td>\n",
       "      <td> 0.067383</td>\n",
       "      <td>  True</td>\n",
       "    </tr>\n",
       "    <tr>\n",
       "      <th>11  </th>\n",
       "      <td> 7.567</td>\n",
       "      <td> 1</td>\n",
       "      <td> 0.045768</td>\n",
       "      <td> 0.067383</td>\n",
       "      <td> False</td>\n",
       "    </tr>\n",
       "    <tr>\n",
       "      <th>12  </th>\n",
       "      <td> 7.551</td>\n",
       "      <td> 1</td>\n",
       "      <td> 0.029768</td>\n",
       "      <td> 0.067383</td>\n",
       "      <td> False</td>\n",
       "    </tr>\n",
       "    <tr>\n",
       "      <th>13  </th>\n",
       "      <td> 7.486</td>\n",
       "      <td> 1</td>\n",
       "      <td> 0.035232</td>\n",
       "      <td> 0.067383</td>\n",
       "      <td> False</td>\n",
       "    </tr>\n",
       "    <tr>\n",
       "      <th>14  </th>\n",
       "      <td> 7.528</td>\n",
       "      <td> 1</td>\n",
       "      <td> 0.006767</td>\n",
       "      <td> 0.067383</td>\n",
       "      <td> False</td>\n",
       "    </tr>\n",
       "    <tr>\n",
       "      <th>15  </th>\n",
       "      <td> 7.525</td>\n",
       "      <td> 1</td>\n",
       "      <td> 0.003768</td>\n",
       "      <td> 0.067383</td>\n",
       "      <td> False</td>\n",
       "    </tr>\n",
       "    <tr>\n",
       "      <th>16  </th>\n",
       "      <td> 7.581</td>\n",
       "      <td> 1</td>\n",
       "      <td> 0.059768</td>\n",
       "      <td> 0.067383</td>\n",
       "      <td> False</td>\n",
       "    </tr>\n",
       "    <tr>\n",
       "      <th>17  </th>\n",
       "      <td> 7.497</td>\n",
       "      <td> 1</td>\n",
       "      <td> 0.024232</td>\n",
       "      <td> 0.067383</td>\n",
       "      <td> False</td>\n",
       "    </tr>\n",
       "    <tr>\n",
       "      <th>18  </th>\n",
       "      <td> 7.548</td>\n",
       "      <td> 1</td>\n",
       "      <td> 0.026767</td>\n",
       "      <td> 0.067383</td>\n",
       "      <td> False</td>\n",
       "    </tr>\n",
       "    <tr>\n",
       "      <th>19  </th>\n",
       "      <td> 7.553</td>\n",
       "      <td> 1</td>\n",
       "      <td> 0.031767</td>\n",
       "      <td> 0.067383</td>\n",
       "      <td> False</td>\n",
       "    </tr>\n",
       "    <tr>\n",
       "      <th>20  </th>\n",
       "      <td> 7.544</td>\n",
       "      <td> 1</td>\n",
       "      <td> 0.022767</td>\n",
       "      <td> 0.067383</td>\n",
       "      <td> False</td>\n",
       "    </tr>\n",
       "    <tr>\n",
       "      <th>21  </th>\n",
       "      <td> 7.468</td>\n",
       "      <td> 1</td>\n",
       "      <td> 0.053233</td>\n",
       "      <td> 0.067383</td>\n",
       "      <td> False</td>\n",
       "    </tr>\n",
       "    <tr>\n",
       "      <th>22  </th>\n",
       "      <td> 7.539</td>\n",
       "      <td> 1</td>\n",
       "      <td> 0.017767</td>\n",
       "      <td> 0.067383</td>\n",
       "      <td> False</td>\n",
       "    </tr>\n",
       "    <tr>\n",
       "      <th>23  </th>\n",
       "      <td> 7.537</td>\n",
       "      <td> 1</td>\n",
       "      <td> 0.015768</td>\n",
       "      <td> 0.067383</td>\n",
       "      <td> False</td>\n",
       "    </tr>\n",
       "    <tr>\n",
       "      <th>24  </th>\n",
       "      <td> 7.554</td>\n",
       "      <td> 1</td>\n",
       "      <td> 0.032767</td>\n",
       "      <td> 0.067383</td>\n",
       "      <td> False</td>\n",
       "    </tr>\n",
       "    <tr>\n",
       "      <th>25  </th>\n",
       "      <td> 7.455</td>\n",
       "      <td> 1</td>\n",
       "      <td> 0.066232</td>\n",
       "      <td> 0.067383</td>\n",
       "      <td> False</td>\n",
       "    </tr>\n",
       "    <tr>\n",
       "      <th>26  </th>\n",
       "      <td> 7.459</td>\n",
       "      <td> 1</td>\n",
       "      <td> 0.062233</td>\n",
       "      <td> 0.067383</td>\n",
       "      <td> False</td>\n",
       "    </tr>\n",
       "    <tr>\n",
       "      <th>27  </th>\n",
       "      <td> 7.534</td>\n",
       "      <td> 1</td>\n",
       "      <td> 0.012767</td>\n",
       "      <td> 0.067383</td>\n",
       "      <td> False</td>\n",
       "    </tr>\n",
       "    <tr>\n",
       "      <th>28  </th>\n",
       "      <td> 7.467</td>\n",
       "      <td> 1</td>\n",
       "      <td> 0.054232</td>\n",
       "      <td> 0.067383</td>\n",
       "      <td> False</td>\n",
       "    </tr>\n",
       "    <tr>\n",
       "      <th>29  </th>\n",
       "      <td> 7.504</td>\n",
       "      <td> 1</td>\n",
       "      <td> 0.017233</td>\n",
       "      <td> 0.067383</td>\n",
       "      <td> False</td>\n",
       "    </tr>\n",
       "    <tr>\n",
       "      <th>30  </th>\n",
       "      <td> 7.508</td>\n",
       "      <td> 1</td>\n",
       "      <td> 0.013233</td>\n",
       "      <td> 0.067383</td>\n",
       "      <td> False</td>\n",
       "    </tr>\n",
       "    <tr>\n",
       "      <th>...</th>\n",
       "      <td>...</td>\n",
       "      <td>...</td>\n",
       "      <td>...</td>\n",
       "      <td>...</td>\n",
       "      <td>...</td>\n",
       "    </tr>\n",
       "    <tr>\n",
       "      <th>1971</th>\n",
       "      <td> 7.496</td>\n",
       "      <td> 8</td>\n",
       "      <td> 0.025232</td>\n",
       "      <td> 0.067383</td>\n",
       "      <td> False</td>\n",
       "    </tr>\n",
       "    <tr>\n",
       "      <th>1972</th>\n",
       "      <td> 7.485</td>\n",
       "      <td> 8</td>\n",
       "      <td> 0.036232</td>\n",
       "      <td> 0.067383</td>\n",
       "      <td> False</td>\n",
       "    </tr>\n",
       "    <tr>\n",
       "      <th>1973</th>\n",
       "      <td> 7.452</td>\n",
       "      <td> 8</td>\n",
       "      <td> 0.069232</td>\n",
       "      <td> 0.067383</td>\n",
       "      <td>  True</td>\n",
       "    </tr>\n",
       "    <tr>\n",
       "      <th>1974</th>\n",
       "      <td> 7.543</td>\n",
       "      <td> 8</td>\n",
       "      <td> 0.021767</td>\n",
       "      <td> 0.067383</td>\n",
       "      <td> False</td>\n",
       "    </tr>\n",
       "    <tr>\n",
       "      <th>1975</th>\n",
       "      <td> 7.459</td>\n",
       "      <td> 8</td>\n",
       "      <td> 0.062233</td>\n",
       "      <td> 0.067383</td>\n",
       "      <td> False</td>\n",
       "    </tr>\n",
       "    <tr>\n",
       "      <th>1976</th>\n",
       "      <td> 7.537</td>\n",
       "      <td> 8</td>\n",
       "      <td> 0.015768</td>\n",
       "      <td> 0.067383</td>\n",
       "      <td> False</td>\n",
       "    </tr>\n",
       "    <tr>\n",
       "      <th>1977</th>\n",
       "      <td> 7.490</td>\n",
       "      <td> 8</td>\n",
       "      <td> 0.031232</td>\n",
       "      <td> 0.067383</td>\n",
       "      <td> False</td>\n",
       "    </tr>\n",
       "    <tr>\n",
       "      <th>1978</th>\n",
       "      <td> 7.541</td>\n",
       "      <td> 8</td>\n",
       "      <td> 0.019768</td>\n",
       "      <td> 0.067383</td>\n",
       "      <td> False</td>\n",
       "    </tr>\n",
       "    <tr>\n",
       "      <th>1979</th>\n",
       "      <td> 7.580</td>\n",
       "      <td> 8</td>\n",
       "      <td> 0.058768</td>\n",
       "      <td> 0.067383</td>\n",
       "      <td> False</td>\n",
       "    </tr>\n",
       "    <tr>\n",
       "      <th>1980</th>\n",
       "      <td> 7.511</td>\n",
       "      <td> 8</td>\n",
       "      <td> 0.010232</td>\n",
       "      <td> 0.067383</td>\n",
       "      <td> False</td>\n",
       "    </tr>\n",
       "    <tr>\n",
       "      <th>1981</th>\n",
       "      <td> 7.515</td>\n",
       "      <td> 8</td>\n",
       "      <td> 0.006233</td>\n",
       "      <td> 0.067383</td>\n",
       "      <td> False</td>\n",
       "    </tr>\n",
       "    <tr>\n",
       "      <th>1982</th>\n",
       "      <td> 7.551</td>\n",
       "      <td> 8</td>\n",
       "      <td> 0.029768</td>\n",
       "      <td> 0.067383</td>\n",
       "      <td> False</td>\n",
       "    </tr>\n",
       "    <tr>\n",
       "      <th>1983</th>\n",
       "      <td> 7.544</td>\n",
       "      <td> 8</td>\n",
       "      <td> 0.022767</td>\n",
       "      <td> 0.067383</td>\n",
       "      <td> False</td>\n",
       "    </tr>\n",
       "    <tr>\n",
       "      <th>1984</th>\n",
       "      <td> 7.474</td>\n",
       "      <td> 8</td>\n",
       "      <td> 0.047232</td>\n",
       "      <td> 0.067383</td>\n",
       "      <td> False</td>\n",
       "    </tr>\n",
       "    <tr>\n",
       "      <th>1985</th>\n",
       "      <td> 7.556</td>\n",
       "      <td> 8</td>\n",
       "      <td> 0.034768</td>\n",
       "      <td> 0.067383</td>\n",
       "      <td> False</td>\n",
       "    </tr>\n",
       "    <tr>\n",
       "      <th>1986</th>\n",
       "      <td> 7.582</td>\n",
       "      <td> 8</td>\n",
       "      <td> 0.060768</td>\n",
       "      <td> 0.067383</td>\n",
       "      <td> False</td>\n",
       "    </tr>\n",
       "    <tr>\n",
       "      <th>1987</th>\n",
       "      <td> 7.539</td>\n",
       "      <td> 8</td>\n",
       "      <td> 0.017767</td>\n",
       "      <td> 0.067383</td>\n",
       "      <td> False</td>\n",
       "    </tr>\n",
       "    <tr>\n",
       "      <th>1988</th>\n",
       "      <td> 7.537</td>\n",
       "      <td> 8</td>\n",
       "      <td> 0.015768</td>\n",
       "      <td> 0.067383</td>\n",
       "      <td> False</td>\n",
       "    </tr>\n",
       "    <tr>\n",
       "      <th>1989</th>\n",
       "      <td> 7.571</td>\n",
       "      <td> 8</td>\n",
       "      <td> 0.049768</td>\n",
       "      <td> 0.067383</td>\n",
       "      <td> False</td>\n",
       "    </tr>\n",
       "    <tr>\n",
       "      <th>1990</th>\n",
       "      <td> 7.524</td>\n",
       "      <td> 8</td>\n",
       "      <td> 0.002768</td>\n",
       "      <td> 0.067383</td>\n",
       "      <td> False</td>\n",
       "    </tr>\n",
       "    <tr>\n",
       "      <th>1991</th>\n",
       "      <td> 7.529</td>\n",
       "      <td> 8</td>\n",
       "      <td> 0.007767</td>\n",
       "      <td> 0.067383</td>\n",
       "      <td> False</td>\n",
       "    </tr>\n",
       "    <tr>\n",
       "      <th>1992</th>\n",
       "      <td> 7.528</td>\n",
       "      <td> 8</td>\n",
       "      <td> 0.006767</td>\n",
       "      <td> 0.067383</td>\n",
       "      <td> False</td>\n",
       "    </tr>\n",
       "    <tr>\n",
       "      <th>1993</th>\n",
       "      <td> 7.492</td>\n",
       "      <td> 8</td>\n",
       "      <td> 0.029232</td>\n",
       "      <td> 0.067383</td>\n",
       "      <td> False</td>\n",
       "    </tr>\n",
       "    <tr>\n",
       "      <th>1994</th>\n",
       "      <td> 7.557</td>\n",
       "      <td> 8</td>\n",
       "      <td> 0.035768</td>\n",
       "      <td> 0.067383</td>\n",
       "      <td> False</td>\n",
       "    </tr>\n",
       "    <tr>\n",
       "      <th>1995</th>\n",
       "      <td> 7.559</td>\n",
       "      <td> 8</td>\n",
       "      <td> 0.037768</td>\n",
       "      <td> 0.067383</td>\n",
       "      <td> False</td>\n",
       "    </tr>\n",
       "    <tr>\n",
       "      <th>1996</th>\n",
       "      <td> 7.514</td>\n",
       "      <td> 8</td>\n",
       "      <td> 0.007233</td>\n",
       "      <td> 0.067383</td>\n",
       "      <td> False</td>\n",
       "    </tr>\n",
       "    <tr>\n",
       "      <th>1997</th>\n",
       "      <td> 7.519</td>\n",
       "      <td> 8</td>\n",
       "      <td> 0.002232</td>\n",
       "      <td> 0.067383</td>\n",
       "      <td> False</td>\n",
       "    </tr>\n",
       "    <tr>\n",
       "      <th>1998</th>\n",
       "      <td> 7.606</td>\n",
       "      <td> 8</td>\n",
       "      <td> 0.084767</td>\n",
       "      <td> 0.067383</td>\n",
       "      <td>  True</td>\n",
       "    </tr>\n",
       "    <tr>\n",
       "      <th>1999</th>\n",
       "      <td> 7.547</td>\n",
       "      <td> 8</td>\n",
       "      <td> 0.025768</td>\n",
       "      <td> 0.067383</td>\n",
       "      <td> False</td>\n",
       "    </tr>\n",
       "    <tr>\n",
       "      <th>2000</th>\n",
       "      <td> 7.494</td>\n",
       "      <td> 8</td>\n",
       "      <td> 0.027233</td>\n",
       "      <td> 0.067383</td>\n",
       "      <td> False</td>\n",
       "    </tr>\n",
       "  </tbody>\n",
       "</table>\n",
       "<p>2000 rows × 5 columns</p>\n",
       "</div>"
      ],
      "text/plain": [
       "      weight  group    x-Mean  1.96*std Outlier\n",
       "1      7.512      1  0.009232  0.067383   False\n",
       "2      7.502      1  0.019232  0.067383   False\n",
       "3      7.461      1  0.060232  0.067383   False\n",
       "4      7.562      1  0.040768  0.067383   False\n",
       "5      7.528      1  0.006767  0.067383   False\n",
       "6      7.459      1  0.062233  0.067383   False\n",
       "7      7.518      1  0.003233  0.067383   False\n",
       "8      7.537      1  0.015768  0.067383   False\n",
       "9      7.517      1  0.004232  0.067383   False\n",
       "10     7.605      1  0.083768  0.067383    True\n",
       "11     7.567      1  0.045768  0.067383   False\n",
       "12     7.551      1  0.029768  0.067383   False\n",
       "13     7.486      1  0.035232  0.067383   False\n",
       "14     7.528      1  0.006767  0.067383   False\n",
       "15     7.525      1  0.003768  0.067383   False\n",
       "16     7.581      1  0.059768  0.067383   False\n",
       "17     7.497      1  0.024232  0.067383   False\n",
       "18     7.548      1  0.026767  0.067383   False\n",
       "19     7.553      1  0.031767  0.067383   False\n",
       "20     7.544      1  0.022767  0.067383   False\n",
       "21     7.468      1  0.053233  0.067383   False\n",
       "22     7.539      1  0.017767  0.067383   False\n",
       "23     7.537      1  0.015768  0.067383   False\n",
       "24     7.554      1  0.032767  0.067383   False\n",
       "25     7.455      1  0.066232  0.067383   False\n",
       "26     7.459      1  0.062233  0.067383   False\n",
       "27     7.534      1  0.012767  0.067383   False\n",
       "28     7.467      1  0.054232  0.067383   False\n",
       "29     7.504      1  0.017233  0.067383   False\n",
       "30     7.508      1  0.013233  0.067383   False\n",
       "...      ...    ...       ...       ...     ...\n",
       "1971   7.496      8  0.025232  0.067383   False\n",
       "1972   7.485      8  0.036232  0.067383   False\n",
       "1973   7.452      8  0.069232  0.067383    True\n",
       "1974   7.543      8  0.021767  0.067383   False\n",
       "1975   7.459      8  0.062233  0.067383   False\n",
       "1976   7.537      8  0.015768  0.067383   False\n",
       "1977   7.490      8  0.031232  0.067383   False\n",
       "1978   7.541      8  0.019768  0.067383   False\n",
       "1979   7.580      8  0.058768  0.067383   False\n",
       "1980   7.511      8  0.010232  0.067383   False\n",
       "1981   7.515      8  0.006233  0.067383   False\n",
       "1982   7.551      8  0.029768  0.067383   False\n",
       "1983   7.544      8  0.022767  0.067383   False\n",
       "1984   7.474      8  0.047232  0.067383   False\n",
       "1985   7.556      8  0.034768  0.067383   False\n",
       "1986   7.582      8  0.060768  0.067383   False\n",
       "1987   7.539      8  0.017767  0.067383   False\n",
       "1988   7.537      8  0.015768  0.067383   False\n",
       "1989   7.571      8  0.049768  0.067383   False\n",
       "1990   7.524      8  0.002768  0.067383   False\n",
       "1991   7.529      8  0.007767  0.067383   False\n",
       "1992   7.528      8  0.006767  0.067383   False\n",
       "1993   7.492      8  0.029232  0.067383   False\n",
       "1994   7.557      8  0.035768  0.067383   False\n",
       "1995   7.559      8  0.037768  0.067383   False\n",
       "1996   7.514      8  0.007233  0.067383   False\n",
       "1997   7.519      8  0.002232  0.067383   False\n",
       "1998   7.606      8  0.084767  0.067383    True\n",
       "1999   7.547      8  0.025768  0.067383   False\n",
       "2000   7.494      8  0.027233  0.067383   False\n",
       "\n",
       "[2000 rows x 5 columns]"
      ]
     },
     "execution_count": 18,
     "metadata": {},
     "output_type": "execute_result"
    }
   ],
   "source": [
    "newdf = data.copy()\n",
    "\n",
    "newdf['x-Mean'] = abs(newdf['weight'] - newdf['weight'].mean())\n",
    "newdf['1.96*std'] = 1.96*newdf['weight'].std()  \n",
    "newdf['Outlier'] = abs(newdf['weight'] - newdf['weight'].mean()) > 1.96*newdf['weight'].std()\n",
    "newdf"
   ]
  },
  {
   "cell_type": "code",
   "execution_count": 19,
   "metadata": {
    "collapsed": false
   },
   "outputs": [
    {
     "data": {
      "text/plain": [
       "(0.9873573184013367, 5.26868869712982e-12)"
      ]
     },
     "execution_count": 19,
     "metadata": {},
     "output_type": "execute_result"
    }
   ],
   "source": [
    "stats.shapiro(newdf[newdf['Outlier'] == False]['weight'])"
   ]
  },
  {
   "cell_type": "code",
   "execution_count": 20,
   "metadata": {
    "collapsed": false
   },
   "outputs": [
    {
     "data": {
      "text/plain": [
       "<matplotlib.axes._subplots.AxesSubplot at 0x7f539e133190>"
      ]
     },
     "execution_count": 20,
     "metadata": {},
     "output_type": "execute_result"
    },
    {
     "data": {
      "image/png": "[encoded data removed]",
      "text/plain": [
       "<matplotlib.figure.Figure at 0x7f53a3080e90>"
      ]
     },
     "metadata": {},
     "output_type": "display_data"
    }
   ],
   "source": [
    "sns.distplot(newdf[newdf['Outlier'] == False]['weight'],  kde=False, rug=True)"
   ]
  },
  {
   "cell_type": "code",
   "execution_count": 21,
   "metadata": {
    "collapsed": true
   },
   "outputs": [],
   "source": [
    "x = stats.norm.rvs(loc=5, scale=3, size=1000)"
   ]
  },
  {
   "cell_type": "code",
   "execution_count": 22,
   "metadata": {
    "collapsed": false
   },
   "outputs": [
    {
     "data": {
      "text/plain": [
       "(0.9988994598388672, 0.8170647621154785)"
      ]
     },
     "execution_count": 22,
     "metadata": {},
     "output_type": "execute_result"
    }
   ],
   "source": [
    "stats.shapiro(x)"
   ]
  },
  {
   "cell_type": "code",
   "execution_count": 23,
   "metadata": {
    "collapsed": false
   },
   "outputs": [
    {
     "data": {
      "text/plain": [
       "<matplotlib.axes._subplots.AxesSubplot at 0x7f539e3f1510>"
      ]
     },
     "execution_count": 23,
     "metadata": {},
     "output_type": "execute_result"
    },
    {
     "data": {
      "image/png": "[encoded data removed]",
      "text/plain": [
       "<matplotlib.figure.Figure at 0x7f539e133150>"
      ]
     },
     "metadata": {},
     "output_type": "display_data"
    }
   ],
   "source": [
    "sns.distplot(x, kde=False, rug=True)"
   ]
  },
  {
   "cell_type": "markdown",
   "metadata": {},
   "source": [
    "### Q-Q график"
   ]
  },
  {
   "cell_type": "code",
   "execution_count": 24,
   "metadata": {
    "collapsed": true
   },
   "outputs": [],
   "source": [
    "import matplotlib as mpl\n",
    "import matplotlib.pyplot as plt"
   ]
  },
  {
   "cell_type": "markdown",
   "metadata": {},
   "source": [
    "Для быстрого визуального анализа \"нормальности\" рассматриваемой выборки может быть удобно построить Q-Q график - выборочных моментов против \"теоретических\". "
   ]
  },
  {
   "cell_type": "code",
   "execution_count": 25,
   "metadata": {
    "collapsed": true
   },
   "outputs": [],
   "source": [
    "(quantiles, values), (slope, intercept, r) = stats.probplot(data['weight'], dist='norm')"
   ]
  },
  {
   "cell_type": "code",
   "execution_count": 26,
   "metadata": {
    "collapsed": false
   },
   "outputs": [
    {
     "data": {
      "image/png": "[encoded data removed]",
      "text/plain": [
       "<matplotlib.figure.Figure at 0x7f539a6330d0>"
      ]
     },
     "metadata": {},
     "output_type": "display_data"
    }
   ],
   "source": [
    "plt.plot(values, quantiles,'ob')\n",
    "plt.plot(quantiles * slope + intercept, quantiles, 'r')\n",
    "ticks_perc=[1, 5, 10, 20, 50, 80, 90, 95, 99]\n",
    "ticks_quan=[stats.norm.ppf(i/100.) for i in ticks_perc]\n",
    "plt.yticks(ticks_quan,ticks_perc)\n",
    "plt.show()"
   ]
  },
  {
   "cell_type": "code",
   "execution_count": 35,
   "metadata": {
    "collapsed": false
   },
   "outputs": [
    {
     "data": {
      "image/png": "[encoded data removed]",
      "text/plain": [
       "<matplotlib.figure.Figure at 0x7f539a5c1890>"
      ]
     },
     "metadata": {},
     "output_type": "display_data"
    }
   ],
   "source": [
    "def quantile_plot(x, **kwargs):\n",
    "    qntls, xr = stats.probplot(x, fit=False)\n",
    "    plt.scatter(xr, qntls, **kwargs)\n",
    "\n",
    "g = sns.FacetGrid(data, col=\"group\", size=4)\n",
    "g.map(quantile_plot, \"weight\");"
   ]
  },
  {
   "cell_type": "markdown",
   "metadata": {
    "collapsed": true
   },
   "source": [
    "### Критерий Коломогорова-Смирнова"
   ]
  },
  {
   "cell_type": "markdown",
   "metadata": {},
   "source": [
    "Данный тест позволяет протестировать гипотезу о том, что две выборки подчиняются одному и тому же распределению. Нулевая гипотеза:\n",
    "$$ H_0: F(x) = G(x).$$\n",
    "Альтернативная гипотеза может быть сформулирована как в форме одностроннего теста:\n",
    "$$ H_0: F(x) > G(x),$$\n",
    "так и в форме двустороннего теста:\n",
    "$$ H_0: F(x) \\neq G(x).$$"
   ]
  },
  {
   "cell_type": "markdown",
   "metadata": {},
   "source": [
    "Тест рассматривает распределение статистики:\n",
    "$$ D_mn = {\\left( \\frac{mn}{m+n} \\right)}^{(1/2)} \\sup_{x}\\,\\lvert F_n(x) - G_m(x)\\rvert.$$\n",
    "против теоретического распределения Колмогорова-Смирнова."
   ]
  },
  {
   "cell_type": "markdown",
   "metadata": {},
   "source": [
    "** Двусторонний тест:**"
   ]
  },
  {
   "cell_type": "code",
   "execution_count": 28,
   "metadata": {
    "collapsed": false
   },
   "outputs": [
    {
     "data": {
      "text/plain": [
       "(0.99999999999970113, 0.0)"
      ]
     },
     "execution_count": 28,
     "metadata": {},
     "output_type": "execute_result"
    }
   ],
   "source": [
    "stats.kstest(data['weight'], alternative='two-sided', cdf='norm')"
   ]
  },
  {
   "cell_type": "markdown",
   "metadata": {},
   "source": [
    "Двусторонний тест является более полезным и интерпретируемым"
   ]
  },
  {
   "cell_type": "markdown",
   "metadata": {},
   "source": [
    "** Односторонний тест: **"
   ]
  },
  {
   "cell_type": "code",
   "execution_count": 29,
   "metadata": {
    "collapsed": false
   },
   "outputs": [
    {
     "data": {
      "text/plain": [
       "(0.11788410842785613, 0.057234598283982807)"
      ]
     },
     "execution_count": 29,
     "metadata": {},
     "output_type": "execute_result"
    }
   ],
   "source": [
    "x = stats.norm.rvs(loc=0.2, size=100)\n",
    "stats.kstest(x,'norm', alternative = 'less')"
   ]
  },
  {
   "cell_type": "code",
   "execution_count": 30,
   "metadata": {
    "collapsed": false
   },
   "outputs": [
    {
     "data": {
      "text/plain": [
       "(0.0074670159283150225, 0.98440447917457063)"
      ]
     },
     "execution_count": 30,
     "metadata": {},
     "output_type": "execute_result"
    }
   ],
   "source": [
    "stats.kstest(x,'norm', alternative = 'greater')"
   ]
  },
  {
   "cell_type": "markdown",
   "metadata": {},
   "source": [
    "Мы часто говорили о том, что распределение Стьюдента асимпотически сходится к нормальному. Давайте расмотрим на примере:"
   ]
  },
  {
   "cell_type": "code",
   "execution_count": 31,
   "metadata": {
    "collapsed": false
   },
   "outputs": [
    {
     "data": {
      "text/plain": [
       "(0.094309257459197826, 0.31719642705328255)"
      ]
     },
     "execution_count": 31,
     "metadata": {},
     "output_type": "execute_result"
    }
   ],
   "source": [
    "stats.kstest(stats.t.rvs(100,size=100),'norm')"
   ]
  },
  {
   "cell_type": "code",
   "execution_count": 32,
   "metadata": {
    "collapsed": false
   },
   "outputs": [
    {
     "data": {
      "text/plain": [
       "(0.098075639069521603, 0.27363547167986746)"
      ]
     },
     "execution_count": 32,
     "metadata": {},
     "output_type": "execute_result"
    }
   ],
   "source": [
    "stats.kstest(stats.t.rvs(3,size=100),'norm')"
   ]
  },
  {
   "cell_type": "markdown",
   "metadata": {},
   "source": [
    "Для проверки гипотезы для двух выборок испольузется иная функция:"
   ]
  },
  {
   "cell_type": "code",
   "execution_count": 33,
   "metadata": {
    "collapsed": false
   },
   "outputs": [],
   "source": [
    "rvs1 = stats.norm.rvs(size=120, loc=0., scale=1)\n",
    "rvs2 = stats.norm.rvs(size=220, loc=0.5, scale=1.5)"
   ]
  },
  {
   "cell_type": "code",
   "execution_count": 34,
   "metadata": {
    "collapsed": false
   },
   "outputs": [
    {
     "data": {
      "text/plain": [
       "(0.19318181818181823, 0.0051032134783306898)"
      ]
     },
     "execution_count": 34,
     "metadata": {},
     "output_type": "execute_result"
    }
   ],
   "source": [
    "stats.ks_2samp(rvs1, rvs2)"
   ]
  },
  {
   "cell_type": "code",
   "execution_count": null,
   "metadata": {
    "collapsed": true
   },
   "outputs": [],
   "source": []
  }
 ],
 "metadata": {
  "kernelspec": {
   "display_name": "Python 2",
   "language": "python",
   "name": "python2"
  },
  "language_info": {
   "codemirror_mode": {
    "name": "ipython",
    "version": 2
   },
   "file_extension": ".py",
   "mimetype": "text/x-python",
   "name": "python",
   "nbconvert_exporter": "python",
   "pygments_lexer": "ipython2",
   "version": "2.7.10"
  }
 },
 "nbformat": 4,
 "nbformat_minor": 0
}
