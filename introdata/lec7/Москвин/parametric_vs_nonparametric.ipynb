{
 "cells": [
  {
   "cell_type": "markdown",
   "metadata": {},
   "source": [
    "### Сравнение эффективности тестов"
   ]
  },
  {
   "cell_type": "markdown",
   "metadata": {},
   "source": [
    "Давайте оценим эффективность параметрических и непараметрических тестов на различных распределениях"
   ]
  },
  {
   "cell_type": "markdown",
   "metadata": {},
   "source": [
    "Будем рассматривать 3 распределения: нормальное, комбинация нормальных и экспоненциальное"
   ]
  },
  {
   "cell_type": "code",
   "execution_count": 1,
   "metadata": {
    "collapsed": true
   },
   "outputs": [],
   "source": [
    "import numpy as np\n",
    "import pandas as pd\n",
    "import random\n",
    "import matplotlib.pyplot as plt\n",
    "import scipy.stats as stats"
   ]
  },
  {
   "cell_type": "code",
   "execution_count": 2,
   "metadata": {
    "collapsed": false
   },
   "outputs": [],
   "source": [
    "def one_sample_tests(shift=0):\n",
    "    alltests=[]\n",
    "    for j in range(1000):\n",
    "        norm = np.random.normal(0, 1, 100)+shift\n",
    "           \n",
    "        norm1 = np.random.normal(-1, 1, 50)\n",
    "        norm2 = np.random.normal(1, 1, 50)    \n",
    "        norm_double = np.append(norm1,norm2)+shift\n",
    "        \n",
    "        exp = np.random.exponential(1,100)-1+shift\n",
    "        exp_med = np.random.exponential(1,100)+0.3068690141668341-1+shift\n",
    "        \n",
    "        tests=[]\n",
    "        tests.append(stats.ttest_1samp(norm, 0)[1])\n",
    "        tests.append(stats.ttest_1samp(norm_double, 0)[1])\n",
    "        tests.append(stats.ttest_1samp(exp, 0)[1])\n",
    "        \n",
    "        tests.append(stats.wilcoxon(norm)[1])\n",
    "        tests.append(stats.wilcoxon(norm_double)[1])\n",
    "        tests.append(stats.wilcoxon(exp_med)[1])\n",
    "        \n",
    "        tests.append(stats.binom_test(np.sum(norm>0), 100, 0.5))\n",
    "        tests.append(stats.binom_test(np.sum(norm_double>0), 100, 0.5))\n",
    "        tests.append(stats.binom_test(np.sum(exp_med>0), 100, 0.5))  \n",
    "    \n",
    "        alltests.append(tests)\n",
    "        \n",
    "    alltests=np.array(alltests)\n",
    "    alltests = alltests<0.05\n",
    "    \n",
    "    alltests = pd.DataFrame(np.mean(alltests, axis=0).reshape(-1, 1))\n",
    "    alltests.columns=[\"Share of H0 rejected:\"]\n",
    "    alltests.index=[\"T-test - Normal\",\n",
    "          \"T-test - Double_Norm\",\n",
    "          \"T-test - Exponential\",\n",
    "          \"Wilcoxon - Normal\",\n",
    "          \"Wilcoxon - Double_Norm\",\n",
    "          \"Wilcoxon - Exponential\",\n",
    "          \"Binomial - Normal\",\n",
    "          \"Binomial - Double_Norm\",\n",
    "          \"Binomial - Exponential\",]    \n",
    "    \n",
    "    return alltests"
   ]
  },
  {
   "cell_type": "code",
   "execution_count": 3,
   "metadata": {
    "collapsed": false
   },
   "outputs": [
    {
     "data": {
      "text/html": [
       "<div style=\"max-height:1000px;max-width:1500px;overflow:auto;\">\n",
       "<table border=\"1\" class=\"dataframe\">\n",
       "  <thead>\n",
       "    <tr style=\"text-align: right;\">\n",
       "      <th></th>\n",
       "      <th>Share of H0 rejected:</th>\n",
       "    </tr>\n",
       "  </thead>\n",
       "  <tbody>\n",
       "    <tr>\n",
       "      <th>T-test - Normal</th>\n",
       "      <td> 0.052</td>\n",
       "    </tr>\n",
       "    <tr>\n",
       "      <th>T-test - Double_Norm</th>\n",
       "      <td> 0.004</td>\n",
       "    </tr>\n",
       "    <tr>\n",
       "      <th>T-test - Exponential</th>\n",
       "      <td> 0.068</td>\n",
       "    </tr>\n",
       "    <tr>\n",
       "      <th>Wilcoxon - Normal</th>\n",
       "      <td> 0.052</td>\n",
       "    </tr>\n",
       "    <tr>\n",
       "      <th>Wilcoxon - Double_Norm</th>\n",
       "      <td> 0.005</td>\n",
       "    </tr>\n",
       "    <tr>\n",
       "      <th>Wilcoxon - Exponential</th>\n",
       "      <td> 0.398</td>\n",
       "    </tr>\n",
       "    <tr>\n",
       "      <th>Binomial - Normal</th>\n",
       "      <td> 0.039</td>\n",
       "    </tr>\n",
       "    <tr>\n",
       "      <th>Binomial - Double_Norm</th>\n",
       "      <td> 0.003</td>\n",
       "    </tr>\n",
       "    <tr>\n",
       "      <th>Binomial - Exponential</th>\n",
       "      <td> 0.041</td>\n",
       "    </tr>\n",
       "  </tbody>\n",
       "</table>\n",
       "</div>"
      ],
      "text/plain": [
       "                        Share of H0 rejected:\n",
       "T-test - Normal                         0.052\n",
       "T-test - Double_Norm                    0.004\n",
       "T-test - Exponential                    0.068\n",
       "Wilcoxon - Normal                       0.052\n",
       "Wilcoxon - Double_Norm                  0.005\n",
       "Wilcoxon - Exponential                  0.398\n",
       "Binomial - Normal                       0.039\n",
       "Binomial - Double_Norm                  0.003\n",
       "Binomial - Exponential                  0.041"
      ]
     },
     "execution_count": 3,
     "metadata": {},
     "output_type": "execute_result"
    }
   ],
   "source": [
    "one_sample_tests(0)"
   ]
  },
  {
   "cell_type": "markdown",
   "metadata": {},
   "source": [
    "Теперь проверим мощность:"
   ]
  },
  {
   "cell_type": "code",
   "execution_count": 4,
   "metadata": {
    "collapsed": false
   },
   "outputs": [
    {
     "data": {
      "text/html": [
       "<div style=\"max-height:1000px;max-width:1500px;overflow:auto;\">\n",
       "<table border=\"1\" class=\"dataframe\">\n",
       "  <thead>\n",
       "    <tr style=\"text-align: right;\">\n",
       "      <th></th>\n",
       "      <th>Share of H0 rejected:</th>\n",
       "    </tr>\n",
       "  </thead>\n",
       "  <tbody>\n",
       "    <tr>\n",
       "      <th>T-test - Normal</th>\n",
       "      <td> 0.861</td>\n",
       "    </tr>\n",
       "    <tr>\n",
       "      <th>T-test - Double_Norm</th>\n",
       "      <td> 0.538</td>\n",
       "    </tr>\n",
       "    <tr>\n",
       "      <th>T-test - Exponential</th>\n",
       "      <td> 0.902</td>\n",
       "    </tr>\n",
       "    <tr>\n",
       "      <th>Wilcoxon - Normal</th>\n",
       "      <td> 0.836</td>\n",
       "    </tr>\n",
       "    <tr>\n",
       "      <th>Wilcoxon - Double_Norm</th>\n",
       "      <td> 0.473</td>\n",
       "    </tr>\n",
       "    <tr>\n",
       "      <th>Wilcoxon - Exponential</th>\n",
       "      <td> 1.000</td>\n",
       "    </tr>\n",
       "    <tr>\n",
       "      <th>Binomial - Normal</th>\n",
       "      <td> 0.611</td>\n",
       "    </tr>\n",
       "    <tr>\n",
       "      <th>Binomial - Double_Norm</th>\n",
       "      <td> 0.162</td>\n",
       "    </tr>\n",
       "    <tr>\n",
       "      <th>Binomial - Exponential</th>\n",
       "      <td> 0.944</td>\n",
       "    </tr>\n",
       "  </tbody>\n",
       "</table>\n",
       "</div>"
      ],
      "text/plain": [
       "                        Share of H0 rejected:\n",
       "T-test - Normal                         0.861\n",
       "T-test - Double_Norm                    0.538\n",
       "T-test - Exponential                    0.902\n",
       "Wilcoxon - Normal                       0.836\n",
       "Wilcoxon - Double_Norm                  0.473\n",
       "Wilcoxon - Exponential                  1.000\n",
       "Binomial - Normal                       0.611\n",
       "Binomial - Double_Norm                  0.162\n",
       "Binomial - Exponential                  0.944"
      ]
     },
     "execution_count": 4,
     "metadata": {},
     "output_type": "execute_result"
    }
   ],
   "source": [
    "one_sample_tests(0.3)"
   ]
  },
  {
   "cell_type": "markdown",
   "metadata": {},
   "source": [
    "Теперь посмотрим тесты с двумя выборками:"
   ]
  },
  {
   "cell_type": "code",
   "execution_count": 5,
   "metadata": {
    "collapsed": true
   },
   "outputs": [],
   "source": [
    "def two_sample_tests(shift=0):\n",
    "    alltests=[]\n",
    "    for j in range(1000):\n",
    "        norm = (np.random.normal(0, 1, 200)).reshape(100,2)\n",
    "        norm[:,0] = norm[:,0] + shift\n",
    "       \n",
    "        norm1 = np.random.normal(-1, 1, 100)\n",
    "        norm2 = np.random.normal(1, 1, 100)   \n",
    "        norm_double = np.random.permutation(np.append(norm1,norm2)).reshape(100,2)\n",
    "        norm_double[:,0] = norm_double[:,0] + shift\n",
    "\n",
    "        exp = (np.random.exponential(1,200)-1).reshape(100,2)\n",
    "        exp[:,0] = exp[:,0] + shift\n",
    "        exp_med = (np.random.exponential(1,200)+0.3068690141668341-1).reshape(100,2)\n",
    "        exp_med[:,0] = exp_med[:,0] + shift\n",
    "\n",
    "        tests=[]\n",
    "        tests.append(stats.ttest_ind(norm[:,0], norm[:,1], equal_var=False)[1])\n",
    "        tests.append(stats.ttest_ind(norm_double[:,0], norm_double[:,1], equal_var=False)[1])\n",
    "        tests.append(stats.ttest_ind(exp_med[:,0], exp_med[:,1], equal_var=False)[1])\n",
    "\n",
    "        tests.append(stats.mannwhitneyu(norm[:,0], norm[:,1])[1]*2)\n",
    "        tests.append(stats.mannwhitneyu(norm_double[:,0], norm_double[:,1])[1]*2)\n",
    "        tests.append(stats.mannwhitneyu(exp_med[:,0], exp_med[:,1])[1]*2)\n",
    "    \n",
    "        alltests.append(tests)\n",
    "        \n",
    "    alltests=np.array(alltests)\n",
    "    alltests = alltests<0.05\n",
    "    \n",
    "    alltests = pd.DataFrame(np.mean(alltests, axis=0).reshape(-1, 1))\n",
    "    alltests.columns=[\"Share of H0 rejected:\"]\n",
    "    alltests.index=[\"T-test - Normal\",\n",
    "          \"T-test - Double_Norm\",\n",
    "          \"T-test - Exponential\",\n",
    "          \"Mann-Whitney - Normal\",\n",
    "          \"Mann-Whitney - Double_Norm\",\n",
    "          \"Mann-Whitney - Exponential\"]    \n",
    "    \n",
    "    return alltests"
   ]
  },
  {
   "cell_type": "code",
   "execution_count": 6,
   "metadata": {
    "collapsed": false
   },
   "outputs": [
    {
     "data": {
      "text/html": [
       "<div style=\"max-height:1000px;max-width:1500px;overflow:auto;\">\n",
       "<table border=\"1\" class=\"dataframe\">\n",
       "  <thead>\n",
       "    <tr style=\"text-align: right;\">\n",
       "      <th></th>\n",
       "      <th>Share of H0 rejected:</th>\n",
       "    </tr>\n",
       "  </thead>\n",
       "  <tbody>\n",
       "    <tr>\n",
       "      <th>T-test - Normal</th>\n",
       "      <td> 0.049</td>\n",
       "    </tr>\n",
       "    <tr>\n",
       "      <th>T-test - Double_Norm</th>\n",
       "      <td> 0.048</td>\n",
       "    </tr>\n",
       "    <tr>\n",
       "      <th>T-test - Exponential</th>\n",
       "      <td> 0.044</td>\n",
       "    </tr>\n",
       "    <tr>\n",
       "      <th>Mann-Whitney - Normal</th>\n",
       "      <td> 0.048</td>\n",
       "    </tr>\n",
       "    <tr>\n",
       "      <th>Mann-Whitney - Double_Norm</th>\n",
       "      <td> 0.046</td>\n",
       "    </tr>\n",
       "    <tr>\n",
       "      <th>Mann-Whitney - Exponential</th>\n",
       "      <td> 0.036</td>\n",
       "    </tr>\n",
       "  </tbody>\n",
       "</table>\n",
       "</div>"
      ],
      "text/plain": [
       "                            Share of H0 rejected:\n",
       "T-test - Normal                             0.049\n",
       "T-test - Double_Norm                        0.048\n",
       "T-test - Exponential                        0.044\n",
       "Mann-Whitney - Normal                       0.048\n",
       "Mann-Whitney - Double_Norm                  0.046\n",
       "Mann-Whitney - Exponential                  0.036"
      ]
     },
     "execution_count": 6,
     "metadata": {},
     "output_type": "execute_result"
    }
   ],
   "source": [
    "two_sample_tests(0)"
   ]
  },
  {
   "cell_type": "code",
   "execution_count": 7,
   "metadata": {
    "collapsed": false
   },
   "outputs": [
    {
     "data": {
      "text/html": [
       "<div style=\"max-height:1000px;max-width:1500px;overflow:auto;\">\n",
       "<table border=\"1\" class=\"dataframe\">\n",
       "  <thead>\n",
       "    <tr style=\"text-align: right;\">\n",
       "      <th></th>\n",
       "      <th>Share of H0 rejected:</th>\n",
       "    </tr>\n",
       "  </thead>\n",
       "  <tbody>\n",
       "    <tr>\n",
       "      <th>T-test - Normal</th>\n",
       "      <td> 0.566</td>\n",
       "    </tr>\n",
       "    <tr>\n",
       "      <th>T-test - Double_Norm</th>\n",
       "      <td> 0.341</td>\n",
       "    </tr>\n",
       "    <tr>\n",
       "      <th>T-test - Exponential</th>\n",
       "      <td> 0.545</td>\n",
       "    </tr>\n",
       "    <tr>\n",
       "      <th>Mann-Whitney - Normal</th>\n",
       "      <td> 0.544</td>\n",
       "    </tr>\n",
       "    <tr>\n",
       "      <th>Mann-Whitney - Double_Norm</th>\n",
       "      <td> 0.310</td>\n",
       "    </tr>\n",
       "    <tr>\n",
       "      <th>Mann-Whitney - Exponential</th>\n",
       "      <td> 0.895</td>\n",
       "    </tr>\n",
       "  </tbody>\n",
       "</table>\n",
       "</div>"
      ],
      "text/plain": [
       "                            Share of H0 rejected:\n",
       "T-test - Normal                             0.566\n",
       "T-test - Double_Norm                        0.341\n",
       "T-test - Exponential                        0.545\n",
       "Mann-Whitney - Normal                       0.544\n",
       "Mann-Whitney - Double_Norm                  0.310\n",
       "Mann-Whitney - Exponential                  0.895"
      ]
     },
     "execution_count": 7,
     "metadata": {},
     "output_type": "execute_result"
    }
   ],
   "source": [
    "two_sample_tests(0.3)"
   ]
  },
  {
   "cell_type": "code",
   "execution_count": null,
   "metadata": {
    "collapsed": true
   },
   "outputs": [],
   "source": []
  }
 ],
 "metadata": {
  "kernelspec": {
   "display_name": "Python 2",
   "language": "python",
   "name": "python2"
  },
  "language_info": {
   "codemirror_mode": {
    "name": "ipython",
    "version": 2
   },
   "file_extension": ".py",
   "mimetype": "text/x-python",
   "name": "python",
   "nbconvert_exporter": "python",
   "pygments_lexer": "ipython2",
   "version": "2.7.10"
  }
 },
 "nbformat": 4,
 "nbformat_minor": 1
}
