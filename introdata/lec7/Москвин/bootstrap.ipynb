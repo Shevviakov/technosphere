{
 "cells": [
  {
   "cell_type": "markdown",
   "metadata": {},
   "source": [
    "### Бутстрап"
   ]
  },
  {
   "cell_type": "markdown",
   "metadata": {},
   "source": [
    "Под бутстрапом обычно понимется непараметрический метод получения дисперсии оценки на основе симуляций. Прдеставим, что у нас имеется выборка размера $n$:\n",
    "$$X_1, ..., X_n \\sim F$$\n",
    "и мы хотим посчитать некоторую статистику: \n",
    "$$ \\hat{\\theta} = T (F_n).$$"
   ]
  },
  {
   "cell_type": "markdown",
   "metadata": {},
   "source": [
    "Бутстрап будет заключаться в том, что мы возьмем выборку размера $m$ из эмпирической функции распределения:\n",
    "$$x_1^*, ..., x_m^*,$$\n",
    "полученной с повторением из исходного эмпирического распределения."
   ]
  },
  {
   "cell_type": "markdown",
   "metadata": {},
   "source": [
    "Для каждой бутстраповской выборки мы рассчитаем оценку:\n",
    "$$ \\hat{\\theta}^{*} = T(F_n^{*}),$$"
   ]
  },
  {
   "cell_type": "markdown",
   "metadata": {},
   "source": [
    "и приблизим разность между интересующим нас распределением:\n",
    "$$ \\hat{\\theta} - \\theta,$$\n",
    "с помощью его бутстреп аналога:\n",
    "$$ \\hat{\\theta}^* - \\hat{\\theta}.$$"
   ]
  },
  {
   "cell_type": "code",
   "execution_count": 1,
   "metadata": {
    "collapsed": true
   },
   "outputs": [],
   "source": [
    "import pandas as pd\n",
    "import numpy as np\n",
    "from sklearn.utils import resample\n",
    "import matplotlib.pyplot as plt\n",
    "%matplotlib inline\n",
    "plt.style.use('ggplot')"
   ]
  },
  {
   "cell_type": "code",
   "execution_count": 2,
   "metadata": {
    "collapsed": false
   },
   "outputs": [],
   "source": [
    "data = pd.read_csv('old_faithful.txt', sep=',')"
   ]
  },
  {
   "cell_type": "code",
   "execution_count": 3,
   "metadata": {
    "collapsed": false
   },
   "outputs": [
    {
     "name": "stdout",
     "output_type": "stream",
     "text": [
      "<class 'pandas.core.frame.DataFrame'>\n",
      "Int64Index: 272 entries, 0 to 271\n",
      "Data columns (total 3 columns):\n",
      "index        272 non-null int64\n",
      "eruptions    272 non-null float64\n",
      "waiting      272 non-null int64\n",
      "dtypes: float64(1), int64(2)\n",
      "memory usage: 8.5 KB\n"
     ]
    }
   ],
   "source": [
    "data.info()"
   ]
  },
  {
   "cell_type": "code",
   "execution_count": 4,
   "metadata": {
    "collapsed": false
   },
   "outputs": [],
   "source": [
    "median_initial = np.median(data['waiting'])"
   ]
  },
  {
   "cell_type": "code",
   "execution_count": 5,
   "metadata": {
    "collapsed": false
   },
   "outputs": [
    {
     "data": {
      "text/plain": [
       "76.0"
      ]
     },
     "execution_count": 5,
     "metadata": {},
     "output_type": "execute_result"
    }
   ],
   "source": [
    "median_initial"
   ]
  },
  {
   "cell_type": "code",
   "execution_count": 6,
   "metadata": {
    "collapsed": false
   },
   "outputs": [],
   "source": [
    "errs = []\n",
    "for i in xrange(1000):\n",
    "    errs.append(median_initial-resample(data['waiting'], replace=True).median())"
   ]
  },
  {
   "cell_type": "code",
   "execution_count": 7,
   "metadata": {
    "collapsed": false
   },
   "outputs": [
    {
     "data": {
      "text/plain": [
       "2.0"
      ]
     },
     "execution_count": 7,
     "metadata": {},
     "output_type": "execute_result"
    }
   ],
   "source": [
    "np.percentile(np.sort(errs), 95)"
   ]
  },
  {
   "cell_type": "code",
   "execution_count": 8,
   "metadata": {
    "collapsed": false
   },
   "outputs": [
    {
     "data": {
      "text/plain": [
       "-1.0"
      ]
     },
     "execution_count": 8,
     "metadata": {},
     "output_type": "execute_result"
    }
   ],
   "source": [
    "np.percentile(np.sort(errs), 5)"
   ]
  },
  {
   "cell_type": "markdown",
   "metadata": {},
   "source": [
    "Отсюда получаем 0.1-доверительный интервал для оценки медианы"
   ]
  },
  {
   "cell_type": "markdown",
   "metadata": {},
   "source": [
    "** Бутстрапирование персентелей напрямую ** - метод, который предполагает аппроксимацию не с помощию рецентрирования статистики и расчета ошибки, а напрямую из распределения оценок, полученных в ходе симуляций."
   ]
  },
  {
   "cell_type": "markdown",
   "metadata": {},
   "source": [
    "**Параметрический бутстрап** - на каждом шаге мы сэмплируем не из эмпирического распределения, а из некоторого теоретического распределения, описывающего генеральную совокупность."
   ]
  },
  {
   "cell_type": "markdown",
   "metadata": {
    "collapsed": true
   },
   "source": [
    "### Джекнайф"
   ]
  },
  {
   "cell_type": "markdown",
   "metadata": {},
   "source": [
    "Идея джекнайф оценки в следующем - мы последовательно исключаем наблюдение за наблюдением и строим оценку на **оставшейся** части, затем данные оценки усредняются по $n$."
   ]
  },
  {
   "cell_type": "code",
   "execution_count": 9,
   "metadata": {
    "collapsed": true
   },
   "outputs": [],
   "source": [
    "def jackknife(x, func):\n",
    "    n = len(x)\n",
    "    idx = np.arange(n)\n",
    "    return np.sum(func(x[idx!=i]) for i in range(n))/float(n)"
   ]
  },
  {
   "cell_type": "code",
   "execution_count": 10,
   "metadata": {
    "collapsed": false
   },
   "outputs": [
    {
     "data": {
      "text/plain": [
       "2.135033308903139"
      ]
     },
     "execution_count": 10,
     "metadata": {},
     "output_type": "execute_result"
    }
   ],
   "source": [
    "x = np.random.normal(0, 2, 100)\n",
    "jackknife(x, np.std)"
   ]
  },
  {
   "cell_type": "markdown",
   "metadata": {},
   "source": [
    "Оценка дисперсии статистики строится аналогично бутстрепу:\n",
    "$$ V_{j} = \\frac{n-1}{n} \\sum_{i=1}^{n} (\\hat{x}_i - \\hat{x}_:)^2.$$"
   ]
  },
  {
   "cell_type": "code",
   "execution_count": 11,
   "metadata": {
    "collapsed": true
   },
   "outputs": [],
   "source": [
    "def jackknife_var(x, func):\n",
    "    n = len(x)\n",
    "    idx = np.arange(n)\n",
    "    j_est = jackknife(x, func)\n",
    "    return (n-1)/(n + 0.0) * np.sum((func(x[idx!=i]) - j_est)**2.0\n",
    "                                    for i in range(n))"
   ]
  },
  {
   "cell_type": "code",
   "execution_count": 12,
   "metadata": {
    "collapsed": false
   },
   "outputs": [
    {
     "data": {
      "text/plain": [
       "0.022814089865438342"
      ]
     },
     "execution_count": 12,
     "metadata": {},
     "output_type": "execute_result"
    }
   ],
   "source": [
    "jackknife_var(x, np.std)"
   ]
  },
  {
   "cell_type": "markdown",
   "metadata": {},
   "source": [
    "### LOOCV"
   ]
  },
  {
   "cell_type": "markdown",
   "metadata": {},
   "source": [
    "Дальнейшее развитие данные методы получили в машинном обучении. Похожий метод - кросс-валидация. Ключевое отличие: в джекнайфе статистика рассчитывается на основе выборки, которая осталась у нас на руках, в LOOCV - на основе наблюдений, которые мы исключили из расчета."
   ]
  },
  {
   "cell_type": "code",
   "execution_count": 13,
   "metadata": {
    "collapsed": true
   },
   "outputs": [],
   "source": [
    "a, b, c = 1, 2, 3\n",
    "x = np.linspace(0, 5, 10)\n",
    "y = a*x**2 + b*x + c + np.random.normal(0, 1, len(x))"
   ]
  },
  {
   "cell_type": "code",
   "execution_count": 14,
   "metadata": {
    "collapsed": false
   },
   "outputs": [
    {
     "data": {
      "image/png": "[encoded data removed]",
      "text/plain": [
       "<matplotlib.figure.Figure at 0x7f041874be10>"
      ]
     },
     "metadata": {},
     "output_type": "display_data"
    }
   ],
   "source": [
    "plt.figure(figsize=(12,4))\n",
    "for deg in range(1, 5):\n",
    "    plt.subplot(1, 4, deg)\n",
    "    beta = np.polyfit(x, y, deg)\n",
    "    plt.plot(x, y, 'r:o')\n",
    "    plt.plot(x, np.polyval(beta, x), 'b-')\n",
    "    plt.title('Degree = %d' % deg)"
   ]
  },
  {
   "cell_type": "code",
   "execution_count": 15,
   "metadata": {
    "collapsed": true
   },
   "outputs": [],
   "source": [
    "def loocv(x, y, fit, pred, deg):\n",
    "    n = len(x)\n",
    "    idx = np.arange(n)\n",
    "    rss = np.sum([(y - pred(fit(x[idx!=i], y[idx!=i], deg), x))**2.0 for i in range(n)])\n",
    "    return rss"
   ]
  },
  {
   "cell_type": "code",
   "execution_count": 16,
   "metadata": {
    "collapsed": false
   },
   "outputs": [
    {
     "name": "stdout",
     "output_type": "stream",
     "text": [
      "Degree = 1, RSS=65.26\n",
      "Degree = 2, RSS=12.27\n",
      "Degree = 3, RSS=10.43\n",
      "Degree = 4, RSS=5.87\n"
     ]
    }
   ],
   "source": [
    "for deg in range(1, 5):\n",
    "    print 'Degree = %d, RSS=%.2f' % (deg, np.sum((y - np.polyval(np.polyfit(x, y, deg), x))**2.0))"
   ]
  },
  {
   "cell_type": "code",
   "execution_count": 17,
   "metadata": {
    "collapsed": false
   },
   "outputs": [
    {
     "name": "stdout",
     "output_type": "stream",
     "text": [
      "Degree = 1, RSS=677.83\n",
      "Degree = 2, RSS=130.26\n",
      "Degree = 3, RSS=122.43\n",
      "Degree = 4, RSS=100.91\n"
     ]
    }
   ],
   "source": [
    "for deg in range(1, 5):\n",
    "    print 'Degree = %d, RSS=%.2f' % (deg, loocv(x, y, np.polyfit, np.polyval, deg))"
   ]
  },
  {
   "cell_type": "code",
   "execution_count": null,
   "metadata": {
    "collapsed": true
   },
   "outputs": [],
   "source": []
  }
 ],
 "metadata": {
  "kernelspec": {
   "display_name": "Python 2",
   "language": "python",
   "name": "python2"
  },
  "language_info": {
   "codemirror_mode": {
    "name": "ipython",
    "version": 2
   },
   "file_extension": ".py",
   "mimetype": "text/x-python",
   "name": "python",
   "nbconvert_exporter": "python",
   "pygments_lexer": "ipython2",
   "version": "2.7.10"
  }
 },
 "nbformat": 4,
 "nbformat_minor": 0
}
