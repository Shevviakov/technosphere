{
 "cells": [
  {
   "cell_type": "markdown",
   "metadata": {},
   "source": [
    "## Основы Python"
   ]
  },
  {
   "cell_type": "markdown",
   "metadata": {},
   "source": [
    "О специфике языка, истории его создания и \"великом пожизненном диктаторе\" можно почитать в Вики:\n",
    "https://en.wikipedia.org/wiki/Python_(programming_language) .\n",
    "\n",
    "Для нас важно помнить, что Python:\n",
    "\n",
    "- интерпретируемый;\n",
    "- с динамической типизацией;\n",
    "- имеет возможности как для ООП, так и для ФП;"
   ]
  },
  {
   "cell_type": "markdown",
   "metadata": {},
   "source": [
    "Документация новых функций и рекомендации по их использованию изложены в т.н. Python Enhancement Proposals или PEP. Одним из PEP является т.н. \"The Zen of Python\" или PEP 20:\n",
    "https://www.python.org/dev/peps/pep-0020/ ."
   ]
  },
  {
   "cell_type": "markdown",
   "metadata": {},
   "source": [
    "# 1.0. Основы основ "
   ]
  },
  {
   "cell_type": "markdown",
   "metadata": {},
   "source": [
    "### Выражения"
   ]
  },
  {
   "cell_type": "code",
   "execution_count": null,
   "metadata": {
    "collapsed": false
   },
   "outputs": [],
   "source": [
    "5 + 5"
   ]
  },
  {
   "cell_type": "code",
   "execution_count": null,
   "metadata": {
    "collapsed": false
   },
   "outputs": [],
   "source": [
    "3 - 2"
   ]
  },
  {
   "cell_type": "code",
   "execution_count": null,
   "metadata": {
    "collapsed": false
   },
   "outputs": [],
   "source": [
    "5 * 7"
   ]
  },
  {
   "cell_type": "code",
   "execution_count": null,
   "metadata": {
    "collapsed": false
   },
   "outputs": [],
   "source": [
    "10 / 2"
   ]
  },
  {
   "cell_type": "code",
   "execution_count": null,
   "metadata": {
    "collapsed": false
   },
   "outputs": [],
   "source": [
    "100 // 33"
   ]
  },
  {
   "cell_type": "code",
   "execution_count": null,
   "metadata": {
    "collapsed": false
   },
   "outputs": [],
   "source": [
    "10 ** 2"
   ]
  },
  {
   "cell_type": "code",
   "execution_count": null,
   "metadata": {
    "collapsed": true
   },
   "outputs": [],
   "source": [
    "x = 5\n",
    "y = x\n",
    "c = 2"
   ]
  },
  {
   "cell_type": "code",
   "execution_count": null,
   "metadata": {
    "collapsed": false
   },
   "outputs": [],
   "source": [
    "y"
   ]
  },
  {
   "cell_type": "code",
   "execution_count": null,
   "metadata": {
    "collapsed": false
   },
   "outputs": [],
   "source": [
    "print y"
   ]
  },
  {
   "cell_type": "markdown",
   "metadata": {},
   "source": [
    "Как вы уже поняли, оператор присваивания это \"=\", а оператор сравнения - \"==\":"
   ]
  },
  {
   "cell_type": "code",
   "execution_count": null,
   "metadata": {
    "collapsed": false
   },
   "outputs": [],
   "source": [
    "x = 10\n",
    "if x == 10:\n",
    "    print x\n",
    "else:\n",
    "    print y"
   ]
  },
  {
   "cell_type": "code",
   "execution_count": null,
   "metadata": {
    "collapsed": false
   },
   "outputs": [],
   "source": [
    "%whos"
   ]
  },
  {
   "cell_type": "markdown",
   "metadata": {},
   "source": [
    "# 1.1. Модель данных"
   ]
  },
  {
   "cell_type": "markdown",
   "metadata": {},
   "source": [
    "Часто можно услышать утверждение о том, что в питоне **все является объектом**. Утверждение верное, причем у каждого объекта есть:\n",
    "- сущность (identity);\n",
    "- тип (type);\n",
    "- значение (value).\n",
    "\n",
    "Сущность (identity) объекта не меняется после создания, можно думать о ней как об адресе в памяти компьютера.\n",
    "\n",
    "Например, если мы пишем:\n",
    "\n",
    "a = 42\n",
    "\n",
    "создается объект типа int со значением 42. Сущность (identity) объекта в таком случае - это его адрес в памяти, а - имя указателя на этот адрес."
   ]
  },
  {
   "cell_type": "code",
   "execution_count": null,
   "metadata": {
    "collapsed": false
   },
   "outputs": [],
   "source": [
    "a = 42\n",
    "b = 42\n",
    "print id(a)\n",
    "print id(b)\n",
    "print a is b"
   ]
  },
  {
   "cell_type": "code",
   "execution_count": null,
   "metadata": {
    "collapsed": false
   },
   "outputs": [],
   "source": [
    "b =99\n",
    "print id(a)\n",
    "print id(b)\n",
    "print a is b"
   ]
  },
  {
   "cell_type": "markdown",
   "metadata": {},
   "source": [
    "Тип (type) объекта - внутреннее описание объекта с учетом методов и операций, которые он поддерживает. Когда создается конкретный объект (например, целочисленный тип со значением 42), то этот конкретный объект называют экземпляром (instance) данного типа. \n",
    "\n",
    "После создания объекта его тип и сущность не могут быть изменены. Если значение объекта после создания может быть изменено, то такой объект называется **изменяемым (mutable)**, и **неизменяемым (immutable)** в противном случае.\n",
    "\n",
    "Если объект содержит ссылки на другие объекты, то такой объект называется **контейнером (container)** или **коллекцией (collection)**."
   ]
  },
  {
   "cell_type": "markdown",
   "metadata": {},
   "source": [
    "Узнать тип объекта можно с помощью функции type(), а проверить принадлежность к типу можно с помощью isinstance():"
   ]
  },
  {
   "cell_type": "code",
   "execution_count": null,
   "metadata": {
    "collapsed": false
   },
   "outputs": [],
   "source": [
    "x = 5\n",
    "type(x)"
   ]
  },
  {
   "cell_type": "code",
   "execution_count": null,
   "metadata": {
    "collapsed": false
   },
   "outputs": [],
   "source": [
    "if isinstance(x, int):\n",
    "    print 'integer'"
   ]
  },
  {
   "cell_type": "markdown",
   "metadata": {},
   "source": [
    "** Для всех объектов ведется подсчет ссылок (reference count). **\n",
    "\n",
    "Число ссылок увеличивается, если на объект ссылается новая переменная, либо же объект добавляется в контейнер:"
   ]
  },
  {
   "cell_type": "code",
   "execution_count": null,
   "metadata": {
    "collapsed": true
   },
   "outputs": [],
   "source": [
    "a = 3.4\n",
    "c = a\n",
    "b = list()\n",
    "b.append(a)"
   ]
  },
  {
   "cell_type": "code",
   "execution_count": null,
   "metadata": {
    "collapsed": false
   },
   "outputs": [],
   "source": [
    "b"
   ]
  },
  {
   "cell_type": "markdown",
   "metadata": {},
   "source": [
    "Обратное - если объект уничтожается с помощью del или ссылка перестает существовать - значение счетчика снижается:"
   ]
  },
  {
   "cell_type": "code",
   "execution_count": null,
   "metadata": {
    "collapsed": true
   },
   "outputs": [],
   "source": [
    "del a\n",
    "b[0]=2.0 "
   ]
  },
  {
   "cell_type": "code",
   "execution_count": null,
   "metadata": {
    "collapsed": false
   },
   "outputs": [],
   "source": [
    "b"
   ]
  },
  {
   "cell_type": "markdown",
   "metadata": {},
   "source": [
    "Как мы знаем, выражение вида a = b создает новую ссылку на объект b. **Если объект, на который ссылается b, immutable - то a создает копию b**."
   ]
  },
  {
   "cell_type": "code",
   "execution_count": null,
   "metadata": {
    "collapsed": false
   },
   "outputs": [],
   "source": [
    "b = 'hello'\n",
    "a = b\n",
    "a = 'world'\n",
    "print b + a"
   ]
  },
  {
   "cell_type": "markdown",
   "metadata": {},
   "source": [
    "Для mutable несколько сложнее. Если мы просто дадим новое навзание ссылке на объект (a = b), то объект останется тем же:"
   ]
  },
  {
   "cell_type": "code",
   "execution_count": null,
   "metadata": {
    "collapsed": false
   },
   "outputs": [],
   "source": [
    "b = [1,2,3]\n",
    "a = b\n",
    "a[0] = 4\n",
    "print b"
   ]
  },
  {
   "cell_type": "markdown",
   "metadata": {},
   "source": [
    "Если мы все же хотим сделать копию, то у нас 2 опции:\n",
    "\n",
    "* **shallow copy**, когда создается новый объект, а ссылки в нем - на объекты из старого:"
   ]
  },
  {
   "cell_type": "code",
   "execution_count": null,
   "metadata": {
    "collapsed": false
   },
   "outputs": [],
   "source": [
    "b = [ 1, 2, [3,4] ]\n",
    "a = b[:]          # Create a shallow copy of b.\n",
    "a.append(100)\n",
    "print b\n",
    "a[2][0] = -100\n",
    "print b "
   ]
  },
  {
   "cell_type": "markdown",
   "metadata": {},
   "source": [
    "* **deep copy**, когда создается копия объекта наряду с копией всех объектов, которые он содержит:"
   ]
  },
  {
   "cell_type": "code",
   "execution_count": null,
   "metadata": {
    "collapsed": false
   },
   "outputs": [],
   "source": [
    "import copy\n",
    "b = [1, 2, [3, 4] ]\n",
    "a = copy.deepcopy(b)\n",
    "a[2] = -100\n",
    "print a\n",
    "print b "
   ]
  },
  {
   "cell_type": "markdown",
   "metadata": {},
   "source": [
    "## TLDR:"
   ]
  },
  {
   "cell_type": "markdown",
   "metadata": {},
   "source": [
    "* все является объектом;\n",
    "* принадлежность к типу стоит проверять через isinstance(object, type);\n",
    "* объекты можно разделить на mutable (изменяемые) и immutable (неизменяемые);\n",
    "* при копировании важно помнить, что для immutable копия создается непосредственно, а для mutable - создается новая ссылка на объект либо shallow cipy либо deep copy."
   ]
  },
  {
   "cell_type": "markdown",
   "metadata": {},
   "source": [
    "# 1.2. Основные типы"
   ]
  },
  {
   "cell_type": "markdown",
   "metadata": {},
   "source": [
    "* **NoneType**: отдельный тип для обозначения null"
   ]
  },
  {
   "cell_type": "code",
   "execution_count": null,
   "metadata": {
    "collapsed": false
   },
   "outputs": [],
   "source": [
    "x = None\n",
    "type(x)"
   ]
  },
  {
   "cell_type": "markdown",
   "metadata": {},
   "source": [
    "Проверку на NoneType следует осуществлять следующим образом:"
   ]
  },
  {
   "cell_type": "code",
   "execution_count": null,
   "metadata": {
    "collapsed": false
   },
   "outputs": [],
   "source": [
    "x is None"
   ]
  },
  {
   "cell_type": "code",
   "execution_count": null,
   "metadata": {
    "collapsed": false
   },
   "outputs": [],
   "source": [
    "if x :\n",
    "    print 'a'\n",
    "else:\n",
    "    print 'b'"
   ]
  },
  {
   "cell_type": "markdown",
   "metadata": {},
   "source": [
    "- **str** : immutable, последовательность Unicode codepoints (мы вернемся к этому позднее),\n",
    "- **unicode** : immutable, последовательность Unicode codepoints (мы вернемся к этому позднее).\n",
    "\n",
    "Оба наследуют basestring."
   ]
  },
  {
   "cell_type": "code",
   "execution_count": null,
   "metadata": {
    "collapsed": true
   },
   "outputs": [],
   "source": [
    "x = 'This is a test string'"
   ]
  },
  {
   "cell_type": "code",
   "execution_count": null,
   "metadata": {
    "collapsed": false
   },
   "outputs": [],
   "source": [
    "type(x)"
   ]
  },
  {
   "cell_type": "code",
   "execution_count": null,
   "metadata": {
    "collapsed": false
   },
   "outputs": [],
   "source": [
    "isinstance('test str', basestring)"
   ]
  },
  {
   "cell_type": "code",
   "execution_count": null,
   "metadata": {
    "collapsed": false
   },
   "outputs": [],
   "source": [
    "isinstance(u'test str', basestring)"
   ]
  },
  {
   "cell_type": "markdown",
   "metadata": {},
   "source": [
    "- **int**: Immutable, целое число (отдельного типа long в python нет: https://www.python.org/dev/peps/pep-0237/)"
   ]
  },
  {
   "cell_type": "code",
   "execution_count": null,
   "metadata": {
    "collapsed": false
   },
   "outputs": [],
   "source": [
    "x = 5\n",
    "type(x)"
   ]
  },
  {
   "cell_type": "markdown",
   "metadata": {},
   "source": [
    "- **float**: Immutable, число с плавающей точкой."
   ]
  },
  {
   "cell_type": "code",
   "execution_count": null,
   "metadata": {
    "collapsed": false
   },
   "outputs": [],
   "source": [
    "x = 5.0\n",
    "type(x)"
   ]
  },
  {
   "cell_type": "code",
   "execution_count": null,
   "metadata": {
    "collapsed": false
   },
   "outputs": [],
   "source": [
    "x = 5\n",
    "type(float(5))"
   ]
  },
  {
   "cell_type": "markdown",
   "metadata": {},
   "source": [
    "**2 vs 3** : При делении важно помнить, что поделив (int на int), float вы не получите, поэтому важно явно привести к float один из аргументов (Python 2)."
   ]
  },
  {
   "cell_type": "code",
   "execution_count": null,
   "metadata": {
    "collapsed": false
   },
   "outputs": [],
   "source": [
    "print 5/2\n",
    "print 5.0/2\n",
    "print 5/2.0"
   ]
  },
  {
   "cell_type": "markdown",
   "metadata": {},
   "source": [
    "**2 vs 3** : В Python 3 такой проблемы нет."
   ]
  },
  {
   "cell_type": "code",
   "execution_count": null,
   "metadata": {
    "collapsed": false
   },
   "outputs": [],
   "source": [
    "from __future__ import division\n",
    "\n",
    "print 5/2"
   ]
  },
  {
   "cell_type": "code",
   "execution_count": null,
   "metadata": {
    "collapsed": false
   },
   "outputs": [],
   "source": [
    "5//2"
   ]
  },
  {
   "cell_type": "markdown",
   "metadata": {},
   "source": [
    "* **bool**: булевая перменная "
   ]
  },
  {
   "cell_type": "code",
   "execution_count": null,
   "metadata": {
    "collapsed": false
   },
   "outputs": [],
   "source": [
    "a = bool(1)\n",
    "a"
   ]
  },
  {
   "cell_type": "markdown",
   "metadata": {},
   "source": [
    "* **complex**: комплексное число"
   ]
  },
  {
   "cell_type": "code",
   "execution_count": null,
   "metadata": {
    "collapsed": true
   },
   "outputs": [],
   "source": [
    "a = 1.5 + 0.5j"
   ]
  },
  {
   "cell_type": "code",
   "execution_count": null,
   "metadata": {
    "collapsed": false
   },
   "outputs": [],
   "source": [
    "a.real"
   ]
  },
  {
   "cell_type": "code",
   "execution_count": null,
   "metadata": {
    "collapsed": false
   },
   "outputs": [],
   "source": [
    "a.imag"
   ]
  },
  {
   "cell_type": "markdown",
   "metadata": {},
   "source": [
    "- **list**: mutable, динамический список"
   ]
  },
  {
   "cell_type": "code",
   "execution_count": null,
   "metadata": {
    "collapsed": true
   },
   "outputs": [],
   "source": [
    "x = [2,3,'string']"
   ]
  },
  {
   "cell_type": "code",
   "execution_count": null,
   "metadata": {
    "collapsed": false
   },
   "outputs": [],
   "source": [
    "x[2] = 4"
   ]
  },
  {
   "cell_type": "code",
   "execution_count": null,
   "metadata": {
    "collapsed": false
   },
   "outputs": [],
   "source": [
    "x"
   ]
  },
  {
   "cell_type": "code",
   "execution_count": null,
   "metadata": {
    "collapsed": true
   },
   "outputs": [],
   "source": [
    "x.append(51)"
   ]
  },
  {
   "cell_type": "markdown",
   "metadata": {
    "collapsed": true
   },
   "source": [
    "* **dict**: пары \"ключ-значение\""
   ]
  },
  {
   "cell_type": "code",
   "execution_count": null,
   "metadata": {
    "collapsed": true
   },
   "outputs": [],
   "source": [
    "x = {'this':'str_value', 'that_int': 5}"
   ]
  },
  {
   "cell_type": "markdown",
   "metadata": {},
   "source": [
    "* **tuple**: кортеж, immutable"
   ]
  },
  {
   "cell_type": "code",
   "execution_count": null,
   "metadata": {
    "collapsed": true
   },
   "outputs": [],
   "source": [
    "x = (1,2,3)"
   ]
  },
  {
   "cell_type": "code",
   "execution_count": null,
   "metadata": {
    "collapsed": false
   },
   "outputs": [],
   "source": [
    "x[2] = 4"
   ]
  },
  {
   "cell_type": "code",
   "execution_count": null,
   "metadata": {
    "collapsed": false
   },
   "outputs": [],
   "source": [
    "(1,2,3) + (4,)"
   ]
  },
  {
   "cell_type": "markdown",
   "metadata": {},
   "source": [
    "* **set**: множество объектов, mutable"
   ]
  },
  {
   "cell_type": "code",
   "execution_count": null,
   "metadata": {
    "collapsed": false
   },
   "outputs": [],
   "source": [
    "s = set([1,2,3])\n",
    "s"
   ]
  },
  {
   "cell_type": "code",
   "execution_count": null,
   "metadata": {
    "collapsed": false
   },
   "outputs": [],
   "source": [
    "s.add(5)\n",
    "s"
   ]
  },
  {
   "cell_type": "markdown",
   "metadata": {},
   "source": [
    "* **frozenset**: immutable версия множества"
   ]
  },
  {
   "cell_type": "code",
   "execution_count": null,
   "metadata": {
    "collapsed": true
   },
   "outputs": [],
   "source": [
    "s = frozenset([1,2,3])"
   ]
  },
  {
   "cell_type": "code",
   "execution_count": null,
   "metadata": {
    "collapsed": false
   },
   "outputs": [],
   "source": [
    "s.add(5)"
   ]
  },
  {
   "cell_type": "markdown",
   "metadata": {},
   "source": [
    "## TLDR:\n",
    "\n",
    "* помним про разделение объектов на mutable и immutable;\n",
    "* лучше делать импорт: from __future__ import divivision."
   ]
  },
  {
   "cell_type": "markdown",
   "metadata": {},
   "source": [
    "# 1.3. Контрольные конструкции"
   ]
  },
  {
   "cell_type": "markdown",
   "metadata": {},
   "source": [
    "**if/elif/else**\n",
    "\n",
    "Думаю, что все понятно"
   ]
  },
  {
   "cell_type": "code",
   "execution_count": null,
   "metadata": {
    "collapsed": false
   },
   "outputs": [],
   "source": [
    "if 3 == 5:\n",
    "    print 'broken'\n",
    "elif 3 == 0:\n",
    "    print 'broken again'\n",
    "else:\n",
    "    print 'working'"
   ]
  },
  {
   "cell_type": "markdown",
   "metadata": {},
   "source": [
    "Также из примера выше видно, что блоки отделяются с помощью отступов."
   ]
  },
  {
   "cell_type": "markdown",
   "metadata": {},
   "source": [
    "**while/break/continue**"
   ]
  },
  {
   "cell_type": "code",
   "execution_count": null,
   "metadata": {
    "collapsed": true
   },
   "outputs": [],
   "source": [
    "z = 1 + 1j\n",
    "while abs(z) < 100:\n",
    "    z = z**2 + 1"
   ]
  },
  {
   "cell_type": "code",
   "execution_count": null,
   "metadata": {
    "collapsed": false
   },
   "outputs": [],
   "source": [
    "z"
   ]
  },
  {
   "cell_type": "code",
   "execution_count": null,
   "metadata": {
    "collapsed": false
   },
   "outputs": [],
   "source": [
    "abs(z)"
   ]
  },
  {
   "cell_type": "markdown",
   "metadata": {},
   "source": [
    "**for** - итерация по коллекции объектов"
   ]
  },
  {
   "cell_type": "code",
   "execution_count": null,
   "metadata": {
    "collapsed": false
   },
   "outputs": [],
   "source": [
    "for i in xrange(10):\n",
    "    print i, i**2"
   ]
  },
  {
   "cell_type": "markdown",
   "metadata": {},
   "source": [
    "-- N: в Python 2 лучше использовать xrange, так как данное выражение не инициализирует новый массив. В Python 3 разницы между range/xrange нет."
   ]
  },
  {
   "cell_type": "code",
   "execution_count": null,
   "metadata": {
    "collapsed": false
   },
   "outputs": [],
   "source": [
    "print type(range(2))\n",
    "print type(xrange(2))"
   ]
  },
  {
   "cell_type": "markdown",
   "metadata": {},
   "source": [
    "** enumerate ** - если требуется не только пройти по коллекции, но и пронумеровать шаг итерации, можно использовать enumerate:"
   ]
  },
  {
   "cell_type": "code",
   "execution_count": null,
   "metadata": {
    "collapsed": false
   },
   "outputs": [],
   "source": [
    "for ind,ch in enumerate(['a', 'b', 'c']):\n",
    "    print ind, ch"
   ]
  },
  {
   "cell_type": "markdown",
   "metadata": {},
   "source": [
    "## TLDR:\n",
    "\n",
    "* проверка на равенство \"==\";\n",
    "* в Python 2 использовать xrange."
   ]
  },
  {
   "cell_type": "markdown",
   "metadata": {},
   "source": [
    "# 1.4. Функции"
   ]
  },
  {
   "cell_type": "markdown",
   "metadata": {},
   "source": [
    "** Функция, как и все прочее, является объектом**. Новая функция объявляется с помощью ключевого слова def. Возвращаемое значение опционально."
   ]
  },
  {
   "cell_type": "code",
   "execution_count": null,
   "metadata": {
    "collapsed": true
   },
   "outputs": [],
   "source": [
    "def product(a):\n",
    "    res = 1\n",
    "    for i in a:\n",
    "       res *= i \n",
    "    return res"
   ]
  },
  {
   "cell_type": "code",
   "execution_count": null,
   "metadata": {
    "collapsed": false
   },
   "outputs": [],
   "source": [
    "a = product([12,3,4])\n",
    "print a"
   ]
  },
  {
   "cell_type": "code",
   "execution_count": null,
   "metadata": {
    "collapsed": true
   },
   "outputs": [],
   "source": [
    "def product(a):\n",
    "    res = 1\n",
    "    for i in a:\n",
    "       res *= i "
   ]
  },
  {
   "cell_type": "code",
   "execution_count": null,
   "metadata": {
    "collapsed": false
   },
   "outputs": [],
   "source": [
    "a = product([12,3,4])\n",
    "print a"
   ]
  },
  {
   "cell_type": "markdown",
   "metadata": {},
   "source": [
    "**Общий синтаксис:**\n",
    "\n",
    "1. def;\n",
    "2. имя функции;\n",
    "3. аргументы в скобках;\n",
    "4. тело функции;\n",
    "5. (опционально) возвращаемое значение."
   ]
  },
  {
   "cell_type": "markdown",
   "metadata": {},
   "source": [
    "Для функции можно задать аргументы по умолчанию:"
   ]
  },
  {
   "cell_type": "code",
   "execution_count": null,
   "metadata": {
    "collapsed": true
   },
   "outputs": [],
   "source": [
    "def accum_sum(iterable, start=0):\n",
    "    for item in iterable:\n",
    "        start += item\n",
    "    return start"
   ]
  },
  {
   "cell_type": "code",
   "execution_count": null,
   "metadata": {
    "collapsed": false
   },
   "outputs": [],
   "source": [
    "accum_sum([1,2,3])"
   ]
  },
  {
   "cell_type": "markdown",
   "metadata": {},
   "source": [
    "Сигнатуру функции можно задать через \"\\*args\", \"\\*\\*kwargs\", где \"\\*args\" - кортеж аргументов, \"\\*\\*kwargs\" - словарь аргументов."
   ]
  },
  {
   "cell_type": "code",
   "execution_count": null,
   "metadata": {
    "collapsed": true
   },
   "outputs": [],
   "source": [
    "def signature_example(*args, **kwargs):\n",
    "    for ind,arg in enumerate(args):\n",
    "        print '{0}\\t{1}'.format(ind, arg)\n",
    "    kw = kwargs.get('ka')\n",
    "    print '\"ka\"\\t{0}'.format(kw)"
   ]
  },
  {
   "cell_type": "code",
   "execution_count": null,
   "metadata": {
    "collapsed": false
   },
   "outputs": [],
   "source": [
    "signature_example('a','c','b', ka='test')"
   ]
  },
  {
   "cell_type": "markdown",
   "metadata": {},
   "source": [
    "-- N: значения по умолчанию инициализируются во время создания функции, поэтому если вы определите ссылку на mutable или immutable объект в качестве значения по умолчанию, то следует учесть свойства объекта (при вызове функции с immutable объектом вы каждый раз будете получать объект, созданный во время инициализации, а для immutable - возможность изменить его и сохранить изменения во время каждого вызова)."
   ]
  },
  {
   "cell_type": "code",
   "execution_count": null,
   "metadata": {
    "collapsed": false
   },
   "outputs": [],
   "source": [
    "bigx = 10\n",
    "def double_it(x=bigx):\n",
    "    return x * 2\n",
    "print double_it()\n",
    "bigx = 1e9\n",
    "print double_it()"
   ]
  },
  {
   "cell_type": "code",
   "execution_count": null,
   "metadata": {
    "collapsed": false
   },
   "outputs": [],
   "source": [
    "def add_to_dict(args={'a': 1, 'b': 2}):\n",
    "    for i in args.keys():\n",
    "        args[i] += 1\n",
    "    print args\n",
    "add_to_dict()\n",
    "add_to_dict()\n",
    "add_to_dict()"
   ]
  },
  {
   "cell_type": "markdown",
   "metadata": {},
   "source": [
    "Итак, мы подошли к следующему: если есть подобные нюансы в доступе к переменным внутри функции, как разрешаются имена переменных?"
   ]
  },
  {
   "cell_type": "markdown",
   "metadata": {},
   "source": [
    "** LEGB ** : **Local -> Enclosing -> Global -> Built-in**"
   ]
  },
  {
   "cell_type": "code",
   "execution_count": null,
   "metadata": {
    "collapsed": false
   },
   "outputs": [],
   "source": [
    "a_var = 'global variable'\n",
    "\n",
    "def a_func():\n",
    "    a_var = 'local variable'\n",
    "    print(a_var)\n",
    "\n",
    "a_func()\n",
    "print a_var"
   ]
  },
  {
   "cell_type": "code",
   "execution_count": null,
   "metadata": {
    "collapsed": false
   },
   "outputs": [],
   "source": [
    "a_var = 'global value'\n",
    "\n",
    "def outer():\n",
    "    a_var = 'enclosed value'\n",
    "\n",
    "    def inner():\n",
    "        a_var = 'local value'\n",
    "        print(a_var)\n",
    "\n",
    "    inner()\n",
    "\n",
    "outer()"
   ]
  },
  {
   "cell_type": "code",
   "execution_count": null,
   "metadata": {
    "collapsed": false
   },
   "outputs": [],
   "source": [
    "a_var = 'global value'\n",
    "\n",
    "def outer():\n",
    "    a_var = 'enclosed value'\n",
    "\n",
    "    def inner():\n",
    "        print(a_var)\n",
    "\n",
    "    inner()\n",
    "\n",
    "outer()"
   ]
  },
  {
   "cell_type": "markdown",
   "metadata": {},
   "source": [
    "Если мы хотим изменить глобальную переменную, то стоит это сделать явно с помощью global:"
   ]
  },
  {
   "cell_type": "code",
   "execution_count": null,
   "metadata": {
    "collapsed": false
   },
   "outputs": [],
   "source": [
    "a_var = 'global value'\n",
    "\n",
    "def a_func():\n",
    "    a_var = 'changed value'\n",
    "\n",
    "a_func()\n",
    "print a_var"
   ]
  },
  {
   "cell_type": "code",
   "execution_count": null,
   "metadata": {
    "collapsed": false
   },
   "outputs": [],
   "source": [
    "a_var = 'global value'\n",
    "\n",
    "def a_func():\n",
    "    global a_var\n",
    "    a_var = 'changed value'\n",
    "\n",
    "a_func()\n",
    "print a_var"
   ]
  },
  {
   "cell_type": "markdown",
   "metadata": {},
   "source": [
    "При желании, можно произвести явную проверку на наличие в словаре locals() и globals():"
   ]
  },
  {
   "cell_type": "code",
   "execution_count": null,
   "metadata": {
    "collapsed": false
   },
   "outputs": [],
   "source": [
    "def t_func():\n",
    "    a = 5\n",
    "    print 'a' in locals()\n",
    "    \n",
    "t_func()"
   ]
  },
  {
   "cell_type": "markdown",
   "metadata": {},
   "source": [
    "-- N: Будьте осторожнее с for/in:"
   ]
  },
  {
   "cell_type": "code",
   "execution_count": null,
   "metadata": {
    "collapsed": false
   },
   "outputs": [],
   "source": [
    "a = 5\n",
    "for a in xrange(7, 9):\n",
    "    print a\n",
    "\n",
    "a"
   ]
  },
  {
   "cell_type": "markdown",
   "metadata": {},
   "source": [
    "Как мы знаем, узнать о том, для чего предназначена функция можно (в IPython) с помощью ?, ?? и help(func_name). "
   ]
  },
  {
   "cell_type": "code",
   "execution_count": null,
   "metadata": {
    "collapsed": false
   },
   "outputs": [],
   "source": [
    "def funcname(*args):\n",
    "    \n",
    "    \"\"\"\n",
    "    Concise one-line sentence describing the function. ....:\n",
    "        :param args:\n",
    "        compl_1: ...\n",
    "    Extended summary which can contain multiple paragraphs.\n",
    "    \"\"\"\n",
    "    # function body\n",
    "    pass"
   ]
  },
  {
   "cell_type": "code",
   "execution_count": null,
   "metadata": {
    "collapsed": true
   },
   "outputs": [],
   "source": [
    "funcname?"
   ]
  },
  {
   "cell_type": "markdown",
   "metadata": {},
   "source": [
    "Так как функция является объектом, никто не может вам запретить присвоить переменной ссылку на функцию:"
   ]
  },
  {
   "cell_type": "code",
   "execution_count": null,
   "metadata": {
    "collapsed": false
   },
   "outputs": [],
   "source": [
    "def test_func():\n",
    "    print 'test'\n",
    "a = test_func\n",
    "a()"
   ]
  },
  {
   "cell_type": "markdown",
   "metadata": {},
   "source": [
    "## TLDR:\n",
    "\n",
    "* функции - объекты первого класса (first-class objects);\n",
    "* резолюция имен - с помощью LEGB;\n",
    "* инициализация значений по умолчанию - в момент объявления."
   ]
  },
  {
   "cell_type": "markdown",
   "metadata": {},
   "source": [
    "# 1.5. Модули"
   ]
  },
  {
   "cell_type": "markdown",
   "metadata": {},
   "source": [
    "Технически, различия между скриптом и модулем нет: оба из них можно добавить в текущее пространство имен с помощью ключевого слова import.\n",
    "\n",
    "Тем не менее, обычно под скриптом понимают набор инструкций, которые выполняеются при запуске, а под модулем определенный набор констант и функций, предназначенных для дальнейшего использования."
   ]
  },
  {
   "cell_type": "markdown",
   "metadata": {},
   "source": [
    "Как запустить скрипт - нам уже известно:\n",
    "\n",
    "** %run test.py **\n",
    "\n",
    "или из комадной строки:\n",
    "\n",
    "** python test.py **"
   ]
  },
  {
   "cell_type": "markdown",
   "metadata": {},
   "source": [
    "--N: если мы запускаем скрипт из IPython, то определенные в нем переменные будут доступны из ноутбука."
   ]
  },
  {
   "cell_type": "code",
   "execution_count": null,
   "metadata": {
    "collapsed": false
   },
   "outputs": [],
   "source": [
    "%ls"
   ]
  },
  {
   "cell_type": "code",
   "execution_count": null,
   "metadata": {
    "collapsed": false
   },
   "outputs": [],
   "source": [
    "%who"
   ]
  },
  {
   "cell_type": "code",
   "execution_count": null,
   "metadata": {
    "collapsed": false
   },
   "outputs": [],
   "source": [
    "%run test.py"
   ]
  },
  {
   "cell_type": "code",
   "execution_count": null,
   "metadata": {
    "collapsed": false
   },
   "outputs": [],
   "source": [
    "%who"
   ]
  },
  {
   "cell_type": "markdown",
   "metadata": {},
   "source": [
    "В скрипт можно передать параметры. **Парсить параметры вручную не стоит, для этого есть пакеты argparse, optparse, docopt**."
   ]
  },
  {
   "cell_type": "code",
   "execution_count": null,
   "metadata": {
    "collapsed": false
   },
   "outputs": [],
   "source": [
    "%run arg_parse_test.py -i 1 2 3"
   ]
  },
  {
   "cell_type": "markdown",
   "metadata": {},
   "source": [
    "Импорт модуля возможен следующими способами:"
   ]
  },
  {
   "cell_type": "code",
   "execution_count": null,
   "metadata": {
    "collapsed": true
   },
   "outputs": [],
   "source": [
    "import sys\n",
    "import numpy as np\n",
    "from urllib2 import urlparse"
   ]
  },
  {
   "cell_type": "markdown",
   "metadata": {},
   "source": [
    "-- N: Так делать **не надо**: \n",
    "\n",
    "from scipy import *"
   ]
  },
  {
   "cell_type": "markdown",
   "metadata": {},
   "source": [
    "Модули кэшируются, поэтому если вы внесли изменения в модуль - вы их не увидите, необходимо попросить интерпретатор перезагрузить модуль:"
   ]
  },
  {
   "cell_type": "code",
   "execution_count": null,
   "metadata": {
    "collapsed": false
   },
   "outputs": [],
   "source": [
    "reload(sys)"
   ]
  },
  {
   "cell_type": "markdown",
   "metadata": {},
   "source": [
    "Как быть, если вы хотите, чтобы часть данных была доступна для импорта, но определенные инструкции выполнялись только если скрипт запускается как отдельная программа? \n",
    "\n",
    "Следует указать: if \\_\\_name\\_\\_ == '\\_\\_main\\_\\_'. У каждого модуля определено имя, и в случае если скрипт запускается отдельно, то он получает имя \\_\\_main\\_\\_."
   ]
  },
  {
   "cell_type": "markdown",
   "metadata": {},
   "source": [
    "Узнать, какие объекты определены в модуле, можно с помощью dir():"
   ]
  },
  {
   "cell_type": "code",
   "execution_count": null,
   "metadata": {
    "collapsed": false
   },
   "outputs": [],
   "source": [
    "dir(np)"
   ]
  },
  {
   "cell_type": "markdown",
   "metadata": {},
   "source": [
    "Вызов dir() без аргумента перечислит список объектов в текущем пространстве имен:"
   ]
  },
  {
   "cell_type": "markdown",
   "metadata": {},
   "source": [
    "При импорте поиск модуля с заданным именем осуществляется следующим образом:\n",
    "\n",
    "* built-ins;\n",
    "* текущая директория;\n",
    "* PYTHONPATH;\n",
    "* прочие пути, определенные пользователем при установке."
   ]
  },
  {
   "cell_type": "code",
   "execution_count": null,
   "metadata": {
    "collapsed": false
   },
   "outputs": [],
   "source": [
    "import sys\n",
    "sys.path"
   ]
  },
  {
   "cell_type": "markdown",
   "metadata": {},
   "source": [
    "Для ускорения загрузки, Python добавляет скомпилированные версии импортируемых пакетов в файле *.pyc."
   ]
  },
  {
   "cell_type": "markdown",
   "metadata": {},
   "source": [
    "## TLDR:\n",
    "\n",
    "* если вы используете какой-то кусок кода чаще одного раза - следует его обернуть в функцию;\n",
    "* если какая-то функция используется больше, чем в одном скрипте - добавьте ее в модуль;\n",
    "* если от модуля нужна функциональность только при вызове - добавьте ее в часть, которая вызывается if \\_\\_name\\_\\_ == '\\_\\_main\\_\\_'."
   ]
  },
  {
   "cell_type": "markdown",
   "metadata": {},
   "source": [
    "# 1.6. Пакеты"
   ]
  },
  {
   "cell_type": "markdown",
   "metadata": {},
   "source": [
    "Набор моодулей, объединенных по какому-либо признаку - называется пакетом (package). Чтобы дать понять Питону, что что-то явлвяется пакетом, следует создать файл \\_\\_init.py\\_\\_ (можно пустой).\n",
    "\n",
    "Если думать о модулях как о способе организации пространства имен (оставив в стороне повторное использование кода), то пакет - способ организации более высокого уровня - в добавок к имени модуля добавляется точка"
   ]
  },
  {
   "cell_type": "code",
   "execution_count": null,
   "metadata": {
    "collapsed": true
   },
   "outputs": [],
   "source": [
    "from numpy.linalg import svd"
   ]
  },
  {
   "cell_type": "markdown",
   "metadata": {},
   "source": [
    "Хороший пример из стандартной документации (https://docs.python.org/3/tutorial/modules.html): "
   ]
  },
  {
   "cell_type": "code",
   "execution_count": null,
   "metadata": {
    "collapsed": false
   },
   "outputs": [],
   "source": [
    "'''\n",
    "sound/                          Top-level package\n",
    "      __init__.py               Initialize the sound package\n",
    "      formats/                  Subpackage for file format conversions\n",
    "              __init__.py\n",
    "              wavread.py\n",
    "              wavwrite.py\n",
    "              aiffread.py\n",
    "              aiffwrite.py\n",
    "              auread.py\n",
    "              auwrite.py\n",
    "              ...\n",
    "      effects/                  Subpackage for sound effects\n",
    "              __init__.py\n",
    "              echo.py\n",
    "              surround.py\n",
    "              reverse.py\n",
    "              ...\n",
    "      filters/                  Subpackage for filters\n",
    "              __init__.py\n",
    "              equalizer.py\n",
    "              vocoder.py\n",
    "              karaoke.py\n",
    "              ...\n",
    "\n",
    "'''\n",
    "\n",
    "pass"
   ]
  },
  {
   "cell_type": "markdown",
   "metadata": {},
   "source": [
    "* импорт индивидуального модуля - import sound.effects.echo;\n",
    "* абсолютный импорт - from sound.effects import echo (может быть полезно, если у вас есть перекрестные ссылки между суб-модулями);\n",
    "* относительный импорт (например, в surround.py) - from . import echo, from .. import formats, from ..filters import equalizer.  "
   ]
  },
  {
   "cell_type": "markdown",
   "metadata": {},
   "source": [
    "## TLDR:\n",
    "\n",
    "* для создания пакета следует создать в директории файл \\_\\_init\\_\\_.py;\n",
    "* кросс-импорт между суб-модулями не возбраняется, но слудет пдумать - действительно ли была выбрана оптимальная организация структуры?"
   ]
  },
  {
   "cell_type": "markdown",
   "metadata": {},
   "source": [
    "# 1.7. Классы"
   ]
  },
  {
   "cell_type": "markdown",
   "metadata": {},
   "source": [
    "Мало отличий от прочих языков - создание классов с помощью ключевого слова class, любой класс либо наследует от object, либо от другого класса:"
   ]
  },
  {
   "cell_type": "code",
   "execution_count": null,
   "metadata": {
    "collapsed": false
   },
   "outputs": [],
   "source": [
    "class MyClass_parent(object):\n",
    "    def __init__(self, arg):\n",
    "        self.data = arg\n",
    "    def get_data(self):\n",
    "        return self.data\n",
    "    \n",
    "class MyClass_child(MyClass_parent):\n",
    "    def set_data(self, new_arg):\n",
    "        self.data = new_arg"
   ]
  },
  {
   "cell_type": "code",
   "execution_count": null,
   "metadata": {
    "collapsed": false
   },
   "outputs": [],
   "source": [
    "c1 = MyClass_parent(5)\n",
    "c1.get_data()"
   ]
  },
  {
   "cell_type": "code",
   "execution_count": null,
   "metadata": {
    "collapsed": false
   },
   "outputs": [],
   "source": [
    "c2 = MyClass_child(10)\n",
    "c2.set_data(5)\n",
    "c2.get_data()"
   ]
  },
  {
   "cell_type": "markdown",
   "metadata": {},
   "source": [
    "Деления на приватные и публичные методы/аттрибуты не существует, но принята конвенция, согласно которой методы, начинающиеся с _ считаются приватными:"
   ]
  },
  {
   "cell_type": "code",
   "execution_count": null,
   "metadata": {
    "collapsed": true
   },
   "outputs": [],
   "source": [
    "class MyClass_secret(MyClass_parent):\n",
    "    def _square_data(self):\n",
    "        self.data = self.data**2"
   ]
  },
  {
   "cell_type": "code",
   "execution_count": null,
   "metadata": {
    "collapsed": false
   },
   "outputs": [],
   "source": [
    "c = MyClass_secret(2)\n",
    "c._square_data()\n",
    "c.get_data()"
   ]
  },
  {
   "cell_type": "markdown",
   "metadata": {},
   "source": [
    "--N: избегайте общих mutable объектов для экземпляров классов!"
   ]
  },
  {
   "cell_type": "markdown",
   "metadata": {},
   "source": [
    "В рамках данного курса мы будем редко использовать классы, в основном для организации пространства имен."
   ]
  },
  {
   "cell_type": "markdown",
   "metadata": {},
   "source": [
    "## TLDR:\n",
    "\n",
    "* классы предоставляют все возможности для ООП в Питоне;\n",
    "* в дальнейших местах курса мы будем касаться отдельных аспектов, например \\_\\_eq\\_\\_ и \\_\\_hash\\_\\_."
   ]
  },
  {
   "cell_type": "markdown",
   "metadata": {},
   "source": [
    "# 1.8. Ввод / вывод"
   ]
  },
  {
   "cell_type": "markdown",
   "metadata": {},
   "source": [
    "Стандартный синтаксис для чтения/записи файлов выглядит так:"
   ]
  },
  {
   "cell_type": "code",
   "execution_count": null,
   "metadata": {
    "collapsed": false
   },
   "outputs": [],
   "source": [
    "with open(f1,'r') as r_f:\n",
    "    for line in f:\n",
    "        process(line)"
   ]
  },
  {
   "cell_type": "code",
   "execution_count": null,
   "metadata": {
    "collapsed": true
   },
   "outputs": [],
   "source": [
    "with open(f1,'w') as w_f:\n",
    "    for ind, item in enumerate(collection):\n",
    "        f.write('{0}\\t{1}\\n'.format(ind, item))"
   ]
  },
  {
   "cell_type": "markdown",
   "metadata": {},
   "source": [
    "Режим 'w' записывает новый файл, если нужно добавить - исопльзуйте 'a'. Можно спокойно открывать несколько файлов внутри одной конструкции with:"
   ]
  },
  {
   "cell_type": "code",
   "execution_count": null,
   "metadata": {
    "collapsed": true
   },
   "outputs": [],
   "source": [
    "with open(newfile, 'w') as outfile, open(oldfile, 'r', encoding='utf-8') as infile:\n",
    "    for line in infile:\n",
    "        outfile.write(line)"
   ]
  },
  {
   "cell_type": "markdown",
   "metadata": {},
   "source": [
    "Для чтения/записи json пользуйтесь готовыми пакетами json и ujson:"
   ]
  },
  {
   "cell_type": "code",
   "execution_count": null,
   "metadata": {
    "collapsed": true
   },
   "outputs": [],
   "source": [
    "try:\n",
    "    import ujson as json\n",
    "except ImportError:\n",
    "    import json"
   ]
  },
  {
   "cell_type": "code",
   "execution_count": null,
   "metadata": {
    "collapsed": false
   },
   "outputs": [],
   "source": [
    "json.dumps({'a':1, 'b':2})"
   ]
  },
  {
   "cell_type": "code",
   "execution_count": null,
   "metadata": {
    "collapsed": false
   },
   "outputs": [],
   "source": [
    "json.loads(json.dumps({'a':1, 'b':2}))"
   ]
  },
  {
   "cell_type": "markdown",
   "metadata": {},
   "source": [
    "Если нужно записать текстовые данные, то помните про кодировку!"
   ]
  },
  {
   "cell_type": "markdown",
   "metadata": {},
   "source": [
    "Читать gzip тоже просто:"
   ]
  },
  {
   "cell_type": "code",
   "execution_count": null,
   "metadata": {
    "collapsed": true
   },
   "outputs": [],
   "source": [
    "import gzip\n",
    "\n",
    "with gzip.open('f.gz') as f:\n",
    "    for line in f:\n",
    "        ..."
   ]
  },
  {
   "cell_type": "markdown",
   "metadata": {},
   "source": [
    "Для сохранения внутренних объектов в бинарном формате удобно использовать pickle:"
   ]
  },
  {
   "cell_type": "code",
   "execution_count": null,
   "metadata": {
    "collapsed": true
   },
   "outputs": [],
   "source": [
    "try:\n",
    "    import cPickle as pickle\n",
    "except ImportError:\n",
    "    import pickle"
   ]
  },
  {
   "cell_type": "code",
   "execution_count": null,
   "metadata": {
    "collapsed": true
   },
   "outputs": [],
   "source": [
    "favorite_color = { \"lion\": \"yellow\", \"kitty\": \"red\" }\n",
    "pickle.dump( favorite_color, open( \"save.p\", \"wb\" ) )"
   ]
  },
  {
   "cell_type": "code",
   "execution_count": null,
   "metadata": {
    "collapsed": true
   },
   "outputs": [],
   "source": [
    "favorite_color = pickle.load( open( \"save.p\", \"rb\" ) )"
   ]
  },
  {
   "cell_type": "code",
   "execution_count": null,
   "metadata": {
    "collapsed": false
   },
   "outputs": [],
   "source": [
    "favorite_color"
   ]
  },
  {
   "cell_type": "markdown",
   "metadata": {},
   "source": [
    "## TLDR:\n",
    "\n",
    "* для чтения/записи файлов пользуйтесь готовыми форматами;\n",
    "* помните про кодировки при записи текстовых данных."
   ]
  },
  {
   "cell_type": "markdown",
   "metadata": {},
   "source": [
    "# 1.9. Обработка исключений"
   ]
  },
  {
   "cell_type": "markdown",
   "metadata": {},
   "source": [
    "Использование обработки исключений вы уже видели при импорте пакетов. Общая конструкция:"
   ]
  },
  {
   "cell_type": "code",
   "execution_count": null,
   "metadata": {
    "collapsed": false
   },
   "outputs": [],
   "source": [
    "1/0"
   ]
  },
  {
   "cell_type": "code",
   "execution_count": 2,
   "metadata": {
    "collapsed": false
   },
   "outputs": [
    {
     "name": "stdout",
     "output_type": "stream",
     "text": [
      "zero division\n"
     ]
    }
   ],
   "source": [
    "try:\n",
    "    1/0\n",
    "except ZeroDivisionError:\n",
    "    print 'zero division'"
   ]
  },
  {
   "cell_type": "markdown",
   "metadata": {},
   "source": [
    "Можно передавать несколько типов ошибок через кортеж : except (TypeError, ValueError) ...\n",
    "\n",
    "Если есть часть кода, которая должна быть вызвана вне зависимости от успеха/неуспеха остально части, следует воспользоваться конструкцией try/except/finally:"
   ]
  },
  {
   "cell_type": "code",
   "execution_count": 3,
   "metadata": {
    "collapsed": false
   },
   "outputs": [
    {
     "name": "stdout",
     "output_type": "stream",
     "text": [
      "1\n"
     ]
    }
   ],
   "source": [
    "try:\n",
    "    1/0\n",
    "except :\n",
    "    pass\n",
    "finally:\n",
    "    print 1/1"
   ]
  },
  {
   "cell_type": "markdown",
   "metadata": {},
   "source": [
    "Подробнее предлагается прочитать тут - https://docs.python.org/2/tutorial/errors.html."
   ]
  },
  {
   "cell_type": "markdown",
   "metadata": {},
   "source": [
    "Общее правило: **Easier to ask for forgiveness than permission**.\n",
    "\n",
    "** Если использование try/except ведет к более быстрому и/или чистому коду (что обычно верно - нельзя же придумать if/else на каждый гипотетический случай), следует предпочесть try/except. **"
   ]
  },
  {
   "cell_type": "markdown",
   "metadata": {},
   "source": [
    "## TLDR:\n",
    "\n",
    "* Цитата из ZEN (PEP 20):\n",
    "\" Errors should never pass silently.\n",
    "  Unless explicitly silenced. \"\n",
    "* \"Easier to ask for forgiveness than permission\""
   ]
  },
  {
   "cell_type": "markdown",
   "metadata": {},
   "source": [
    "# 1.10. os/sys"
   ]
  },
  {
   "cell_type": "markdown",
   "metadata": {},
   "source": [
    "**os**: доступ к функционалу операционной сиситемы."
   ]
  },
  {
   "cell_type": "code",
   "execution_count": null,
   "metadata": {
    "collapsed": true
   },
   "outputs": [],
   "source": [
    "import os"
   ]
  },
  {
   "cell_type": "code",
   "execution_count": null,
   "metadata": {
    "collapsed": false
   },
   "outputs": [],
   "source": [
    "os.getcwd()"
   ]
  },
  {
   "cell_type": "code",
   "execution_count": null,
   "metadata": {
    "collapsed": false
   },
   "outputs": [],
   "source": [
    "os.listdir(os.curdir)"
   ]
  },
  {
   "cell_type": "code",
   "execution_count": null,
   "metadata": {
    "collapsed": true
   },
   "outputs": [],
   "source": [
    "os.mkdir('trash')"
   ]
  },
  {
   "cell_type": "code",
   "execution_count": null,
   "metadata": {
    "collapsed": false
   },
   "outputs": [],
   "source": [
    "'trash' in os.listdir(os.curdir)"
   ]
  },
  {
   "cell_type": "code",
   "execution_count": null,
   "metadata": {
    "collapsed": true
   },
   "outputs": [],
   "source": [
    "os.rmdir('trash')"
   ]
  },
  {
   "cell_type": "code",
   "execution_count": null,
   "metadata": {
    "collapsed": false
   },
   "outputs": [],
   "source": [
    "'trash' in os.listdir(os.curdir)"
   ]
  },
  {
   "cell_type": "code",
   "execution_count": null,
   "metadata": {
    "collapsed": false
   },
   "outputs": [],
   "source": [
    "%ls"
   ]
  },
  {
   "cell_type": "code",
   "execution_count": null,
   "metadata": {
    "collapsed": false
   },
   "outputs": [],
   "source": [
    "os.path.abspath('Intro.ipynb')"
   ]
  },
  {
   "cell_type": "code",
   "execution_count": null,
   "metadata": {
    "collapsed": false
   },
   "outputs": [],
   "source": [
    "os.path.split(os.path.abspath('Intro.ipynb'))"
   ]
  },
  {
   "cell_type": "code",
   "execution_count": null,
   "metadata": {
    "collapsed": false
   },
   "outputs": [],
   "source": [
    "os.path.exists('Intro.ipynb')"
   ]
  },
  {
   "cell_type": "code",
   "execution_count": null,
   "metadata": {
    "collapsed": false
   },
   "outputs": [],
   "source": [
    "os.path.isfile('Intro.ipynb')"
   ]
  },
  {
   "cell_type": "code",
   "execution_count": null,
   "metadata": {
    "collapsed": false
   },
   "outputs": [],
   "source": [
    "os.environ.keys()"
   ]
  },
  {
   "cell_type": "markdown",
   "metadata": {},
   "source": [
    "sys: информация о системе"
   ]
  },
  {
   "cell_type": "code",
   "execution_count": null,
   "metadata": {
    "collapsed": false
   },
   "outputs": [],
   "source": [
    "import sys\n",
    "sys.platform"
   ]
  },
  {
   "cell_type": "code",
   "execution_count": null,
   "metadata": {
    "collapsed": false
   },
   "outputs": [],
   "source": [
    "sys.version"
   ]
  },
  {
   "cell_type": "code",
   "execution_count": null,
   "metadata": {
    "collapsed": false
   },
   "outputs": [],
   "source": [
    "sys.path"
   ]
  },
  {
   "cell_type": "code",
   "execution_count": null,
   "metadata": {
    "collapsed": false
   },
   "outputs": [],
   "source": [
    "sys.getsizeof([1,2,3])"
   ]
  },
  {
   "cell_type": "markdown",
   "metadata": {
    "collapsed": true
   },
   "source": [
    "# Дополнительный материал 2: Unicode и str"
   ]
  },
  {
   "cell_type": "markdown",
   "metadata": {},
   "source": [
    "Классический справочный материал - http://www.joelonsoftware.com/articles/Unicode.html .\n",
    "\n",
    "Самое важное утверждение оттуда:\n",
    "\n",
    "**There Ain't No Such Thing As Plain Text.**"
   ]
  },
  {
   "cell_type": "markdown",
   "metadata": {},
   "source": [
    "**Unicode** - последовательность абстрактных codepoints;\n",
    "\n",
    "**Кодировка** - способ представления кодировок в памяти."
   ]
  },
  {
   "cell_type": "code",
   "execution_count": null,
   "metadata": {
    "collapsed": false
   },
   "outputs": [],
   "source": [
    "x = 'base string'\n",
    "x.decode('ascii')"
   ]
  },
  {
   "cell_type": "code",
   "execution_count": null,
   "metadata": {
    "collapsed": false
   },
   "outputs": [],
   "source": [
    "x = u'base string'\n",
    "x.encode('ascii')"
   ]
  },
  {
   "cell_type": "markdown",
   "metadata": {},
   "source": [
    "string.decode(encoding) - получаем unicode (последовательность codepoints);\n",
    "unicode.encode(encoding) - получаем string (последовательность байтов).\n",
    "\n",
    "**string.decode(encoding).encode(encoding) == string**"
   ]
  },
  {
   "cell_type": "markdown",
   "metadata": {},
   "source": [
    "Справка - https://docs.python.org/2/howto/unicode.html"
   ]
  },
  {
   "cell_type": "markdown",
   "metadata": {},
   "source": [
    "Как работать с текстовыми данными?\n",
    "\n",
    "Правило, позволяющее сэкономить кучу сил:\n",
    "** Внтури программы использовать unicode. При необходимости передачи строки за пределы программы - пользоваться кодировкой (предпочтительно utf-8).**"
   ]
  },
  {
   "cell_type": "code",
   "execution_count": null,
   "metadata": {
    "collapsed": true
   },
   "outputs": [],
   "source": []
  }
 ],
 "metadata": {
  "kernelspec": {
   "display_name": "Python 2",
   "language": "python",
   "name": "python2"
  },
  "language_info": {
   "codemirror_mode": {
    "name": "ipython",
    "version": 2
   },
   "file_extension": ".py",
   "mimetype": "text/x-python",
   "name": "python",
   "nbconvert_exporter": "python",
   "pygments_lexer": "ipython2",
   "version": "2.7.10"
  }
 },
 "nbformat": 4,
 "nbformat_minor": 0
}
