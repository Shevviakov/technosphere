{
 "cells": [
  {
   "cell_type": "markdown",
   "metadata": {},
   "source": [
    "Гришин Михаил, mail.ru\n",
    "\n",
    "\n",
    "m.grishin@corp.mail.ru"
   ]
  },
  {
   "cell_type": "markdown",
   "metadata": {},
   "source": [
    "# 0.0. Введение в \"введение\""
   ]
  },
  {
   "cell_type": "markdown",
   "metadata": {},
   "source": [
    "Как обычно вглядит процесс исследования:\n",
    "\n",
    "- получение данных;\n",
    "- предварительная обработка;\n",
    "- расчеты и получение результатов;\n",
    "- приведение результатов к такому виду, который может быть объектом обсуждения."
   ]
  },
  {
   "cell_type": "markdown",
   "metadata": {},
   "source": [
    "**Выбор инструмента исследования**:\n",
    "\n",
    "- компилируемые языки (C, C++). Преимущества: быстро (при правильном использовании), специализированные библиотеки ЛА (BLAS, LAPACK). Недостатки: \"при правильном использовании\", высокие затраты на время разработки;\n",
    "\n",
    "- скриптовые языки:Matlab. Преимущества: много готовых решений \"из коробки\", стандартные функции реализованы гарантировано верно. Недостатки: ограниченность функционала, платное решение.\n",
    "\n",
    "- скриптовые языки: R, Ocatve, Julia. Преимущества: наличие сообщества, сильная специализация (например, в качестве шутки утверждают, что для любой статьи по статистике можно найти реализованный пакет в R). Недостатки: из-за узкой специализации может возникать необходимость в использовании сторонних средств."
   ]
  },
  {
   "cell_type": "markdown",
   "metadata": {},
   "source": [
    "## Python"
   ]
  },
  {
   "cell_type": "markdown",
   "metadata": {},
   "source": [
    "* CPython;\n",
    "* Jython;\n",
    "* PyPy.\n",
    "\n",
    "CPython - то, скорее всего, чем вы пользуетесь. Самая \"старая\" (эталонная) реализация языка.\n",
    "Jython - реализация на Java.\n",
    "PyPy - Python, написанный на Python'e c JIT - компилятором.\n",
    "\n",
    "Вероятно, отельно стовит выделить Cython - расширение оригинального Python'a для оптимизации времени исполнения."
   ]
  },
  {
   "cell_type": "markdown",
   "metadata": {},
   "source": [
    "# 0.1. Ipython Notebook"
   ]
  },
  {
   "cell_type": "markdown",
   "metadata": {
    "collapsed": true
   },
   "source": [
    "## IPython"
   ]
  },
  {
   "cell_type": "markdown",
   "metadata": {},
   "source": [
    "IPython - интерактивная оболочка для Python, которая обеспечивает полноценный REPL - интерфейс (Read - Eval - Print - Loop).\n",
    "\n",
    "В IPython реализован ряд достаточно удобных вещей, например:\n",
    "\n",
    "- полный доступ к командной строке через использование \"!\" в начале команды, например \"!ls -lah\";\n",
    "- code completion через Tab;\n",
    "- \"магические\" команды, доступные через \"%\";\n",
    "- история команды, и пр. (можно посмотреть список здесь: https://ipython.org/ipython-doc/3/overview.html)."
   ]
  },
  {
   "cell_type": "markdown",
   "metadata": {},
   "source": [
    "Работать с REPL в рамках \"научных\" вычислений гораздо удобнее, но еще лучше если есть возможность сразу воспроизвести результаты вычислений, проанализировать их визуально, а также передать в виде, который предполагает независимое воспроизведение 3-ми лицами."
   ]
  },
  {
   "cell_type": "markdown",
   "metadata": {},
   "source": [
    "## Notebook"
   ]
  },
  {
   "cell_type": "markdown",
   "metadata": {},
   "source": [
    "Исходя из этого соображения и появился IPython (теперь Jupyter). В нем есть kernel - процесс, который получает вычислительные инструкции, а также REPL - оболочка в виде самого ноутбука, куда можно писать как python код, Markdown, а также MathJax. Благодаря такой модели к одному kernel'у может подключиться несколько пользователей.\n",
    "\n",
    "Сами ноутбуки сохранаяются в формате .ipynb, в котором хранится код и результаты вычислений (разумеется, если вы их попросили вывести).\n",
    "\n",
    "Сейчас существуют kernel для различных языков - R, Julia, Scala, но мы остановимся именно на python'e.\n",
    "\n",
    "Дальнейший план следующий - вспомним основы питона, посмотрим на удобства использования IPython notebook, посмотрим на основные библиотеки, используемые для анализа данных."
   ]
  },
  {
   "cell_type": "markdown",
   "metadata": {
    "collapsed": true
   },
   "source": [
    "## Полезные команды в IPython"
   ]
  },
  {
   "cell_type": "code",
   "execution_count": null,
   "metadata": {
    "collapsed": true
   },
   "outputs": [],
   "source": []
  },
  {
   "cell_type": "code",
   "execution_count": null,
   "metadata": {
    "collapsed": true
   },
   "outputs": [],
   "source": []
  },
  {
   "cell_type": "markdown",
   "metadata": {},
   "source": [
    "- \"?\" маленький мануал по использованию IPython:"
   ]
  },
  {
   "cell_type": "code",
   "execution_count": 1,
   "metadata": {
    "collapsed": true
   },
   "outputs": [],
   "source": [
    "?"
   ]
  },
  {
   "cell_type": "markdown",
   "metadata": {},
   "source": [
    "- \"%quickref\" говорит само за себя:"
   ]
  },
  {
   "cell_type": "code",
   "execution_count": 2,
   "metadata": {
    "collapsed": true
   },
   "outputs": [],
   "source": [
    "%quickref"
   ]
  },
  {
   "cell_type": "markdown",
   "metadata": {},
   "source": [
    " - \"help\" уже \"родная\" (питоновская) справка:"
   ]
  },
  {
   "cell_type": "code",
   "execution_count": 3,
   "metadata": {
    "collapsed": false
   },
   "outputs": [
    {
     "name": "stdout",
     "output_type": "stream",
     "text": [
      "\n",
      "Welcome to Python 2.7!  This is the online help utility.\n",
      "\n",
      "If this is your first time using Python, you should definitely check out\n",
      "the tutorial on the Internet at http://docs.python.org/2.7/tutorial/.\n",
      "\n",
      "Enter the name of any module, keyword, or topic to get help on writing\n",
      "Python programs and using Python modules.  To quit this help utility and\n",
      "return to the interpreter, just type \"quit\".\n",
      "\n",
      "To get a list of available modules, keywords, or topics, type \"modules\",\n",
      "\"keywords\", or \"topics\".  Each module also comes with a one-line summary\n",
      "of what it does; to list the modules whose summaries contain a given word\n",
      "such as \"spam\", type \"modules spam\".\n",
      "\n",
      "help> sum\n",
      "Help on built-in function sum in module __builtin__:\n",
      "\n",
      "sum(...)\n",
      "    sum(sequence[, start]) -> value\n",
      "    \n",
      "    Return the sum of a sequence of numbers (NOT strings) plus the value\n",
      "    of parameter 'start' (which defaults to 0).  When the sequence is\n",
      "    empty, return start.\n",
      "\n",
      "\n",
      "You are now leaving help and returning to the Python interpreter.\n",
      "If you want to ask for help on a particular object directly from the\n",
      "interpreter, you can type \"help(object)\".  Executing \"help('string')\"\n",
      "has the same effect as typing a particular string at the help> prompt.\n"
     ]
    }
   ],
   "source": [
    "help()"
   ]
  },
  {
   "cell_type": "markdown",
   "metadata": {},
   "source": [
    "Получить краткую справку об объекте можно так:"
   ]
  },
  {
   "cell_type": "code",
   "execution_count": 4,
   "metadata": {
    "collapsed": true
   },
   "outputs": [],
   "source": [
    "?help"
   ]
  },
  {
   "cell_type": "code",
   "execution_count": null,
   "metadata": {
    "collapsed": true
   },
   "outputs": [],
   "source": [
    "help?"
   ]
  },
  {
   "cell_type": "markdown",
   "metadata": {},
   "source": [
    "Полную информацию:"
   ]
  },
  {
   "cell_type": "code",
   "execution_count": 5,
   "metadata": {
    "collapsed": false
   },
   "outputs": [],
   "source": [
    "help??"
   ]
  },
  {
   "cell_type": "code",
   "execution_count": null,
   "metadata": {
    "collapsed": true
   },
   "outputs": [],
   "source": [
    "??help"
   ]
  },
  {
   "cell_type": "markdown",
   "metadata": {},
   "source": [
    "Если нужен только docstring:\n",
    "\n",
    "--*N*: что такое docstring? https://www.python.org/dev/peps/pep-0257/"
   ]
  },
  {
   "cell_type": "code",
   "execution_count": 6,
   "metadata": {
    "collapsed": true
   },
   "outputs": [],
   "source": [
    "%pdoc help"
   ]
  },
  {
   "cell_type": "markdown",
   "metadata": {},
   "source": [
    "** Работа с историей ввода: **\n",
    "\n",
    "- [CTRL - P]/[CTRL - N] - предыдудещее/следующее совпадение из истории (у меня работает только в терминале);\n",
    "- [CTRL - R] - поиск по истории команд (у меня работает только в терминале);\n",
    "- %hist - полная история;\n",
    "- следующие пременные хранят последние значения, введение пользователем: _i, _ii, _iii ИЛИ еще одна полная история _ih."
   ]
  },
  {
   "cell_type": "code",
   "execution_count": 7,
   "metadata": {
    "collapsed": false
   },
   "outputs": [
    {
     "data": {
      "text/plain": [
       "['',\n",
       " u'get_ipython().show_usage()',\n",
       " u\"get_ipython().magic(u'quickref')\",\n",
       " u'help()',\n",
       " u\"get_ipython().magic(u'pinfo help')\",\n",
       " u\"get_ipython().magic(u'pinfo2 help')\",\n",
       " u\"get_ipython().magic(u'pdoc help')\",\n",
       " u'_ih']"
      ]
     },
     "execution_count": 7,
     "metadata": {},
     "output_type": "execute_result"
    }
   ],
   "source": [
    "_ih"
   ]
  },
  {
   "cell_type": "markdown",
   "metadata": {},
   "source": [
    "** Работа с историей вывода: **\n",
    "\n",
    "- по аналогии: _, __, ___, и полный словарь: _oh;\n",
    "- кроме того, значение каждой ячейки [\"Out[i]:\"] также кэшируется и доступно через _<i>."
   ]
  },
  {
   "cell_type": "code",
   "execution_count": 8,
   "metadata": {
    "collapsed": false
   },
   "outputs": [
    {
     "data": {
      "text/plain": [
       "3125"
      ]
     },
     "execution_count": 8,
     "metadata": {},
     "output_type": "execute_result"
    }
   ],
   "source": [
    "5 ** 5"
   ]
  },
  {
   "cell_type": "code",
   "execution_count": 9,
   "metadata": {
    "collapsed": false
   },
   "outputs": [
    {
     "data": {
      "text/plain": [
       "{7: ['',\n",
       "  u'get_ipython().show_usage()',\n",
       "  u\"get_ipython().magic(u'quickref')\",\n",
       "  u'help()',\n",
       "  u\"get_ipython().magic(u'pinfo help')\",\n",
       "  u\"get_ipython().magic(u'pinfo2 help')\",\n",
       "  u\"get_ipython().magic(u'pdoc help')\",\n",
       "  u'_ih',\n",
       "  u'5 ** 5',\n",
       "  u'_oh'],\n",
       " 8: 3125}"
      ]
     },
     "execution_count": 9,
     "metadata": {},
     "output_type": "execute_result"
    }
   ],
   "source": [
    "_oh"
   ]
  },
  {
   "cell_type": "markdown",
   "metadata": {},
   "source": [
    "** \"Магические\" команды **:\n",
    "- список магических команд доступен через %magic."
   ]
  },
  {
   "cell_type": "code",
   "execution_count": null,
   "metadata": {
    "collapsed": true
   },
   "outputs": [],
   "source": [
    "% magic"
   ]
  },
  {
   "cell_type": "markdown",
   "metadata": {},
   "source": [
    "Магические команды работают в 2 режимах:\n",
    "- \"построчный\": аргумент команды - одна строка;\n",
    "- \"режим ячеек (cell mode)\": первая строка создает объект (или делает какие-либо иные приготовления), далее исполняется \"тело\"."
   ]
  },
  {
   "cell_type": "code",
   "execution_count": 10,
   "metadata": {
    "collapsed": true
   },
   "outputs": [],
   "source": [
    "%magic"
   ]
  },
  {
   "cell_type": "markdown",
   "metadata": {},
   "source": [
    "Команды, которые стоит запомнить:\n",
    "- **%cd** - сменить текущую рабочую директорию;\n",
    "- **%cpaste** (%paste) - вставить код из буфера;\n",
    "- **%timeit** - измерение времени выполнения;\n",
    "- **%alias** - присвоить короткое имя системной команде;\n",
    "- **%colors** - для терминала: схема цветовой схемы;\n",
    "- **%env** - environmental variables;\n",
    "- **%matplotlib** - включить интерактивный режим matplotlib;\n",
    "- **%pprint** - включить/выключить pretty print;\n",
    "- **%precision** - задать точность вывода дробных чисел;\n",
    "- **%pwd** - текущая директория;\n",
    "- **%reset** - очистить пространство имен;\n",
    "- **%run** - запуск Python скрипта. Удобно добавить опции -t (контроль времени выполнения), -p для запуска IPython code profiler;\n",
    "- **%whos** - список определенных переменных с указанием значений."
   ]
  },
  {
   "cell_type": "code",
   "execution_count": 13,
   "metadata": {
    "collapsed": false
   },
   "outputs": [
    {
     "name": "stdout",
     "output_type": "stream",
     "text": [
      "Variable   Type     Data/Info\n",
      "-----------------------------\n",
      "pi         float    3.14159265359\n"
     ]
    }
   ],
   "source": [
    "%whos"
   ]
  },
  {
   "cell_type": "code",
   "execution_count": 12,
   "metadata": {
    "collapsed": false
   },
   "outputs": [
    {
     "data": {
      "text/plain": [
       "3.141592653589793115997963468544185"
      ]
     },
     "execution_count": 12,
     "metadata": {},
     "output_type": "execute_result"
    }
   ],
   "source": [
    "%precision 33\n",
    "from math import pi\n",
    "pi"
   ]
  },
  {
   "cell_type": "markdown",
   "metadata": {},
   "source": [
    "**Командная строка** доступна через \"!\". ** Для выполнения команды оболочка запускается в отдельном процессе! **."
   ]
  },
  {
   "cell_type": "code",
   "execution_count": 14,
   "metadata": {
    "collapsed": false
   },
   "outputs": [
    {
     "name": "stdout",
     "output_type": "stream",
     "text": [
      "total 272\r\n",
      "drwxr-xr-x  10 m.grishin  staff   340B Sep 19 18:24 \u001b[34m.\u001b[m\u001b[m\r\n",
      "drwxr-xr-x   5 m.grishin  staff   170B Sep 13 09:27 \u001b[34m..\u001b[m\u001b[m\r\n",
      "-rw-r--r--@  1 m.grishin  staff   6.0K Sep 13 09:27 .DS_Store\r\n",
      "drwxr-xr-x   5 m.grishin  staff   170B Sep 19 14:13 \u001b[34m.ipynb_checkpoints\u001b[m\u001b[m\r\n",
      "-rw-r--r--   1 m.grishin  staff    20K Sep 19 18:24 Intro.ipynb\r\n",
      "-rw-r--r--   1 m.grishin  staff   314B Sep 19 11:24 arg_parse_test.py\r\n",
      "-rw-r--r--   1 m.grishin  staff    30K Sep 19 17:31 containers.ipynb\r\n",
      "-rw-r--r--   1 m.grishin  staff    61K Sep 19 14:13 python_basics.ipynb\r\n",
      "-rw-r--r--   1 m.grishin  staff    54B Sep 19 13:49 save.p\r\n",
      "-rw-r--r--   1 m.grishin  staff    58B Sep 19 11:01 test.py\r\n"
     ]
    }
   ],
   "source": [
    "!ls -lah"
   ]
  },
  {
   "cell_type": "markdown",
   "metadata": {},
   "source": [
    "Для списка заданных коротких имен достаточно набрать:"
   ]
  },
  {
   "cell_type": "code",
   "execution_count": 15,
   "metadata": {
    "collapsed": false
   },
   "outputs": [
    {
     "name": "stdout",
     "output_type": "stream",
     "text": [
      "Total number of aliases: 12\n"
     ]
    },
    {
     "data": {
      "text/plain": [
       "[('cat', 'cat'),\n",
       " ('cp', 'cp'),\n",
       " ('ldir', 'ls -F -G -l %l | grep /$'),\n",
       " ('lf', 'ls -F -l -G %l | grep ^-'),\n",
       " ('lk', 'ls -F -l -G %l | grep ^l'),\n",
       " ('ll', 'ls -F -l -G'),\n",
       " ('ls', 'ls -F -G'),\n",
       " ('lx', 'ls -F -l -G %l | grep ^-..x'),\n",
       " ('mkdir', 'mkdir'),\n",
       " ('mv', 'mv'),\n",
       " ('rm', 'rm'),\n",
       " ('rmdir', 'rmdir')]"
      ]
     },
     "execution_count": 15,
     "metadata": {},
     "output_type": "execute_result"
    }
   ],
   "source": [
    "alias"
   ]
  },
  {
   "cell_type": "code",
   "execution_count": 17,
   "metadata": {
    "collapsed": false
   },
   "outputs": [
    {
     "name": "stdout",
     "output_type": "stream",
     "text": [
      "Intro.ipynb          containers.ipynb     save.p\r\n",
      "arg_parse_test.py    python_basics.ipynb  test.py\r\n"
     ]
    }
   ],
   "source": [
    "ls"
   ]
  },
  {
   "cell_type": "code",
   "execution_count": 2,
   "metadata": {
    "collapsed": false
   },
   "outputs": [
    {
     "name": "stdout",
     "output_type": "stream",
     "text": [
      "Intro.ipynb          python_basics.ipynb\r\n"
     ]
    }
   ],
   "source": [
    "ls"
   ]
  },
  {
   "cell_type": "markdown",
   "metadata": {},
   "source": [
    "Дальнейшее профилирование:\n",
    "- создать новый профиль:\n",
    "ipython profile create\n",
    "- профиль по умолчанию лежит тут:\n",
    "~/.ipython/profile_default"
   ]
  },
  {
   "cell_type": "markdown",
   "metadata": {},
   "source": [
    "## TLDR:\n",
    "- IPython предостаавляет удобный интерфейс для работы с Python'ом;\n",
    "- Основы Python мы разеберем в следующей секции;\n",
    "- из IPython можно запустить готовый скрипт через %run, измерить время выполнения команды через %timeit, сменить директорию через %cd.\n",
    "\n",
    "-- В: Эквивалентно ли \"! cd ~/\" и \"%cd ~/\"?"
   ]
  },
  {
   "cell_type": "markdown",
   "metadata": {},
   "source": [
    "# Дополнительный материал 1: Markdown"
   ]
  },
  {
   "cell_type": "markdown",
   "metadata": {},
   "source": [
    "[Спецификация markdown](http://daringfireball.net/projects/markdown/)"
   ]
  },
  {
   "cell_type": "markdown",
   "metadata": {},
   "source": [
    "Как вы уже поняли - *italic*, **bold**.\n",
    "\n",
    "- item;\n",
    "- item.\n",
    "\n",
    "\n",
    "\n",
    "1. first;\n",
    "2. second.\n"
   ]
  },
  {
   "cell_type": "markdown",
   "metadata": {},
   "source": [
    "https://github.com/mathjax/MathJax/issues/1300"
   ]
  },
  {
   "cell_type": "markdown",
   "metadata": {},
   "source": [
    "$P(A|B) = \\frac{P(B|A) P(A)}{P(B)};$"
   ]
  },
  {
   "cell_type": "markdown",
   "metadata": {},
   "source": [
    "$$P(A|B) = \\frac{P(B|A) P(A)}{P(B)}.$$"
   ]
  },
  {
   "cell_type": "code",
   "execution_count": null,
   "metadata": {
    "collapsed": true
   },
   "outputs": [],
   "source": []
  }
 ],
 "metadata": {
  "kernelspec": {
   "display_name": "Python 2",
   "language": "python",
   "name": "python2"
  },
  "language_info": {
   "codemirror_mode": {
    "name": "ipython",
    "version": 2
   },
   "file_extension": ".py",
   "mimetype": "text/x-python",
   "name": "python",
   "nbconvert_exporter": "python",
   "pygments_lexer": "ipython2",
   "version": "2.7.10"
  }
 },
 "nbformat": 4,
 "nbformat_minor": 0
}
