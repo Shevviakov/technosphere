{
 "cells": [
  {
   "cell_type": "markdown",
   "metadata": {},
   "source": [
    "Training"
   ]
  },
  {
   "cell_type": "code",
   "execution_count": 2,
   "metadata": {
    "collapsed": true
   },
   "outputs": [],
   "source": [
    "import pandas as pd\n",
    "from sklearn.feature_extraction import DictVectorizer\n",
    "from sklearn import svm\n",
    "from sklearn import metrics\n",
    "from sklearn.model_selection import train_test_split\n",
    "import pickle"
   ]
  },
  {
   "cell_type": "code",
   "execution_count": 3,
   "metadata": {
    "collapsed": true
   },
   "outputs": [],
   "source": [
    "train = pd.read_csv(\"train.csv\")\n",
    "test = pd.read_csv(\"test_submition.csv\")\n",
    "test.cls = None"
   ]
  },
  {
   "cell_type": "code",
   "execution_count": 15,
   "metadata": {
    "collapsed": true
   },
   "outputs": [],
   "source": [
    "user_tokens = {}\n",
    "bad_users = set()\n",
    "downloaded_users = set()"
   ]
  },
  {
   "cell_type": "code",
   "execution_count": 16,
   "metadata": {
    "collapsed": true
   },
   "outputs": [],
   "source": [
    "def load_pickle(name):\n",
    "    with open(name, 'rb') as f:\n",
    "        return pickle.load(f)"
   ]
  },
  {
   "cell_type": "code",
   "execution_count": 17,
   "metadata": {
    "collapsed": false
   },
   "outputs": [
    {
     "name": "stdout",
     "output_type": "stream",
     "text": [
      "1482080100_downloaded_users.pkl      test_submition.csv\r\n",
      "1482080101_bad_users.pkl             train.csv\r\n",
      "1482080101_user_tokens.pkl           user_tokens_10138.pkl\r\n",
      "1482141731_bad_users.pkl             user_tokens_11138.pkl\r\n",
      "1482141731_downloaded_users.pkl      user_tokens_1.pkl\r\n",
      "1482141731_user_tokens.pkl           user_tokens_2000.pkl\r\n",
      "1482143177_bad_users.pkl             user_tokens_3138.pkl\r\n",
      "1482143177_downloaded_users.pkl      user_tokens_4138.pkl\r\n",
      "1482143177_user_tokens.pkl           user_tokens_5138.pkl\r\n",
      "1482143179_new_downloaded_users.pkl  user_tokens_6138.pkl\r\n",
      "empty_test_users.pkl                 user_tokens_7138.pkl\r\n",
      "Project. Data Preraring.ipynb        user_tokens_8138.pkl\r\n",
      "Project. Training.ipynb              user_tokens_9138.pkl\r\n",
      "test.csv\r\n"
     ]
    }
   ],
   "source": [
    "ls"
   ]
  },
  {
   "cell_type": "code",
   "execution_count": 21,
   "metadata": {
    "collapsed": false
   },
   "outputs": [],
   "source": [
    "downloaded_users = load_pickle('1482143177_downloaded_users.pkl')\n",
    "bad_users = load_pickle('1482080101_bad_users.pkl')\n"
   ]
  },
  {
   "cell_type": "code",
   "execution_count": 23,
   "metadata": {
    "collapsed": false
   },
   "outputs": [],
   "source": [
    "user_tokens = load_pickle('user_tokens_1.pkl')\n",
    "user_tokens.update(load_pickle('user_tokens_2000.pkl'))\n",
    "user_tokens.update(load_pickle('user_tokens_3138.pkl'))\n",
    "user_tokens.update(load_pickle('user_tokens_4138.pkl'))\n",
    "user_tokens.update(load_pickle('user_tokens_5138.pkl'))\n",
    "user_tokens.update(load_pickle('user_tokens_6138.pkl'))\n",
    "user_tokens.update(load_pickle('user_tokens_7138.pkl'))\n",
    "user_tokens.update(load_pickle('user_tokens_8138.pkl'))\n",
    "user_tokens.update(load_pickle('user_tokens_9138.pkl'))\n",
    "user_tokens.update(load_pickle('user_tokens_10138.pkl'))\n",
    "user_tokens.update(load_pickle('user_tokens_11138.pkl'))\n",
    "user_tokens.update(load_pickle('1482143177_user_tokens.pkl'))"
   ]
  },
  {
   "cell_type": "code",
   "execution_count": 24,
   "metadata": {
    "collapsed": false
   },
   "outputs": [
    {
     "data": {
      "text/plain": [
       "(11809, 11947, 338)"
      ]
     },
     "execution_count": 24,
     "metadata": {},
     "output_type": "execute_result"
    }
   ],
   "source": [
    "len(user_tokens), len(downloaded_users), len(bad_users)"
   ]
  },
  {
   "cell_type": "code",
   "execution_count": 27,
   "metadata": {
    "collapsed": false
   },
   "outputs": [],
   "source": [
    "train_tokens = {}\n",
    "for uid in user_tokens.keys():\n",
    "    if uid in train.uid.tolist():\n",
    "        train_tokens[uid] = user_tokens[uid]"
   ]
  },
  {
   "cell_type": "code",
   "execution_count": 30,
   "metadata": {
    "collapsed": false
   },
   "outputs": [
    {
     "name": "stdout",
     "output_type": "stream",
     "text": [
      " 7061 7199\n"
     ]
    }
   ],
   "source": [
    "print len(train_tokens), len(train.uid.tolist())"
   ]
  },
  {
   "cell_type": "code",
   "execution_count": 31,
   "metadata": {
    "collapsed": false
   },
   "outputs": [],
   "source": [
    "test_tokens = {}\n",
    "for uid in user_tokens.keys():\n",
    "    if uid in test.uid.tolist():\n",
    "        test_tokens[uid] = user_tokens[uid]"
   ]
  },
  {
   "cell_type": "code",
   "execution_count": 32,
   "metadata": {
    "collapsed": false
   },
   "outputs": [
    {
     "name": "stdout",
     "output_type": "stream",
     "text": [
      "4748 4748\n"
     ]
    }
   ],
   "source": [
    "print len(test_tokens), len(test.uid.tolist())"
   ]
  },
  {
   "cell_type": "code",
   "execution_count": 33,
   "metadata": {
    "collapsed": true
   },
   "outputs": [],
   "source": [
    "best_train = {}\n",
    "for uid in train_tokens:\n",
    "    if len(train_tokens[uid]) != 0:\n",
    "        if uid not in bad_users:\n",
    "            best_train[uid] = train_tokens[uid]"
   ]
  },
  {
   "cell_type": "code",
   "execution_count": 34,
   "metadata": {
    "collapsed": false
   },
   "outputs": [
    {
     "name": "stdout",
     "output_type": "stream",
     "text": [
      "5394 7061\n"
     ]
    }
   ],
   "source": [
    "print len(best_train), len(train_tokens)"
   ]
  },
  {
   "cell_type": "code",
   "execution_count": 39,
   "metadata": {
    "collapsed": true
   },
   "outputs": [],
   "source": [
    "not_empty_test = {}\n",
    "empty_test = {}\n",
    "for uid in test_tokens:\n",
    "    if len(test_tokens[uid]) != 0:\n",
    "        not_empty_test[uid] = test_tokens[uid]\n",
    "    else: \n",
    "        empty_test[uid] = test_tokens[uid]"
   ]
  },
  {
   "cell_type": "code",
   "execution_count": 45,
   "metadata": {
    "collapsed": false
   },
   "outputs": [
    {
     "data": {
      "text/plain": [
       "(4748, 3632, 1116)"
      ]
     },
     "execution_count": 45,
     "metadata": {},
     "output_type": "execute_result"
    }
   ],
   "source": [
    "len(test_tokens), len(not_empty_test), len(empty_test)"
   ]
  },
  {
   "cell_type": "code",
   "execution_count": 36,
   "metadata": {
    "collapsed": true
   },
   "outputs": [],
   "source": [
    "def make_features(tokens):\n",
    "    users = tokens.keys()\n",
    "    vocabulary = [tokens[uid] for uid in users]\n",
    "    v = DictVectorizer()\n",
    "    return users, v.fit_transform(vocabulary)"
   ]
  },
  {
   "cell_type": "code",
   "execution_count": 48,
   "metadata": {
    "collapsed": true
   },
   "outputs": [],
   "source": [
    "def make_total_features(train_tokens, test_tokens):\n",
    "    train_users = train_tokens.keys()\n",
    "    vocabulary = [train_tokens[uid] for uid in train_users]\n",
    "    test_users = test_tokens.keys()\n",
    "    vocabulary.extend([test_tokens[uid] for uid in test_users])\n",
    "\n",
    "    v = DictVectorizer()\n",
    "    return train_users, test_users, v.fit_transform(vocabulary)"
   ]
  },
  {
   "cell_type": "code",
   "execution_count": 49,
   "metadata": {
    "collapsed": false
   },
   "outputs": [],
   "source": [
    "train_uids, test_uids, X = make_total_features(best_train, not_empty_test)"
   ]
  },
  {
   "cell_type": "code",
   "execution_count": null,
   "metadata": {
    "collapsed": true
   },
   "outputs": [],
   "source": [
    "len(train_uids), len(test_uids), X[:len(train"
   ]
  },
  {
   "cell_type": "code",
   "execution_count": 57,
   "metadata": {
    "collapsed": false
   },
   "outputs": [
    {
     "data": {
      "text/plain": [
       "(5394, 3632, <5394x650877 sparse matrix of type '<type 'numpy.float64'>'\n",
       " \twith 5138381 stored elements in Compressed Sparse Row format>, <3632x650877 sparse matrix of type '<type 'numpy.float64'>'\n",
       " \twith 3010526 stored elements in Compressed Sparse Row format>)"
      ]
     },
     "execution_count": 57,
     "metadata": {},
     "output_type": "execute_result"
    }
   ],
   "source": [
    "len(train_uids), len(test_uids), X[:len(train_uids)], X[len(train_uids):]"
   ]
  },
  {
   "cell_type": "raw",
   "metadata": {},
   "source": []
  },
  {
   "cell_type": "code",
   "execution_count": 54,
   "metadata": {
    "collapsed": false
   },
   "outputs": [],
   "source": [
    "Y = [train[train.uid == train_uids[i]].cls.values[0] for i in xrange(len(train_uids))]\n"
   ]
  },
  {
   "cell_type": "code",
   "execution_count": 55,
   "metadata": {
    "collapsed": false
   },
   "outputs": [
    {
     "data": {
      "text/plain": [
       "5394"
      ]
     },
     "execution_count": 55,
     "metadata": {},
     "output_type": "execute_result"
    }
   ],
   "source": [
    "len(Y)"
   ]
  },
  {
   "cell_type": "code",
   "execution_count": 41,
   "metadata": {
    "collapsed": false
   },
   "outputs": [],
   "source": [
    "X_train, X_test, Y_train, Y_test = train_test_split(X, Y, test_size=0.33)"
   ]
  },
  {
   "cell_type": "code",
   "execution_count": 42,
   "metadata": {
    "collapsed": true
   },
   "outputs": [],
   "source": [
    "classifier = svm.SVC()"
   ]
  },
  {
   "cell_type": "code",
   "execution_count": 58,
   "metadata": {
    "collapsed": false
   },
   "outputs": [],
   "source": [
    "Y_score = classifier.fit( X[:len(train_uids)], Y).decision_function(X[len(train_uids):])"
   ]
  },
  {
   "cell_type": "code",
   "execution_count": 59,
   "metadata": {
    "collapsed": false
   },
   "outputs": [
    {
     "data": {
      "text/plain": [
       "3632"
      ]
     },
     "execution_count": 59,
     "metadata": {},
     "output_type": "execute_result"
    }
   ],
   "source": [
    "len(Y_score)"
   ]
  },
  {
   "cell_type": "code",
   "execution_count": 116,
   "metadata": {
    "collapsed": false
   },
   "outputs": [],
   "source": [
    "total_score = {}\n",
    "for i in xrange(len(Y_score)):\n",
    "    total_score[test_uids[i]] = Y_score[i]\n",
    "for i, uid in enumerate(empty_test):\n",
    "    total_score[uid] = Y_score[i]"
   ]
  },
  {
   "cell_type": "code",
   "execution_count": 117,
   "metadata": {
    "collapsed": false
   },
   "outputs": [
    {
     "name": "stdout",
     "output_type": "stream",
     "text": [
      "0\n"
     ]
    }
   ],
   "source": [
    "count = 0\n",
    "for i, uid in enumerate(total_score):\n",
    "    if total_score[uid] == 0.79: count += 1\n",
    "print count"
   ]
  },
  {
   "cell_type": "code",
   "execution_count": 118,
   "metadata": {
    "collapsed": false
   },
   "outputs": [],
   "source": [
    "submission = pd.DataFrame.from_dict(total_score, orient='index', dtype='float64')\n",
    "submission.to_csv('project_submission.csv', sep=',', index=True, header=['cls'], index_label='uid')"
   ]
  },
  {
   "cell_type": "code",
   "execution_count": 215,
   "metadata": {
    "collapsed": false
   },
   "outputs": [
    {
     "data": {
      "text/plain": [
       "(1262, 1262)"
      ]
     },
     "execution_count": 215,
     "metadata": {},
     "output_type": "execute_result"
    }
   ],
   "source": [
    "len(Y_test), len(Y_score)"
   ]
  },
  {
   "cell_type": "code",
   "execution_count": 134,
   "metadata": {
    "collapsed": false
   },
   "outputs": [
    {
     "name": "stdout",
     "output_type": "stream",
     "text": [
      "1482080100_downloaded_users.pkl  test.csv\t       user_tokens_3138.pkl\r\n",
      "1482080101_bad_users.pkl\t test_submition.csv    user_tokens_4138.pkl\r\n",
      "1482080101_user_tokens.pkl\t train.csv\t       user_tokens_5138.pkl\r\n",
      "Project. Data Preraring.ipynb\t user_tokens_1.pkl     user_tokens_6138.pkl\r\n",
      "Project. Training.ipynb\t\t user_tokens_2000.pkl  user_tokens_7138.pkl\r\n"
     ]
    }
   ],
   "source": [
    "!ls"
   ]
  },
  {
   "cell_type": "code",
   "execution_count": 275,
   "metadata": {
    "collapsed": false
   },
   "outputs": [],
   "source": [
    "\n",
    "user_tokens.update(load_pickle('1482080101_user_tokens.pkl'))"
   ]
  },
  {
   "cell_type": "code",
   "execution_count": 7,
   "metadata": {
    "collapsed": false
   },
   "outputs": [
    {
     "data": {
      "text/plain": [
       "11809"
      ]
     },
     "execution_count": 7,
     "metadata": {},
     "output_type": "execute_result"
    }
   ],
   "source": [
    "len(user_tokens)"
   ]
  },
  {
   "cell_type": "code",
   "execution_count": 8,
   "metadata": {
    "collapsed": false
   },
   "outputs": [
    {
     "data": {
      "text/plain": [
       "4748"
      ]
     },
     "execution_count": 8,
     "metadata": {},
     "output_type": "execute_result"
    }
   ],
   "source": [
    "len(test.uid.tolist())"
   ]
  },
  {
   "cell_type": "code",
   "execution_count": 9,
   "metadata": {
    "collapsed": true
   },
   "outputs": [],
   "source": [
    "test_user_tokens = {}\n",
    "empty_test_users = set()\n",
    "for uid in test.uid.tolist():\n",
    "    test_user_tokens[uid] = user_tokens[uid]\n",
    "    if len(user_tokens[uid]) == 0:\n",
    "        empty_test_users.add(uid)"
   ]
  },
  {
   "cell_type": "code",
   "execution_count": 10,
   "metadata": {
    "collapsed": false
   },
   "outputs": [
    {
     "data": {
      "text/plain": [
       "(4748, 1116)"
      ]
     },
     "execution_count": 10,
     "metadata": {},
     "output_type": "execute_result"
    }
   ],
   "source": [
    "len(test_user_tokens), len (empty_test_users)"
   ]
  },
  {
   "cell_type": "code",
   "execution_count": 11,
   "metadata": {
    "collapsed": false
   },
   "outputs": [
    {
     "name": "stdout",
     "output_type": "stream",
     "text": [
      "pickle dumped empty_test_users.pkl\n"
     ]
    }
   ],
   "source": [
    "with open('empty_test_users.pkl', 'wb') as f:\n",
    "        pickle.dump(empty_test_users, f, pickle.HIGHEST_PROTOCOL)\n",
    "        print \"pickle dumped\", 'empty_test_users.pkl'"
   ]
  },
  {
   "cell_type": "code",
   "execution_count": null,
   "metadata": {
    "collapsed": true
   },
   "outputs": [],
   "source": []
  },
  {
   "cell_type": "code",
   "execution_count": null,
   "metadata": {
    "collapsed": true
   },
   "outputs": [],
   "source": []
  },
  {
   "cell_type": "code",
   "execution_count": 270,
   "metadata": {
    "collapsed": false
   },
   "outputs": [
    {
     "name": "stdout",
     "output_type": "stream",
     "text": [
      "1482080100_downloaded_users.pkl      test_submition.csv\r\n",
      "1482080101_bad_users.pkl\t     train.csv\r\n",
      "1482080101_user_tokens.pkl\t     user_tokens_10138.pkl\r\n",
      "1482141731_bad_users.pkl\t     user_tokens_11138.pkl\r\n",
      "1482141731_downloaded_users.pkl      user_tokens_1.pkl\r\n",
      "1482141731_user_tokens.pkl\t     user_tokens_2000.pkl\r\n",
      "1482143177_bad_users.pkl\t     user_tokens_3138.pkl\r\n",
      "1482143177_downloaded_users.pkl      user_tokens_4138.pkl\r\n",
      "1482143177_user_tokens.pkl\t     user_tokens_5138.pkl\r\n",
      "1482143179_new_downloaded_users.pkl  user_tokens_6138.pkl\r\n",
      "Project. Data Preraring.ipynb\t     user_tokens_7138.pkl\r\n",
      "Project. Training.ipynb\t\t     user_tokens_8138.pkl\r\n",
      "test.csv\t\t\t     user_tokens_9138.pkl\r\n"
     ]
    }
   ],
   "source": [
    "!ls"
   ]
  },
  {
   "cell_type": "code",
   "execution_count": 12,
   "metadata": {
    "collapsed": false
   },
   "outputs": [
    {
     "data": {
      "text/plain": [
       "11809"
      ]
     },
     "execution_count": 12,
     "metadata": {},
     "output_type": "execute_result"
    }
   ],
   "source": [
    "len(user_tokens)"
   ]
  },
  {
   "cell_type": "code",
   "execution_count": 13,
   "metadata": {
    "collapsed": true
   },
   "outputs": [],
   "source": [
    "not_empty = {}\n",
    "for uid in user_tokens:\n",
    "    if len(user_tokens[uid]) != 0:\n",
    "        not_empty[uid] = user_tokens[uid]"
   ]
  },
  {
   "cell_type": "code",
   "execution_count": 14,
   "metadata": {
    "collapsed": false
   },
   "outputs": [
    {
     "data": {
      "text/plain": [
       "9363"
      ]
     },
     "execution_count": 14,
     "metadata": {},
     "output_type": "execute_result"
    }
   ],
   "source": [
    "len(not_empty)"
   ]
  },
  {
   "cell_type": "code",
   "execution_count": 139,
   "metadata": {
    "collapsed": true
   },
   "outputs": [],
   "source": [
    "empty = {}\n",
    "for uid in user_tokens:\n",
    "    if len(user_tokens[uid]) == 0:\n",
    "        empty[uid] = user_tokens[uid]"
   ]
  },
  {
   "cell_type": "code",
   "execution_count": 140,
   "metadata": {
    "collapsed": false
   },
   "outputs": [
    {
     "data": {
      "text/plain": [
       "1176"
      ]
     },
     "execution_count": 140,
     "metadata": {},
     "output_type": "execute_result"
    }
   ],
   "source": [
    "len(empty)"
   ]
  },
  {
   "cell_type": "code",
   "execution_count": 148,
   "metadata": {
    "collapsed": false,
    "scrolled": true
   },
   "outputs": [
    {
     "data": {
      "text/plain": [
       "[713737670296514560,\n",
       " 749083721462976513,\n",
       " 749456311666941954,\n",
       " 756571490456309763,\n",
       " 729694776472313860,\n",
       " 1014340771,\n",
       " 2485624838,\n",
       " 742711548104282113,\n",
       " 1275559844,\n",
       " 2811828234,\n",
       " 193314827,\n",
       " 154128397,\n",
       " 1132672532,\n",
       " 3312085007,\n",
       " 424648720,\n",
       " 751220875,\n",
       " 1287741464,\n",
       " 1955344410,\n",
       " 3034107372,\n",
       " 2798317598,\n",
       " 3022688287,\n",
       " 99136176,\n",
       " 30851106,\n",
       " 746270596628090880,\n",
       " 3013675044,\n",
       " 712122814690680838,\n",
       " 149159975,\n",
       " 1263110184,\n",
       " 900909097,\n",
       " 3012072137,\n",
       " 2615568428,\n",
       " 1611500893,\n",
       " 748353880019378176,\n",
       " 4805234739,\n",
       " 25076062,\n",
       " 767858743,\n",
       " 2311772216,\n",
       " 596529209,\n",
       " 236633350,\n",
       " 2436196411,\n",
       " 2945368125,\n",
       " 296493118,\n",
       " 151771285,\n",
       " 1340647489,\n",
       " 745745537442381826,\n",
       " 47987041,\n",
       " 1181130824,\n",
       " 3436343369,\n",
       " 3234519210,\n",
       " 218157131,\n",
       " 1455702092,\n",
       " 486029666,\n",
       " 26685521,\n",
       " 585273426,\n",
       " 197558355,\n",
       " 2411427924,\n",
       " 2634041429,\n",
       " 2944323673,\n",
       " 2437498970,\n",
       " 1933981711,\n",
       " 133900381,\n",
       " 32408612,\n",
       " 3200026720,\n",
       " 151318625,\n",
       " 758025098649604096,\n",
       " 231233414,\n",
       " 941645928,\n",
       " 3303083281,\n",
       " 111177837,\n",
       " 2413613166,\n",
       " 19345520,\n",
       " 245577064,\n",
       " 35258484,\n",
       " 770728602593849344,\n",
       " 3022622838,\n",
       " 2276436087,\n",
       " 1261920379,\n",
       " 137955452,\n",
       " 294641790,\n",
       " 756639642624069632,\n",
       " 796850114,\n",
       " 736535608131194880,\n",
       " 29296775,\n",
       " 414767240,\n",
       " 439423113,\n",
       " 855650773,\n",
       " 447230091,\n",
       " 163254412,\n",
       " 104300226,\n",
       " 468191374,\n",
       " 4824303759,\n",
       " 280266897,\n",
       " 16273255,\n",
       " 2278015124,\n",
       " 19288213,\n",
       " 3423101079,\n",
       " 2893807771,\n",
       " 4373969715,\n",
       " 4851438618,\n",
       " 407739932,\n",
       " 568778911,\n",
       " 30056611,\n",
       " 732962939439812609,\n",
       " 1115237750,\n",
       " 13568722,\n",
       " 3416713383,\n",
       " 4512962728,\n",
       " 1039811612,\n",
       " 3012513962,\n",
       " 2753192107,\n",
       " 425531421,\n",
       " 985338032,\n",
       " 558575793,\n",
       " 603289779,\n",
       " 2798745630,\n",
       " 114333878,\n",
       " 412901559,\n",
       " 187160388,\n",
       " 1062607903,\n",
       " 10399932,\n",
       " 2160589173,\n",
       " 25987264,\n",
       " 3284793343,\n",
       " 709986001406595074,\n",
       " 81328323,\n",
       " 1880232133,\n",
       " 345709601,\n",
       " 1539758280,\n",
       " 787990730,\n",
       " 765706401985376256,\n",
       " 1959004706,\n",
       " 3419607074,\n",
       " 300916291,\n",
       " 2692216867,\n",
       " 3091540181,\n",
       " 3084884183,\n",
       " 16017624,\n",
       " 188092633,\n",
       " 3302519375,\n",
       " 760815835,\n",
       " 2890830045,\n",
       " 13988062,\n",
       " 1920252128,\n",
       " 3314895073,\n",
       " 589197539,\n",
       " 32213227,\n",
       " 433051884,\n",
       " 26652909,\n",
       " 4693121263,\n",
       " 2463311912,\n",
       " 719413490,\n",
       " 251812711,\n",
       " 3046709493,\n",
       " 2293176799,\n",
       " 15763704,\n",
       " 2651878800,\n",
       " 72734970,\n",
       " 391583996,\n",
       " 348926205,\n",
       " 2695581951,\n",
       " 16027904,\n",
       " 2207839039,\n",
       " 244021508,\n",
       " 2543231237,\n",
       " 728563643202215936,\n",
       " 823935361,\n",
       " 3019643144,\n",
       " 992102665,\n",
       " 732185700263723008,\n",
       " 2642485521,\n",
       " 2881714450,\n",
       " 356668367,\n",
       " 575056791,\n",
       " 3091581208,\n",
       " 25661441,\n",
       " 350624026,\n",
       " 43785263,\n",
       " 2936131868,\n",
       " 188522784,\n",
       " 493027617,\n",
       " 743471447008477184,\n",
       " 148908323,\n",
       " 703537008002605057,\n",
       " 3277000998,\n",
       " 1053822001,\n",
       " 767285546,\n",
       " 2829877547,\n",
       " 2198071596,\n",
       " 726029166,\n",
       " 16091439,\n",
       " 31107377,\n",
       " 979667251,\n",
       " 54599989,\n",
       " 803207478,\n",
       " 49654153,\n",
       " 281305401,\n",
       " 2670468508,\n",
       " 514948831,\n",
       " 730005355158077440,\n",
       " 164557121,\n",
       " 175472962,\n",
       " 278647179,\n",
       " 85670284,\n",
       " 2765009229,\n",
       " 29905232,\n",
       " 1106279480,\n",
       " 121475405,\n",
       " 17500500,\n",
       " 1634075551,\n",
       " 2866019494,\n",
       " 782643547,\n",
       " 70048789,\n",
       " 396820830,\n",
       " 20975968,\n",
       " 215856228,\n",
       " 78262626,\n",
       " 2824991076,\n",
       " 2786382186,\n",
       " 764717481986367488,\n",
       " 15894895,\n",
       " 594176368,\n",
       " 791019240,\n",
       " 277460371,\n",
       " 3218809204,\n",
       " 147035198,\n",
       " 41508585,\n",
       " 428112248,\n",
       " 5302652,\n",
       " 2806554471,\n",
       " 311294335,\n",
       " 1379250560,\n",
       " 271756352,\n",
       " 2868263299,\n",
       " 143856004,\n",
       " 3038135702,\n",
       " 752799595034390528,\n",
       " 55607687,\n",
       " 3329528201,\n",
       " 343247243,\n",
       " 2731585932,\n",
       " 62103949,\n",
       " 207643022,\n",
       " 144302479,\n",
       " 1167612306,\n",
       " 3107676563,\n",
       " 51153301,\n",
       " 147276182,\n",
       " 144593304,\n",
       " 2440565147,\n",
       " 562821747,\n",
       " 381387169,\n",
       " 20646036,\n",
       " 14346659,\n",
       " 2472964519,\n",
       " 48564648,\n",
       " 2956857769,\n",
       " 859007402,\n",
       " 538304939,\n",
       " 1252311468,\n",
       " 2242742701,\n",
       " 140640687,\n",
       " 16503216,\n",
       " 1711098290,\n",
       " 1101246901,\n",
       " 359524790,\n",
       " 3536939081,\n",
       " 73171384,\n",
       " 3430429113,\n",
       " 353413562,\n",
       " 3331430474,\n",
       " 595638718,\n",
       " 724120242390204416,\n",
       " 966914496,\n",
       " 355502530,\n",
       " 137123695,\n",
       " 109449668,\n",
       " 2796999111,\n",
       " 2980620744,\n",
       " 195609033,\n",
       " 2365169399,\n",
       " 1517189581,\n",
       " 728972671153782784,\n",
       " 3346141649,\n",
       " 617105874,\n",
       " 572621267,\n",
       " 1678789076,\n",
       " 2987164117,\n",
       " 2731205080,\n",
       " 1058802138,\n",
       " 60015068,\n",
       " 241106682,\n",
       " 125839839,\n",
       " 373561824,\n",
       " 3032564461,\n",
       " 595870180,\n",
       " 141605349,\n",
       " 248490471,\n",
       " 367876860,\n",
       " 2160721319,\n",
       " 2390735340,\n",
       " 762713981026959360,\n",
       " 2233600495,\n",
       " 754070533835149312,\n",
       " 221514228,\n",
       " 752864830814613504,\n",
       " 16198135,\n",
       " 135354872,\n",
       " 920777209,\n",
       " 143196668,\n",
       " 14385661,\n",
       " 2674244094,\n",
       " 750432492340084736,\n",
       " 348307971,\n",
       " 300571141,\n",
       " 3012534790,\n",
       " 1918824967,\n",
       " 16373856,\n",
       " 2881505805,\n",
       " 2417769337,\n",
       " 74627601,\n",
       " 4394600537,\n",
       " 24081122,\n",
       " 257534493,\n",
       " 16708127,\n",
       " 2345511456,\n",
       " 35422754,\n",
       " 2732666630,\n",
       " 472343078,\n",
       " 722243378553823232,\n",
       " 38076968,\n",
       " 3215237673,\n",
       " 1326627740,\n",
       " 539504391,\n",
       " 48520595,\n",
       " 1293584941,\n",
       " 24895581,\n",
       " 1514447408,\n",
       " 3280328456,\n",
       " 732783267187937280,\n",
       " 20478516,\n",
       " 3300117046,\n",
       " 22022711,\n",
       " 2830858809,\n",
       " 2875955770,\n",
       " 7462462,\n",
       " 1590803004,\n",
       " 129575487,\n",
       " 2866424384,\n",
       " 51245152,\n",
       " 2318148162,\n",
       " 148946699,\n",
       " 3408511414,\n",
       " 2918347334,\n",
       " 3143889479,\n",
       " 78425607,\n",
       " 38611529,\n",
       " 56181322,\n",
       " 160549452,\n",
       " 3018408526,\n",
       " 378921551,\n",
       " 18188880,\n",
       " 1862629969,\n",
       " 724629061822091265,\n",
       " 3342234201,\n",
       " 3196617306,\n",
       " 637391451,\n",
       " 2881708636,\n",
       " 2885751389,\n",
       " 3131245155,\n",
       " 767436338039693312,\n",
       " 2275625576,\n",
       " 385507946,\n",
       " 16343659,\n",
       " 3036353135,\n",
       " 2678507624,\n",
       " 2150026003,\n",
       " 26647156,\n",
       " 2193207925,\n",
       " 3282627348,\n",
       " 3239928445,\n",
       " 707450790290575360,\n",
       " 41551140,\n",
       " 711161203217682432,\n",
       " 660103,\n",
       " 599589512,\n",
       " 3954960492,\n",
       " 4904700556,\n",
       " 352498319,\n",
       " 3019578000,\n",
       " 2998432401,\n",
       " 15319698,\n",
       " 1005118766,\n",
       " 293816981,\n",
       " 242852502,\n",
       " 31269527,\n",
       " 4291977880,\n",
       " 1047100746,\n",
       " 2885533222,\n",
       " 26473119,\n",
       " 214194849,\n",
       " 62972578,\n",
       " 732663742924607489,\n",
       " 38036133,\n",
       " 763014646462816256,\n",
       " 1241397930,\n",
       " 283901770,\n",
       " 266939053,\n",
       " 940573358,\n",
       " 78291632,\n",
       " 2408102581,\n",
       " 1340097206,\n",
       " 125432503,\n",
       " 3145669304,\n",
       " 749765305,\n",
       " 270103226,\n",
       " 13200062,\n",
       " 766500060754501632,\n",
       " 40518337,\n",
       " 719069326469255170,\n",
       " 39926655,\n",
       " 1198772342,\n",
       " 146587484,\n",
       " 54694601,\n",
       " 381176525,\n",
       " 64414414,\n",
       " 2242044623,\n",
       " 2881544913,\n",
       " 2506986194,\n",
       " 3178536354,\n",
       " 2897122004,\n",
       " 51004118,\n",
       " 601947257,\n",
       " 120790169,\n",
       " 3146476250,\n",
       " 249225679,\n",
       " 2439131868,\n",
       " 8071902,\n",
       " 869901024,\n",
       " 340225488,\n",
       " 78699234,\n",
       " 148021987,\n",
       " 547748646,\n",
       " 701482595746521088,\n",
       " 2233318524,\n",
       " 14945005,\n",
       " 5839412,\n",
       " 2546809584,\n",
       " 119616407,\n",
       " 1066261117,\n",
       " 35465972,\n",
       " 3368059006,\n",
       " 308003575,\n",
       " 2971582097,\n",
       " 994900706,\n",
       " 248064766,\n",
       " 4514874111,\n",
       " 301630211,\n",
       " 2923215620,\n",
       " 2532087254,\n",
       " 764558466346213376,\n",
       " 2895733514,\n",
       " 291837741,\n",
       " 134103827,\n",
       " 38759188,\n",
       " 37536533,\n",
       " 1390742299,\n",
       " 2599007006,\n",
       " 3423361827,\n",
       " 757048784824131585,\n",
       " 90657573,\n",
       " 53601062,\n",
       " 44119857,\n",
       " 2701466408,\n",
       " 266318895,\n",
       " 435522686,\n",
       " 24077102,\n",
       " 1630535366,\n",
       " 1468194306,\n",
       " 40152883,\n",
       " 74976053,\n",
       " 178570039,\n",
       " 362423096,\n",
       " 222368570,\n",
       " 2928154079,\n",
       " 976546620,\n",
       " 722144371013984257,\n",
       " 54071093,\n",
       " 756562686905901056,\n",
       " 24529035,\n",
       " 2281057092,\n",
       " 1202604870,\n",
       " 2975716167,\n",
       " 3342508872,\n",
       " 354087052,\n",
       " 88824652,\n",
       " 3091536717,\n",
       " 172389198,\n",
       " 572965711,\n",
       " 67478353,\n",
       " 93057874,\n",
       " 411558739,\n",
       " 4742646614,\n",
       " 44137956,\n",
       " 2203345754,\n",
       " 764117691447832576,\n",
       " 3412009822,\n",
       " 385629023,\n",
       " 2595408739,\n",
       " 737077396331888640,\n",
       " 2901908326,\n",
       " 3299222375,\n",
       " 932399977,\n",
       " 4772793194,\n",
       " 17992555,\n",
       " 1540099022,\n",
       " 197872494,\n",
       " 2233944943,\n",
       " 28439408,\n",
       " 467894133,\n",
       " 107631477,\n",
       " 79551353,\n",
       " 30884730,\n",
       " 2592342907,\n",
       " 3091612540,\n",
       " 849617791,\n",
       " 749632901327777792,\n",
       " 2245739399,\n",
       " 339626888,\n",
       " 590357996,\n",
       " 4839591063,\n",
       " 237900600,\n",
       " 1622246287,\n",
       " 151276433,\n",
       " 2963199829,\n",
       " 116376470,\n",
       " 1474603927,\n",
       " 51904324,\n",
       " 275993739,\n",
       " 448568220,\n",
       " 30686109,\n",
       " 381739935,\n",
       " 411904930,\n",
       " 57024667,\n",
       " 753627990572036097,\n",
       " 3040754502,\n",
       " 45439914,\n",
       " 275366827,\n",
       " 14085037,\n",
       " 548144046,\n",
       " 4806372274,\n",
       " 3700254195,\n",
       " 4851461044,\n",
       " 88441783,\n",
       " 3381038008,\n",
       " 2719569360,\n",
       " 4862658378,\n",
       " 2443170750,\n",
       " 734209927883939840,\n",
       " 24054949,\n",
       " 767585109356613632,\n",
       " 14803908,\n",
       " 591166408,\n",
       " 636287283,\n",
       " 22669815,\n",
       " 4527708034,\n",
       " 3295738829,\n",
       " 1902635982,\n",
       " 718395103245680640,\n",
       " 147258320,\n",
       " 1273924561,\n",
       " 343461992,\n",
       " 4831114403,\n",
       " 409476055,\n",
       " 1886837924,\n",
       " 40199130,\n",
       " 1661680603,\n",
       " 13339612,\n",
       " 279972830,\n",
       " 1553677477,\n",
       " 82957280,\n",
       " 4050289633,\n",
       " 22420450,\n",
       " 71955429,\n",
       " 3154983761,\n",
       " 2865839081,\n",
       " 19010539,\n",
       " 412042220,\n",
       " 707531762,\n",
       " 48164350,\n",
       " 4377453561,\n",
       " 444283883,\n",
       " 272783871,\n",
       " 2819347452,\n",
       " 2395663357,\n",
       " 3331777534,\n",
       " 574729215,\n",
       " 2955865089,\n",
       " 2191600644,\n",
       " 3712559958,\n",
       " 770356062524440576,\n",
       " 3098450951,\n",
       " 217809931,\n",
       " 25185293,\n",
       " 458687502,\n",
       " 229164205,\n",
       " 3174308880,\n",
       " 3074044946,\n",
       " 486328835,\n",
       " 634772500,\n",
       " 1619555502,\n",
       " 808094744,\n",
       " 2362358810,\n",
       " 243776687,\n",
       " 2893976604,\n",
       " 10861402,\n",
       " 28654270,\n",
       " 1610930737,\n",
       " 2211309805,\n",
       " 737579356709486593,\n",
       " 1254440228,\n",
       " 150281312,\n",
       " 3141665834,\n",
       " 110937131,\n",
       " 2504424492,\n",
       " 3072322605,\n",
       " 2478918703,\n",
       " 53894192,\n",
       " 3001910321,\n",
       " 32713778,\n",
       " 586406963,\n",
       " 928666676,\n",
       " 2885786680,\n",
       " 166444212,\n",
       " 35236925,\n",
       " 471622718,\n",
       " 2764455767,\n",
       " 56271936,\n",
       " 69223489,\n",
       " 738917394496786432,\n",
       " 821108359,\n",
       " 14337094,\n",
       " 3307076782,\n",
       " 225276237,\n",
       " 34771811,\n",
       " 3251721303,\n",
       " 105520216,\n",
       " 1065559129,\n",
       " 2376729690,\n",
       " 184177756,\n",
       " 2561236061,\n",
       " 246031455,\n",
       " 1262130272,\n",
       " 706688057865592832,\n",
       " 2893882532,\n",
       " 23375044,\n",
       " 149296998,\n",
       " 3316289724,\n",
       " 30190699,\n",
       " 130995522,\n",
       " 326370520,\n",
       " 73280623,\n",
       " 1733211248,\n",
       " 2826695793,\n",
       " 272899187,\n",
       " 2595851454,\n",
       " 2397990006,\n",
       " 769858756272283648,\n",
       " 4572281,\n",
       " 192674940,\n",
       " 2983509118,\n",
       " 29369471,\n",
       " 3102366571,\n",
       " 747229479098028032,\n",
       " 2561555594,\n",
       " 1917573655,\n",
       " 1128799374,\n",
       " 128718701,\n",
       " 1048910743,\n",
       " 298613909,\n",
       " 56267926,\n",
       " 28888215,\n",
       " 2513118361,\n",
       " 3182750875,\n",
       " 169747612,\n",
       " 31770138,\n",
       " 4107816094,\n",
       " 35402311,\n",
       " 3621297314,\n",
       " 25238691,\n",
       " 3083756708,\n",
       " 298820773,\n",
       " 3119391910,\n",
       " 134313841,\n",
       " 3259870376,\n",
       " 791786665,\n",
       " 2614767518,\n",
       " 4843412651,\n",
       " 3257246892,\n",
       " 22729901,\n",
       " 11322542,\n",
       " 3081186479,\n",
       " 734866610,\n",
       " 44389556,\n",
       " 554388662,\n",
       " 756931759636373504,\n",
       " 808117434,\n",
       " 880223420,\n",
       " 307231933,\n",
       " 778568894,\n",
       " 18949311,\n",
       " 3404712605,\n",
       " 586783937,\n",
       " 344147140,\n",
       " 2898019527,\n",
       " 767981743316008960,\n",
       " 1922152652,\n",
       " 2990185676,\n",
       " 471607842,\n",
       " 549225678,\n",
       " 16876752,\n",
       " 26588369,\n",
       " 715434369989484544,\n",
       " 153576660,\n",
       " 51002583,\n",
       " 467133656,\n",
       " 732853693700280321,\n",
       " 4802394208,\n",
       " 292123514,\n",
       " 2969697503,\n",
       " 1325507808,\n",
       " 280562915,\n",
       " 114742501,\n",
       " 1323267302,\n",
       " 1695159529,\n",
       " 1931381994,\n",
       " 231679211,\n",
       " 559373548,\n",
       " 37098733,\n",
       " 3303414341,\n",
       " 745119705963233280,\n",
       " 2580018728,\n",
       " 4049331443,\n",
       " 19612916,\n",
       " 1499166679,\n",
       " 752464462398054400,\n",
       " 406334712,\n",
       " 750383211402792960,\n",
       " 2212945357,\n",
       " 291390715,\n",
       " 4898030844,\n",
       " 107889918,\n",
       " 206785794,\n",
       " 2307192068,\n",
       " 736695148214550528,\n",
       " 2552960898,\n",
       " 74794254,\n",
       " 538622509,\n",
       " 4102040849,\n",
       " 2506587411,\n",
       " 123120917,\n",
       " 2795910423,\n",
       " 174771486,\n",
       " 700894172664823808,\n",
       " 2489167136,\n",
       " 28884258,\n",
       " 3124768035,\n",
       " 59346212,\n",
       " 387910949,\n",
       " 2798693671,\n",
       " 2908052700,\n",
       " 746349240146866176,\n",
       " 526941484,\n",
       " 2881586477,\n",
       " 1675789614,\n",
       " 138888495,\n",
       " 419050957,\n",
       " 3014367795,\n",
       " 1158032695,\n",
       " 19240249,\n",
       " 2989393210,\n",
       " 1110752455,\n",
       " 48870719,\n",
       " 342994241,\n",
       " 23809346,\n",
       " 142722371,\n",
       " 3046632772,\n",
       " 2904663365,\n",
       " 42597706,\n",
       " 382833996,\n",
       " 3241264461,\n",
       " 1619862864,\n",
       " 3273108818,\n",
       " 571592019,\n",
       " 995714388,\n",
       " 236891479,\n",
       " 621569373,\n",
       " 719935066785251328,\n",
       " 764136346357272576,\n",
       " 40516963,\n",
       " 378969365,\n",
       " 176946822,\n",
       " 67784183,\n",
       " 2198013288,\n",
       " 1310300732,\n",
       " 3241569642,\n",
       " 752209428481318912,\n",
       " 197707118,\n",
       " 3387719139,\n",
       " 117841811,\n",
       " 134741365,\n",
       " 9611402,\n",
       " 3093615994,\n",
       " 2845669868,\n",
       " 807767424,\n",
       " 2995172740,\n",
       " 243975557,\n",
       " 700533737302306816,\n",
       " 355192278,\n",
       " 44311947,\n",
       " 1128727950,\n",
       " 4294661357,\n",
       " 1228916112,\n",
       " 67947922,\n",
       " 1171080595,\n",
       " 2314012052,\n",
       " 4082296214,\n",
       " 1611754904,\n",
       " 2881676698,\n",
       " 312072431,\n",
       " 13215132,\n",
       " 30079557,\n",
       " 2420518304,\n",
       " 266142716,\n",
       " 2819992999,\n",
       " 3237463464,\n",
       " 324107689,\n",
       " 130075207,\n",
       " 893386050,\n",
       " 163071406,\n",
       " 1432319407,\n",
       " 389830064,\n",
       " 283958707,\n",
       " 762809780,\n",
       " 1225979317,\n",
       " 308735416,\n",
       " 2881711348,\n",
       " 3131593631,\n",
       " 93054398,\n",
       " 355550655,\n",
       " 1295555828,\n",
       " 2842557455,\n",
       " 222774725,\n",
       " 302570950,\n",
       " 283303367,\n",
       " 1463209416,\n",
       " 186035657,\n",
       " 1968545226,\n",
       " 1455680971,\n",
       " 15080354,\n",
       " 1342838222,\n",
       " 500585935,\n",
       " 597632464,\n",
       " 1609107704,\n",
       " 29728210,\n",
       " 731942358,\n",
       " 996580824,\n",
       " 3044337572,\n",
       " 143437274,\n",
       " 3400379867,\n",
       " 4763465180,\n",
       " 346885598,\n",
       " 733360663356178432,\n",
       " 16109025,\n",
       " 158756091,\n",
       " 4745737700,\n",
       " 516586981,\n",
       " 241100266,\n",
       " 2905105899,\n",
       " 318139884,\n",
       " 79273453,\n",
       " 315650573,\n",
       " 2487832047,\n",
       " 296156656,\n",
       " 1405107115,\n",
       " 3297248755,\n",
       " 14167540,\n",
       " 738547396112613377,\n",
       " 24651255,\n",
       " 617287162,\n",
       " 4291739059,\n",
       " 473540094,\n",
       " 2712589909,\n",
       " 1167115776,\n",
       " 4635422209,\n",
       " 122234370,\n",
       " 3031192491,\n",
       " 39988740,\n",
       " 1358810629,\n",
       " 706253273485983744,\n",
       " 1683187207,\n",
       " 3432242987,\n",
       " 98633226,\n",
       " 1126884877,\n",
       " 1409285647,\n",
       " 2411345426,\n",
       " 17643027,\n",
       " 4107793940,\n",
       " 24538648,\n",
       " 521578010,\n",
       " 248969135,\n",
       " 4506777116,\n",
       " 361074206,\n",
       " 3073284357,\n",
       " 167650848,\n",
       " 1697961506,\n",
       " 4786581027,\n",
       " 1340481060,\n",
       " 271447589,\n",
       " 22881830,\n",
       " 1664161320,\n",
       " 42155249,\n",
       " 29619757,\n",
       " 2550636080,\n",
       " 3500990002,\n",
       " 217814581,\n",
       " 1688957876,\n",
       " 1124768984,\n",
       " 299943485,\n",
       " 2817281598,\n",
       " 2336247360,\n",
       " 154521153,\n",
       " 2749853251,\n",
       " 534679109,\n",
       " 747110567739957248,\n",
       " 599666249,\n",
       " 379508299,\n",
       " 183993932,\n",
       " 3061921357,\n",
       " 2461804112,\n",
       " 2869214136,\n",
       " 727571496877608960,\n",
       " 3361640020,\n",
       " 582219349,\n",
       " 750815093332508672,\n",
       " 2253330008,\n",
       " 2934474329,\n",
       " 41465435,\n",
       " 3428925022,\n",
       " 615843425,\n",
       " 20704867,\n",
       " 403508839,\n",
       " 158815850,\n",
       " 2801147499,\n",
       " 4260451949,\n",
       " 412485230,\n",
       " 17329777,\n",
       " 465290872,\n",
       " 29169273,\n",
       " 3315943036,\n",
       " 49931901,\n",
       " 1622238847,\n",
       " 1928660610,\n",
       " 16818795,\n",
       " 3317421701,\n",
       " 709177561096572928,\n",
       " 447669895,\n",
       " 2795142794,\n",
       " 169907851,\n",
       " 260042690,\n",
       " 459013774,\n",
       " 2885475279,\n",
       " 3217644605,\n",
       " 348035352,\n",
       " 1587029653,\n",
       " 2357186198,\n",
       " 285205444,\n",
       " 17268437,\n",
       " 371562139,\n",
       " 184923804,\n",
       " 2605065885,\n",
       " 144375456,\n",
       " 3098304162,\n",
       " 1333518060,\n",
       " 122963622,\n",
       " 441644711,\n",
       " 20647102,\n",
       " 719896605806239744,\n",
       " 34522803,\n",
       " 138233527,\n",
       " 263646905,\n",
       " 430148532,\n",
       " 2548717243,\n",
       " 159190716,\n",
       " 66453183,\n",
       " 2806296256,\n",
       " 709956961224282114,\n",
       " 3382699715,\n",
       " 2294470340,\n",
       " 4017674240,\n",
       " 164222663,\n",
       " ...]"
      ]
     },
     "execution_count": 148,
     "metadata": {},
     "output_type": "execute_result"
    }
   ],
   "source": [
    "empty.keys()"
   ]
  },
  {
   "cell_type": "code",
   "execution_count": 159,
   "metadata": {
    "collapsed": false
   },
   "outputs": [
    {
     "name": "stdout",
     "output_type": "stream",
     "text": [
      "0.750850340136\n",
      "0.778997082928\n"
     ]
    }
   ],
   "source": [
    "print float(train[train.uid.isin(empty.keys())].sum().values[1])/len(empty)\n",
    "print float(train.cls.sum())/len(train)"
   ]
  },
  {
   "cell_type": "code",
   "execution_count": 266,
   "metadata": {
    "collapsed": false
   },
   "outputs": [],
   "source": [
    "Y_empty = train[train.uid.isin(empty.keys())].cls.tolist()\n",
    "Y_test_empty = [0.79]*len(Y_empty)"
   ]
  },
  {
   "cell_type": "code",
   "execution_count": 267,
   "metadata": {
    "collapsed": false
   },
   "outputs": [
    {
     "data": {
      "text/plain": [
       "(1262, 1262, 1176, 1176)"
      ]
     },
     "execution_count": 267,
     "metadata": {},
     "output_type": "execute_result"
    }
   ],
   "source": [
    "len(Y_test), len(Y_score), len(Y_empty), len(Y_test_empty)"
   ]
  },
  {
   "cell_type": "code",
   "execution_count": 268,
   "metadata": {
    "collapsed": false
   },
   "outputs": [],
   "source": [
    "Total_true = []\n",
    "Total_true.extend(Y_test)\n",
    "Total_true.extend(Y_empty)\n",
    "Total_score = []\n",
    "Total_score.extend(Y_score)\n",
    "Total_score.extend(Y_test_empty)"
   ]
  },
  {
   "cell_type": "code",
   "execution_count": 269,
   "metadata": {
    "collapsed": false
   },
   "outputs": [
    {
     "name": "stdout",
     "output_type": "stream",
     "text": [
      "0.567712713039\n"
     ]
    }
   ],
   "source": [
    "fpr, tpr, thresholds = metrics.roc_curve(Total_true, Total_score)\n",
    "print metrics.auc(fpr, tpr)"
   ]
  },
  {
   "cell_type": "code",
   "execution_count": 86,
   "metadata": {
    "collapsed": false
   },
   "outputs": [],
   "source": [
    "from sklearn.feature_selection import SelectFdr "
   ]
  },
  {
   "cell_type": "code",
   "execution_count": 87,
   "metadata": {
    "collapsed": true
   },
   "outputs": [],
   "source": [
    "SF = SelectFdr(alpha=0.02)"
   ]
  },
  {
   "cell_type": "code",
   "execution_count": 98,
   "metadata": {
    "collapsed": false
   },
   "outputs": [],
   "source": [
    "X_MNB_train = SF.fit_transform(X[:len(train_uids)], Y)"
   ]
  },
  {
   "cell_type": "code",
   "execution_count": 92,
   "metadata": {
    "collapsed": false
   },
   "outputs": [],
   "source": [
    "from sklearn.naive_bayes import MultinomialNB"
   ]
  },
  {
   "cell_type": "code",
   "execution_count": 95,
   "metadata": {
    "collapsed": false
   },
   "outputs": [],
   "source": [
    "X_MNB = X[len(train_uids):, SF.get_support()]"
   ]
  },
  {
   "cell_type": "code",
   "execution_count": 96,
   "metadata": {
    "collapsed": false
   },
   "outputs": [
    {
     "data": {
      "text/plain": [
       "<3632x339 sparse matrix of type '<type 'numpy.float64'>'\n",
       "\twith 13850 stored elements in Compressed Sparse Row format>"
      ]
     },
     "execution_count": 96,
     "metadata": {},
     "output_type": "execute_result"
    }
   ],
   "source": [
    "X_MNB"
   ]
  },
  {
   "cell_type": "code",
   "execution_count": 93,
   "metadata": {
    "collapsed": true
   },
   "outputs": [],
   "source": [
    "MNB = MultinomialNB()"
   ]
  },
  {
   "cell_type": "code",
   "execution_count": 121,
   "metadata": {
    "collapsed": false
   },
   "outputs": [],
   "source": [
    "\n",
    "#Y_score_nb = MNB.fit(X_MNB_train, Y).predict_proba(X_MNB)\n",
    "Y_score_nb = MNB.fit(X[:len(train_uids)], Y).predict_proba(X[len(train_uids):])"
   ]
  },
  {
   "cell_type": "code",
   "execution_count": 107,
   "metadata": {
    "collapsed": false,
    "scrolled": true
   },
   "outputs": [
    {
     "data": {
      "text/plain": [
       "array([[ 0.10477903,  0.89522097],\n",
       "       [ 0.07221989,  0.92778011],\n",
       "       [ 0.04400425,  0.95599575],\n",
       "       ..., \n",
       "       [ 0.87454845,  0.12545155],\n",
       "       [ 0.10249515,  0.89750485],\n",
       "       [ 0.03499494,  0.96500506]])"
      ]
     },
     "execution_count": 107,
     "metadata": {},
     "output_type": "execute_result"
    }
   ],
   "source": [
    "Y_score_nb"
   ]
  },
  {
   "cell_type": "code",
   "execution_count": 119,
   "metadata": {
    "collapsed": false,
    "scrolled": true
   },
   "outputs": [
    {
     "name": "stdout",
     "output_type": "stream",
     "text": [
      "4748\n"
     ]
    }
   ],
   "source": [
    "y_score_nb_answer = [a[1] for a in Y_score_nb]\n",
    "y_score_nb_answer\n",
    "total_score_nb = {}\n",
    "for i in xrange(len(y_score_nb_answer)):\n",
    "    total_score_nb[test_uids[i]] = y_score_nb_answer[i]\n",
    "for i, uid in enumerate(empty_test):\n",
    "    total_score_nb[uid] = y_score_nb_answer[i]\n",
    "print len (total_score_nb)"
   ]
  },
  {
   "cell_type": "code",
   "execution_count": 120,
   "metadata": {
    "collapsed": true
   },
   "outputs": [],
   "source": [
    "submission_nb = pd.DataFrame.from_dict(total_score_nb, orient='index', dtype='float64')\n",
    "submission_nb.to_csv('project_submission_nb.csv', sep=',', index=True, header=['cls'], index_label='uid')"
   ]
  },
  {
   "cell_type": "code",
   "execution_count": 103,
   "metadata": {
    "collapsed": false
   },
   "outputs": [
    {
     "data": {
      "text/plain": [
       "array([[  2.03387400e-34,   1.00000000e+00],\n",
       "       [  3.08475477e-16,   1.00000000e+00],\n",
       "       [  2.09196770e-65,   1.00000000e+00],\n",
       "       ..., \n",
       "       [  1.58868149e-12,   1.00000000e+00],\n",
       "       [  8.83169278e-24,   1.00000000e+00],\n",
       "       [  4.53051263e-14,   1.00000000e+00]])"
      ]
     },
     "execution_count": 103,
     "metadata": {},
     "output_type": "execute_result"
    }
   ],
   "source": [
    "from sklearn.feature_selection import SelectFpr\n",
    "from sklearn.naive_bayes import MultinomialNB\n",
    "\n",
    "\n",
    "\n",
    "sfpr = SelectFpr(alpha = 0.02)\n",
    "X1_train_fpr = sfpr.fit_transform(X[:len(train_uids)],Y)\n",
    "bayes_clf = MultinomialNB()\n",
    "#bayes_clf.fit(X1_train_fpr,Y)\n",
    "#X1_test_fpr = sfpr.transform(X[len(train_uids):])\n",
    "#bayes_clf.predict_proba(X1_test_fpr)\n",
    "\n",
    "bayes_clf.fit(X1_train_fpr,Y)\n",
    "\n"
   ]
  },
  {
   "cell_type": "code",
   "execution_count": null,
   "metadata": {
    "collapsed": true
   },
   "outputs": [],
   "source": []
  }
 ],
 "metadata": {
  "anaconda-cloud": {},
  "kernelspec": {
   "display_name": "Python [Root]",
   "language": "python",
   "name": "Python [Root]"
  },
  "language_info": {
   "codemirror_mode": {
    "name": "ipython",
    "version": 2
   },
   "file_extension": ".py",
   "mimetype": "text/x-python",
   "name": "python",
   "nbconvert_exporter": "python",
   "pygments_lexer": "ipython2",
   "version": "2.7.12"
  }
 },
 "nbformat": 4,
 "nbformat_minor": 1
}
